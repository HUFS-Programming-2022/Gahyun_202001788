{
 "cells": [
  {
   "cell_type": "markdown",
   "id": "63f0ee6b-6a7a-4412-b3d3-377f05b3e5c2",
   "metadata": {},
   "source": [
    "# <span style=\"font-weight:bold\">Week_06(0408) 복습"
   ]
  },
  {
   "cell_type": "markdown",
   "id": "b4bb8927-8a64-4ef9-a21f-ea9bce37d68c",
   "metadata": {},
   "source": [
    "## NLTK Inaugural"
   ]
  },
  {
   "cell_type": "code",
   "execution_count": 4,
   "id": "3c89a2df-4a4b-4e2e-9908-2be655641ba0",
   "metadata": {},
   "outputs": [
    {
     "name": "stderr",
     "output_type": "stream",
     "text": [
      "[nltk_data] Downloading package brown to\n",
      "[nltk_data]     C:\\Users\\user\\AppData\\Roaming\\nltk_data...\n",
      "[nltk_data]   Package brown is already up-to-date!\n",
      "[nltk_data] Downloading package inaugural to\n",
      "[nltk_data]     C:\\Users\\user\\AppData\\Roaming\\nltk_data...\n",
      "[nltk_data]   Package inaugural is already up-to-date!\n"
     ]
    },
    {
     "data": {
      "text/plain": [
       "True"
      ]
     },
     "execution_count": 4,
     "metadata": {},
     "output_type": "execute_result"
    }
   ],
   "source": [
    "import nltk\n",
    "nltk.download(['brown', 'inaugural'])"
   ]
  },
  {
   "cell_type": "code",
   "execution_count": 5,
   "id": "912988a0-0892-47ca-974b-6e14ed1cb8a8",
   "metadata": {},
   "outputs": [],
   "source": [
    "brown = nltk.corpus.brown"
   ]
  },
  {
   "cell_type": "code",
   "execution_count": 6,
   "id": "d9bbddf9-0033-4a57-9203-23a04a8fe5d7",
   "metadata": {},
   "outputs": [
    {
     "name": "stdout",
     "output_type": "stream",
     "text": [
      "                  can could would  will might   may \n",
      "      adventure    48   154   194    51    59     7 \n",
      " belles_lettres   249   216   397   246   113   221 \n",
      "      editorial   124    57   185   235    39    79 \n",
      "        fiction    39   168   291    56    44    10 \n",
      "     government   119    38   120   244    13   179 \n",
      "        hobbies   276    59    83   269    22   143 \n",
      "          humor    17    33    56    13     8     8 \n",
      "        learned   367   159   321   340   128   336 \n",
      "           lore   170   142   188   178    50   170 \n",
      "        mystery    45   145   189    25    57    15 \n",
      "           news    94    87   246   389    38    93 \n",
      "       religion    84    59    69    72    12    79 \n",
      "        reviews    45    40    48    61    26    47 \n",
      "        romance    79   195   247    49    51    11 \n",
      "science_fiction    16    49    80    17    12     4 \n"
     ]
    }
   ],
   "source": [
    "# cfd\n",
    "\n",
    "cfd = nltk.ConditionalFreqDist(\n",
    "    (genre, word.lower())\n",
    "    for genre in brown.categories()\n",
    "    for word in brown.words(categories=genre) #fileids도 넣을 수 있어서 특정해주어야함\n",
    ")\n",
    "\n",
    "modals = ['can', 'could', 'would', 'will', 'might', 'may']\n",
    "cfd.tabulate(conditions=brown.categories(), samples=modals)\n",
    "# tabulate은 표로 나타내주는 기능"
   ]
  },
  {
   "cell_type": "code",
   "execution_count": 7,
   "id": "27a26023-ba36-447d-a9d0-c138bbecc7d7",
   "metadata": {},
   "outputs": [
    {
     "name": "stdout",
     "output_type": "stream",
     "text": [
      "                  can could   may might  will would \n",
      "      adventure    48   154     7    59    51   194 \n",
      " belles_lettres   249   216   221   113   246   397 \n",
      "      editorial   124    57    79    39   235   185 \n",
      "        fiction    39   168    10    44    56   291 \n",
      "     government   119    38   179    13   244   120 \n",
      "        hobbies   276    59   143    22   269    83 \n",
      "          humor    17    33     8     8    13    56 \n",
      "        learned   367   159   336   128   340   321 \n",
      "           lore   170   142   170    50   178   188 \n",
      "        mystery    45   145    15    57    25   189 \n",
      "           news    94    87    93    38   389   246 \n",
      "       religion    84    59    79    12    72    69 \n",
      "        reviews    45    40    47    26    61    48 \n",
      "        romance    79   195    11    51    49   247 \n",
      "science_fiction    16    49     4    12    17    80 \n"
     ]
    }
   ],
   "source": [
    "# modals의 빈도수가 포함된 cfd \n",
    "# word에서 modal_verb가 되는 것\n",
    "\n",
    "cfd1 = nltk.ConditionalFreqDist(\n",
    "    (genre, modal)\n",
    "    for genre in brown.categories()\n",
    "    for modal in ['can', 'could', 'will', 'would', 'may', 'might']\n",
    "    \n",
    "    for word in brown.words(categories=genre)\n",
    "    \n",
    "        # word 중에서 modal이 포함된 것만 추출\n",
    "        if word.lower() == modal\n",
    ")\n",
    "\n",
    "cfd1.tabulate()"
   ]
  },
  {
   "cell_type": "markdown",
   "id": "affd5f10-ed23-4bd9-a732-d80716ba506e",
   "metadata": {},
   "source": [
    "# Inaugural\n",
    "- 연설문 코퍼스"
   ]
  },
  {
   "cell_type": "code",
   "execution_count": 8,
   "id": "f974f07f-824d-44eb-8a83-fee0b6148b15",
   "metadata": {},
   "outputs": [],
   "source": [
    "inaugural = nltk.corpus.inaugural"
   ]
  },
  {
   "cell_type": "code",
   "execution_count": 9,
   "id": "c6411da5-07d2-4408-adf3-469e8183052a",
   "metadata": {
    "collapsed": true,
    "jupyter": {
     "outputs_hidden": true
    },
    "tags": []
   },
   "outputs": [
    {
     "data": {
      "text/plain": [
       "['1789-Washington.txt',\n",
       " '1793-Washington.txt',\n",
       " '1797-Adams.txt',\n",
       " '1801-Jefferson.txt',\n",
       " '1805-Jefferson.txt',\n",
       " '1809-Madison.txt',\n",
       " '1813-Madison.txt',\n",
       " '1817-Monroe.txt',\n",
       " '1821-Monroe.txt',\n",
       " '1825-Adams.txt',\n",
       " '1829-Jackson.txt',\n",
       " '1833-Jackson.txt',\n",
       " '1837-VanBuren.txt',\n",
       " '1841-Harrison.txt',\n",
       " '1845-Polk.txt',\n",
       " '1849-Taylor.txt',\n",
       " '1853-Pierce.txt',\n",
       " '1857-Buchanan.txt',\n",
       " '1861-Lincoln.txt',\n",
       " '1865-Lincoln.txt',\n",
       " '1869-Grant.txt',\n",
       " '1873-Grant.txt',\n",
       " '1877-Hayes.txt',\n",
       " '1881-Garfield.txt',\n",
       " '1885-Cleveland.txt',\n",
       " '1889-Harrison.txt',\n",
       " '1893-Cleveland.txt',\n",
       " '1897-McKinley.txt',\n",
       " '1901-McKinley.txt',\n",
       " '1905-Roosevelt.txt',\n",
       " '1909-Taft.txt',\n",
       " '1913-Wilson.txt',\n",
       " '1917-Wilson.txt',\n",
       " '1921-Harding.txt',\n",
       " '1925-Coolidge.txt',\n",
       " '1929-Hoover.txt',\n",
       " '1933-Roosevelt.txt',\n",
       " '1937-Roosevelt.txt',\n",
       " '1941-Roosevelt.txt',\n",
       " '1945-Roosevelt.txt',\n",
       " '1949-Truman.txt',\n",
       " '1953-Eisenhower.txt',\n",
       " '1957-Eisenhower.txt',\n",
       " '1961-Kennedy.txt',\n",
       " '1965-Johnson.txt',\n",
       " '1969-Nixon.txt',\n",
       " '1973-Nixon.txt',\n",
       " '1977-Carter.txt',\n",
       " '1981-Reagan.txt',\n",
       " '1985-Reagan.txt',\n",
       " '1989-Bush.txt',\n",
       " '1993-Clinton.txt',\n",
       " '1997-Clinton.txt',\n",
       " '2001-Bush.txt',\n",
       " '2005-Bush.txt',\n",
       " '2009-Obama.txt',\n",
       " '2013-Obama.txt',\n",
       " '2017-Trump.txt',\n",
       " '2021-Biden.txt']"
      ]
     },
     "execution_count": 9,
     "metadata": {},
     "output_type": "execute_result"
    }
   ],
   "source": [
    "inaugural.fileids()"
   ]
  },
  {
   "cell_type": "code",
   "execution_count": 130,
   "id": "22b4dcf8-47ee-4b61-8562-eff82ba4a9c3",
   "metadata": {},
   "outputs": [
    {
     "data": {
      "image/png": "[encoded data removed]",
      "text/plain": [
       "<Figure size 1440x576 with 1 Axes>"
      ]
     },
     "metadata": {
      "needs_background": "light"
     },
     "output_type": "display_data"
    },
    {
     "data": {
      "text/plain": [
       "<AxesSubplot:xlabel='Samples', ylabel='Counts'>"
      ]
     },
     "execution_count": 130,
     "metadata": {},
     "output_type": "execute_result"
    }
   ],
   "source": [
    "# ['america', 'citizen'] 빈도수를 cfd로 만드시오\n",
    "# 각 단어가 연설문에서 얼마나 쓰였는지를 알기 위함\n",
    "# citizens, citizen's, ... 다 포함해야 함, == 보다는 나은 방법 찾기\n",
    "\n",
    "cfd2 = nltk.ConditionalFreqDist(\n",
    "    (target_word, fileid[:-4])\n",
    "    for fileid in inaugural.fileids()\n",
    "    for target_word in ['america', 'citizen'] # 소문자인 이유가 있음\n",
    "    \n",
    "    for word in inaugural.words(fileids=fileid)\n",
    "        # 3가지 방법 있음\n",
    "        # if word.lower() == target_word\n",
    "        # if target_word in word.lower()\n",
    "        if word.lower().startswith(target_word)\n",
    ")\n",
    "\n",
    "# matplotlib으로 크기 조정 가능\n",
    "import matplotlib.pyplot as pl\n",
    "pl.figure(figsize=(20,8))\n",
    "cfd2.plot()"
   ]
  },
  {
   "cell_type": "code",
   "execution_count": 12,
   "id": "6e8f1aa7-2a4b-45f4-8353-dc9de4e9314c",
   "metadata": {
    "tags": []
   },
   "outputs": [
    {
     "name": "stdout",
     "output_type": "stream",
     "text": [
      "        1789-Washington 1793-Washington      1797-Adams  1801-Jefferson  1805-Jefferson    1809-Madison    1813-Madison     1817-Monroe     1821-Monroe      1825-Adams    1829-Jackson    1833-Jackson   1837-VanBuren   1841-Harrison       1845-Polk     1849-Taylor     1853-Pierce   1857-Buchanan    1861-Lincoln    1865-Lincoln      1869-Grant      1873-Grant      1877-Hayes   1881-Garfield  1885-Cleveland   1889-Harrison  1893-Cleveland   1897-McKinley   1901-McKinley  1905-Roosevelt       1909-Taft     1917-Wilson    1921-Harding   1925-Coolidge     1929-Hoover  1933-Roosevelt  1937-Roosevelt  1941-Roosevelt  1945-Roosevelt     1949-Truman 1953-Eisenhower 1957-Eisenhower    1961-Kennedy    1965-Johnson      1969-Nixon      1973-Nixon     1977-Carter     1981-Reagan     1985-Reagan       1989-Bush    1993-Clinton    1997-Clinton       2001-Bush       2005-Bush      2009-Obama      2013-Obama      2017-Trump      2021-Biden \n",
      "america               2               1               8               0               1               0               1               1               2               0               0               2               2               7               0               2               2               3               2               1               0               0               1               2               4               6               9               9               7               0              12               4              24              11              12               2               5              12               2               4               6               7               7              10              10              23               5              16              21              11              33              31              20              30              15              19              35              40 \n",
      "citizen               5               1               6               7              10               1               4              14              15               3               2               3               7              38              11               2               4               7               7               0               5               3               9               9              13              12              10              10               2               1               6               3               6               5              12               1               2               1               1               1               7               0               5               4               1               1               0               3               6               3               2              10              11               7               2               8               4               1 \n"
     ]
    }
   ],
   "source": [
    "cfd2.tabulate()"
   ]
  },
  {
   "cell_type": "markdown",
   "id": "a2dcd165-0324-41fc-a16a-bdc97f83e360",
   "metadata": {},
   "source": [
    "## Tuple & List\n",
    "- 불변 객체(튜플) vs. 가변 객체(리스트)\n",
    "- 주로 리스트를 쓰되, 불변 객체가 필요한 경우 튜플 사용"
   ]
  },
  {
   "cell_type": "code",
   "execution_count": 13,
   "id": "25385ec3-28c4-441c-acc3-b806c5971504",
   "metadata": {},
   "outputs": [
    {
     "data": {
      "text/plain": [
       "((), [])"
      ]
     },
     "execution_count": 13,
     "metadata": {},
     "output_type": "execute_result"
    }
   ],
   "source": [
    "#1. 생성\n",
    "\n",
    "emptyT = () # 튜플 생성 1\n",
    "emptyT = tuple() # 튜플 생성 2\n",
    "\n",
    "emptyL = [] # 리스트 생성 1\n",
    "emptyL = list() # 리스트 생성 2\n",
    "\n",
    "emptyT, emptyL # 이건 튜플로 출력됨"
   ]
  },
  {
   "cell_type": "code",
   "execution_count": 15,
   "id": "5f2666de-47db-489f-aa87-e3e1098e916f",
   "metadata": {},
   "outputs": [
    {
     "name": "stdout",
     "output_type": "stream",
     "text": [
      "('a', 'b')\n"
     ]
    },
    {
     "data": {
      "text/plain": [
       "['a', 'b']"
      ]
     },
     "execution_count": 15,
     "metadata": {},
     "output_type": "execute_result"
    }
   ],
   "source": [
    "# 요소가 여러개일 때\n",
    "\n",
    "alphabetT = ('a', 'b') # 튜플 만드는 법 1 : 괄호로 묶기\n",
    "alphabetT = 'a', 'b' # 튜플 만드는 법 2 : 이게 더 편함\n",
    "\n",
    "alphabetL = ['a', 'b'] # 리스트\n",
    "\n",
    "print(alphabetT)\n",
    "alphabetL"
   ]
  },
  {
   "cell_type": "code",
   "execution_count": 16,
   "id": "e692e8df-6f56-4c60-9fdb-9e54e1982232",
   "metadata": {},
   "outputs": [
    {
     "data": {
      "text/plain": [
       "str"
      ]
     },
     "execution_count": 16,
     "metadata": {},
     "output_type": "execute_result"
    }
   ],
   "source": [
    "# 1.2. 요소 1개일 때 주의\n",
    "\n",
    "alphaT = ('a') # 이렇게 하면 튜플이 아니라 스트링으로 인식\n",
    "type(alphaT)"
   ]
  },
  {
   "cell_type": "code",
   "execution_count": 18,
   "id": "1ea0c9d1-9d53-4069-8875-2285f8842303",
   "metadata": {},
   "outputs": [
    {
     "data": {
      "text/plain": [
       "tuple"
      ]
     },
     "execution_count": 18,
     "metadata": {},
     "output_type": "execute_result"
    }
   ],
   "source": [
    "alphaT = ('b', ) # 이렇게 해야 튜플 됨\n",
    "type(alphaT)"
   ]
  },
  {
   "cell_type": "markdown",
   "id": "7d0871e5-4ca4-4ba9-8079-b66c87205455",
   "metadata": {},
   "source": [
    "## packing, unpacking\n",
    "\n",
    "- packing : 한 변수에 여러 데이터를 할당하는 것\n",
    "    - list, tuple 자체\n",
    "    - ex) a = [1,2,3,4]\n",
    "- unpacking : 한 변수에 여러 데이터가 들어 있을 때 여러 변수로 나누는 것\n",
    "    - ex) a = 'k', b = 'i', c = 'm'"
   ]
  },
  {
   "cell_type": "code",
   "execution_count": 20,
   "id": "fe10a1c4-9c8b-4655-af06-86bf6a0728bc",
   "metadata": {},
   "outputs": [
    {
     "data": {
      "text/plain": [
       "('s', 'o', 'n')"
      ]
     },
     "execution_count": 20,
     "metadata": {},
     "output_type": "execute_result"
    }
   ],
   "source": [
    "a, b, c = 'son' # unpacking\n",
    "a, b, c"
   ]
  },
  {
   "cell_type": "code",
   "execution_count": 21,
   "id": "71e1d2cd-e90e-4568-bd38-03a400fb8dad",
   "metadata": {},
   "outputs": [
    {
     "data": {
      "text/plain": [
       "('sky', 'abcd')"
      ]
     },
     "execution_count": 21,
     "metadata": {},
     "output_type": "execute_result"
    }
   ],
   "source": [
    "# 값 교환하기\n",
    "# tuple은 값 교환이 편함\n",
    "\n",
    "# pwd와 userId 값 바꾸기\n",
    "\n",
    "pwd = 'abcd'\n",
    "userId = 'sky'\n",
    "\n",
    "\"\"\"\n",
    "temp1 = userId\n",
    "temp2 = pwd\n",
    "\n",
    "pwd = temp1\n",
    "userId = temp2\n",
    "\"\"\"\n",
    "\n",
    "pwd, userId = userId, pwd\n",
    "pwd, userId"
   ]
  },
  {
   "cell_type": "code",
   "execution_count": 22,
   "id": "f900b646-0f3c-48e5-ac3a-af6c3ede4616",
   "metadata": {},
   "outputs": [
    {
     "data": {
      "text/plain": [
       "(1, 2, 1, 2, 1, 2)"
      ]
     },
     "execution_count": 22,
     "metadata": {},
     "output_type": "execute_result"
    }
   ],
   "source": [
    "# 튜플 연산\n",
    "# 리스트와 유사\n",
    "\n",
    "('a', ) + (1, 2)\n",
    "(1, 2) * 3"
   ]
  },
  {
   "cell_type": "code",
   "execution_count": 23,
   "id": "9cad1e00-aa0d-473a-8a7e-d0de943975df",
   "metadata": {},
   "outputs": [
    {
     "data": {
      "text/plain": [
       "(2398859410592, 2398860425600)"
      ]
     },
     "execution_count": 23,
     "metadata": {},
     "output_type": "execute_result"
    }
   ],
   "source": [
    "# 튜플은 불변객체인데 더해지는지?\n",
    "# id값 확인해보기\n",
    "\n",
    "x = ('a', )\n",
    "y = (1, 2)\n",
    "\n",
    "id(x), id(x + y)"
   ]
  },
  {
   "cell_type": "code",
   "execution_count": 24,
   "id": "dffab24e-693a-4150-a76d-e4e2293faf12",
   "metadata": {},
   "outputs": [],
   "source": [
    "# id값이 다름 \n",
    "# 더해서 x, y가 바뀌는게 아님\n",
    "# x+y는 새로운 변수에 할당되는 것"
   ]
  },
  {
   "cell_type": "code",
   "execution_count": 25,
   "id": "ee2e8c37-2849-4f2c-98d9-03fe3813a8c0",
   "metadata": {},
   "outputs": [
    {
     "data": {
      "text/plain": [
       "True"
      ]
     },
     "execution_count": 25,
     "metadata": {},
     "output_type": "execute_result"
    }
   ],
   "source": [
    "# 비교 : 첫 인자부터 비교\n",
    "\n",
    "x = 1, 2\n",
    "y = 1, 6\n",
    "\n",
    "x < y"
   ]
  },
  {
   "cell_type": "code",
   "execution_count": 27,
   "id": "f29d8473-824d-4b09-9233-0c0075c09235",
   "metadata": {},
   "outputs": [
    {
     "name": "stdout",
     "output_type": "stream",
     "text": [
      "1\n",
      "2\n"
     ]
    }
   ],
   "source": [
    "# 순회\n",
    "\n",
    "for i in x:\n",
    "    print(i)"
   ]
  },
  {
   "cell_type": "code",
   "execution_count": 28,
   "id": "65772cb5-79ca-472a-98c4-6bc6b1ad5125",
   "metadata": {},
   "outputs": [
    {
     "data": {
      "text/plain": [
       "[1, 2]"
      ]
     },
     "execution_count": 28,
     "metadata": {},
     "output_type": "execute_result"
    }
   ],
   "source": [
    "# 리스트컴프리헨션 사용 가능(리스트로 바뀜)\n",
    "\n",
    "[i for i in x]"
   ]
  },
  {
   "cell_type": "code",
   "execution_count": 29,
   "id": "915d3e5d-a467-4aab-939a-5a996f5008cc",
   "metadata": {},
   "outputs": [
    {
     "data": {
      "text/plain": [
       "(1, 2)"
      ]
     },
     "execution_count": 29,
     "metadata": {},
     "output_type": "execute_result"
    }
   ],
   "source": [
    "# tuple comprehension ? 그런건 없는데\n",
    "# tuple() 로 변경할 수는 있음\n",
    "\n",
    "# 리스트컴프리헨션을 튜플에 넣는 방법\n",
    "tuple([i for i in x])\n",
    "\n",
    "# *, [], , : 위 방법에 비해 느림\n",
    "*[i for i in x], "
   ]
  },
  {
   "cell_type": "code",
   "execution_count": 31,
   "id": "2dcc0ee4-91f3-4b5e-bffe-bb7a291c7636",
   "metadata": {},
   "outputs": [
    {
     "name": "stdout",
     "output_type": "stream",
     "text": [
      "('d', 'o', 'g')\n",
      "('dog',)\n",
      "['d', 'o', 'g']\n",
      "['dog']\n"
     ]
    }
   ],
   "source": [
    "# 형변환\n",
    "\n",
    "dog = 'dog'\n",
    "\n",
    "# 1. 각 인자를 하나하나 넣어서 튜플로 만듦\n",
    "dogT = tuple(dog)\n",
    "print(dogT)\n",
    "\n",
    "# 2. 전체를 튜플에 넣음\n",
    "dogT = (dog, )\n",
    "print(dogT)\n",
    "\n",
    "# 리스트도 동일한 방법\n",
    "dogL = list(dog)\n",
    "print(dogL)\n",
    "\n",
    "dogL = [dog]\n",
    "print(dogL)\n",
    "\n",
    "# 두 개 방법의 차이를 잘 숙지하기"
   ]
  },
  {
   "cell_type": "code",
   "execution_count": 34,
   "id": "321c5202-dc52-4eb8-a2b0-29ee8f27af42",
   "metadata": {},
   "outputs": [
    {
     "data": {
      "text/plain": [
       "'d'"
      ]
     },
     "execution_count": 34,
     "metadata": {},
     "output_type": "execute_result"
    }
   ],
   "source": [
    "# 튜플 슬라이싱도 리스트와 동일하게 가능\n",
    "\n",
    "dogT = (dog)\n",
    "dogT[0]"
   ]
  },
  {
   "cell_type": "markdown",
   "id": "dde24e97-a5f0-41da-9887-67c5628adfc0",
   "metadata": {},
   "source": [
    "## [정리]\n",
    "- tuple 장점\n",
    "    - 변하지 않는 데이터 시퀀스를 만들 수 있다. 타인의 접근을 막는다.\n",
    "        - blue=1, white=2, ...\n",
    "    - 메모리 사용이 적다.\n",
    "    - 튜플도 중복 가능함(set과 비교)\n",
    "    \n",
    "- list 장점\n",
    "    - 튜플 장점이 필요없을 때 전부 리스트 사용\n",
    "    - 데이터를 순차적으로 파악할 때\n",
    "    - 중복 데이터를 쓸 수 있다는 점 (set과 비교)"
   ]
  },
  {
   "cell_type": "markdown",
   "id": "9b507b03-d274-4db7-82aa-eb9903fb8522",
   "metadata": {},
   "source": [
    "## 리스트의 유용한 함수들\n",
    "- 변경, 삭제, 추가와 관련된 함수\n",
    "- 리스트컴프리헨션 업그레이드"
   ]
  },
  {
   "cell_type": "code",
   "execution_count": 35,
   "id": "d4b2324a-f6e2-4f43-91ee-471f4ce9b36f",
   "metadata": {},
   "outputs": [
    {
     "data": {
      "text/plain": [
       "[0, 1, 2, 3, 4]"
      ]
     },
     "execution_count": 35,
     "metadata": {},
     "output_type": "execute_result"
    }
   ],
   "source": [
    "num = list(range(5))\n",
    "num "
   ]
  },
  {
   "cell_type": "code",
   "execution_count": 36,
   "id": "f7377932-3d05-4e49-85d0-d1b46c0783bc",
   "metadata": {},
   "outputs": [
    {
     "data": {
      "text/plain": [
       "[0, 1, 2, 3, 4, 6]"
      ]
     },
     "execution_count": 36,
     "metadata": {},
     "output_type": "execute_result"
    }
   ],
   "source": [
    "# 추가 : list.append()\n",
    "\n",
    "num.append(6) # 맨 뒤에 요소 추가\n",
    "\n",
    "# 1개만 추가됨. 여러 개 안됨\n",
    "# 따로 할당할 필요 없음\n",
    "\n",
    "num"
   ]
  },
  {
   "cell_type": "code",
   "execution_count": 39,
   "id": "a327ad7c-b1e7-42c4-97cf-b1184157eec2",
   "metadata": {},
   "outputs": [
    {
     "data": {
      "text/plain": [
       "[8, 0, 1, 2, 3, 4, 6]"
      ]
     },
     "execution_count": 39,
     "metadata": {},
     "output_type": "execute_result"
    }
   ],
   "source": [
    "# 추가 : list.insert(index, item)\n",
    "# index 위치에 item을 추가\n",
    "\n",
    "num.insert(0,8) # 0번째 인덱스에 요소 8을 추가하겠다\n",
    "num\n",
    "\n",
    "# 역시 따로 할당할 필요 없음"
   ]
  },
  {
   "cell_type": "code",
   "execution_count": 40,
   "id": "70c4c6cb-29c9-452b-acda-2ae9f1fc66d0",
   "metadata": {},
   "outputs": [
    {
     "data": {
      "text/plain": [
       "[8, 0, 1, 2, 3, 4, 6, 6, 6, 6]"
      ]
     },
     "execution_count": 40,
     "metadata": {},
     "output_type": "execute_result"
    }
   ],
   "source": [
    "# 여러 개 추가 : list.extend(list)\n",
    "# 리스트를 리스트로 확장\n",
    "# list.extend(list2) => list2의 요소들을 list 뒤에 붙인다\n",
    "# 따로 할당할 필요 없음 \n",
    "\n",
    "num.extend([6,6,6])\n",
    "num"
   ]
  },
  {
   "cell_type": "code",
   "execution_count": 41,
   "id": "c59ddee4-ab2e-4b0a-a5c4-d3bdf0a5cbd5",
   "metadata": {},
   "outputs": [
    {
     "data": {
      "text/plain": [
       "[8, 0, 1, 2, 3, 4, 6, 6, 6, 6, [7, 2]]"
      ]
     },
     "execution_count": 41,
     "metadata": {},
     "output_type": "execute_result"
    }
   ],
   "source": [
    "# list.append(list) 는 리스트를 그대로 넣음\n",
    "\n",
    "x = [7, 2]\n",
    "\n",
    "num.append(x)\n",
    "num"
   ]
  },
  {
   "cell_type": "code",
   "execution_count": 42,
   "id": "80752988-75c4-4ec3-91c2-c995acf346b7",
   "metadata": {},
   "outputs": [],
   "source": [
    "# extend와 append는 아예 다르니까 주의하기"
   ]
  },
  {
   "cell_type": "code",
   "execution_count": 43,
   "id": "fd601cc8-e55e-40c5-9c56-c515e94ab67c",
   "metadata": {},
   "outputs": [
    {
     "data": {
      "text/plain": [
       "[8, 0, 1, 2, 3, 4, 6, 6, 6, 6, [7, 2], 7, 2]"
      ]
     },
     "execution_count": 43,
     "metadata": {},
     "output_type": "execute_result"
    }
   ],
   "source": [
    "# extend는 +와 동일\n",
    "num += x\n",
    "num"
   ]
  },
  {
   "cell_type": "code",
   "execution_count": 44,
   "id": "7ae0b281-4aaf-40e9-9547-64cb3a184c83",
   "metadata": {},
   "outputs": [
    {
     "data": {
      "text/plain": [
       "[9, 0, 1, 2, 3, 4, 6, 6, 6, 6, [7, 2], 7, 2]"
      ]
     },
     "execution_count": 44,
     "metadata": {},
     "output_type": "execute_result"
    }
   ],
   "source": [
    "# offset을 활용하여 요소 바꾸기\n",
    "\n",
    "num[0] = 9\n",
    "num"
   ]
  },
  {
   "cell_type": "code",
   "execution_count": 45,
   "id": "c89577ca-238b-401f-a5f5-46408ace2e44",
   "metadata": {},
   "outputs": [
    {
     "data": {
      "text/plain": [
       "[2, 2, 2, 2, 3, 4, 6, 6, 6, 6, [7, 2], 7, 2]"
      ]
     },
     "execution_count": 45,
     "metadata": {},
     "output_type": "execute_result"
    }
   ],
   "source": [
    "# slice\n",
    "\n",
    "num[:3] = 2, 2, 2 \n",
    "# 9, 0, 1 을 2, 2, 2로 바꾸겠다는 뜻\n",
    "num"
   ]
  },
  {
   "cell_type": "code",
   "execution_count": 47,
   "id": "eec5a33b-96f8-4771-8c43-e14241fae0d0",
   "metadata": {},
   "outputs": [
    {
     "data": {
      "text/plain": [
       "[2, 3, 4, 6, 6, 6, 6, [7, 2], 7, 2]"
      ]
     },
     "execution_count": 47,
     "metadata": {},
     "output_type": "execute_result"
    }
   ],
   "source": [
    "# 삭제 : del list[삭제하고 싶은 idx]\n",
    "\n",
    "del num[:3] # 0, 1, 2 인덱스 삭제\n",
    "num"
   ]
  },
  {
   "cell_type": "code",
   "execution_count": 51,
   "id": "85ec4d95-5465-4146-bd3b-5613d011c900",
   "metadata": {},
   "outputs": [],
   "source": [
    "num = [2, 3, 4, 6, 6, 6, 6, [7, 2], 7, 2]"
   ]
  },
  {
   "cell_type": "code",
   "execution_count": 52,
   "id": "ce1a6d0e-315e-47e9-8531-576dfb95df6d",
   "metadata": {
    "tags": []
   },
   "outputs": [
    {
     "data": {
      "text/plain": [
       "[3, 4, 6, 6, 6, 6, [7, 2], 7, 2]"
      ]
     },
     "execution_count": 52,
     "metadata": {},
     "output_type": "execute_result"
    }
   ],
   "source": [
    "# 삭제 2: remove(value) \n",
    "# 괄호 안에 인덱스 아니고 특정 값\n",
    "\n",
    "num.remove(2) # 처음 나오는 2 지우기\n",
    "num"
   ]
  },
  {
   "cell_type": "code",
   "execution_count": 53,
   "id": "1401478b-d8fd-41a9-a159-0f8f412909e7",
   "metadata": {},
   "outputs": [
    {
     "data": {
      "text/plain": [
       "[3, 4, 6, 6, 6, 6, [7, 2], 7]"
      ]
     },
     "execution_count": 53,
     "metadata": {},
     "output_type": "execute_result"
    }
   ],
   "source": [
    "# 삭제 3: pop(index) \n",
    "# 인덱스 설정안하면 기본값은 -1\n",
    "\n",
    "num.pop()\n",
    "num"
   ]
  },
  {
   "cell_type": "code",
   "execution_count": 54,
   "id": "1bad4590-3835-402a-95a0-3dbb87984a46",
   "metadata": {},
   "outputs": [
    {
     "data": {
      "text/plain": [
       "[4, 6, 6, 6, 6, [7, 2], 7]"
      ]
     },
     "execution_count": 54,
     "metadata": {},
     "output_type": "execute_result"
    }
   ],
   "source": [
    "num.pop(0) # 0번째 인덱스 삭제\n",
    "num"
   ]
  },
  {
   "cell_type": "code",
   "execution_count": 55,
   "id": "6bbc195d-ec3a-4f30-a7c3-14e5c71d336b",
   "metadata": {},
   "outputs": [
    {
     "data": {
      "text/plain": [
       "[]"
      ]
     },
     "execution_count": 55,
     "metadata": {},
     "output_type": "execute_result"
    }
   ],
   "source": [
    "# 다 지우는 것: clear\n",
    "\n",
    "num.clear()\n",
    "num"
   ]
  },
  {
   "cell_type": "code",
   "execution_count": 61,
   "id": "710bc50c-c3cf-4241-a5cc-8b46c2b9db50",
   "metadata": {},
   "outputs": [
    {
     "data": {
      "text/plain": [
       "4"
      ]
     },
     "execution_count": 61,
     "metadata": {},
     "output_type": "execute_result"
    }
   ],
   "source": [
    "# 인덱스 찾기 : index(value), find(value)\n",
    "# 변수.find(찾을 문자) : 문자열만 가능\n",
    "# 변수.index(찾을 문자) : 문자열, 리스트, 튜플에서 사용 가능\n",
    "\n",
    "# num list 다시 초기화\n",
    "num = list(range(5))\n",
    "\n",
    "num.index(4)"
   ]
  },
  {
   "cell_type": "code",
   "execution_count": 63,
   "id": "d48492c5-ba78-4efa-a1f3-66a822a0aba2",
   "metadata": {},
   "outputs": [
    {
     "ename": "AttributeError",
     "evalue": "'list' object has no attribute 'find'",
     "output_type": "error",
     "traceback": [
      "\u001b[1;31m---------------------------------------------------------------------------\u001b[0m",
      "\u001b[1;31mAttributeError\u001b[0m                            Traceback (most recent call last)",
      "\u001b[1;32m~\\AppData\\Local\\Temp/ipykernel_4600/108523121.py\u001b[0m in \u001b[0;36m<module>\u001b[1;34m\u001b[0m\n\u001b[1;32m----> 1\u001b[1;33m \u001b[0mnum\u001b[0m\u001b[1;33m.\u001b[0m\u001b[0mfind\u001b[0m\u001b[1;33m(\u001b[0m\u001b[1;36m4\u001b[0m\u001b[1;33m)\u001b[0m \u001b[1;31m# find는 리스트에서 사용 안됨\u001b[0m\u001b[1;33m\u001b[0m\u001b[1;33m\u001b[0m\u001b[0m\n\u001b[0m",
      "\u001b[1;31mAttributeError\u001b[0m: 'list' object has no attribute 'find'"
     ]
    }
   ],
   "source": [
    "num.find(4) # find는 리스트에서 사용 안됨"
   ]
  },
  {
   "cell_type": "code",
   "execution_count": 64,
   "id": "c5542ed9-99f4-4eae-8cc2-eefa904c55a3",
   "metadata": {},
   "outputs": [
    {
     "data": {
      "text/plain": [
       "True"
      ]
     },
     "execution_count": 64,
     "metadata": {},
     "output_type": "execute_result"
    }
   ],
   "source": [
    "# 요소가 있는지 파악\n",
    "\n",
    "0 in num"
   ]
  },
  {
   "cell_type": "code",
   "execution_count": 65,
   "id": "ffd5d802-5874-40ee-a0a4-075dcd9b4b1e",
   "metadata": {},
   "outputs": [
    {
     "data": {
      "text/plain": [
       "False"
      ]
     },
     "execution_count": 65,
     "metadata": {},
     "output_type": "execute_result"
    }
   ],
   "source": [
    "10 in num"
   ]
  },
  {
   "cell_type": "code",
   "execution_count": 66,
   "id": "50dd3739-4dcd-46e3-9e11-4ab48b5a89ff",
   "metadata": {},
   "outputs": [
    {
     "data": {
      "text/plain": [
       "[4, 3, 2, 1, 0]"
      ]
     },
     "execution_count": 66,
     "metadata": {},
     "output_type": "execute_result"
    }
   ],
   "source": [
    "# 정렬 : sort(), sorted()\n",
    "# sorted() : 그냥 변한 값만 복사해서 출력함\n",
    "\n",
    "sorted(num, reverse=True)"
   ]
  },
  {
   "cell_type": "code",
   "execution_count": 68,
   "id": "1a0b80c8-73b3-4bdd-9c69-b6ed2b704774",
   "metadata": {},
   "outputs": [
    {
     "data": {
      "text/plain": [
       "[0, 1, 2, 3, 4]"
      ]
     },
     "execution_count": 68,
     "metadata": {},
     "output_type": "execute_result"
    }
   ],
   "source": [
    "num # 변하지 않았음"
   ]
  },
  {
   "cell_type": "code",
   "execution_count": 72,
   "id": "c39d7c7c-7128-452c-8234-1accadf27580",
   "metadata": {},
   "outputs": [],
   "source": [
    "# sort() : 값을 변화시킴\n",
    "# list.sort()\n",
    "# 다시 할당할 필요 없음\n",
    "\n",
    "num.sort(reverse=True)"
   ]
  },
  {
   "cell_type": "code",
   "execution_count": 73,
   "id": "4fda18ea-db9f-43ab-b8e9-8efe12d30f2e",
   "metadata": {},
   "outputs": [
    {
     "data": {
      "text/plain": [
       "[4, 3, 2, 1, 0]"
      ]
     },
     "execution_count": 73,
     "metadata": {},
     "output_type": "execute_result"
    }
   ],
   "source": [
    "num # 값이 변했음"
   ]
  },
  {
   "cell_type": "code",
   "execution_count": 79,
   "id": "2388dfda-fb95-4040-b0b4-01b21fe748ae",
   "metadata": {},
   "outputs": [
    {
     "name": "stdout",
     "output_type": "stream",
     "text": [
      "[0, 1, 2, 3, 4]\n",
      "<list_reverseiterator object at 0x0000022E87379A60>\n"
     ]
    }
   ],
   "source": [
    "# 정렬 2\n",
    "# reverse(), reversed() 도 sort(), sorted()와 똑같음\n",
    "\n",
    "num.reverse() # 값 반환 O, 값 변화시킴\n",
    "print(num)\n",
    "print(reversed(num)) # 값 반환 X, 값 변화시키지 않음"
   ]
  },
  {
   "cell_type": "code",
   "execution_count": 80,
   "id": "ec7fd366-96df-41d8-96b4-4159d97dc73b",
   "metadata": {},
   "outputs": [
    {
     "data": {
      "text/plain": [
       "[1, 2, 3, 4]"
      ]
     },
     "execution_count": 80,
     "metadata": {},
     "output_type": "execute_result"
    }
   ],
   "source": [
    "# 할당\n",
    "\n",
    "a = list(range(1, 5))\n",
    "a"
   ]
  },
  {
   "cell_type": "code",
   "execution_count": 81,
   "id": "c51b05d0-9d35-4d01-bfaa-4c1dd08201ab",
   "metadata": {},
   "outputs": [
    {
     "data": {
      "text/plain": [
       "([6, 2, 3, 4], [6, 2, 3, 4])"
      ]
     },
     "execution_count": 81,
     "metadata": {},
     "output_type": "execute_result"
    }
   ],
   "source": [
    "b = a # 메모리 주소를 참조하는 것 (값이 같이 변함)\n",
    "\n",
    "b[0] = 6\n",
    "a, b"
   ]
  },
  {
   "cell_type": "code",
   "execution_count": 82,
   "id": "61700335-b328-4780-bda8-4cb970eca7e5",
   "metadata": {},
   "outputs": [
    {
     "data": {
      "text/plain": [
       "(2398753556416, 2398753556416)"
      ]
     },
     "execution_count": 82,
     "metadata": {},
     "output_type": "execute_result"
    }
   ],
   "source": [
    "id(a), id(b)"
   ]
  },
  {
   "cell_type": "code",
   "execution_count": 83,
   "id": "c45955b7-29b8-457c-8818-e0a0c5161b8d",
   "metadata": {},
   "outputs": [
    {
     "data": {
      "text/plain": [
       "(2398753556416, 2398860420032, 2398849408320, 2398860480640)"
      ]
     },
     "execution_count": 83,
     "metadata": {},
     "output_type": "execute_result"
    }
   ],
   "source": [
    "# shallow copy : 참조하지 않고 새로운 객체에 할당하는 방법, 얕은 복사\n",
    "\n",
    "c = a.copy()\n",
    "d = list(a)\n",
    "e = a[:]\n",
    "\n",
    "# 모두 다른 리스트가 됨\n",
    "id(a), id(c), id(d), id(e)"
   ]
  },
  {
   "cell_type": "code",
   "execution_count": 84,
   "id": "3931a42f-eff7-4331-a8ec-d2cf555ca37e",
   "metadata": {},
   "outputs": [
    {
     "data": {
      "text/plain": [
       "[6, 2, 3, 4, [1, 2, 3]]"
      ]
     },
     "execution_count": 84,
     "metadata": {},
     "output_type": "execute_result"
    }
   ],
   "source": [
    "# deepcopy : 하위에 중첩된 리스트 요소가 안 바뀌도록 하는 방법, 깊은 복사\n",
    "\n",
    "a.append([1,2,3])\n",
    "a"
   ]
  },
  {
   "cell_type": "code",
   "execution_count": 85,
   "id": "6f904028-4182-4bc6-91d7-9137de8bea25",
   "metadata": {},
   "outputs": [
    {
     "data": {
      "text/plain": [
       "(2398753556416, 2398849407552)"
      ]
     },
     "execution_count": 85,
     "metadata": {},
     "output_type": "execute_result"
    }
   ],
   "source": [
    "f = a.copy() # 얕은 복사\n",
    "\n",
    "id(a), id(f)\n",
    "# 리스트 안에 있는 요소가 가변 객체일 때(a 안에 리스트 있음)\n",
    "# 주소는 다름"
   ]
  },
  {
   "cell_type": "code",
   "execution_count": 86,
   "id": "ed09dd86-da2d-43ca-8467-e97ab5729341",
   "metadata": {},
   "outputs": [
    {
     "data": {
      "text/plain": [
       "([6, 2, 3, 4, [9, 2, 3]], [6, 2, 3, 4, [9, 2, 3]])"
      ]
     },
     "execution_count": 86,
     "metadata": {},
     "output_type": "execute_result"
    }
   ],
   "source": [
    "f[-1][0] = 9 # 얕은 복사를 했는데도 같이 변함\n",
    "a, f"
   ]
  },
  {
   "cell_type": "code",
   "execution_count": 87,
   "id": "e2248cc1-3c2f-4366-b527-b1315268a844",
   "metadata": {},
   "outputs": [
    {
     "data": {
      "text/plain": [
       "[6, 2, 3, 4, [9, 2, 3]]"
      ]
     },
     "execution_count": 87,
     "metadata": {},
     "output_type": "execute_result"
    }
   ],
   "source": [
    "# 이런 경우를 막고 싶을 때\n",
    "# 깊은 복사를 함\n",
    "\n",
    "import copy\n",
    "g = copy.deepcopy(a)\n",
    "g"
   ]
  },
  {
   "cell_type": "code",
   "execution_count": 88,
   "id": "e194a8d4-8113-475d-8264-a956e2669a76",
   "metadata": {},
   "outputs": [
    {
     "data": {
      "text/plain": [
       "([6, 2, 3, 4, [9, 2, 3]], [6, 2, 3, 4, [10, 2, 3]])"
      ]
     },
     "execution_count": 88,
     "metadata": {},
     "output_type": "execute_result"
    }
   ],
   "source": [
    "g[-1][0] = 10 # a는 안 바뀜\n",
    "a, g"
   ]
  },
  {
   "cell_type": "code",
   "execution_count": 89,
   "id": "576f538e-3f0b-4eeb-9cdd-620936edfd9b",
   "metadata": {},
   "outputs": [
    {
     "name": "stdout",
     "output_type": "stream",
     "text": [
      "('kate', 77)\n",
      "('royce', 44)\n",
      "('phill', 54)\n"
     ]
    }
   ],
   "source": [
    "# 순회 : zip, enumerate\n",
    "# zip : 여러 리스트 동시 순회\n",
    "# 만약 리스트 길이가 다르다면, 짧은 리스트 기준으로 순회\n",
    "\n",
    "name = ['kate', 'royce', 'phill']\n",
    "age = [77, 44, 54]\n",
    "\n",
    "# (name, age)\n",
    "for item1, item2 in zip(name, age): # 여러 리스트 동시에 출력\n",
    "    print((item1, item2))"
   ]
  },
  {
   "cell_type": "code",
   "execution_count": 91,
   "id": "41fb737a-fb18-4d29-b5b2-9b3946e65c8d",
   "metadata": {},
   "outputs": [
    {
     "name": "stdout",
     "output_type": "stream",
     "text": [
      "('kate', 77)\n",
      "('kate', 44)\n",
      "('kate', 54)\n",
      "('royce', 77)\n",
      "('royce', 44)\n",
      "('royce', 54)\n",
      "('phill', 77)\n",
      "('phill', 44)\n",
      "('phill', 54)\n"
     ]
    }
   ],
   "source": [
    "for item1 in name:\n",
    "    for item2 in age:\n",
    "        print((item1, item2)) # 위와 다름"
   ]
  },
  {
   "cell_type": "code",
   "execution_count": 92,
   "id": "2ce9384c-c7e7-4752-9be0-31dcceea4c53",
   "metadata": {},
   "outputs": [
    {
     "data": {
      "text/plain": [
       "[('kate', 77), ('royce', 44), ('phill', 54)]"
      ]
     },
     "execution_count": 92,
     "metadata": {},
     "output_type": "execute_result"
    }
   ],
   "source": [
    "# 더 쉽게 \n",
    "list(zip(name, age))"
   ]
  },
  {
   "cell_type": "code",
   "execution_count": 93,
   "id": "be48105f-7d43-453d-879b-71bf54d65fe5",
   "metadata": {},
   "outputs": [
    {
     "name": "stdout",
     "output_type": "stream",
     "text": [
      "0 kate\n",
      "1 royce\n",
      "2 phill\n"
     ]
    }
   ],
   "source": [
    "# 리스트 + 인덱스 -> enumerate\n",
    "\n",
    "for idx, item in enumerate(name):\n",
    "    print(idx, item)"
   ]
  },
  {
   "cell_type": "code",
   "execution_count": 94,
   "id": "4473ae32-8ba1-46bc-9a0b-e3af16b4df23",
   "metadata": {},
   "outputs": [
    {
     "data": {
      "text/plain": [
       "[('kate', 77), ('royce', 44), ('phill', 54)]"
      ]
     },
     "execution_count": 94,
     "metadata": {},
     "output_type": "execute_result"
    }
   ],
   "source": [
    "# zip을 리스트 컴프리헨션으로 바꾸기\n",
    "\n",
    "[word for word in zip(name,age)]"
   ]
  },
  {
   "cell_type": "code",
   "execution_count": 95,
   "id": "dd1ea033-ea97-4464-9b4c-198a94c7b669",
   "metadata": {},
   "outputs": [
    {
     "data": {
      "text/plain": [
       "[('kate', 77), ('royce', 44), ('phill', 54)]"
      ]
     },
     "execution_count": 95,
     "metadata": {},
     "output_type": "execute_result"
    }
   ],
   "source": [
    "[(i,j) for i, j in zip(name, age)]"
   ]
  },
  {
   "cell_type": "code",
   "execution_count": 96,
   "id": "e9db5dfa-2580-4b2d-a187-a33e571cff54",
   "metadata": {},
   "outputs": [
    {
     "name": "stdout",
     "output_type": "stream",
     "text": [
      "[('kate', 77), ('royce', 44), ('phill', 54)]\n"
     ]
    }
   ],
   "source": [
    "# name, age를 이용해서 새로운 리스트를 생성하는데\n",
    "# 형태는 (이름, 나이)\n",
    "# for문 사용\n",
    "\n",
    "new_list = []\n",
    "for i, j in zip(name, age):\n",
    "    new_list.append((i, j))\n",
    "\n",
    "print(new_list)"
   ]
  },
  {
   "cell_type": "code",
   "execution_count": 99,
   "id": "6208b079-3965-46ab-ae31-9a790ac05f73",
   "metadata": {},
   "outputs": [
    {
     "data": {
      "text/plain": [
       "[('kate', 77),\n",
       " ('kate', 44),\n",
       " ('kate', 54),\n",
       " ('royce', 77),\n",
       " ('royce', 44),\n",
       " ('royce', 54),\n",
       " ('phill', 77),\n",
       " ('phill', 44),\n",
       " ('phill', 54)]"
      ]
     },
     "execution_count": 99,
     "metadata": {},
     "output_type": "execute_result"
    }
   ],
   "source": [
    "# for문의 리스트컴프리헨션으로 바꾸기\n",
    "\n",
    "[(i, j) for i in name for j in age]"
   ]
  },
  {
   "cell_type": "code",
   "execution_count": 103,
   "id": "8d602d76-e27f-490d-b27f-380c832f381f",
   "metadata": {},
   "outputs": [
    {
     "data": {
      "text/plain": [
       "[[('kate', 77), ('royce', 77), ('phill', 77)],\n",
       " [('kate', 44), ('royce', 44), ('phill', 44)],\n",
       " [('kate', 54), ('royce', 54), ('phill', 54)]]"
      ]
     },
     "execution_count": 103,
     "metadata": {},
     "output_type": "execute_result"
    }
   ],
   "source": [
    "# [i, j]가 리스트로 들어가는 리스트로 바꾸기\n",
    "\n",
    "[[(i, j) for i in name] for j in age]"
   ]
  },
  {
   "cell_type": "code",
   "execution_count": 104,
   "id": "2f0aed60-7f23-47b5-b3d1-456a8962d98b",
   "metadata": {},
   "outputs": [
    {
     "data": {
      "text/plain": [
       "[('kate', 77),\n",
       " ('royce', 77),\n",
       " ('phill', 77),\n",
       " ('kate', 44),\n",
       " ('royce', 44),\n",
       " ('phill', 44),\n",
       " ('kate', 54),\n",
       " ('royce', 54),\n",
       " ('phill', 54)]"
      ]
     },
     "execution_count": 104,
     "metadata": {},
     "output_type": "execute_result"
    }
   ],
   "source": [
    "[(i, j) for j in age for i in name]"
   ]
  },
  {
   "cell_type": "code",
   "execution_count": 109,
   "id": "3ed96543-080a-485a-be3a-284b2958f4dc",
   "metadata": {},
   "outputs": [
    {
     "data": {
      "text/plain": [
       "[('DO', 'Do', 2),\n",
       " ('NOT', 'Not', 3),\n",
       " ('JUDGE', 'Judge', 5),\n",
       " ('A', 'A', 1),\n",
       " ('BOOK', 'Book', 4),\n",
       " ('BY', 'By', 2),\n",
       " ('ITS', 'Its', 3),\n",
       " ('COVER', 'Cover', 5)]"
      ]
     },
     "execution_count": 109,
     "metadata": {},
     "output_type": "execute_result"
    }
   ],
   "source": [
    "sentence = \"do not judge a book by its cover\"\n",
    "\n",
    "# (대문자, 첫글자 대문자, 글자수) 튜플의 리스트 만들기\n",
    "# 리스트 컴프리헨션 사용\n",
    "\n",
    "[(word.upper(), word.title(), len(word)) for word in sentence.split(' ')]"
   ]
  },
  {
   "cell_type": "code",
   "execution_count": 121,
   "id": "f51ef3c1-1869-46e8-bc6b-d7b103f9a78c",
   "metadata": {},
   "outputs": [],
   "source": [
    "text = [\n",
    "    ['Sunja', 'said', 'goodnight', 'to', 'her', 'mother'],\n",
    "    ['Hansu', 'was', 'no', 'longer', 'in', 'Busan']\n",
    "]\n",
    "\n",
    "# 1. 문장마다 스트링으로 변환해서 리스트로 반환\n",
    "# 예시: ['문장1', '문장2']\n",
    "list1 = [' '.join(sent) for sent in text]\n",
    "\n",
    "# 2. 전체를 스트링으로 반환.\n",
    "# 예시: '문장1 문장2'\n",
    "list2 = ' '.join([word for sent in text for word in sent])\n",
    "\n",
    "# 3. 전체 단어 리스트 가져오기\n",
    "# 예시: ['', '', '', '', ...]\n",
    "list3 = [word for sent in text for word in sent]"
   ]
  },
  {
   "cell_type": "code",
   "execution_count": 122,
   "id": "0a6d100d-b06f-482c-be75-be482b3369c9",
   "metadata": {},
   "outputs": [
    {
     "data": {
      "text/plain": [
       "['Sunja said goodnight to her mother', 'Hansu was no longer in Busan']"
      ]
     },
     "execution_count": 122,
     "metadata": {},
     "output_type": "execute_result"
    }
   ],
   "source": [
    "list1"
   ]
  },
  {
   "cell_type": "code",
   "execution_count": 123,
   "id": "debb274c-1f13-4876-bff9-100cc292f2c8",
   "metadata": {},
   "outputs": [
    {
     "data": {
      "text/plain": [
       "'Sunja said goodnight to her mother Hansu was no longer in Busan'"
      ]
     },
     "execution_count": 123,
     "metadata": {},
     "output_type": "execute_result"
    }
   ],
   "source": [
    "list2"
   ]
  },
  {
   "cell_type": "code",
   "execution_count": 124,
   "id": "81238529-dbf2-474b-8a11-45e63d8e47f0",
   "metadata": {},
   "outputs": [
    {
     "data": {
      "text/plain": [
       "['Sunja',\n",
       " 'said',\n",
       " 'goodnight',\n",
       " 'to',\n",
       " 'her',\n",
       " 'mother',\n",
       " 'Hansu',\n",
       " 'was',\n",
       " 'no',\n",
       " 'longer',\n",
       " 'in',\n",
       " 'Busan']"
      ]
     },
     "execution_count": 124,
     "metadata": {},
     "output_type": "execute_result"
    }
   ],
   "source": [
    "list3"
   ]
  },
  {
   "cell_type": "code",
   "execution_count": 126,
   "id": "8ec98fbb-933e-4558-a24a-0a3ce63388f8",
   "metadata": {},
   "outputs": [
    {
     "data": {
      "text/plain": [
       "[0, '홀수', 2, '홀수', 4, '홀수', 6, '홀수', 8, '홀수']"
      ]
     },
     "execution_count": 126,
     "metadata": {},
     "output_type": "execute_result"
    }
   ],
   "source": [
    "# 리스트컴프리헨션 조건문 사용법\n",
    "# if문 - else를 어디에 써야할까?\n",
    "# else를 사용할 때는 조건문을 반복문 앞으로 가져오기\n",
    "\n",
    "# [i for i in range(10)] \n",
    "# 짝수면 가져오고, 홀수는 '홀수'\n",
    "\n",
    "[i if i % 2 == 0 else '홀수' for i in range(10)]"
   ]
  },
  {
   "cell_type": "code",
   "execution_count": 127,
   "id": "dc9e5d36-82c4-4a49-9a69-1b12194b00ce",
   "metadata": {},
   "outputs": [],
   "source": [
    "# 과제\n",
    "# brown corpus 정제하기"
   ]
  },
  {
   "cell_type": "code",
   "execution_count": 128,
   "id": "39ee05f6-903f-4c55-b718-66e945fb5acf",
   "metadata": {},
   "outputs": [],
   "source": [
    "from nltk.corpus import brown\n",
    "brown = nltk.corpus.brown\n",
    "\n",
    "# brown.raw(categories='romance')[:5000]\n",
    "\n",
    "# 아까 text 형태처럼 [['They', 'neighter', 'liked', ...] , []]\n",
    "# 문장 분절 -> 단어 분절\n",
    "# 불필요한 것 제거하기\n",
    "# 문장 부호, POS(품사) 제거\n",
    "# 's -> (she's -> she, 's) (don't -> do, 'nt)\n",
    "# fly-dotted' -> fly, dotted\n",
    "\n",
    "# 'They/ppss' 여기서 /ppss를 자르라는 것\n",
    "# 하드코딩 지양하기"
   ]
  },
  {
   "cell_type": "code",
   "execution_count": null,
   "id": "550256d7-b3df-448d-8849-525b11f64eb6",
   "metadata": {},
   "outputs": [],
   "source": []
  }
 ],
 "metadata": {
  "kernelspec": {
   "display_name": "Python 3 (ipykernel)",
   "language": "python",
   "name": "python3"
  },
  "language_info": {
   "codemirror_mode": {
    "name": "ipython",
    "version": 3
   },
   "file_extension": ".py",
   "mimetype": "text/x-python",
   "name": "python",
   "nbconvert_exporter": "python",
   "pygments_lexer": "ipython3",
   "version": "3.9.7"
  }
 },
 "nbformat": 4,
 "nbformat_minor": 5
}
