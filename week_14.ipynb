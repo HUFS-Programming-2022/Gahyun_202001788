{
 "cells": [
  {
   "cell_type": "markdown",
   "id": "cda0c895-3dc4-4f31-87c6-7a84bd07e53d",
   "metadata": {},
   "source": [
    "# Week_14 복습"
   ]
  },
  {
   "cell_type": "markdown",
   "id": "6bc53e46-beb9-4419-b0af-c0a8cbda8837",
   "metadata": {},
   "source": [
    "## 함수 2\n",
    "1. 일급 객체\n",
    "2. 중첩 함수\n",
    "    - 클로저\n",
    "    - 데코레이터\n",
    "    - 범위\n",
    "3. 익명 함수\n",
    "4. 제너레이터\n",
    "5. 재귀 함수"
   ]
  },
  {
   "cell_type": "markdown",
   "id": "85872207-cb64-481c-a081-34fded596de1",
   "metadata": {},
   "source": [
    "## 일급 객체\n",
    "- first class object , first class citizen\n",
    "- 파이썬에서는 함수도 일급 객체다\n",
    "    - 다른 언어에서는 안됨\n",
    "- 일급 객체의 조건\n",
    "    - 함수의 인자로 전달된다.\n",
    "        def fx(func): -> 여기서 func 는 함수 \n",
    "    - 함수의 반환값이 된다.\n",
    "        def fx(func):\n",
    "            return func -> 함수를 반환\n",
    "    - 수정, 할당이 된다.\n",
    "        var = fx()"
   ]
  },
  {
   "cell_type": "code",
   "execution_count": 2,
   "id": "fefe0a29-20d6-4363-ae2b-1f7b0647f10d",
   "metadata": {},
   "outputs": [
    {
     "name": "stdout",
     "output_type": "stream",
     "text": [
      "815\n"
     ]
    }
   ],
   "source": [
    "def answer():\n",
    "    print(815)\n",
    "    \n",
    "def run_sth(func): # func vs. func() -> func()은 실행을 하라는 의미 \n",
    "    func()\n",
    "    \n",
    "run_sth(answer) # 함수인 answer가 들어가서 반환됨"
   ]
  },
  {
   "cell_type": "code",
   "execution_count": 3,
   "id": "928ed390-bbf2-4073-bf71-6b3e2da03a78",
   "metadata": {},
   "outputs": [
    {
     "name": "stdout",
     "output_type": "stream",
     "text": [
      "18\n"
     ]
    }
   ],
   "source": [
    "def add_args(arg1, arg2, arg3):\n",
    "    print(arg1 + arg2 + arg3)\n",
    "    \n",
    "def run_sth2(func, *args): # asterisk 임의의 갯수의 positional arguments를 받음, packing\n",
    "    func(*args)\n",
    "    \n",
    "run_sth2(add_args, 3, 5, 10)"
   ]
  },
  {
   "cell_type": "markdown",
   "id": "6797352d-0fa3-4007-bfcd-ef7db76cba78",
   "metadata": {},
   "source": [
    "## 중첩 함수\n",
    "- 일급 객체 활용, 함수 내에서 또다른 함수를 정의하는 것\n",
    "- 내부함수 캡슐화\n",
    "    - 사용하는 이유?\n",
    "        - 메모리 절약(외부함수를 지워도, 내부함수를 돌아가게 할 수 있음)\n",
    "        - 변수가 섞여서 불필요하게 충돌하는 것을 방지(내용에 맞게 바운더리를 주는 역할)\n",
    "        - 목적에 맞게 변수를 그룹화할 수 있음, 책임을 명확히"
   ]
  },
  {
   "cell_type": "code",
   "execution_count": 4,
   "id": "28d00a50-9a79-4be2-8d67-3ec559859b3b",
   "metadata": {},
   "outputs": [
    {
     "data": {
      "text/plain": [
       "2"
      ]
     },
     "execution_count": 4,
     "metadata": {},
     "output_type": "execute_result"
    }
   ],
   "source": [
    "# 중첩함수의 기본 형식\n",
    "\n",
    "def outer(a, b): # 외부함수\n",
    "    def inner(c, d): # 내부함수\n",
    "        return c + d\n",
    "    return inner(a, b)\n",
    "\n",
    "outer(1, 1)"
   ]
  },
  {
   "cell_type": "code",
   "execution_count": 5,
   "id": "3c16e97a-856c-463d-8192-67cf621c8b8f",
   "metadata": {},
   "outputs": [
    {
     "ename": "NameError",
     "evalue": "name 'inner' is not defined",
     "output_type": "error",
     "traceback": [
      "\u001b[0;31m---------------------------------------------------------------------------\u001b[0m",
      "\u001b[0;31mNameError\u001b[0m                                 Traceback (most recent call last)",
      "\u001b[0;32m/var/folders/hj/qdbqn7m16y9ckhnv98yqqmk40000gn/T/ipykernel_1056/523498293.py\u001b[0m in \u001b[0;36m<module>\u001b[0;34m\u001b[0m\n\u001b[1;32m      1\u001b[0m \u001b[0;31m# 이렇게 하면 에러, inner 함수는 안에 있기 때문에 밖에서 접근 불가\u001b[0m\u001b[0;34m\u001b[0m\u001b[0;34m\u001b[0m\u001b[0m\n\u001b[1;32m      2\u001b[0m \u001b[0;34m\u001b[0m\u001b[0m\n\u001b[0;32m----> 3\u001b[0;31m \u001b[0minner\u001b[0m\u001b[0;34m(\u001b[0m\u001b[0;36m1\u001b[0m\u001b[0;34m,\u001b[0m \u001b[0;36m1\u001b[0m\u001b[0;34m)\u001b[0m\u001b[0;34m\u001b[0m\u001b[0;34m\u001b[0m\u001b[0m\n\u001b[0m",
      "\u001b[0;31mNameError\u001b[0m: name 'inner' is not defined"
     ]
    }
   ],
   "source": [
    "# 이렇게 하면 에러, inner 함수는 안에 있기 때문에 밖에서 접근 불가\n",
    "\n",
    "inner(1, 1)"
   ]
  },
  {
   "cell_type": "code",
   "execution_count": 6,
   "id": "557e10a2-53cf-4617-bedf-3362bdb28ac4",
   "metadata": {},
   "outputs": [
    {
     "ename": "NameError",
     "evalue": "name 'c' is not defined",
     "output_type": "error",
     "traceback": [
      "\u001b[0;31m---------------------------------------------------------------------------\u001b[0m",
      "\u001b[0;31mNameError\u001b[0m                                 Traceback (most recent call last)",
      "\u001b[0;32m/var/folders/hj/qdbqn7m16y9ckhnv98yqqmk40000gn/T/ipykernel_1056/37794789.py\u001b[0m in \u001b[0;36m<module>\u001b[0;34m\u001b[0m\n\u001b[0;32m----> 1\u001b[0;31m \u001b[0mc\u001b[0m \u001b[0;31m# 이것도 안에 있는 매개변수라 밖에서 접근 불가\u001b[0m\u001b[0;34m\u001b[0m\u001b[0;34m\u001b[0m\u001b[0m\n\u001b[0m",
      "\u001b[0;31mNameError\u001b[0m: name 'c' is not defined"
     ]
    }
   ],
   "source": [
    "c # 이것도 안에 있는 매개변수라 밖에서 접근 불가"
   ]
  },
  {
   "cell_type": "code",
   "execution_count": 7,
   "id": "5342bc7b-7c25-453c-b6ee-e15de8bfc9c6",
   "metadata": {},
   "outputs": [],
   "source": [
    "def dog(saying):\n",
    "    def inner():\n",
    "        return f'we are the dogs who say: {saying}'\n",
    "    return inner\n",
    "\n",
    "a = dog('arf')\n",
    "b = dog('woof')"
   ]
  },
  {
   "cell_type": "code",
   "execution_count": 8,
   "id": "c70e2c93-f182-4907-a63b-09b7cd398412",
   "metadata": {},
   "outputs": [
    {
     "data": {
      "text/plain": [
       "(<function __main__.dog.<locals>.inner()>,\n",
       " <function __main__.dog.<locals>.inner()>)"
      ]
     },
     "execution_count": 8,
     "metadata": {},
     "output_type": "execute_result"
    }
   ],
   "source": [
    "a, b # 함수"
   ]
  },
  {
   "cell_type": "code",
   "execution_count": 9,
   "id": "4010fc72-04b1-4cbb-a6d6-b7b510bed653",
   "metadata": {},
   "outputs": [
    {
     "data": {
      "text/plain": [
       "('we are the dogs who say: arf', 'we are the dogs who say: woof')"
      ]
     },
     "execution_count": 9,
     "metadata": {},
     "output_type": "execute_result"
    }
   ],
   "source": [
    "a(), b() # 실행시키기"
   ]
  },
  {
   "cell_type": "code",
   "execution_count": 10,
   "id": "ce0dbb3a-d9b8-4c27-9001-08c8fca5d244",
   "metadata": {},
   "outputs": [
    {
     "ename": "NameError",
     "evalue": "name 'saying' is not defined",
     "output_type": "error",
     "traceback": [
      "\u001b[0;31m---------------------------------------------------------------------------\u001b[0m",
      "\u001b[0;31mNameError\u001b[0m                                 Traceback (most recent call last)",
      "\u001b[0;32m/var/folders/hj/qdbqn7m16y9ckhnv98yqqmk40000gn/T/ipykernel_1056/3251373172.py\u001b[0m in \u001b[0;36m<module>\u001b[0;34m\u001b[0m\n\u001b[1;32m      2\u001b[0m     \u001b[0;32mreturn\u001b[0m \u001b[0;34mf'we are knights who say: {saying}'\u001b[0m\u001b[0;34m\u001b[0m\u001b[0;34m\u001b[0m\u001b[0m\n\u001b[1;32m      3\u001b[0m \u001b[0;34m\u001b[0m\u001b[0m\n\u001b[0;32m----> 4\u001b[0;31m \u001b[0minner\u001b[0m\u001b[0;34m(\u001b[0m\u001b[0;34m)\u001b[0m\u001b[0;34m\u001b[0m\u001b[0;34m\u001b[0m\u001b[0m\n\u001b[0m\u001b[1;32m      5\u001b[0m \u001b[0;34m\u001b[0m\u001b[0m\n\u001b[1;32m      6\u001b[0m \u001b[0;31m# error\u001b[0m\u001b[0;34m\u001b[0m\u001b[0;34m\u001b[0m\u001b[0m\n",
      "\u001b[0;32m/var/folders/hj/qdbqn7m16y9ckhnv98yqqmk40000gn/T/ipykernel_1056/3251373172.py\u001b[0m in \u001b[0;36minner\u001b[0;34m()\u001b[0m\n\u001b[1;32m      1\u001b[0m \u001b[0;32mdef\u001b[0m \u001b[0minner\u001b[0m\u001b[0;34m(\u001b[0m\u001b[0;34m)\u001b[0m\u001b[0;34m:\u001b[0m\u001b[0;34m\u001b[0m\u001b[0;34m\u001b[0m\u001b[0m\n\u001b[0;32m----> 2\u001b[0;31m     \u001b[0;32mreturn\u001b[0m \u001b[0;34mf'we are knights who say: {saying}'\u001b[0m\u001b[0;34m\u001b[0m\u001b[0;34m\u001b[0m\u001b[0m\n\u001b[0m\u001b[1;32m      3\u001b[0m \u001b[0;34m\u001b[0m\u001b[0m\n\u001b[1;32m      4\u001b[0m \u001b[0minner\u001b[0m\u001b[0;34m(\u001b[0m\u001b[0;34m)\u001b[0m\u001b[0;34m\u001b[0m\u001b[0;34m\u001b[0m\u001b[0m\n\u001b[1;32m      5\u001b[0m \u001b[0;34m\u001b[0m\u001b[0m\n",
      "\u001b[0;31mNameError\u001b[0m: name 'saying' is not defined"
     ]
    }
   ],
   "source": [
    "def inner():\n",
    "    return f'we are knights who say: {saying}'\n",
    "\n",
    "inner()\n",
    "\n",
    "# error"
   ]
  },
  {
   "cell_type": "markdown",
   "id": "046b874e-8f06-4d3f-9a0c-47826ec21590",
   "metadata": {},
   "source": [
    "## inner 함수의 장점\n",
    "- 외부함수의 인자를 참조할 수 있다; saying을 inner에서 안 받았는데, 잘 출력된다\n",
    "- 수정/활용은 안됨\n",
    "- 이런게 바로 클로저, 중첩함수의 일부분"
   ]
  },
  {
   "cell_type": "markdown",
   "id": "a6ac6be3-6a42-46f7-b4dd-1ebdfcd3d940",
   "metadata": {},
   "source": [
    "## 클로저(closure)\n",
    "- 조건\n",
    "    - 중첩함수일 것\n",
    "    - 내부함수가 외부함수의 상태값을 참조할 것\n",
    "    - 외부함수의 리턴값이 내부함수일 것\n",
    "- 정의\n",
    "    - 외부함수의 상태값을 기억하는 함수(호출 시 사용가능)"
   ]
  },
  {
   "cell_type": "code",
   "execution_count": 11,
   "id": "2599b247-9240-466c-8540-646c66314188",
   "metadata": {},
   "outputs": [],
   "source": [
    "def multiply(x):\n",
    "    def inner(y): # 조건 1\n",
    "        return x * y # 조건 2\n",
    "    return inner # 조건 3"
   ]
  },
  {
   "cell_type": "code",
   "execution_count": 12,
   "id": "d2d5fd65-fffc-4063-ba4c-8f547f08b1c7",
   "metadata": {},
   "outputs": [
    {
     "name": "stdout",
     "output_type": "stream",
     "text": [
      "<function multiply.<locals>.inner at 0x7f8dc98f3310>\n",
      "<function multiply.<locals>.inner at 0x7f8dc98f33a0>\n",
      "10 20\n"
     ]
    }
   ],
   "source": [
    "m = multiply(1)\n",
    "n = multiply(2)\n",
    "\n",
    "print(m) # 함수\n",
    "print(n) # 함수\n",
    "print(m(10), n(10)) # 함수 실행"
   ]
  },
  {
   "cell_type": "code",
   "execution_count": 13,
   "id": "4f9b35a9-01e9-41a3-9f80-ef9413d5b281",
   "metadata": {},
   "outputs": [
    {
     "ename": "NameError",
     "evalue": "name 'multiply' is not defined",
     "output_type": "error",
     "traceback": [
      "\u001b[0;31m---------------------------------------------------------------------------\u001b[0m",
      "\u001b[0;31mNameError\u001b[0m                                 Traceback (most recent call last)",
      "\u001b[0;32m/var/folders/hj/qdbqn7m16y9ckhnv98yqqmk40000gn/T/ipykernel_1056/35994158.py\u001b[0m in \u001b[0;36m<module>\u001b[0;34m\u001b[0m\n\u001b[1;32m      1\u001b[0m \u001b[0;32mdel\u001b[0m\u001b[0;34m(\u001b[0m\u001b[0mmultiply\u001b[0m\u001b[0;34m)\u001b[0m \u001b[0;31m# 메모리에서 multiply 지우기\u001b[0m\u001b[0;34m\u001b[0m\u001b[0;34m\u001b[0m\u001b[0m\n\u001b[0;32m----> 2\u001b[0;31m \u001b[0mmultiply\u001b[0m\u001b[0;34m\u001b[0m\u001b[0;34m\u001b[0m\u001b[0m\n\u001b[0m",
      "\u001b[0;31mNameError\u001b[0m: name 'multiply' is not defined"
     ]
    }
   ],
   "source": [
    "del(multiply) # 메모리에서 multiply 지우기\n",
    "multiply"
   ]
  },
  {
   "cell_type": "code",
   "execution_count": 14,
   "id": "6860354f-958f-4742-b013-382e525e2adc",
   "metadata": {},
   "outputs": [
    {
     "data": {
      "text/plain": [
       "20"
      ]
     },
     "execution_count": 14,
     "metadata": {},
     "output_type": "execute_result"
    }
   ],
   "source": [
    "# multiply를 지워도 계속 돌아감\n",
    "# 외부함수는 지워졌지만, 객체를 따로 기억함 -> 효율적 메모리 사용\n",
    "n(10)"
   ]
  },
  {
   "cell_type": "markdown",
   "id": "5438c3a2-62d1-4a33-9d4f-407d75a2001d",
   "metadata": {},
   "source": [
    "## 실습 1\n",
    "- 클로저 함수 만들기\n",
    "- 리턴값 + 리턴값 (8*8)"
   ]
  },
  {
   "cell_type": "code",
   "execution_count": 15,
   "id": "b15050cf-774d-479a-9538-517d9551a313",
   "metadata": {},
   "outputs": [
    {
     "data": {
      "text/plain": [
       "64"
      ]
     },
     "execution_count": 15,
     "metadata": {},
     "output_type": "execute_result"
    }
   ],
   "source": [
    "def add(a, b):\n",
    "    return a + b\n",
    "\n",
    "def square(func):\n",
    "    def inner(a, b): # func의 인자가 둘 -> inner에서 설정함\n",
    "        result = func(a, b)\n",
    "        return result * result\n",
    "    return inner\n",
    "\n",
    "s = square(add)\n",
    "s(2, 6)"
   ]
  },
  {
   "cell_type": "markdown",
   "id": "a9fac58c-027e-4bd3-9ef5-9dfec932deb1",
   "metadata": {},
   "source": [
    "## 데코레이터\n",
    "- 클로저: 데코레이터 사용이 가능\n",
    "- 메인 함수에 또다른 함수를 취해 반환할 수 있게 함\n",
    "- 재사용성이 높음\n",
    "- 가독성, 직관성이 좋음"
   ]
  },
  {
   "cell_type": "code",
   "execution_count": 16,
   "id": "a1e4d48b-5d27-4ee4-97d4-186b92757efc",
   "metadata": {},
   "outputs": [
    {
     "data": {
      "text/plain": [
       "144"
      ]
     },
     "execution_count": 16,
     "metadata": {},
     "output_type": "execute_result"
    }
   ],
   "source": [
    "@square\n",
    "def plus(a, b):\n",
    "    return a * b\n",
    "\n",
    "plus(2, 6) # square를 탄다"
   ]
  },
  {
   "cell_type": "markdown",
   "id": "dff3a885-94c4-4577-85d1-95401dbd39a5",
   "metadata": {},
   "source": [
    "## scope\n",
    "- 전역: global\n",
    "- 지역: local (참조만 가능)\n",
    "- nonlocal"
   ]
  },
  {
   "cell_type": "code",
   "execution_count": null,
   "id": "37773db9-4f3f-4bf5-a7c5-b67f8982d941",
   "metadata": {},
   "outputs": [],
   "source": [
    "# outer(), inner() 함수 입장에서 전역(global) 범위\n",
    "def outer():\n",
    "    # outer() 함수 입장에서 지역(local) 범위\n",
    "    # inner() 함수 입장에서 비지역(nonlocal) 범위\n",
    "    def inner():\n",
    "        # inner 함수 입장에서 지역(local) 범위"
   ]
  },
  {
   "cell_type": "code",
   "execution_count": 17,
   "id": "dbb84ae5-350d-476c-82fb-96f9db654016",
   "metadata": {},
   "outputs": [],
   "source": [
    "# 범위\n",
    "\n",
    "x = 4 # global\n",
    "def add(a, b):\n",
    "    y = 8 # local\n",
    "    return a + b\n",
    "\n",
    "def square(func):\n",
    "    # local\n",
    "    def inner(a, b):\n",
    "        # nonlocal\n",
    "        result = func(a, b)\n",
    "        return result * result\n",
    "    return inner"
   ]
  },
  {
   "cell_type": "code",
   "execution_count": 18,
   "id": "0abb8c53-016b-4180-bed7-3494b3f94c98",
   "metadata": {},
   "outputs": [
    {
     "data": {
      "text/plain": [
       "999"
      ]
     },
     "execution_count": 18,
     "metadata": {},
     "output_type": "execute_result"
    }
   ],
   "source": [
    "x = 4 # global\n",
    "\n",
    "def outer(c):\n",
    "    y = 8 # local\n",
    "    def inner():\n",
    "        # 여기까지도 c는 9였음\n",
    "        c = 999 # nonlocal\n",
    "        return c\n",
    "    return inner()\n",
    "\n",
    "outer(9) # 결과는 999"
   ]
  },
  {
   "cell_type": "code",
   "execution_count": 19,
   "id": "fe7896e0-cbdd-4150-9723-bdfaf1574534",
   "metadata": {},
   "outputs": [
    {
     "ename": "UnboundLocalError",
     "evalue": "local variable 'c' referenced before assignment",
     "output_type": "error",
     "traceback": [
      "\u001b[0;31m---------------------------------------------------------------------------\u001b[0m",
      "\u001b[0;31mUnboundLocalError\u001b[0m                         Traceback (most recent call last)",
      "\u001b[0;32m/var/folders/hj/qdbqn7m16y9ckhnv98yqqmk40000gn/T/ipykernel_1056/588360283.py\u001b[0m in \u001b[0;36m<module>\u001b[0;34m\u001b[0m\n\u001b[1;32m      7\u001b[0m     \u001b[0;32mreturn\u001b[0m \u001b[0minner\u001b[0m\u001b[0;34m(\u001b[0m\u001b[0;34m)\u001b[0m\u001b[0;34m\u001b[0m\u001b[0;34m\u001b[0m\u001b[0m\n\u001b[1;32m      8\u001b[0m \u001b[0;34m\u001b[0m\u001b[0m\n\u001b[0;32m----> 9\u001b[0;31m \u001b[0mouter\u001b[0m\u001b[0;34m(\u001b[0m\u001b[0;36m9\u001b[0m\u001b[0;34m)\u001b[0m\u001b[0;34m\u001b[0m\u001b[0;34m\u001b[0m\u001b[0m\n\u001b[0m",
      "\u001b[0;32m/var/folders/hj/qdbqn7m16y9ckhnv98yqqmk40000gn/T/ipykernel_1056/588360283.py\u001b[0m in \u001b[0;36mouter\u001b[0;34m(c)\u001b[0m\n\u001b[1;32m      5\u001b[0m         \u001b[0mc\u001b[0m \u001b[0;34m*=\u001b[0m \u001b[0;36m1\u001b[0m \u001b[0;31m# error\u001b[0m\u001b[0;34m\u001b[0m\u001b[0;34m\u001b[0m\u001b[0m\n\u001b[1;32m      6\u001b[0m         \u001b[0;32mreturn\u001b[0m \u001b[0mc\u001b[0m\u001b[0;34m\u001b[0m\u001b[0;34m\u001b[0m\u001b[0m\n\u001b[0;32m----> 7\u001b[0;31m     \u001b[0;32mreturn\u001b[0m \u001b[0minner\u001b[0m\u001b[0;34m(\u001b[0m\u001b[0;34m)\u001b[0m\u001b[0;34m\u001b[0m\u001b[0;34m\u001b[0m\u001b[0m\n\u001b[0m\u001b[1;32m      8\u001b[0m \u001b[0;34m\u001b[0m\u001b[0m\n\u001b[1;32m      9\u001b[0m \u001b[0mouter\u001b[0m\u001b[0;34m(\u001b[0m\u001b[0;36m9\u001b[0m\u001b[0;34m)\u001b[0m\u001b[0;34m\u001b[0m\u001b[0;34m\u001b[0m\u001b[0m\n",
      "\u001b[0;32m/var/folders/hj/qdbqn7m16y9ckhnv98yqqmk40000gn/T/ipykernel_1056/588360283.py\u001b[0m in \u001b[0;36minner\u001b[0;34m()\u001b[0m\n\u001b[1;32m      3\u001b[0m     \u001b[0my\u001b[0m \u001b[0;34m=\u001b[0m \u001b[0;36m8\u001b[0m \u001b[0;31m# local\u001b[0m\u001b[0;34m\u001b[0m\u001b[0;34m\u001b[0m\u001b[0m\n\u001b[1;32m      4\u001b[0m     \u001b[0;32mdef\u001b[0m \u001b[0minner\u001b[0m\u001b[0;34m(\u001b[0m\u001b[0;34m)\u001b[0m\u001b[0;34m:\u001b[0m\u001b[0;34m\u001b[0m\u001b[0;34m\u001b[0m\u001b[0m\n\u001b[0;32m----> 5\u001b[0;31m         \u001b[0mc\u001b[0m \u001b[0;34m*=\u001b[0m \u001b[0;36m1\u001b[0m \u001b[0;31m# error\u001b[0m\u001b[0;34m\u001b[0m\u001b[0;34m\u001b[0m\u001b[0m\n\u001b[0m\u001b[1;32m      6\u001b[0m         \u001b[0;32mreturn\u001b[0m \u001b[0mc\u001b[0m\u001b[0;34m\u001b[0m\u001b[0;34m\u001b[0m\u001b[0m\n\u001b[1;32m      7\u001b[0m     \u001b[0;32mreturn\u001b[0m \u001b[0minner\u001b[0m\u001b[0;34m(\u001b[0m\u001b[0;34m)\u001b[0m\u001b[0;34m\u001b[0m\u001b[0;34m\u001b[0m\u001b[0m\n",
      "\u001b[0;31mUnboundLocalError\u001b[0m: local variable 'c' referenced before assignment"
     ]
    }
   ],
   "source": [
    "x = 4 # global\n",
    "def outer(c):\n",
    "    y = 8 # local\n",
    "    def inner():\n",
    "        c *= 1 # error\n",
    "        return c\n",
    "    return inner()\n",
    "\n",
    "outer(9)"
   ]
  },
  {
   "cell_type": "code",
   "execution_count": 20,
   "id": "bde6d23b-7b5b-4bfa-96f9-a72675daf196",
   "metadata": {},
   "outputs": [
    {
     "data": {
      "text/plain": [
       "9"
      ]
     },
     "execution_count": 20,
     "metadata": {},
     "output_type": "execute_result"
    }
   ],
   "source": [
    "x = 4 # global\n",
    "def outer(c):\n",
    "    y = 8 # local\n",
    "    def inner():\n",
    "        # c의 범위 바꾸어주기\n",
    "        nonlocal c\n",
    "        c *= 1 \n",
    "        return c\n",
    "    return inner()\n",
    "\n",
    "outer(9)"
   ]
  },
  {
   "cell_type": "markdown",
   "id": "bccdefd3-845f-441c-be14-5d1d36639ab2",
   "metadata": {},
   "source": [
    "## 실습 2\n",
    "- fx1: speed, limit를 받아서 내 속도가 제한속도를 위반하는지 t/f\n",
    "- fx2: 클로저, 초과할 경우 얼마나 초과하는지 프린트하는 함수\n",
    "- 실행은 데코레이터로 fx1를 실행하면 되도록 만들기"
   ]
  },
  {
   "cell_type": "code",
   "execution_count": 25,
   "id": "1608a299-484f-4e0a-b2d9-721b86f5d03a",
   "metadata": {},
   "outputs": [
    {
     "name": "stdout",
     "output_type": "stream",
     "text": [
      "f\n"
     ]
    }
   ],
   "source": [
    "def restriction(speed, limit):\n",
    "    if speed > limit:\n",
    "        print(\"t\")\n",
    "    else:\n",
    "        print(\"f\")\n",
    "        def inner():\n",
    "            limit - speed \n",
    "            \n",
    "restriction(40, 100)"
   ]
  },
  {
   "cell_type": "code",
   "execution_count": 26,
   "id": "77eebaf3-09b8-471b-9b8f-17a56fe881c3",
   "metadata": {},
   "outputs": [
    {
     "data": {
      "text/plain": [
       "'20km/h 초과되었습니다.'"
      ]
     },
     "execution_count": 26,
     "metadata": {},
     "output_type": "execute_result"
    }
   ],
   "source": [
    "def violate(func):\n",
    "    def inner(speed, limit):\n",
    "        if func(speed, limit):\n",
    "            return f'{speed - limit}km/h 초과되었습니다.'\n",
    "        return f'현재 속도는 {speed}km/h, 정상 속도입니다.'\n",
    "    return inner\n",
    "\n",
    "@violate\n",
    "def is_speeding(speed, limit):\n",
    "    return speed > limit\n",
    "\n",
    "is_speeding(100, 80)"
   ]
  },
  {
   "cell_type": "code",
   "execution_count": 27,
   "id": "27270bca-9892-408b-9c42-75e85db7b27a",
   "metadata": {},
   "outputs": [
    {
     "name": "stdout",
     "output_type": "stream",
     "text": [
      "현재 속도는 50km/h, 정상 속도입니다.\n"
     ]
    }
   ],
   "source": [
    "print(is_speeding(50,60))"
   ]
  },
  {
   "cell_type": "markdown",
   "id": "e6614ca5-3711-4726-90cf-e3b8b548aadc",
   "metadata": {},
   "source": [
    "## 익명함수 lambda\n",
    "- 이름이 없다. 예약어가 없다. \n",
    "    - def is_speeding():\n",
    "        - return\n",
    "- def, return -> 와 같은 예약어를 안 씀\n",
    "- is_speeding -> 이름은 써도 되고 안 써도 됨\n",
    "- 단순한 용도의 함수가 필요할 경우 사용, 재사용할 필요 없을 때\n",
    "- 잦은 사용은 권하지 않음, 직관적이지 않기 때문\n",
    "- 형식: lambda x: <x를 요리할 코드>"
   ]
  },
  {
   "cell_type": "code",
   "execution_count": 28,
   "id": "a1508296-18aa-48dc-a148-a16152ecb07b",
   "metadata": {},
   "outputs": [
    {
     "name": "stdout",
     "output_type": "stream",
     "text": [
      "6\n",
      "6\n"
     ]
    }
   ],
   "source": [
    "def add_one(x):\n",
    "    return x+1\n",
    "\n",
    "print(add_one(5))\n",
    "\n",
    "# 위의 코드를 한 줄로 \n",
    "\n",
    "print((lambda x: x + 1)(5))"
   ]
  },
  {
   "cell_type": "code",
   "execution_count": 29,
   "id": "622b6999-dbf8-4a41-8ac7-864c01631cad",
   "metadata": {},
   "outputs": [
    {
     "data": {
      "text/plain": [
       "6"
      ]
     },
     "execution_count": 29,
     "metadata": {},
     "output_type": "execute_result"
    }
   ],
   "source": [
    "# 이름을 만들어주기\n",
    "\n",
    "fx = lambda x: x + 1\n",
    "fx(5)"
   ]
  },
  {
   "cell_type": "code",
   "execution_count": 30,
   "id": "7af4c865-7ce8-4d80-932b-ce6cd37b6d31",
   "metadata": {},
   "outputs": [
    {
     "data": {
      "text/plain": [
       "15"
      ]
     },
     "execution_count": 30,
     "metadata": {},
     "output_type": "execute_result"
    }
   ],
   "source": [
    "# 변수를 여러 개 사용하고 싶으면 , 사용\n",
    "\n",
    "f = lambda x, y: x + y\n",
    "f(5, 10)"
   ]
  },
  {
   "cell_type": "markdown",
   "id": "eaf5148a-bdaf-42f2-a9ed-e5110b295181",
   "metadata": {},
   "source": [
    "## 실습 3\n",
    "- 단어가 들어왔을 때 첫글자를 대문자로 바꾸고 단어 끝에 ! 붙이기"
   ]
  },
  {
   "cell_type": "code",
   "execution_count": 31,
   "id": "d3c45f37-4757-454e-bd25-75833f32e7d6",
   "metadata": {},
   "outputs": [
    {
     "name": "stdout",
     "output_type": "stream",
     "text": [
      "Love you so much!\n"
     ]
    }
   ],
   "source": [
    "print((lambda word: word.capitalize() + '!')('love you so much'))"
   ]
  },
  {
   "cell_type": "markdown",
   "id": "3603ed60-2742-4869-ac4e-9553d31bf1d2",
   "metadata": {},
   "source": [
    "## 제너레이터\n",
    "- return -> yield\n",
    "- 시퀀스를 순회할 때 그 시퀀스를 생성하는 객체\n",
    "- 한 번 사용되고 사라짐 -> 메모리 효율 좋음"
   ]
  },
  {
   "cell_type": "code",
   "execution_count": 35,
   "id": "5942dbc6-ee3f-48ff-a701-53636088fb8d",
   "metadata": {},
   "outputs": [
    {
     "name": "stdout",
     "output_type": "stream",
     "text": [
      "0\n",
      "1\n",
      "2\n",
      "3\n",
      "4\n"
     ]
    }
   ],
   "source": [
    "def print_number(num):\n",
    "    for i in range(num):\n",
    "        yield i\n",
    "        \n",
    "# generator 생성\n",
    "fx = print_number(5)\n",
    "\n",
    "# 객체 순회\n",
    "for i in fx:\n",
    "    print(i)"
   ]
  },
  {
   "cell_type": "code",
   "execution_count": 36,
   "id": "48577425-afa6-4863-a9ad-b881d3824bcd",
   "metadata": {},
   "outputs": [],
   "source": [
    "for i in fx:\n",
    "    print(i)"
   ]
  },
  {
   "cell_type": "markdown",
   "id": "cc2d90b1-4a89-4ff8-b82d-bf814856863c",
   "metadata": {},
   "source": [
    "## 실습 4\n",
    "- 제너레이터 사용하여 range() 구현하기\n",
    "- def my_range(start, end, step):\n",
    "    - yield"
   ]
  },
  {
   "cell_type": "code",
   "execution_count": 37,
   "id": "340948bc-b0ef-481c-a92e-dbb06542c63d",
   "metadata": {},
   "outputs": [],
   "source": [
    "def my_range(start, end, step):\n",
    "    number = start\n",
    "    while number < end:\n",
    "        yield number\n",
    "        number += step\n",
    "        \n",
    "ranger = my_range(1, 10, 1)"
   ]
  },
  {
   "cell_type": "code",
   "execution_count": 38,
   "id": "a1a68164-a342-4c6b-8741-3dba55a674af",
   "metadata": {},
   "outputs": [
    {
     "name": "stdout",
     "output_type": "stream",
     "text": [
      "1\n",
      "2\n",
      "3\n",
      "4\n",
      "5\n",
      "6\n",
      "7\n",
      "8\n",
      "9\n"
     ]
    }
   ],
   "source": [
    "for i in ranger:\n",
    "    print(i)"
   ]
  },
  {
   "cell_type": "code",
   "execution_count": 39,
   "id": "d788eaa8-b899-4b58-8d2c-44283b0e5733",
   "metadata": {},
   "outputs": [
    {
     "name": "stdout",
     "output_type": "stream",
     "text": [
      "1\n",
      "3\n",
      "5\n"
     ]
    }
   ],
   "source": [
    "def my_range(start, end, step=1):\n",
    "    while start < end:\n",
    "        yield start\n",
    "        start += step\n",
    "        \n",
    "ranger = my_range(1, 6, 2)\n",
    "for i in ranger:\n",
    "    print(i)"
   ]
  },
  {
   "cell_type": "code",
   "execution_count": 40,
   "id": "8ca733d7-b5d7-4749-9b38-b514cec98222",
   "metadata": {},
   "outputs": [
    {
     "name": "stdout",
     "output_type": "stream",
     "text": [
      "<class 'generator'>\n",
      "\n",
      "0\n",
      "1\n",
      "2\n",
      "3\n",
      "4\n"
     ]
    }
   ],
   "source": [
    "# generator 더 쉽게 만들기\n",
    "# 리스트 컴프리헨션처럼 만들고, [] 가 아닌 ()로 담아주면 됨\n",
    "\n",
    "ranger = (i for i in range(5))\n",
    "print(type(ranger))\n",
    "print()\n",
    "\n",
    "for i in ranger:\n",
    "    print(i)"
   ]
  },
  {
   "cell_type": "markdown",
   "id": "b539ce55-bfff-4b9d-adac-bff9563ce0d5",
   "metadata": {},
   "source": [
    "## 재귀함수\n",
    "- 너무 깊으면 예외 발생 => 주의\n",
    "- 자기 자신을 호출하는 함수\n",
    "- [[1,2,3],[1,1],4,5] -> [1,2,3,1,1,4,5]\n",
    "- 차원이 다른 모든 요소를 하나의 리스트에 담고 싶을 때"
   ]
  },
  {
   "cell_type": "code",
   "execution_count": 41,
   "id": "921b2c7a-a866-4841-a3e4-dd1cc5d8b378",
   "metadata": {},
   "outputs": [
    {
     "data": {
      "text/plain": [
       "False"
      ]
     },
     "execution_count": 41,
     "metadata": {},
     "output_type": "execute_result"
    }
   ],
   "source": [
    "isinstance('h', int) # 'h'가 int인가? t/f 반환"
   ]
  },
  {
   "cell_type": "code",
   "execution_count": 43,
   "id": "11cabe24-8c8a-4c3a-a851-08d52be9e24f",
   "metadata": {},
   "outputs": [],
   "source": [
    "def flatten(sent):\n",
    "    for word in sent:\n",
    "        if isinstance(word, list):\n",
    "            # true\n",
    "            for sub_word in flatten(word):\n",
    "                yield sub_word    \n",
    "        else:\n",
    "            # false\n",
    "            yield word"
   ]
  },
  {
   "cell_type": "code",
   "execution_count": 44,
   "id": "d7928e51-53d0-4824-8c9e-1862caeee7bb",
   "metadata": {},
   "outputs": [
    {
     "name": "stdout",
     "output_type": "stream",
     "text": [
      "4\n",
      "5\n",
      "6\n",
      "1\n",
      "2\n",
      "3\n",
      "7\n",
      "8\n"
     ]
    }
   ],
   "source": [
    "a = [[4,5,6], [[1,[2,3]]], 7, 8]\n",
    "flatten(a)\n",
    "\n",
    "for i in flatten(a):\n",
    "    print(i)"
   ]
  },
  {
   "cell_type": "code",
   "execution_count": 45,
   "id": "609b8569-3267-48ca-b43a-71946e0e647d",
   "metadata": {},
   "outputs": [],
   "source": [
    "# python 3.3부터 가능한 기능\n",
    "\n",
    "def flatten(sent):\n",
    "    for word in sent:\n",
    "        if isinstance(word, list):\n",
    "            # for sub_word in flatten(word):\n",
    "            #     yield sub_word\n",
    "            yield from flatten(word) # 위 두 줄의 코드를 한 줄로 축약해서 사용 가능!\n",
    "        else:\n",
    "            yield word"
   ]
  },
  {
   "cell_type": "markdown",
   "id": "e8987448-be1d-40be-aea2-3265db1fe4c7",
   "metadata": {},
   "source": [
    "## 예외 처리 exception handling\n",
    "- 예외 처리\n",
    "- 예외 발생시키기\n",
    "    - raise\n",
    "    - assert\n",
    "- 예외 정의하기"
   ]
  },
  {
   "cell_type": "markdown",
   "id": "c594b399-dedd-481c-8ac3-46c7cbea5a77",
   "metadata": {},
   "source": [
    "## 예외 처리\n",
    "- 목적은 프로그램을 정상적으로 종료하기 위함\n",
    "- 예외 발생 시, 사용자에게 알리고 조치를 취함\n",
    "- 소프트렌딩\n",
    "- 형식\n",
    "- try: \n",
    "    - <에러 발생될 법한 코드 블럭>\n",
    "- except <에러 타입>:\n",
    "    - <처리할 방법>"
   ]
  },
  {
   "cell_type": "code",
   "execution_count": 46,
   "id": "715c2e6e-5514-4bd8-8e18-12e1686a7380",
   "metadata": {},
   "outputs": [
    {
     "ename": "ZeroDivisionError",
     "evalue": "division by zero",
     "output_type": "error",
     "traceback": [
      "\u001b[0;31m---------------------------------------------------------------------------\u001b[0m",
      "\u001b[0;31mZeroDivisionError\u001b[0m                         Traceback (most recent call last)",
      "\u001b[0;32m/var/folders/hj/qdbqn7m16y9ckhnv98yqqmk40000gn/T/ipykernel_1056/576150659.py\u001b[0m in \u001b[0;36m<module>\u001b[0;34m\u001b[0m\n\u001b[1;32m      1\u001b[0m \u001b[0;31m# 1. zero division error\u001b[0m\u001b[0;34m\u001b[0m\u001b[0;34m\u001b[0m\u001b[0m\n\u001b[1;32m      2\u001b[0m \u001b[0;34m\u001b[0m\u001b[0m\n\u001b[0;32m----> 3\u001b[0;31m \u001b[0;36m1\u001b[0m \u001b[0;34m/\u001b[0m \u001b[0;36m0\u001b[0m\u001b[0;34m\u001b[0m\u001b[0;34m\u001b[0m\u001b[0m\n\u001b[0m",
      "\u001b[0;31mZeroDivisionError\u001b[0m: division by zero"
     ]
    }
   ],
   "source": [
    "# 1. zero division error\n",
    "\n",
    "1 / 0 "
   ]
  },
  {
   "cell_type": "code",
   "execution_count": 47,
   "id": "05ef5cd4-9d18-403b-84a7-4c3c1b070d4f",
   "metadata": {},
   "outputs": [
    {
     "ename": "ValueError",
     "evalue": "invalid literal for int() with base 10: 'eng'",
     "output_type": "error",
     "traceback": [
      "\u001b[0;31m---------------------------------------------------------------------------\u001b[0m",
      "\u001b[0;31mValueError\u001b[0m                                Traceback (most recent call last)",
      "\u001b[0;32m/var/folders/hj/qdbqn7m16y9ckhnv98yqqmk40000gn/T/ipykernel_1056/3942242911.py\u001b[0m in \u001b[0;36m<module>\u001b[0;34m\u001b[0m\n\u001b[1;32m      1\u001b[0m \u001b[0;31m# 2. value error\u001b[0m\u001b[0;34m\u001b[0m\u001b[0;34m\u001b[0m\u001b[0m\n\u001b[1;32m      2\u001b[0m \u001b[0;34m\u001b[0m\u001b[0m\n\u001b[0;32m----> 3\u001b[0;31m \u001b[0mint\u001b[0m\u001b[0;34m(\u001b[0m\u001b[0;34m'eng'\u001b[0m\u001b[0;34m)\u001b[0m\u001b[0;34m\u001b[0m\u001b[0;34m\u001b[0m\u001b[0m\n\u001b[0m",
      "\u001b[0;31mValueError\u001b[0m: invalid literal for int() with base 10: 'eng'"
     ]
    }
   ],
   "source": [
    "# 2. value error\n",
    "\n",
    "int('eng')"
   ]
  },
  {
   "cell_type": "code",
   "execution_count": 48,
   "id": "b9777f12-0203-4890-aead-229ee69c86c2",
   "metadata": {},
   "outputs": [
    {
     "ename": "NameError",
     "evalue": "name 'eng' is not defined",
     "output_type": "error",
     "traceback": [
      "\u001b[0;31m---------------------------------------------------------------------------\u001b[0m",
      "\u001b[0;31mNameError\u001b[0m                                 Traceback (most recent call last)",
      "\u001b[0;32m/var/folders/hj/qdbqn7m16y9ckhnv98yqqmk40000gn/T/ipykernel_1056/2752881750.py\u001b[0m in \u001b[0;36m<module>\u001b[0;34m\u001b[0m\n\u001b[1;32m      1\u001b[0m \u001b[0;31m# 3. name error\u001b[0m\u001b[0;34m\u001b[0m\u001b[0;34m\u001b[0m\u001b[0m\n\u001b[1;32m      2\u001b[0m \u001b[0;34m\u001b[0m\u001b[0m\n\u001b[0;32m----> 3\u001b[0;31m \u001b[0meng\u001b[0m \u001b[0;34m+=\u001b[0m \u001b[0;36m1\u001b[0m\u001b[0;34m\u001b[0m\u001b[0;34m\u001b[0m\u001b[0m\n\u001b[0m",
      "\u001b[0;31mNameError\u001b[0m: name 'eng' is not defined"
     ]
    }
   ],
   "source": [
    "# 3. name error\n",
    "\n",
    "eng += 1"
   ]
  },
  {
   "cell_type": "code",
   "execution_count": 49,
   "id": "f00b9a6e-5147-4d07-a391-9fcd00ea0b8d",
   "metadata": {},
   "outputs": [
    {
     "ename": "IndexError",
     "evalue": "string index out of range",
     "output_type": "error",
     "traceback": [
      "\u001b[0;31m---------------------------------------------------------------------------\u001b[0m",
      "\u001b[0;31mIndexError\u001b[0m                                Traceback (most recent call last)",
      "\u001b[0;32m/var/folders/hj/qdbqn7m16y9ckhnv98yqqmk40000gn/T/ipykernel_1056/4270844309.py\u001b[0m in \u001b[0;36m<module>\u001b[0;34m\u001b[0m\n\u001b[1;32m      1\u001b[0m \u001b[0;31m# 4. index error\u001b[0m\u001b[0;34m\u001b[0m\u001b[0;34m\u001b[0m\u001b[0m\n\u001b[1;32m      2\u001b[0m \u001b[0;34m\u001b[0m\u001b[0m\n\u001b[0;32m----> 3\u001b[0;31m \u001b[0;34m'eng'\u001b[0m\u001b[0;34m[\u001b[0m\u001b[0;36m10\u001b[0m\u001b[0;34m]\u001b[0m\u001b[0;34m\u001b[0m\u001b[0;34m\u001b[0m\u001b[0m\n\u001b[0m",
      "\u001b[0;31mIndexError\u001b[0m: string index out of range"
     ]
    }
   ],
   "source": [
    "# 4. index error\n",
    "\n",
    "'eng'[10]"
   ]
  },
  {
   "cell_type": "code",
   "execution_count": 52,
   "id": "290174e4-2fc3-42de-b5aa-e89cf8d14929",
   "metadata": {},
   "outputs": [
    {
     "name": "stdout",
     "output_type": "stream",
     "text": [
      "0으로 나눌 수 없습니다.\n"
     ]
    }
   ],
   "source": [
    "try:\n",
    "    # <에러 발생될 법한 코드 블럭>\n",
    "    1 / 0\n",
    "except ZeroDivisionError: # <에러 타입>\n",
    "    # <처리할 방법>\n",
    "    print('0으로 나눌 수 없습니다.')"
   ]
  },
  {
   "cell_type": "code",
   "execution_count": 53,
   "id": "230f0b7d-f45d-43b8-88d5-3e3ea79b6880",
   "metadata": {},
   "outputs": [
    {
     "name": "stdout",
     "output_type": "stream",
     "text": [
      "error\n"
     ]
    }
   ],
   "source": [
    "# 바로 error만 프린트하고 끝남\n",
    "# exception을 잡는 위치가 중요\n",
    "\n",
    "try:\n",
    "    for i in range(10):\n",
    "        print(10 / i)\n",
    "except ZeroDivisionError:\n",
    "    print('error')"
   ]
  },
  {
   "cell_type": "code",
   "execution_count": 54,
   "id": "e57425f0-6d87-403d-9975-e7cde7ffb609",
   "metadata": {},
   "outputs": [
    {
     "name": "stdout",
     "output_type": "stream",
     "text": [
      "error\n",
      "10.0\n",
      "5.0\n",
      "3.3333333333333335\n",
      "2.5\n",
      "2.0\n",
      "1.6666666666666667\n",
      "1.4285714285714286\n",
      "1.25\n",
      "1.1111111111111112\n"
     ]
    }
   ],
   "source": [
    "# 이렇게 수정하면, 0일 때 빼고는 돌아감\n",
    "\n",
    "for i in range(10):\n",
    "    try:\n",
    "        print(10 / i)\n",
    "    except ZeroDivisionError:\n",
    "        print('error')"
   ]
  },
  {
   "cell_type": "code",
   "execution_count": 55,
   "id": "917e8ab5-3f64-4919-8607-0afeb56e70f6",
   "metadata": {},
   "outputs": [
    {
     "name": "stdin",
     "output_type": "stream",
     "text": [
      "인덱스를 입력하세요. q)종료 >>>  100\n"
     ]
    },
    {
     "name": "stdout",
     "output_type": "stream",
     "text": [
      "index error\n",
      "string index out of range\n"
     ]
    },
    {
     "name": "stdin",
     "output_type": "stream",
     "text": [
      "인덱스를 입력하세요. q)종료 >>>  하하\n"
     ]
    },
    {
     "name": "stdout",
     "output_type": "stream",
     "text": [
      "type error\n",
      "invalid literal for int() with base 10: '하하'\n"
     ]
    },
    {
     "name": "stdin",
     "output_type": "stream",
     "text": [
      "인덱스를 입력하세요. q)종료 >>>  ㅇ\n"
     ]
    },
    {
     "name": "stdout",
     "output_type": "stream",
     "text": [
      "type error\n",
      "invalid literal for int() with base 10: 'ㅇ'\n"
     ]
    },
    {
     "name": "stdin",
     "output_type": "stream",
     "text": [
      "인덱스를 입력하세요. q)종료 >>>  q\n"
     ]
    }
   ],
   "source": [
    "# input 받을 때, error 잡기\n",
    "\n",
    "word = 'hello gahyun'\n",
    "while True:\n",
    "    index = input('인덱스를 입력하세요. q)종료 >>> ')\n",
    "    if index == 'q':\n",
    "        break\n",
    "        \n",
    "    try:\n",
    "        print(word[int(index)])\n",
    "    except IndexError as e1:\n",
    "        print('index error')\n",
    "        print(e1)\n",
    "    except ValueError as e2:\n",
    "        print('type error')\n",
    "        print(e2)"
   ]
  },
  {
   "cell_type": "markdown",
   "id": "13957d17-46da-48f5-a962-6fa7103a5cfe",
   "metadata": {},
   "source": [
    "## 2. 예외 발생시키기\n",
    "- 프로그램 강제 종료하고자 할 때 사용"
   ]
  },
  {
   "cell_type": "code",
   "execution_count": 59,
   "id": "f9bff6df-8768-40eb-a8d8-06faccb558fd",
   "metadata": {},
   "outputs": [],
   "source": [
    "# raise\n",
    "# raise ValueError('print ..')"
   ]
  },
  {
   "cell_type": "code",
   "execution_count": 57,
   "id": "99571e71-6ad0-452b-89dc-37ff24d67dbd",
   "metadata": {},
   "outputs": [
    {
     "name": "stdin",
     "output_type": "stream",
     "text": [
      "number >>  nononononono\n"
     ]
    },
    {
     "ename": "ValueError",
     "evalue": "숫자가 아닙니다",
     "output_type": "error",
     "traceback": [
      "\u001b[0;31m---------------------------------------------------------------------------\u001b[0m",
      "\u001b[0;31mValueError\u001b[0m                                Traceback (most recent call last)",
      "\u001b[0;32m/var/folders/hj/qdbqn7m16y9ckhnv98yqqmk40000gn/T/ipykernel_1056/2949120560.py\u001b[0m in \u001b[0;36m<module>\u001b[0;34m\u001b[0m\n\u001b[1;32m      3\u001b[0m     \u001b[0;31m# 숫자가 아니면 error를 발생시키겠다\u001b[0m\u001b[0;34m\u001b[0m\u001b[0;34m\u001b[0m\u001b[0m\n\u001b[1;32m      4\u001b[0m     \u001b[0;32mif\u001b[0m \u001b[0;32mnot\u001b[0m \u001b[0mnum\u001b[0m\u001b[0;34m.\u001b[0m\u001b[0misdigit\u001b[0m\u001b[0;34m(\u001b[0m\u001b[0;34m)\u001b[0m\u001b[0;34m:\u001b[0m\u001b[0;34m\u001b[0m\u001b[0;34m\u001b[0m\u001b[0m\n\u001b[0;32m----> 5\u001b[0;31m         \u001b[0;32mraise\u001b[0m \u001b[0mValueError\u001b[0m\u001b[0;34m(\u001b[0m\u001b[0;34m'숫자가 아닙니다'\u001b[0m\u001b[0;34m)\u001b[0m\u001b[0;34m\u001b[0m\u001b[0;34m\u001b[0m\u001b[0m\n\u001b[0m\u001b[1;32m      6\u001b[0m     \u001b[0;32melse\u001b[0m\u001b[0;34m:\u001b[0m\u001b[0;34m\u001b[0m\u001b[0;34m\u001b[0m\u001b[0m\n\u001b[1;32m      7\u001b[0m         \u001b[0mprint\u001b[0m\u001b[0;34m(\u001b[0m\u001b[0mnum\u001b[0m\u001b[0;34m)\u001b[0m\u001b[0;34m\u001b[0m\u001b[0;34m\u001b[0m\u001b[0m\n",
      "\u001b[0;31mValueError\u001b[0m: 숫자가 아닙니다"
     ]
    }
   ],
   "source": [
    "while True:\n",
    "    num = input('number >> ')\n",
    "    # 숫자가 아니면 error를 발생시키겠다\n",
    "    if not num.isdigit():\n",
    "        raise ValueError('숫자가 아닙니다')\n",
    "    else:\n",
    "        print(num)\n",
    "        break"
   ]
  },
  {
   "cell_type": "code",
   "execution_count": 58,
   "id": "c9b1f461-202b-4a76-817a-9df1ffafca72",
   "metadata": {},
   "outputs": [],
   "source": [
    "# assert\n",
    "# assert <참인 조건>, '예외 메시지' # AssertionError"
   ]
  },
  {
   "cell_type": "code",
   "execution_count": 60,
   "id": "5bc4fefb-5808-4280-952f-7745526229d9",
   "metadata": {},
   "outputs": [
    {
     "ename": "AssertionError",
     "evalue": "정수가 아닙니다.",
     "output_type": "error",
     "traceback": [
      "\u001b[0;31m---------------------------------------------------------------------------\u001b[0m",
      "\u001b[0;31mAssertionError\u001b[0m                            Traceback (most recent call last)",
      "\u001b[0;32m/var/folders/hj/qdbqn7m16y9ckhnv98yqqmk40000gn/T/ipykernel_1056/1146261743.py\u001b[0m in \u001b[0;36m<module>\u001b[0;34m\u001b[0m\n\u001b[1;32m      4\u001b[0m     \u001b[0;32mreturn\u001b[0m \u001b[0mbin\u001b[0m\u001b[0;34m(\u001b[0m\u001b[0mnum\u001b[0m\u001b[0;34m)\u001b[0m\u001b[0;34m\u001b[0m\u001b[0;34m\u001b[0m\u001b[0m\n\u001b[1;32m      5\u001b[0m \u001b[0;34m\u001b[0m\u001b[0m\n\u001b[0;32m----> 6\u001b[0;31m \u001b[0mget_binary\u001b[0m\u001b[0;34m(\u001b[0m\u001b[0;34m'hello'\u001b[0m\u001b[0;34m)\u001b[0m\u001b[0;34m\u001b[0m\u001b[0;34m\u001b[0m\u001b[0m\n\u001b[0m",
      "\u001b[0;32m/var/folders/hj/qdbqn7m16y9ckhnv98yqqmk40000gn/T/ipykernel_1056/1146261743.py\u001b[0m in \u001b[0;36mget_binary\u001b[0;34m(num)\u001b[0m\n\u001b[1;32m      1\u001b[0m \u001b[0;32mdef\u001b[0m \u001b[0mget_binary\u001b[0m\u001b[0;34m(\u001b[0m\u001b[0mnum\u001b[0m\u001b[0;34m)\u001b[0m\u001b[0;34m:\u001b[0m\u001b[0;34m\u001b[0m\u001b[0;34m\u001b[0m\u001b[0m\n\u001b[1;32m      2\u001b[0m     \u001b[0;31m# 어디에서 에러가 뜨는지 확인할 수 있음, *체크의 기능*\u001b[0m\u001b[0;34m\u001b[0m\u001b[0;34m\u001b[0m\u001b[0m\n\u001b[0;32m----> 3\u001b[0;31m     \u001b[0;32massert\u001b[0m \u001b[0misinstance\u001b[0m\u001b[0;34m(\u001b[0m\u001b[0mnum\u001b[0m\u001b[0;34m,\u001b[0m \u001b[0mint\u001b[0m\u001b[0;34m)\u001b[0m\u001b[0;34m,\u001b[0m \u001b[0;34m'정수가 아닙니다.'\u001b[0m\u001b[0;34m\u001b[0m\u001b[0;34m\u001b[0m\u001b[0m\n\u001b[0m\u001b[1;32m      4\u001b[0m     \u001b[0;32mreturn\u001b[0m \u001b[0mbin\u001b[0m\u001b[0;34m(\u001b[0m\u001b[0mnum\u001b[0m\u001b[0;34m)\u001b[0m\u001b[0;34m\u001b[0m\u001b[0;34m\u001b[0m\u001b[0m\n\u001b[1;32m      5\u001b[0m \u001b[0;34m\u001b[0m\u001b[0m\n",
      "\u001b[0;31mAssertionError\u001b[0m: 정수가 아닙니다."
     ]
    }
   ],
   "source": [
    "def get_binary(num):\n",
    "    # 어디에서 에러가 뜨는지 확인할 수 있음, *체크의 기능*\n",
    "    assert isinstance(num, int), '정수가 아닙니다.'\n",
    "    return bin(num)\n",
    "\n",
    "get_binary('hello')"
   ]
  },
  {
   "cell_type": "markdown",
   "id": "f050716e-03fe-44e4-a3dc-25bf237500b7",
   "metadata": {},
   "source": [
    "## 예외 정의하기\n",
    "- 사용자 정의 예외\n",
    "- Exception이라는 부모 클래스를 상속받아야 함"
   ]
  },
  {
   "cell_type": "code",
   "execution_count": 61,
   "id": "e1716919-f165-404c-833b-0d8de1ae6889",
   "metadata": {},
   "outputs": [],
   "source": [
    "# 내용은 안 써도 되는데, 꼭 Exception 클래스를 상속받아야 함\n",
    "\n",
    "class MyException(Exception):\n",
    "    pass"
   ]
  },
  {
   "cell_type": "code",
   "execution_count": 63,
   "id": "97cc8f6c-bd5e-45d0-9eff-f9bf62d6357d",
   "metadata": {},
   "outputs": [
    {
     "name": "stdout",
     "output_type": "stream",
     "text": [
      "A\n",
      "B\n"
     ]
    },
    {
     "ename": "MyException",
     "evalue": "소문자 안 됨!",
     "output_type": "error",
     "traceback": [
      "\u001b[0;31m---------------------------------------------------------------------------\u001b[0m",
      "\u001b[0;31mMyException\u001b[0m                               Traceback (most recent call last)",
      "\u001b[0;32m/var/folders/hj/qdbqn7m16y9ckhnv98yqqmk40000gn/T/ipykernel_1056/1036222911.py\u001b[0m in \u001b[0;36m<module>\u001b[0;34m\u001b[0m\n\u001b[1;32m      3\u001b[0m \u001b[0;32mfor\u001b[0m \u001b[0mword\u001b[0m \u001b[0;32min\u001b[0m \u001b[0;34m[\u001b[0m\u001b[0;34m'A'\u001b[0m\u001b[0;34m,\u001b[0m \u001b[0;34m'B'\u001b[0m\u001b[0;34m,\u001b[0m \u001b[0;34m'c'\u001b[0m\u001b[0;34m,\u001b[0m \u001b[0;34m'D'\u001b[0m\u001b[0;34m]\u001b[0m\u001b[0;34m:\u001b[0m\u001b[0;34m\u001b[0m\u001b[0;34m\u001b[0m\u001b[0m\n\u001b[1;32m      4\u001b[0m     \u001b[0;32mif\u001b[0m \u001b[0mword\u001b[0m\u001b[0;34m.\u001b[0m\u001b[0mislower\u001b[0m\u001b[0;34m(\u001b[0m\u001b[0;34m)\u001b[0m\u001b[0;34m:\u001b[0m\u001b[0;34m\u001b[0m\u001b[0;34m\u001b[0m\u001b[0m\n\u001b[0;32m----> 5\u001b[0;31m         \u001b[0;32mraise\u001b[0m \u001b[0mMyException\u001b[0m\u001b[0;34m(\u001b[0m\u001b[0;34m'소문자 안 됨!'\u001b[0m\u001b[0;34m)\u001b[0m\u001b[0;34m\u001b[0m\u001b[0;34m\u001b[0m\u001b[0m\n\u001b[0m\u001b[1;32m      6\u001b[0m     \u001b[0;32melse\u001b[0m\u001b[0;34m:\u001b[0m\u001b[0;34m\u001b[0m\u001b[0;34m\u001b[0m\u001b[0m\n\u001b[1;32m      7\u001b[0m         \u001b[0mprint\u001b[0m\u001b[0;34m(\u001b[0m\u001b[0mword\u001b[0m\u001b[0;34m)\u001b[0m\u001b[0;34m\u001b[0m\u001b[0;34m\u001b[0m\u001b[0m\n",
      "\u001b[0;31mMyException\u001b[0m: 소문자 안 됨!"
     ]
    }
   ],
   "source": [
    "# 방법 1.\n",
    "\n",
    "for word in ['A', 'B', 'c', 'D']:\n",
    "    if word.islower():\n",
    "        raise MyException('소문자 안 됨!')\n",
    "    else:\n",
    "        print(word)"
   ]
  },
  {
   "cell_type": "code",
   "execution_count": 64,
   "id": "3a6dca3f-da02-45fd-ba90-8de1c5487fb7",
   "metadata": {},
   "outputs": [
    {
     "name": "stdout",
     "output_type": "stream",
     "text": [
      "A\n",
      "B\n"
     ]
    },
    {
     "ename": "NameError",
     "evalue": "name 'LowercaseMyException' is not defined",
     "output_type": "error",
     "traceback": [
      "\u001b[0;31m---------------------------------------------------------------------------\u001b[0m",
      "\u001b[0;31mNameError\u001b[0m                                 Traceback (most recent call last)",
      "\u001b[0;32m/var/folders/hj/qdbqn7m16y9ckhnv98yqqmk40000gn/T/ipykernel_1056/1906982546.py\u001b[0m in \u001b[0;36m<module>\u001b[0;34m\u001b[0m\n\u001b[1;32m      7\u001b[0m \u001b[0;32mfor\u001b[0m \u001b[0mword\u001b[0m \u001b[0;32min\u001b[0m \u001b[0;34m[\u001b[0m\u001b[0;34m'A'\u001b[0m\u001b[0;34m,\u001b[0m \u001b[0;34m'B'\u001b[0m\u001b[0;34m,\u001b[0m \u001b[0;34m'c'\u001b[0m\u001b[0;34m,\u001b[0m \u001b[0;34m'D'\u001b[0m\u001b[0;34m]\u001b[0m\u001b[0;34m:\u001b[0m\u001b[0;34m\u001b[0m\u001b[0;34m\u001b[0m\u001b[0m\n\u001b[1;32m      8\u001b[0m     \u001b[0;32mif\u001b[0m \u001b[0mword\u001b[0m\u001b[0;34m.\u001b[0m\u001b[0mislower\u001b[0m\u001b[0;34m(\u001b[0m\u001b[0;34m)\u001b[0m\u001b[0;34m:\u001b[0m\u001b[0;34m\u001b[0m\u001b[0;34m\u001b[0m\u001b[0m\n\u001b[0;32m----> 9\u001b[0;31m         \u001b[0;32mraise\u001b[0m \u001b[0mLowercaseMyException\u001b[0m\u001b[0;34m\u001b[0m\u001b[0;34m\u001b[0m\u001b[0m\n\u001b[0m\u001b[1;32m     10\u001b[0m     \u001b[0;32melse\u001b[0m\u001b[0;34m:\u001b[0m\u001b[0;34m\u001b[0m\u001b[0;34m\u001b[0m\u001b[0m\n\u001b[1;32m     11\u001b[0m         \u001b[0mprint\u001b[0m\u001b[0;34m(\u001b[0m\u001b[0mword\u001b[0m\u001b[0;34m)\u001b[0m\u001b[0;34m\u001b[0m\u001b[0;34m\u001b[0m\u001b[0m\n",
      "\u001b[0;31mNameError\u001b[0m: name 'LowercaseMyException' is not defined"
     ]
    }
   ],
   "source": [
    "# 방법 2.\n",
    "\n",
    "class LowercaseMyExceptoin(Exception):\n",
    "    def __init__(self):\n",
    "        super().__init__('소문자 안 됨')\n",
    "        \n",
    "for word in ['A', 'B', 'c', 'D']:\n",
    "    if word.islower():\n",
    "        raise LowercaseMyException\n",
    "    else:\n",
    "        print(word)"
   ]
  },
  {
   "cell_type": "code",
   "execution_count": null,
   "id": "1ce87284-6dec-496c-abf9-9634db3bec1e",
   "metadata": {},
   "outputs": [],
   "source": []
  }
 ],
 "metadata": {
  "kernelspec": {
   "display_name": "Python 3 (ipykernel)",
   "language": "python",
   "name": "python3"
  },
  "language_info": {
   "codemirror_mode": {
    "name": "ipython",
    "version": 3
   },
   "file_extension": ".py",
   "mimetype": "text/x-python",
   "name": "python",
   "nbconvert_exporter": "python",
   "pygments_lexer": "ipython3",
   "version": "3.9.7"
  }
 },
 "nbformat": 4,
 "nbformat_minor": 5
}
