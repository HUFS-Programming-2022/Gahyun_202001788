{
 "cells": [
  {
   "cell_type": "markdown",
   "id": "624fc255-e934-46f3-8695-dcb996165e8b",
   "metadata": {},
   "source": [
    "# Week_07(0415) 복습"
   ]
  },
  {
   "cell_type": "markdown",
   "id": "ec97081e-16b1-49dc-a541-c3ff9a59202c",
   "metadata": {},
   "source": [
    "## 함수\n",
    "1. 정의\n",
    "2. 인수\n",
    "3. 호출 방식"
   ]
  },
  {
   "cell_type": "markdown",
   "id": "3168b921-cfda-4368-a844-6b2e199ecffe",
   "metadata": {},
   "source": [
    "### 1. 정의\n",
    "- 코드의 덩어리, 코드의 묶음\n",
    "- 간편한 재사용을 위해, 한 줄로 재사용 가능하다.\n",
    "- 정의(define) 부분 + 호출(call) 부분\n",
    "    - 정의하기\n",
    "    - def 함수이름(매개변수 1, 2, 3, ...):\n",
    "    - 수행문1 (매개변수를 이용)\n",
    "    - 수행문2\n",
    "    - ....\n",
    "    - return 반환값\n",
    "    - 호출하기(인수 1, 2, 3...)\n",
    "    함수이름(인수1, 2, 3, ...)\n",
    "- 2 * 2 = 4\n",
    "    - 1. 둘다 없는\n",
    "    - 2. 둘다 있는\n",
    "    - 3. 매개변수만 있는\n",
    "    - 4. 반환값만 있는"
   ]
  },
  {
   "cell_type": "code",
   "execution_count": 3,
   "id": "e0dc983c-d5b1-4b00-a605-08194935ffa8",
   "metadata": {},
   "outputs": [],
   "source": [
    "# y = x + 1 \n",
    "# x= 매개변수, y=반환값, x+1 수행문\n",
    "\n",
    "def example(x):\n",
    "    y = x + 1\n",
    "    \n",
    "    return y"
   ]
  },
  {
   "cell_type": "code",
   "execution_count": 4,
   "id": "aed759f4-cc51-4056-8125-1ff28dccdc86",
   "metadata": {},
   "outputs": [
    {
     "data": {
      "text/plain": [
       "5"
      ]
     },
     "execution_count": 4,
     "metadata": {},
     "output_type": "execute_result"
    }
   ],
   "source": [
    "example(4)"
   ]
  },
  {
   "cell_type": "code",
   "execution_count": 5,
   "id": "f13b19c7-7942-48f8-8b89-42588dd3ef28",
   "metadata": {},
   "outputs": [
    {
     "name": "stdout",
     "output_type": "stream",
     "text": [
      "quack\n"
     ]
    }
   ],
   "source": [
    "#1. 매개변수, 리턴값 둘 다 없는 경우\n",
    "\n",
    "def make_a_sound():\n",
    "    print('quack')\n",
    "    # return None 이 생략된 것\n",
    "    \n",
    "make_a_sound()"
   ]
  },
  {
   "cell_type": "code",
   "execution_count": 7,
   "id": "b4f47a0e-f320-4918-a592-42e37f717eba",
   "metadata": {},
   "outputs": [],
   "source": [
    "#2. 매개변수, 리턴값 둘 다 있는 경우\n",
    "\n",
    "def example(x):\n",
    "    y = x+1 \n",
    "    \n",
    "    return y \n",
    "\n",
    "# return 괄호 필요 없음, return + 1 처럼 간단하게 할 수 있음, 매개변수 설정할 것"
   ]
  },
  {
   "cell_type": "code",
   "execution_count": 9,
   "id": "81920229-f0b3-468b-9003-3343db38f94e",
   "metadata": {},
   "outputs": [
    {
     "name": "stdout",
     "output_type": "stream",
     "text": [
      "word\n",
      "hallow\n"
     ]
    }
   ],
   "source": [
    "#3. 매개변수만 있는 경우\n",
    "\n",
    "def make_a_sound(sound):\n",
    "    print(sound)\n",
    "    \n",
    "def make_a_sound2(sound): #return값 있도록 만든 경우\n",
    "    return sound\n",
    "\n",
    "word = make_a_sound('word')\n",
    "\n",
    "hallow = 'hallow'\n",
    "make_a_sound('hallow')"
   ]
  },
  {
   "cell_type": "code",
   "execution_count": 10,
   "id": "cbf91296-7534-43aa-a2ac-90bbc9b6988e",
   "metadata": {},
   "outputs": [
    {
     "name": "stdout",
     "output_type": "stream",
     "text": [
      "Splendid\n"
     ]
    }
   ],
   "source": [
    "#4. 반환값만 있는 경우\n",
    "\n",
    "def agree():\n",
    "    return True\n",
    "\n",
    "if agree():\n",
    "    print('Splendid')\n",
    "else:\n",
    "    print('unexpected!')"
   ]
  },
  {
   "cell_type": "markdown",
   "id": "15f3c546-65a8-4eaa-b221-7e94e687c1eb",
   "metadata": {},
   "source": [
    "## 함수 이름 짓기\n",
    "- 소문자만 사용한다\n",
    "    - splitWord(카멜표기법) 보다는 split_word\n",
    "    - 띄어쓰기는 언더바 사용\n",
    "- 동작과 관련되어 있기 때문에 \"동사+명사\"의 형태 주로 씀\n",
    "- i.e., 클래스는 명사\n",
    "- ex: def split_word(): \n",
    "- 줄임말 쓰지 말 것, calc_xxxx (x) \n",
    "    - 명료하게 짓는다\n",
    "      - splt_word 와 같은 줄임말 (x)\n",
    "      - calculate -> calc 이런거는 가능"
   ]
  },
  {
   "cell_type": "markdown",
   "id": "1c45d3b7-0bf4-453e-ad4b-ba6617bb402e",
   "metadata": {},
   "source": [
    "## 2. 인수\n",
    "- 매개변수 vs. 인수\n",
    "    - 매개변수: 함수 내(\"인터페이스\")에서 유효한 변수 \n",
    "    - 인수: 실제 매개변수에 대입되는 변수\n",
    "    - 매개변수는 함수를 빠져나오면 유효하지 않음\n",
    "    - \"호출 시에 인수가 매개변수에 복제된다\" hallow -> sound\n",
    "- 위치 인수\n",
    "    - positional argument\n",
    "    - 매개변수를 값의 순서에 따라 복제함\n",
    "- 키워드 인수\n",
    "    - keyword argument\n",
    "    - 매개변수 키워드에 맞는 인수로 지정, => 위치 달라도 됨\n",
    "- 디폴트 인수\n",
    "    - default argument\n",
    "    - 매개변수를 정의할 때 값을 미리 지정해놓는 것\n",
    "    - 호출 시에 값이 입력되지 않으면 디폴트값을 사용한다. \n",
    "    - 디폴트값이 맨 뒤로 오도록"
   ]
  },
  {
   "cell_type": "code",
   "execution_count": 11,
   "id": "df4bde17-c7c4-4f46-afbb-d87b3017abb8",
   "metadata": {},
   "outputs": [
    {
     "name": "stdout",
     "output_type": "stream",
     "text": [
      "Yah\n"
     ]
    }
   ],
   "source": [
    "def make_a_sound(sound): # sound는 매개변수, Yah는 인수\n",
    "    print(sound)\n",
    "    # return None 이 생략된 것\n",
    "    \n",
    "Yah = 'Yah'\n",
    "make_a_sound(Yah)"
   ]
  },
  {
   "cell_type": "code",
   "execution_count": 12,
   "id": "9127f432-6488-4734-9ef8-66f0bdb942e4",
   "metadata": {},
   "outputs": [
    {
     "ename": "NameError",
     "evalue": "name 'sound' is not defined",
     "output_type": "error",
     "traceback": [
      "\u001b[1;31m---------------------------------------------------------------------------\u001b[0m",
      "\u001b[1;31mNameError\u001b[0m                                 Traceback (most recent call last)",
      "\u001b[1;32m~\\AppData\\Local\\Temp/ipykernel_21908/4282266405.py\u001b[0m in \u001b[0;36m<module>\u001b[1;34m\u001b[0m\n\u001b[1;32m----> 1\u001b[1;33m \u001b[0msound\u001b[0m \u001b[1;31m# 매개변수\u001b[0m\u001b[1;33m\u001b[0m\u001b[1;33m\u001b[0m\u001b[0m\n\u001b[0m",
      "\u001b[1;31mNameError\u001b[0m: name 'sound' is not defined"
     ]
    }
   ],
   "source": [
    "sound # 매개변수"
   ]
  },
  {
   "cell_type": "code",
   "execution_count": 14,
   "id": "a72c4395-6346-4c0b-b996-ff991ee53834",
   "metadata": {},
   "outputs": [
    {
     "data": {
      "text/plain": [
       "'Yah'"
      ]
     },
     "execution_count": 14,
     "metadata": {},
     "output_type": "execute_result"
    }
   ],
   "source": [
    "Yah # 인수"
   ]
  },
  {
   "cell_type": "code",
   "execution_count": 15,
   "id": "8d0ab8aa-581d-4195-893c-10b968e0e2aa",
   "metadata": {},
   "outputs": [
    {
     "data": {
      "text/plain": [
       "'black'"
      ]
     },
     "execution_count": 15,
     "metadata": {},
     "output_type": "execute_result"
    }
   ],
   "source": [
    "def commentary(color):\n",
    "    if color == 'g':\n",
    "        return 'green'\n",
    "    else:\n",
    "        return 'black'\n",
    "# 함수 안 if문 가능함, 들여쓰기 주의하기\n",
    "color = 'white'\n",
    "commentary(color)"
   ]
  },
  {
   "cell_type": "code",
   "execution_count": 16,
   "id": "7317d347-00c2-4d15-8983-d645ad3adcae",
   "metadata": {},
   "outputs": [
    {
     "name": "stdout",
     "output_type": "stream",
     "text": [
      "green\n",
      "black\n",
      "black\n"
     ]
    }
   ],
   "source": [
    "colors = ['g', 'b', 't']\n",
    "\n",
    "for color in colors:\n",
    "    print(commentary(color))"
   ]
  },
  {
   "cell_type": "code",
   "execution_count": 17,
   "id": "a264fd80-ba73-4e61-8916-e80276bd67de",
   "metadata": {},
   "outputs": [
    {
     "data": {
      "text/plain": [
       "{'wine': 'a', 'entree': 'b', 'dessert': 'c'}"
      ]
     },
     "execution_count": 17,
     "metadata": {},
     "output_type": "execute_result"
    }
   ],
   "source": [
    "# 위치 인수, 순서에 맞게 들어감\n",
    "\n",
    "def menu(wine, entree, dessert):\n",
    "    return {'wine':wine, 'entree':entree, 'dessert':dessert}\n",
    "\n",
    "menu('a', 'b', 'c')"
   ]
  },
  {
   "cell_type": "code",
   "execution_count": 18,
   "id": "fdf53001-809f-411d-9fee-62715c665216",
   "metadata": {},
   "outputs": [
    {
     "data": {
      "text/plain": [
       "{'wine': 'c', 'entree': 'a', 'dessert': 'b'}"
      ]
     },
     "execution_count": 18,
     "metadata": {},
     "output_type": "execute_result"
    }
   ],
   "source": [
    "# 키워드 인수, 섞어도 됨\n",
    "\n",
    "menu(entree='a', dessert='b', wine='c')"
   ]
  },
  {
   "cell_type": "code",
   "execution_count": 19,
   "id": "1a2bfffa-33d4-457d-82ee-1f4ec76a22e9",
   "metadata": {},
   "outputs": [
    {
     "data": {
      "text/plain": [
       "{'wine': 'rioja', 'entree': 'egg', 'dessert': 'strawberry'}"
      ]
     },
     "execution_count": 19,
     "metadata": {},
     "output_type": "execute_result"
    }
   ],
   "source": [
    "# 디폴트 인수, 값이 정해진 것이 뒤로 가야함\n",
    "\n",
    "def menu2(wine, entree, dessert = 'strawberry'):\n",
    "    return {'wine':wine, 'entree':entree, 'dessert':dessert}\n",
    "\n",
    "menu2('rioja', 'egg')"
   ]
  },
  {
   "cell_type": "code",
   "execution_count": 20,
   "id": "d4bae54a-a84c-4266-aba0-8088ef047f0d",
   "metadata": {},
   "outputs": [
    {
     "data": {
      "text/plain": [
       "{'wine': 'rioja', 'entree': 'egg', 'dessert': 'kiwi'}"
      ]
     },
     "execution_count": 20,
     "metadata": {},
     "output_type": "execute_result"
    }
   ],
   "source": [
    "menu2('rioja', 'egg', 'kiwi')"
   ]
  },
  {
   "cell_type": "markdown",
   "id": "df47c120-08d8-4dda-9c8d-826b164b82d3",
   "metadata": {},
   "source": [
    "## 3. 호출 방식\n",
    "- 정의 부분은 호출 시 실행된다.\n",
    "- 메모리에 저장되어 있다가 호출 시에 사용됨\n",
    "- 매개변수 vs. 인수\n",
    "    - 참조에 의한 호출(call by reference)\n",
    "    - \"매개변수 = 인수\" copy되기 때문에 나타나는 문제점\n",
    "        - 리스트처럼 가변 객체일 때 주소값을 공유하므로 값이 변함."
   ]
  },
  {
   "cell_type": "code",
   "execution_count": 21,
   "id": "b4fda73a-c139-41be-9399-91d5888885f4",
   "metadata": {},
   "outputs": [
    {
     "name": "stdout",
     "output_type": "stream",
     "text": [
      "2\n",
      "3\n",
      "1\n",
      "4\n"
     ]
    }
   ],
   "source": [
    "def multiply(x, y):\n",
    "    print('1')\n",
    "    return x + y\n",
    "\n",
    "print('2')\n",
    "i = 2\n",
    "j = 4\n",
    "\n",
    "print('3')\n",
    "multiply(i, j) #### i=2, j=4 -> x=i, y=j -> copy\n",
    "\n",
    "print('4')"
   ]
  },
  {
   "cell_type": "code",
   "execution_count": 22,
   "id": "556d4303-8e34-4ff7-8ba2-7d994ce3131a",
   "metadata": {},
   "outputs": [
    {
     "name": "stdout",
     "output_type": "stream",
     "text": [
      "['a']\n",
      "['a', 'b']\n"
     ]
    }
   ],
   "source": [
    "def buggy(arg, result=[]):\n",
    "    result.append(arg)\n",
    "    print(result)\n",
    "    \n",
    "a, b = 'a', 'b'\n",
    "buggy(a) # ['a'] \n",
    "buggy(b) # ['b'] 를 예상했으나 ['a', 'b']가 들어감"
   ]
  },
  {
   "cell_type": "code",
   "execution_count": 23,
   "id": "4aa47340-44fd-4dcf-8b28-691395d413b0",
   "metadata": {},
   "outputs": [
    {
     "name": "stdout",
     "output_type": "stream",
     "text": [
      "['a']\n",
      "['b']\n"
     ]
    }
   ],
   "source": [
    "def buggy(arg, result=[]):\n",
    "    result = [] # 빈 객체 설정해서 계속 쌓이지 않도록 리셋시키기 \n",
    "    result.append(arg)\n",
    "    print(result)\n",
    "    \n",
    "a, b = 'a', 'b'\n",
    "buggy(a) # ['a']\n",
    "buggy(b) # ['b']"
   ]
  },
  {
   "cell_type": "code",
   "execution_count": 24,
   "id": "dd13ecbd-ea63-4419-a1cf-1864897b1fd9",
   "metadata": {},
   "outputs": [
    {
     "name": "stdout",
     "output_type": "stream",
     "text": [
      "['c', 'a']\n",
      "['c', 'a', 'b']\n"
     ]
    }
   ],
   "source": [
    "# 둘다 조건식으로 포함하는 함수로 변경하기\n",
    "    \n",
    "# \"없는 값, 아무것도 없다\" => None\n",
    "    \n",
    "def buggy(arg, result=[]): # 리스트 없으면 빈 리스트 생성하고, 있으면 쓰기\n",
    "    if result is None: # == 는 값만 비교, is는 주소도 비교\n",
    "        result = []\n",
    "    result.append(arg)\n",
    "    print(result)\n",
    "    \n",
    "empty = ['c']\n",
    "buggy(a, empty)\n",
    "buggy(b, empty)"
   ]
  },
  {
   "cell_type": "code",
   "execution_count": 25,
   "id": "997a2242-d13d-465f-ad08-5828e1734d74",
   "metadata": {},
   "outputs": [
    {
     "name": "stdout",
     "output_type": "stream",
     "text": [
      "None\n"
     ]
    }
   ],
   "source": [
    "thing = None\n",
    "\n",
    "if thing: # True\n",
    "    print('True')\n",
    "elif thing == False: # False\n",
    "    print('False')\n",
    "else:\n",
    "    print('None')"
   ]
  },
  {
   "cell_type": "code",
   "execution_count": 26,
   "id": "83849fd9-76c0-4cd7-b81d-2993037d556f",
   "metadata": {},
   "outputs": [],
   "source": [
    "thing = None\n",
    "\n",
    "def buggy(arg, result=[]):\n",
    "    if arg == thing:\n",
    "        new_list = []\n",
    "        new_list.append(arg)\n",
    "    else:\n",
    "        result.append(arg)\n",
    "        \n",
    "        \n",
    "# 이러면 thing 이 밖에 있어서 안됨"
   ]
  },
  {
   "cell_type": "code",
   "execution_count": 28,
   "id": "c7d91157-fc64-40da-b426-8dde213b364c",
   "metadata": {},
   "outputs": [
    {
     "name": "stdout",
     "output_type": "stream",
     "text": [
      "london\n",
      "paris\n"
     ]
    }
   ],
   "source": [
    "def fx():\n",
    "    city = 'london' # 함수 내부에서만 유효한 지역변수\n",
    "    print(city)\n",
    "    \n",
    "city = 'paris'\n",
    "fx()\n",
    "print(city)"
   ]
  },
  {
   "cell_type": "code",
   "execution_count": 31,
   "id": "6f14f850-5fd2-4c0e-b0fb-02d4de5be26d",
   "metadata": {},
   "outputs": [
    {
     "name": "stdout",
     "output_type": "stream",
     "text": [
      "london\n",
      "london\n"
     ]
    }
   ],
   "source": [
    "def fx():\n",
    "    global city # 함수 밖에서도 쓰겠다 (전역변수)\n",
    "    city = 'london'\n",
    "    print(city)\n",
    "    \n",
    "city = 'paris'\n",
    "fx()\n",
    "print(city) # 함수 내에서 변수값이 바뀌어서 london이 됨"
   ]
  },
  {
   "cell_type": "code",
   "execution_count": 32,
   "id": "2426229f-f0a4-40b3-a002-c195c08e35d0",
   "metadata": {},
   "outputs": [
    {
     "data": {
      "text/plain": [
       "'seoul'"
      ]
     },
     "execution_count": 32,
     "metadata": {},
     "output_type": "execute_result"
    }
   ],
   "source": [
    "city = 'seoul' # 다시 변수값 바꾸기\n",
    "city"
   ]
  },
  {
   "cell_type": "code",
   "execution_count": 33,
   "id": "9276b889-daf8-4e7d-a9c6-1dc2b56e1662",
   "metadata": {},
   "outputs": [],
   "source": [
    "# 함수를 return값 없이 print로만 써도 되나? (O)\n",
    "# return이 없으면 return None이 생략된 것\n",
    "# return 값이 있고, 없고의 차이가 무엇인가? => 어떤 값이 반환된다는 것은 변수로 받을 수 있다는 뜻\n",
    "# word = make_a_sound2('word') 이런식으로 변수에 받아서 사용 가능\n",
    "# print는 그냥 출력만"
   ]
  },
  {
   "cell_type": "markdown",
   "id": "72d8941c-665e-4277-86be-1961e026847b",
   "metadata": {},
   "source": [
    "## doc string\n",
    "- 함수 설명\n",
    "- 매개변수 타입, 의미, 함수의 역할이 무엇인지(기능)\n",
    "- \"\"\"\n",
    "- 독스트링\n",
    "- \"\"\""
   ]
  },
  {
   "cell_type": "code",
   "execution_count": 39,
   "id": "29ee6343-da5c-4d97-b442-d606c501a2d2",
   "metadata": {},
   "outputs": [],
   "source": [
    "def buggy(arg, result=[]):\n",
    "    \"\"\"\n",
    "    arg: str, 꽃 이름\n",
    "    result: list, xxxxx\n",
    "    꽃 이름을 리스트에 추가한다.\n",
    "    \"\"\"\n",
    "    if result is None:\n",
    "        result = []\n",
    "    result.append(arg)\n",
    "    print(result)"
   ]
  },
  {
   "cell_type": "code",
   "execution_count": 40,
   "id": "191675ea-8e37-4b1e-9db0-58cc6af42515",
   "metadata": {},
   "outputs": [
    {
     "name": "stdout",
     "output_type": "stream",
     "text": [
      "['rose']\n"
     ]
    }
   ],
   "source": [
    "buggy(\"rose\")"
   ]
  },
  {
   "cell_type": "code",
   "execution_count": 41,
   "id": "f6f517ef-3d19-4b2b-900e-261b4f39ffff",
   "metadata": {},
   "outputs": [
    {
     "name": "stdout",
     "output_type": "stream",
     "text": [
      "Help on function buggy in module __main__:\n",
      "\n",
      "buggy(arg, result=['rose'])\n",
      "    arg: str, 꽃 이름\n",
      "    result: list, xxxxx\n",
      "    꽃 이름을 리스트에 추가한다.\n",
      "\n"
     ]
    }
   ],
   "source": [
    "help(buggy) #독스트링 확인 방법"
   ]
  },
  {
   "cell_type": "code",
   "execution_count": 42,
   "id": "cfe8ce4a-9fdd-4a99-aed8-c9c87f7e2bf0",
   "metadata": {},
   "outputs": [
    {
     "data": {
      "text/plain": [
       "'\\n    arg: str, 꽃 이름\\n    result: list, xxxxx\\n    꽃 이름을 리스트에 추가한다.\\n    '"
      ]
     },
     "execution_count": 42,
     "metadata": {},
     "output_type": "execute_result"
    }
   ],
   "source": [
    "buggy.__doc__ #독스트링 확인법 2"
   ]
  },
  {
   "cell_type": "code",
   "execution_count": 43,
   "id": "0a522572-45a2-46e2-8de1-07bc11134d90",
   "metadata": {},
   "outputs": [],
   "source": [
    "# 문제\n",
    "# 나이 => 연도 로 바꾸는 함수 만들기\n",
    "# 입력값은 나이, 반환값은 연도\n",
    "# 호출 시 나이는 input으로 받기\n",
    "# 변수명 신경쓸 것\n",
    "\n",
    "def age_to_year():\n",
    "    age = int(input(\"나이를 입력하세요: \"))\n",
    "    year = 2022 - age + 1 \n",
    "    \n",
    "    return year"
   ]
  },
  {
   "cell_type": "code",
   "execution_count": 45,
   "id": "61343dbf-0e54-42a0-84eb-e0accfa1c855",
   "metadata": {},
   "outputs": [
    {
     "name": "stdin",
     "output_type": "stream",
     "text": [
      "나이를 입력하세요:  22\n"
     ]
    },
    {
     "data": {
      "text/plain": [
       "2001"
      ]
     },
     "execution_count": 45,
     "metadata": {},
     "output_type": "execute_result"
    }
   ],
   "source": [
    "age_to_year()"
   ]
  },
  {
   "cell_type": "code",
   "execution_count": 46,
   "id": "a2e4836a-3595-43bd-a9c0-596f061a3f8d",
   "metadata": {},
   "outputs": [
    {
     "name": "stdin",
     "output_type": "stream",
     "text": [
      "나이를 입력하세요:  22\n"
     ]
    },
    {
     "data": {
      "text/plain": [
       "2001"
      ]
     },
     "execution_count": 46,
     "metadata": {},
     "output_type": "execute_result"
    }
   ],
   "source": [
    "def age_to_year(age):\n",
    "    year = 2022 - age + 1 \n",
    "    \n",
    "    return year\n",
    "\n",
    "age = int(input(\"나이를 입력하세요: \"))\n",
    "age_to_year(age)"
   ]
  },
  {
   "cell_type": "markdown",
   "id": "2b0db00e-83fa-4cc2-bc53-12f4d3e18318",
   "metadata": {},
   "source": [
    "## 브라운 정제하기\n",
    "- 1. 문장 분절\n",
    "- 2. 단어 분절\n",
    "    - A. 문장부호 제거\n",
    "    - B. 하이픈, 's, 'nt, 'd, ....\n",
    "- 3. 중간고사에서는 위의 것을 함수로 만들어라"
   ]
  },
  {
   "cell_type": "code",
   "execution_count": 47,
   "id": "9f366a43-5e2f-4562-8b4d-38f88b65332d",
   "metadata": {},
   "outputs": [
    {
     "name": "stderr",
     "output_type": "stream",
     "text": [
      "[nltk_data] Downloading package brown to\n",
      "[nltk_data]     C:\\Users\\user\\AppData\\Roaming\\nltk_data...\n",
      "[nltk_data]   Package brown is already up-to-date!\n"
     ]
    }
   ],
   "source": [
    "import string # punct\n",
    "import nltk\n",
    "\n",
    "nltk.download('brown')\n",
    "brown = nltk.corpus.brown\n",
    "romance = brown.raw(categories='romance')[:5000]"
   ]
  },
  {
   "cell_type": "code",
   "execution_count": 51,
   "id": "0f31d3f8-9e24-4c49-b1fa-d4cbe9154da0",
   "metadata": {},
   "outputs": [
    {
     "data": {
      "text/plain": [
       "'They/ppss neither/cc liked/vbd nor/cc disliked/vbd the/at Old/jj-tl Man/nn-tl .'"
      ]
     },
     "execution_count": 51,
     "metadata": {},
     "output_type": "execute_result"
    }
   ],
   "source": [
    "# 문장 분절 \n",
    "# ./.\n",
    "# /. => 이게 제일 나음, 느낌표까지 처리하려고\n",
    "# romance.split('\\n') -> 마침표가 계속 남는게 거슬림\n",
    "# ! -> replace -> . 하고 ./.로 처리 가능 \n",
    "\n",
    "sentences = [sent.strip() for sent in romance.split('/.')]\n",
    "# 나눠서 처리해야함\n",
    "sentences= [s for s in sentences if s != '!']\n",
    "\n",
    "sentences[0]"
   ]
  },
  {
   "cell_type": "markdown",
   "id": "c4943c3a-3922-44ec-ad2d-5a4110f076f4",
   "metadata": {},
   "source": [
    "## 단어 분절 \n",
    "- sentences 에서 각 문장에 대해 POS 태그를 제거하고 단어 분절"
   ]
  },
  {
   "cell_type": "code",
   "execution_count": 52,
   "id": "d9ef46ad-a9d9-4bc1-900d-fd20e03f8d33",
   "metadata": {},
   "outputs": [],
   "source": [
    "# 계속 사용할 것은 대문자로 지정해두기\n",
    "SLASH = '/'"
   ]
  },
  {
   "cell_type": "code",
   "execution_count": 53,
   "id": "b09f0db1-5e3a-40a1-8cbd-1e3f4a576a75",
   "metadata": {},
   "outputs": [
    {
     "data": {
      "text/plain": [
       "['They', 'neither', 'liked', 'nor', 'disliked', 'the', 'Old', 'Man', '.']"
      ]
     },
     "execution_count": 53,
     "metadata": {},
     "output_type": "execute_result"
    }
   ],
   "source": [
    "example = sentences[0]\n",
    "\n",
    "[word[:word.find(SLASH)] if word[:word.find(SLASH)] else word for word in example.split()]"
   ]
  },
  {
   "cell_type": "code",
   "execution_count": 54,
   "id": "4e5b1cf2-c838-4c41-a601-096e2269df30",
   "metadata": {},
   "outputs": [
    {
     "name": "stdout",
     "output_type": "stream",
     "text": [
      "[['They', 'neither', 'liked', 'nor', 'disliked', 'the', 'Old', 'Man', '.'], ['To', 'them', 'he', 'could', 'have', 'been', 'the', 'broken', 'bell', 'in', 'the', 'church', 'tower', 'which', 'rang', 'before', 'and', 'after', 'Mass', ',', 'and', 'at', 'noon', ',', 'and', 'at', 'six', 'each', 'evening', '--', 'its', 'tone', ',', 'repetitive', ',', 'monotonous', ',', 'never', 'breaking', 'the', 'boredom', 'of', 'the', 'streets', '.'], ['The', 'Old', 'Man', 'was', 'unimportant', '.']]\n"
     ]
    }
   ],
   "source": [
    "sentences_tokens = [[word[:word.find(SLASH)]\n",
    "                     if word[:word.find(SLASH)] else word\n",
    "                     for word in example.split()] for example in sentences]\n",
    "\n",
    "print(sentences_tokens[:3])"
   ]
  },
  {
   "cell_type": "code",
   "execution_count": 55,
   "id": "53bc2360-20c0-41b8-a5ae-338396a4bd03",
   "metadata": {},
   "outputs": [
    {
     "data": {
      "text/plain": [
       "['!',\n",
       " '\"',\n",
       " '#',\n",
       " '$',\n",
       " '%',\n",
       " '&',\n",
       " \"'\",\n",
       " '(',\n",
       " ')',\n",
       " '*',\n",
       " '+',\n",
       " ',',\n",
       " '-',\n",
       " '.',\n",
       " '/',\n",
       " ':',\n",
       " ';',\n",
       " '<',\n",
       " '=',\n",
       " '>',\n",
       " '?',\n",
       " '@',\n",
       " '[',\n",
       " '\\\\',\n",
       " ']',\n",
       " '^',\n",
       " '_',\n",
       " '`',\n",
       " '{',\n",
       " '|',\n",
       " '}',\n",
       " '~']"
      ]
     },
     "execution_count": 55,
     "metadata": {},
     "output_type": "execute_result"
    }
   ],
   "source": [
    "# punctuations\n",
    "\n",
    "punct = list(string.punctuation) #string으로 담겨있어서 리스트로 바꿔주기\n",
    "punct"
   ]
  },
  {
   "cell_type": "code",
   "execution_count": 64,
   "id": "5cf242b9-cb9f-48ee-9ad2-dff65994b9a5",
   "metadata": {},
   "outputs": [
    {
     "data": {
      "text/plain": [
       "[['They', 'neither', 'liked', 'nor', 'disliked', 'the', 'Old', 'Man']]"
      ]
     },
     "execution_count": 64,
     "metadata": {},
     "output_type": "execute_result"
    }
   ],
   "source": [
    "# punct 제거하기\n",
    "\n",
    "[[word for word in sent if word not in punct] for sent in sentences_tokens] [:1]"
   ]
  },
  {
   "cell_type": "code",
   "execution_count": 66,
   "id": "06b803f0-c1df-4eef-820a-45e180f206e5",
   "metadata": {},
   "outputs": [
    {
     "name": "stdout",
     "output_type": "stream",
     "text": [
      "{\"''\", '``', '--'}\n"
     ]
    },
    {
     "data": {
      "text/plain": [
       "['They', 'neither', 'liked', 'nor', 'disliked', 'the', 'Old', 'Man']"
      ]
     },
     "execution_count": 66,
     "metadata": {},
     "output_type": "execute_result"
    }
   ],
   "source": [
    "my_punct = set([word for sent in sentences_tokens for word in sent \n",
    "                if not word[0].isalnum() and word not in punct])\n",
    "print(my_punct)\n",
    "punct.extend(list(my_punct))\n",
    "\n",
    "clean_sent_tokens = [[word for word in sent if word not in punct] for sent in sentences_tokens]\n",
    "clean_sent_tokens[0]"
   ]
  },
  {
   "cell_type": "code",
   "execution_count": 67,
   "id": "f816183b-3ac0-4e4a-bf20-cde7c32869e8",
   "metadata": {},
   "outputs": [],
   "source": [
    "# 하이픈, 어포스트로피는 for loop 을 타야함\n",
    "# for word \n",
    "    #list_sent.extend()\n",
    "    \n",
    "# word'word 이런건 ?\n",
    "# 's ,'t ,'d 는 위처럼 처리하고, 나머지는 그냥 붙인다는 조건으로"
   ]
  },
  {
   "cell_type": "code",
   "execution_count": 68,
   "id": "3783ec05-b98c-44e8-b9c6-becd195230d7",
   "metadata": {},
   "outputs": [
    {
     "name": "stdout",
     "output_type": "stream",
     "text": [
      "['or', 'the', 'smell', 'of', 'thick', 'tomato', 'paste', 'the', 'ripe', 'smell', 'that', 'was', 'both', 'sweet', 'and', 'sour', 'rising', 'up', 'from', 'aluminum', 'trays', 'wrapped', 'in', 'fly-dotted', 'cheesecloth']\n"
     ]
    }
   ],
   "source": [
    "# 문장이 들어왔을때 pos 제거, punct제거, 토큰 리스트로 변환하는 함수\n",
    "\n",
    "def word_tokenize(sent):\n",
    "    token_list = [word[:word.find(SLASH)] for word in sent.split() if word[0].isalnum() and word not in punct]\n",
    "    return token_list\n",
    "\n",
    "print(word_tokenize(sentences[5]))"
   ]
  },
  {
   "cell_type": "code",
   "execution_count": null,
   "id": "17dff63c-f7ef-4af0-b58d-b809c7e97f01",
   "metadata": {},
   "outputs": [],
   "source": []
  }
 ],
 "metadata": {
  "kernelspec": {
   "display_name": "Python 3 (ipykernel)",
   "language": "python",
   "name": "python3"
  },
  "language_info": {
   "codemirror_mode": {
    "name": "ipython",
    "version": 3
   },
   "file_extension": ".py",
   "mimetype": "text/x-python",
   "name": "python",
   "nbconvert_exporter": "python",
   "pygments_lexer": "ipython3",
   "version": "3.9.7"
  }
 },
 "nbformat": 4,
 "nbformat_minor": 5
}
