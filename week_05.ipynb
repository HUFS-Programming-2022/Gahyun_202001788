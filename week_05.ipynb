{
 "cells": [
  {
   "cell_type": "markdown",
   "id": "3db7852c-db17-45db-856f-51319edca2b3",
   "metadata": {},
   "source": [
    "# <span style=\"font-weight:bold\">Week_05(0401) 복습"
   ]
  },
  {
   "cell_type": "markdown",
   "id": "bf618613-9d98-4015-8c86-a982cb448448",
   "metadata": {},
   "source": [
    "### <span style=\"font-weight:bold\">반복문\n",
    "- while, for loop\n",
    "- 정해진 동작을 반복해야 할 때 사용\n",
    "- for loop에서는 시작, 종료, 수행명령이 있었음\n",
    "\n",
    "### <span style=\"font-weight:bold\">while loop\n",
    "- 어떤 조건이 만족하는 동안 명령 블록을 수행한다.\n",
    "- if + for loop \n",
    "- 해당 조건이 거짓이면 멈춘다. => 언제 멈추는지 그 시점을 정확히 파악해야 함.\n",
    "\n",
    "### <span style=\"font-weight:bold\">for loop과 while loop의 차이\n",
    "- for: 반복 횟수가 정해짐, 정확함, 변하지 않음\n",
    "    - 예: 성적 산출\n",
    "- while: 횟수는 정해지지 않음(중요하지 않음), 중요한 것은 어떤 조건을 만족시킬 때 빠져나오게 하는게 중요할 때 사용\n",
    "    - 예: 가위바위보에서 이겼을 때 끝낸다"
   ]
  },
  {
   "cell_type": "code",
   "execution_count": 2,
   "id": "69f6e700-b79a-4ee5-b50d-a2a215f6320d",
   "metadata": {
    "collapsed": true,
    "jupyter": {
     "outputs_hidden": true
    },
    "tags": []
   },
   "outputs": [
    {
     "name": "stdout",
     "output_type": "stream",
     "text": [
      "0\n",
      "1\n",
      "2\n",
      "3\n",
      "4\n",
      "5\n",
      "6\n",
      "7\n",
      "8\n",
      "9\n"
     ]
    }
   ],
   "source": [
    "for i in range(10):\n",
    "    print(i)"
   ]
  },
  {
   "cell_type": "code",
   "execution_count": 3,
   "id": "04249e8b-b1ab-407d-ba98-3dbf6c222dd4",
   "metadata": {},
   "outputs": [
    {
     "name": "stdout",
     "output_type": "stream",
     "text": [
      "1\n",
      "2\n",
      "3\n"
     ]
    }
   ],
   "source": [
    "j = 0 # 변수 초기화 블록\n",
    "\n",
    "while j < 3: # 0, 1, 2, False\n",
    "    j += 1\n",
    "    print(j) # 0, 1, 2\n",
    "    # j += 1 변수를 변화시키는 블록이 필요함\n",
    "\n",
    "# 루프가 언제 멈추는지, 변수 값이 무엇인지 중요함"
   ]
  },
  {
   "cell_type": "code",
   "execution_count": 4,
   "id": "2f0447b5-b5dd-455c-8d26-f172636691bb",
   "metadata": {
    "collapsed": true,
    "jupyter": {
     "outputs_hidden": true
    },
    "tags": []
   },
   "outputs": [
    {
     "name": "stdout",
     "output_type": "stream",
     "text": [
      "a\n",
      "b\n",
      "c\n",
      "d\n",
      "a\n",
      "b\n",
      "c\n",
      "d\n"
     ]
    }
   ],
   "source": [
    "# 예제\n",
    "\n",
    "abcd = ['a', 'b', 'c', 'd']\n",
    "for ch in abcd:\n",
    "    print(ch)\n",
    "    \n",
    "i = 0\n",
    "while i < 4: # 4 보다는 len(abcd)로 하는게 좋음!\n",
    "    print(abcd[i]) \n",
    "    i += 1"
   ]
  },
  {
   "cell_type": "markdown",
   "id": "dc028720-15ab-420b-a298-2c5a64d9c0d9",
   "metadata": {},
   "source": [
    "### <span style=\"font-weight:bold\">반복문 제어\n",
    "- <span style=\"font-weight:bold\">반복문 제어는 되도록 사용하지 않는다(의도치 않은 오류로 종료될 수 있음)\n",
    "- break : 논리적으로 반복을 종료시킬 때 사용\n",
    "- <span style=\"font-weight:bold\">else : 어떤 조건이 끝까지 수행되었을 때 수행하는 코드\n",
    "    - break 등으로 끊기면 실행 안 됨.\n",
    "    - 어느 지점에서 종료되었는지 확인할 때 사용\n",
    "    - else의 들여쓰기는 for, while과 일치해야 함\n",
    "- continue : 특정 조건을 건너뛰고 다음 조건 실행"
   ]
  },
  {
   "cell_type": "code",
   "execution_count": 5,
   "id": "c4172a0d-d713-42f5-9472-f688cfa09bf5",
   "metadata": {
    "collapsed": true,
    "jupyter": {
     "outputs_hidden": true
    },
    "tags": []
   },
   "outputs": [
    {
     "name": "stdout",
     "output_type": "stream",
     "text": [
      "0\n",
      "1\n",
      "2\n",
      "3\n",
      "4\n",
      "5\n",
      "6\n"
     ]
    }
   ],
   "source": [
    "j = 0 \n",
    "while j < 10:\n",
    "    print(j)\n",
    "    if j == 6: break\n",
    "    j += 1"
   ]
  },
  {
   "cell_type": "code",
   "execution_count": 12,
   "id": "eed58fda-be34-4572-b814-ce611eaca25b",
   "metadata": {
    "collapsed": true,
    "jupyter": {
     "outputs_hidden": true
    },
    "tags": []
   },
   "outputs": [
    {
     "name": "stdout",
     "output_type": "stream",
     "text": [
      "0\n",
      "1\n",
      "2\n",
      "3\n",
      "4\n",
      "5\n"
     ]
    }
   ],
   "source": [
    "for i in range(10):\n",
    "    if i == 6: break\n",
    "    print(i) # 6 출력되지 않음"
   ]
  },
  {
   "cell_type": "code",
   "execution_count": 14,
   "id": "4e597710-deea-41e2-9c11-3532a7c4a61f",
   "metadata": {},
   "outputs": [
    {
     "name": "stdout",
     "output_type": "stream",
     "text": [
      "6\n"
     ]
    }
   ],
   "source": [
    "print(i) # i == 6 에서 break 했으니까 i는 6"
   ]
  },
  {
   "cell_type": "code",
   "execution_count": 15,
   "id": "0e125bb9-7f6a-45be-9f8d-c200851a1645",
   "metadata": {
    "collapsed": true,
    "jupyter": {
     "outputs_hidden": true
    },
    "tags": []
   },
   "outputs": [
    {
     "name": "stdout",
     "output_type": "stream",
     "text": [
      "0\n",
      "1\n",
      "2\n",
      "3\n",
      "4\n",
      "5\n",
      "6\n"
     ]
    }
   ],
   "source": [
    "j = 0 \n",
    "while j < 10:\n",
    "    print(j)\n",
    "    if j == 6: break\n",
    "    j += 1\n",
    "else:\n",
    "    print(\"ended\")\n",
    "# break가 실행되었으므로 else문은 실행되지 않음"
   ]
  },
  {
   "cell_type": "code",
   "execution_count": 10,
   "id": "99c8435f-fd4b-4ab1-b0f0-1c4936e8c389",
   "metadata": {
    "collapsed": true,
    "jupyter": {
     "outputs_hidden": true
    },
    "tags": []
   },
   "outputs": [
    {
     "name": "stdout",
     "output_type": "stream",
     "text": [
      "0\n",
      "1\n",
      "2\n",
      "3\n",
      "4\n",
      "5\n",
      "7\n",
      "8\n",
      "9\n",
      "ended\n"
     ]
    }
   ],
   "source": [
    "for i in range(10):\n",
    "    if i == 6: continue\n",
    "    print(i)\n",
    "else:\n",
    "    print(\"ended\")"
   ]
  },
  {
   "cell_type": "markdown",
   "id": "c33e82b1-9223-4fc0-bc89-4e4bc6b4bbc6",
   "metadata": {},
   "source": [
    "### <span style=\"font-weight:bold\">구구단 문제\n",
    "\n",
    "- 변수는 입력을 받아서 사용함\n",
    "- 1. n단 출력\n",
    "- 2. 1부터 n단까지 출력\n",
    "    - n > 10 경우 대비하기 (while문)\n",
    "- 3. n, m (시작과 끝단) 모두 입력받아서 출력\n",
    "    - n > m인 경우 대비하기\n",
    "- 4. 전체를 프로그램으로 만들기\n",
    "    - 메뉴: 1) n단 출력 2) 1-n단 출력 3) n-m단 출력\n",
    "    - 메뉴에 없는 옵션 선택할 때\n",
    "- print format 사용할 것"
   ]
  },
  {
   "cell_type": "code",
   "execution_count": 16,
   "id": "ca0206f0-ea8b-4e1b-ae13-a3f5d936712d",
   "metadata": {
    "collapsed": true,
    "jupyter": {
     "outputs_hidden": true
    },
    "tags": []
   },
   "outputs": [
    {
     "name": "stdin",
     "output_type": "stream",
     "text": [
      "몇 단을 출력할까요?  3\n"
     ]
    },
    {
     "name": "stdout",
     "output_type": "stream",
     "text": [
      "3 * 1 = 3\n",
      "3 * 2 = 6\n",
      "3 * 3 = 9\n",
      "3 * 4 = 12\n",
      "3 * 5 = 15\n",
      "3 * 6 = 18\n",
      "3 * 7 = 21\n",
      "3 * 8 = 24\n",
      "3 * 9 = 27\n"
     ]
    }
   ],
   "source": [
    "#1.\n",
    "\n",
    "n = int(input(\"몇 단을 출력할까요? \"))\n",
    "\n",
    "for i in range(1,10):\n",
    "    print(f\"{n} * {i} = {n*i}\")"
   ]
  },
  {
   "cell_type": "code",
   "execution_count": 3,
   "id": "d0f99cbe-155d-4c41-9ac0-76443d54a88a",
   "metadata": {
    "collapsed": true,
    "jupyter": {
     "outputs_hidden": true
    },
    "tags": []
   },
   "outputs": [
    {
     "name": "stdin",
     "output_type": "stream",
     "text": [
      "1단부터 몇 단까지 출력할까요?(1~9 숫자를 입력하세요)  -1\n",
      "1단부터 몇 단까지 출력할까요?(1~9 숫자를 입력하세요)  0\n",
      "1단부터 몇 단까지 출력할까요?(1~9 숫자를 입력하세요)  -2\n",
      "1단부터 몇 단까지 출력할까요?(1~9 숫자를 입력하세요)  0\n",
      "1단부터 몇 단까지 출력할까요?(1~9 숫자를 입력하세요)  -3\n",
      "1단부터 몇 단까지 출력할까요?(1~9 숫자를 입력하세요)  2\n"
     ]
    },
    {
     "name": "stdout",
     "output_type": "stream",
     "text": [
      "1 * 1 = 1\n",
      "1 * 2 = 2\n",
      "1 * 3 = 3\n",
      "1 * 4 = 4\n",
      "1 * 5 = 5\n",
      "1 * 6 = 6\n",
      "1 * 7 = 7\n",
      "1 * 8 = 8\n",
      "1 * 9 = 9\n",
      "\n",
      "2 * 1 = 2\n",
      "2 * 2 = 4\n",
      "2 * 3 = 6\n",
      "2 * 4 = 8\n",
      "2 * 5 = 10\n",
      "2 * 6 = 12\n",
      "2 * 7 = 14\n",
      "2 * 8 = 16\n",
      "2 * 9 = 18\n",
      "\n"
     ]
    }
   ],
   "source": [
    "#2. \n",
    "\n",
    "while True:\n",
    "    n = int(input(\"1단부터 몇 단까지 출력할까요?(1~9 숫자를 입력하세요) \"))\n",
    "    \n",
    "    if 1 <= n <= 9:\n",
    "        for i in range(1,n+1):\n",
    "            for j in range(1,10):\n",
    "                print(f\"{i} * {j} = {i*j}\")\n",
    "            print()\n",
    "        break"
   ]
  },
  {
   "cell_type": "code",
   "execution_count": 6,
   "id": "e7cc133c-a044-47f7-8cdf-096af6a34106",
   "metadata": {
    "tags": []
   },
   "outputs": [
    {
     "name": "stdin",
     "output_type": "stream",
     "text": [
      "몇 단부터 출력할까요?(1~9 숫자를 입력하세요)  1\n",
      "몇 단까지 출력할까요?(1~9 숫자를 입력하세요)  0\n"
     ]
    },
    {
     "name": "stdout",
     "output_type": "stream",
     "text": [
      "첫 번째 입력한 숫자가 두 번째 입력한 숫자보다 큽니다\n"
     ]
    },
    {
     "name": "stdin",
     "output_type": "stream",
     "text": [
      "몇 단부터 출력할까요?(1~9 숫자를 입력하세요)  -1\n",
      "몇 단까지 출력할까요?(1~9 숫자를 입력하세요)  0\n"
     ]
    },
    {
     "name": "stdout",
     "output_type": "stream",
     "text": [
      "1부터 9까지의 숫자를 입력하세요\n"
     ]
    },
    {
     "name": "stdin",
     "output_type": "stream",
     "text": [
      "몇 단부터 출력할까요?(1~9 숫자를 입력하세요)  1\n",
      "몇 단까지 출력할까요?(1~9 숫자를 입력하세요)  2\n"
     ]
    },
    {
     "name": "stdout",
     "output_type": "stream",
     "text": [
      "1 * 1 = 1\n",
      "1 * 2 = 2\n",
      "1 * 3 = 3\n",
      "1 * 4 = 4\n",
      "1 * 5 = 5\n",
      "1 * 6 = 6\n",
      "1 * 7 = 7\n",
      "1 * 8 = 8\n",
      "1 * 9 = 9\n",
      "\n",
      "2 * 1 = 2\n",
      "2 * 2 = 4\n",
      "2 * 3 = 6\n",
      "2 * 4 = 8\n",
      "2 * 5 = 10\n",
      "2 * 6 = 12\n",
      "2 * 7 = 14\n",
      "2 * 8 = 16\n",
      "2 * 9 = 18\n",
      "\n"
     ]
    }
   ],
   "source": [
    "#3. \n",
    "\n",
    "while True:\n",
    "    n = int(input(\"몇 단부터 출력할까요?(1~9 숫자를 입력하세요) \"))\n",
    "    m = int(input(\"몇 단까지 출력할까요?(1~9 숫자를 입력하세요) \"))\n",
    "    \n",
    "    if n <= m and 1 <= n <= 9 and 1 <= m <= 9:\n",
    "        for i in range(n, m+1):\n",
    "            for j in range(1,10):\n",
    "                print(f\"{i} * {j} = {i*j}\")\n",
    "            print()\n",
    "        break\n",
    "    elif n > m:\n",
    "        print(\"첫 번째 입력한 숫자가 두 번째 입력한 숫자보다 큽니다\")\n",
    "    else:\n",
    "        print(\"1부터 9까지의 숫자를 입력하세요\")"
   ]
  },
  {
   "cell_type": "code",
   "execution_count": 61,
   "id": "649126ee-1654-4d64-9143-daeb1a3daab4",
   "metadata": {
    "tags": []
   },
   "outputs": [
    {
     "name": "stdout",
     "output_type": "stream",
     "text": [
      "====구구단 프로그램====\n",
      "\n",
      "====메뉴====\n",
      "1) n단 출력   2) 1단~n단 출력   3) n단~m단 출력\n",
      "\n"
     ]
    },
    {
     "name": "stdin",
     "output_type": "stream",
     "text": [
      "원하는 메뉴 번호를 입력하세요:  1\n",
      "몇 단을 출력할까요?(1~9 숫자를 입력하세요)  0\n",
      "원하는 메뉴 번호를 입력하세요:  1\n",
      "몇 단을 출력할까요?(1~9 숫자를 입력하세요)  2\n"
     ]
    },
    {
     "name": "stdout",
     "output_type": "stream",
     "text": [
      "2 * 1 = 2\n",
      "2 * 2 = 4\n",
      "2 * 3 = 6\n",
      "2 * 4 = 8\n",
      "2 * 5 = 10\n",
      "2 * 6 = 12\n",
      "2 * 7 = 14\n",
      "2 * 8 = 16\n",
      "2 * 9 = 18\n"
     ]
    }
   ],
   "source": [
    "#4. \n",
    "\n",
    "print(\"====구구단 프로그램====\")\n",
    "print()\n",
    "print(\"====메뉴====\")\n",
    "print(\"1) n단 출력   2) 1단~n단 출력   3) n단~m단 출력\")\n",
    "print()\n",
    "\n",
    "flag = True\n",
    "\n",
    "while flag:\n",
    "    key = int(input(\"원하는 메뉴 번호를 입력하세요: \"))\n",
    "    \n",
    "    if key == 1:\n",
    "        n = int(input(\"몇 단을 출력할까요?(1~9 숫자를 입력하세요) \"))\n",
    "        \n",
    "        if 1 <= n <= 9:\n",
    "            for i in range(1,10):\n",
    "                print(f\"{n} * {i} = {n*i}\")\n",
    "            flag = False\n",
    "    \n",
    "    elif key == 2:\n",
    "        n = int(input(\"1단부터 몇 단까지 출력할까요?(1~9 숫자를 입력하세요) \"))\n",
    "    \n",
    "        if 1 <= n <= 9:\n",
    "            for i in range(1,n+1):\n",
    "                for j in range(1,10):\n",
    "                    print(f\"{i} * {j} = {i*j}\")\n",
    "                print()\n",
    "            flag = False\n",
    "    \n",
    "    elif key == 3:\n",
    "        n = int(input(\"몇 단부터 출력할까요?(1~9 숫자를 입력하세요) \"))\n",
    "        m = int(input(\"몇 단까지 출력할까요?(1~9 숫자를 입력하세요) \"))\n",
    "    \n",
    "        if n <= m and 1 <= n <= 9 and 1 <= m <= 9:\n",
    "            for i in range(n, m+1):\n",
    "                for j in range(1,10):\n",
    "                    print(f\"{i} * {j} = {i*j}\")\n",
    "                print()\n",
    "            flag = False\n",
    "        elif n > m:\n",
    "            print(\"첫 번째 입력한 숫자가 두 번째 입력한 숫자보다 큽니다\")\n",
    "        else:\n",
    "            print(\"1부터 9까지의 숫자를 입력하세요\")\n",
    "            \n",
    "    else:\n",
    "        print(\"메뉴 번호를 다시 입력해주세요\")"
   ]
  },
  {
   "cell_type": "markdown",
   "id": "8fd68e00-20b6-4da1-b71b-52ce1a925523",
   "metadata": {},
   "source": [
    "## nltk book"
   ]
  },
  {
   "cell_type": "code",
   "execution_count": 3,
   "id": "b0d21e9d-00ab-42fe-b99b-bc74415ca0b4",
   "metadata": {},
   "outputs": [
    {
     "name": "stdout",
     "output_type": "stream",
     "text": [
      "*** Introductory Examples for the NLTK Book ***\n",
      "Loading text1, ..., text9 and sent1, ..., sent9\n",
      "Type the name of the text or sentence to view it.\n",
      "Type: 'texts()' or 'sents()' to list the materials.\n",
      "text1: Moby Dick by Herman Melville 1851\n",
      "text2: Sense and Sensibility by Jane Austen 1811\n",
      "text3: The Book of Genesis\n",
      "text4: Inaugural Address Corpus\n",
      "text5: Chat Corpus\n",
      "text6: Monty Python and the Holy Grail\n",
      "text7: Wall Street Journal\n",
      "text8: Personals Corpus\n",
      "text9: The Man Who Was Thursday by G . K . Chesterton 1908\n"
     ]
    },
    {
     "data": {
      "text/plain": [
       "True"
      ]
     },
     "execution_count": 3,
     "metadata": {},
     "output_type": "execute_result"
    }
   ],
   "source": [
    "import nltk\n",
    "from nltk.book import *\n",
    "nltk.download('book', quiet=True)"
   ]
  },
  {
   "cell_type": "code",
   "execution_count": 62,
   "id": "fc7635b4-f10f-4840-8c3d-96cfbb916b57",
   "metadata": {},
   "outputs": [],
   "source": [
    "# text 1-9를 가져오는 방법\n",
    "# texts = [text1, text2, ... , text9]\n",
    "# text1과 'text1'은 다르다\n",
    "# text1-9를 string으로 가져오기\n",
    "# string -> fx : getattr(library, 'string_name')"
   ]
  },
  {
   "cell_type": "code",
   "execution_count": 69,
   "id": "2721203b-2f96-4a60-9cc4-8b436cadedc9",
   "metadata": {},
   "outputs": [
    {
     "data": {
      "text/plain": [
       "['test1',\n",
       " 'test2',\n",
       " 'test3',\n",
       " 'test4',\n",
       " 'test5',\n",
       " 'test6',\n",
       " 'test7',\n",
       " 'test8',\n",
       " 'test9']"
      ]
     },
     "execution_count": 69,
     "metadata": {},
     "output_type": "execute_result"
    }
   ],
   "source": [
    "# for loop을 이용해서 list에 text1~9를 받아오기\n",
    "text = [f'test{i}' for i in range(1,10)]\n",
    "text"
   ]
  },
  {
   "cell_type": "code",
   "execution_count": 63,
   "id": "e71dda39-796a-4384-97b9-5d82a3dbc583",
   "metadata": {},
   "outputs": [
    {
     "data": {
      "text/plain": [
       "[<Text: Moby Dick by Herman Melville 1851>,\n",
       " <Text: Sense and Sensibility by Jane Austen 1811>,\n",
       " <Text: The Book of Genesis>,\n",
       " <Text: Inaugural Address Corpus>,\n",
       " <Text: Chat Corpus>,\n",
       " <Text: Monty Python and the Holy Grail>,\n",
       " <Text: Wall Street Journal>,\n",
       " <Text: Personals Corpus>,\n",
       " <Text: The Man Who Was Thursday by G . K . Chesterton 1908>]"
      ]
     },
     "execution_count": 63,
     "metadata": {},
     "output_type": "execute_result"
    }
   ],
   "source": [
    "# string -> fx : 'getattr(library, 'string_name')\n",
    "texts = [getattr(nltk.book, f'text{i}') for i in range(1, 10)]\n",
    "texts"
   ]
  },
  {
   "cell_type": "markdown",
   "id": "ee2368fc-5ef2-4093-a88e-a77b65c58661",
   "metadata": {},
   "source": [
    "## NLTK corpus\n",
    "- 코퍼스 + 테마\n",
    "- 종류\n",
    "    - brown\n",
    "    - gutenberg\n",
    "    - inaugural\n",
    "- methods\n",
    "    - words() #tokens와 같은 기능\n",
    "    - sents()\n",
    "    - raw()\n",
    "    - fileids()\n",
    "        - gutenberg.words(fileids='carroll-alice.txt')"
   ]
  },
  {
   "cell_type": "code",
   "execution_count": 64,
   "id": "f337f70b-445c-4bf7-a517-6c009c2b296b",
   "metadata": {},
   "outputs": [
    {
     "name": "stderr",
     "output_type": "stream",
     "text": [
      "[nltk_data] Downloading package brown to\n",
      "[nltk_data]     C:\\Users\\user\\AppData\\Roaming\\nltk_data...\n",
      "[nltk_data]   Package brown is already up-to-date!\n",
      "[nltk_data] Downloading package gutenberg to\n",
      "[nltk_data]     C:\\Users\\user\\AppData\\Roaming\\nltk_data...\n",
      "[nltk_data]   Package gutenberg is already up-to-date!\n",
      "[nltk_data] Downloading package inaugural to\n",
      "[nltk_data]     C:\\Users\\user\\AppData\\Roaming\\nltk_data...\n",
      "[nltk_data]   Package inaugural is already up-to-date!\n"
     ]
    },
    {
     "data": {
      "text/plain": [
       "True"
      ]
     },
     "execution_count": 64,
     "metadata": {},
     "output_type": "execute_result"
    }
   ],
   "source": [
    "from nltk.corpus import gutenberg # nltk.corpus에서 gutenberg 가져오기\n",
    "nltk.download(['brown', 'gutenberg', 'inaugural']) # download"
   ]
  },
  {
   "cell_type": "code",
   "execution_count": 20,
   "id": "b90e5c22-6107-413c-ad65-94c66d9937b8",
   "metadata": {},
   "outputs": [
    {
     "data": {
      "text/plain": [
       "<PlaintextCorpusReader in 'C:\\\\Users\\\\user\\\\AppData\\\\Roaming\\\\nltk_data\\\\corpora\\\\gutenberg'>"
      ]
     },
     "execution_count": 20,
     "metadata": {},
     "output_type": "execute_result"
    }
   ],
   "source": [
    "gutenberg #nltk.corpus.gutenberg"
   ]
  },
  {
   "cell_type": "code",
   "execution_count": 9,
   "id": "c273a31f-c48d-439e-ba46-8a8fc13f2cfb",
   "metadata": {
    "tags": []
   },
   "outputs": [
    {
     "data": {
      "text/plain": [
       "['austen-emma.txt',\n",
       " 'austen-persuasion.txt',\n",
       " 'austen-sense.txt',\n",
       " 'bible-kjv.txt',\n",
       " 'blake-poems.txt',\n",
       " 'bryant-stories.txt',\n",
       " 'burgess-busterbrown.txt',\n",
       " 'carroll-alice.txt',\n",
       " 'chesterton-ball.txt',\n",
       " 'chesterton-brown.txt',\n",
       " 'chesterton-thursday.txt',\n",
       " 'edgeworth-parents.txt',\n",
       " 'melville-moby_dick.txt',\n",
       " 'milton-paradise.txt',\n",
       " 'shakespeare-caesar.txt',\n",
       " 'shakespeare-hamlet.txt',\n",
       " 'shakespeare-macbeth.txt',\n",
       " 'whitman-leaves.txt']"
      ]
     },
     "execution_count": 9,
     "metadata": {},
     "output_type": "execute_result"
    }
   ],
   "source": [
    "gutenberg.fileids() # gutenberg 안에 있는 파일 이름 리스트"
   ]
  },
  {
   "cell_type": "code",
   "execution_count": 22,
   "id": "db4d6f74-4ac8-43ac-949a-e7d50e161590",
   "metadata": {},
   "outputs": [],
   "source": [
    "# 각 파일마다 word, character, sents 개수 출력하기"
   ]
  },
  {
   "cell_type": "code",
   "execution_count": 12,
   "id": "700cb743-e882-4f5b-9d09-7c597ce31922",
   "metadata": {},
   "outputs": [
    {
     "data": {
      "text/plain": [
       "['[', 'Alice', \"'\", 's', 'Adventures', 'in', ...]"
      ]
     },
     "execution_count": 12,
     "metadata": {},
     "output_type": "execute_result"
    }
   ],
   "source": [
    "gutenberg.words(fileids='carroll-alice.txt')"
   ]
  },
  {
   "cell_type": "code",
   "execution_count": 10,
   "id": "fffb2690-8809-408f-8896-9b7a2056d8fe",
   "metadata": {},
   "outputs": [
    {
     "data": {
      "text/plain": [
       "['[', 'Alice', \"'\", 's', 'Adventures', 'in', ...]"
      ]
     },
     "execution_count": 10,
     "metadata": {},
     "output_type": "execute_result"
    }
   ],
   "source": [
    "gutenberg.words(fileids=['carroll-alice.txt', 'austen-emma.txt']) # 두 개 이상일 때 리스트로 묶어주기"
   ]
  },
  {
   "cell_type": "code",
   "execution_count": 8,
   "id": "4e8f1d53-012f-441f-9cc9-f172f0ae69a0",
   "metadata": {
    "tags": []
   },
   "outputs": [
    {
     "name": "stdout",
     "output_type": "stream",
     "text": [
      "austen-emma.txt: word 개수 192427개, charcter 개수 887071개, sent 개수 7752개\n",
      "austen-persuasion.txt: word 개수 98171개, charcter 개수 466292개, sent 개수 3747개\n",
      "austen-sense.txt: word 개수 141576개, charcter 개수 673022개, sent 개수 4999개\n",
      "bible-kjv.txt: word 개수 1010654개, charcter 개수 4332554개, sent 개수 30103개\n",
      "blake-poems.txt: word 개수 8354개, charcter 개수 38153개, sent 개수 438개\n",
      "bryant-stories.txt: word 개수 55563개, charcter 개수 249439개, sent 개수 2863개\n",
      "burgess-busterbrown.txt: word 개수 18963개, charcter 개수 84663개, sent 개수 1054개\n",
      "carroll-alice.txt: word 개수 34110개, charcter 개수 144395개, sent 개수 1703개\n",
      "chesterton-ball.txt: word 개수 96996개, charcter 개수 457450개, sent 개수 4779개\n",
      "chesterton-brown.txt: word 개수 86063개, charcter 개수 406629개, sent 개수 3806개\n",
      "chesterton-thursday.txt: word 개수 69213개, charcter 개수 320525개, sent 개수 3742개\n",
      "edgeworth-parents.txt: word 개수 210663개, charcter 개수 935158개, sent 개수 10230개\n",
      "melville-moby_dick.txt: word 개수 260819개, charcter 개수 1242990개, sent 개수 10059개\n",
      "milton-paradise.txt: word 개수 96825개, charcter 개수 468220개, sent 개수 1851개\n",
      "shakespeare-caesar.txt: word 개수 25833개, charcter 개수 112310개, sent 개수 2163개\n",
      "shakespeare-hamlet.txt: word 개수 37360개, charcter 개수 162881개, sent 개수 3106개\n",
      "shakespeare-macbeth.txt: word 개수 23140개, charcter 개수 100351개, sent 개수 1907개\n",
      "whitman-leaves.txt: word 개수 154883개, charcter 개수 711215개, sent 개수 4250개\n"
     ]
    }
   ],
   "source": [
    "for elem in gutenberg.fileids():\n",
    "    print(f\"{elem}: word 개수 {len(gutenberg.words(elem))}개, charcter 개수 {len(gutenberg.raw(elem))}개, sent 개수 {len(gutenberg.sents(elem))}개\")"
   ]
  },
  {
   "cell_type": "markdown",
   "id": "0eb2a3b5-3d11-463b-92ad-1d47d71fa7e8",
   "metadata": {},
   "source": [
    "## NLTK ex - Gutenberg\n",
    "- 1. shakespeare-caesar의 중복된 단어를 거르고 각 단어의 길이를 출력하시오.\n",
    "- 2. chesterton-thursday에서 길이가 4자 이하인 알파벳 중 ie를 포함하는 단어를 소문자로 출력하고, 개수를 세어라.\n",
    "- 3. bryant-stories에서 ch로 끝나는 단어를 출력하는데, 중복 없이, 첫글자(모두 소문자)와 끝 ch만 남기고 가운데 글자들은 모두 - 로 가려라(ex. much -> m-ch)"
   ]
  },
  {
   "cell_type": "code",
   "execution_count": 85,
   "id": "26c672c1-a2bd-499e-b7a9-34f791f11b9e",
   "metadata": {
    "tags": []
   },
   "outputs": [
    {
     "data": {
      "text/plain": [
       "[3, 3, 7, 5, 5, 4, 6, 5, 7, 10]"
      ]
     },
     "execution_count": 85,
     "metadata": {},
     "output_type": "execute_result"
    }
   ],
   "source": [
    "#1. \n",
    "\n",
    "shword = [len(word) for word in set(gutenberg.words(fileids='shakespeare-caesar.txt'))]\n",
    "shword[:10]"
   ]
  },
  {
   "cell_type": "code",
   "execution_count": 18,
   "id": "9b2c5ff8-9403-4bd3-83fc-1c098a73562e",
   "metadata": {},
   "outputs": [
    {
     "name": "stdout",
     "output_type": "stream",
     "text": [
      "['foie', 'died', 'pier', 'died', 'lies', 'died', 'lie', 'tie', 'tie', 'die', 'tied', 'pie', 'die', 'die', 'die', 'die', 'died', 'died', 'die', 'die', 'die', 'erie', 'view', 'die', 'pier', 'dies', 'die', 'pier', 'pier', 'die', 'pier', 'tied', 'die', 'view', 'tie', 'lie', 'lie']\n",
      "37\n"
     ]
    }
   ],
   "source": [
    "#2. \n",
    "\n",
    "ch_word = [word.lower() for word in gutenberg.words(fileids='chesterton-thursday.txt') if len(word) <= 4 and 'ie' in word]\n",
    "print(ch_word)\n",
    "print(len(ch_word))"
   ]
  },
  {
   "cell_type": "code",
   "execution_count": 45,
   "id": "ccc21e52-4c6f-44df-a047-6b8436a8075d",
   "metadata": {
    "tags": []
   },
   "outputs": [
    {
     "name": "stdout",
     "output_type": "stream",
     "text": [
      "f--ch\n",
      "c--ch\n",
      "p--ch\n",
      "b--ch\n",
      "t--ch\n",
      "s-ch\n",
      "p--ch\n",
      "w--ch\n",
      "b---ch\n",
      "wh-ch\n",
      "sc---ch\n",
      "a-ch\n",
      "c--ch\n",
      "r--ch\n",
      "t--ch\n",
      "s----ch\n",
      "b--ch\n",
      "t--ch\n",
      "e-ch\n",
      "e-ch\n",
      "s----ch\n",
      "r-ch\n",
      "s----ch\n",
      "t---ch\n",
      "p--ch\n",
      "f---ch\n",
      "ch--ch\n",
      "m-ch\n",
      "s---ch\n",
      "p--ch\n",
      "s---ch\n",
      "b--ch\n",
      "s-ch\n",
      "p--ch\n",
      "l--ch\n"
     ]
    }
   ],
   "source": [
    "#3. \n",
    "\n",
    "bryword = [word for word in set(gutenberg.words(fileids='bryant-stories.txt')) if word.endswith('ch')]\n",
    "\n",
    "for elem in bryword:\n",
    "    newword = ''\n",
    "    for i in elem:\n",
    "        if i != elem[0] and i != elem[-1] and i != elem[-2]:\n",
    "            i = '-'\n",
    "            newword += i\n",
    "        elif i == elem[0]:\n",
    "            newword += i.lower()\n",
    "        else:\n",
    "            newword += i\n",
    "    print(newword)"
   ]
  },
  {
   "cell_type": "markdown",
   "id": "fca1bd52-4015-48f4-9967-e1a56875a78a",
   "metadata": {},
   "source": [
    "## Brown\n",
    "- categories()"
   ]
  },
  {
   "cell_type": "code",
   "execution_count": 46,
   "id": "392a8ea3-495b-455b-a097-989d0f3e8b1c",
   "metadata": {},
   "outputs": [],
   "source": [
    "brown = nltk.corpus.brown"
   ]
  },
  {
   "cell_type": "code",
   "execution_count": 47,
   "id": "f9b1d463-babf-4d6f-aee8-3d54e865284a",
   "metadata": {},
   "outputs": [
    {
     "data": {
      "text/plain": [
       "['adventure',\n",
       " 'belles_lettres',\n",
       " 'editorial',\n",
       " 'fiction',\n",
       " 'government',\n",
       " 'hobbies',\n",
       " 'humor',\n",
       " 'learned',\n",
       " 'lore',\n",
       " 'mystery',\n",
       " 'news',\n",
       " 'religion',\n",
       " 'reviews',\n",
       " 'romance',\n",
       " 'science_fiction']"
      ]
     },
     "execution_count": 47,
     "metadata": {},
     "output_type": "execute_result"
    }
   ],
   "source": [
    "brown.categories()"
   ]
  },
  {
   "cell_type": "code",
   "execution_count": 72,
   "id": "6e590b1a-7f5e-4f55-ac2c-823b689c0c10",
   "metadata": {},
   "outputs": [],
   "source": [
    "# gutenberg는 받는 인자가 fileids밖에 없어서 따로 표기 안 해도 되는데\n",
    "# brown은 categories='adventure'와 같이 표기해야함 (brown에는 fileids도 넣어줄 수 있음)\n",
    "\n",
    "# adventure 카테고리의 fdist\n",
    "fdist = nltk.FreqDist([w.lower() for w in brown.words(categories='adventure')])"
   ]
  },
  {
   "cell_type": "code",
   "execution_count": 97,
   "id": "745a316c-3e59-425c-9293-dab674632bc1",
   "metadata": {
    "tags": []
   },
   "outputs": [
    {
     "data": {
      "text/plain": [
       "['ca01', 'ca02', 'ca03', 'ca04', 'ca05']"
      ]
     },
     "execution_count": 97,
     "metadata": {},
     "output_type": "execute_result"
    }
   ],
   "source": [
    "brown.fileids()[:5]"
   ]
  },
  {
   "cell_type": "code",
   "execution_count": 73,
   "id": "898cba57-278c-4833-9bbe-2e1ebe3514c2",
   "metadata": {},
   "outputs": [
    {
     "data": {
      "text/plain": [
       "83"
      ]
     },
     "execution_count": 73,
     "metadata": {},
     "output_type": "execute_result"
    }
   ],
   "source": [
    "fdist['men'] # adventure 카테고리에서의 men의 출력수"
   ]
  },
  {
   "cell_type": "code",
   "execution_count": 77,
   "id": "39b96b01-e459-45ae-9e09-0d56272a0081",
   "metadata": {},
   "outputs": [
    {
     "name": "stdout",
     "output_type": "stream",
     "text": [
      "can 48\n",
      "could 154\n",
      "will 51\n",
      "would 194\n",
      "may 7\n",
      "might 59\n"
     ]
    }
   ],
   "source": [
    "# modal verbs(조동사)\n",
    "\n",
    "modals = ['can', 'could', 'will', 'would', 'may', 'might']\n",
    "\n",
    "for verb in modals:\n",
    "    print(verb, fdist[verb]) # adventure 카테고리의 fdist에서 각 조동사들의 출력 빈도"
   ]
  },
  {
   "cell_type": "markdown",
   "id": "76bc40e1-9ea9-446e-9a62-bcaae96f8916",
   "metadata": {},
   "source": [
    "## conditional frequency distribution\n",
    "- 조건에 따른 fdist"
   ]
  },
  {
   "cell_type": "code",
   "execution_count": 78,
   "id": "819b0165-63ca-4c85-985b-73a11ed320db",
   "metadata": {},
   "outputs": [],
   "source": [
    "cfd = nltk.ConditionalFreqDist(\n",
    "    # 각 장르에 따른 frequency distribution을 만든다.\n",
    "    # 장르 내 단어의 빈도\n",
    "    # 리스트 컴프리헨션이 두 번(장르와 word)\n",
    "    # 장르에 따른 word의 frequency\n",
    "    (genre, word.lower())\n",
    "    for genre in brown.categories() # categories에서 genre 하나씩 뽑기\n",
    "    for word in brown.words(categories=genre) # 장르에 따른 word\n",
    ")"
   ]
  },
  {
   "cell_type": "code",
   "execution_count": 79,
   "id": "2a1658a4-2282-4216-8ccd-7fcc6be10582",
   "metadata": {},
   "outputs": [
    {
     "data": {
      "text/plain": [
       "36"
      ]
     },
     "execution_count": 79,
     "metadata": {},
     "output_type": "execute_result"
    }
   ],
   "source": [
    "cfd['romance']['love'] \n",
    "# romance에서 love가 얼마나 나왔는지"
   ]
  },
  {
   "cell_type": "code",
   "execution_count": 80,
   "id": "0512f2c6-6c6e-4a7d-b168-ca4448e37eac",
   "metadata": {},
   "outputs": [
    {
     "data": {
      "text/plain": [
       "[(',', 3899),\n",
       " ('.', 3736),\n",
       " ('the', 2988),\n",
       " ('and', 1905),\n",
       " ('to', 1517),\n",
       " ('a', 1383),\n",
       " ('of', 1202),\n",
       " ('he', 1068),\n",
       " ('``', 1045),\n",
       " (\"''\", 1044)]"
      ]
     },
     "execution_count": 80,
     "metadata": {},
     "output_type": "execute_result"
    }
   ],
   "source": [
    "cfd['romance'].most_common(10)"
   ]
  },
  {
   "cell_type": "code",
   "execution_count": 81,
   "id": "5287e82f-609b-4e2f-b42b-4610f93eda49",
   "metadata": {},
   "outputs": [
    {
     "data": {
      "text/plain": [
       "FreqDist({',': 3899, '.': 3736, 'the': 2988, 'and': 1905, 'to': 1517, 'a': 1383, 'of': 1202, 'he': 1068, '``': 1045, \"''\": 1044, ...})"
      ]
     },
     "execution_count": 81,
     "metadata": {},
     "output_type": "execute_result"
    }
   ],
   "source": [
    "# cfd에서 각 장르를 뽑아낼 수 있음\n",
    "cfd['romance']"
   ]
  },
  {
   "cell_type": "code",
   "execution_count": null,
   "id": "07c3a6a4-cd71-4325-a39a-567980a545bc",
   "metadata": {},
   "outputs": [],
   "source": []
  }
 ],
 "metadata": {
  "kernelspec": {
   "display_name": "Python 3 (ipykernel)",
   "language": "python",
   "name": "python3"
  },
  "language_info": {
   "codemirror_mode": {
    "name": "ipython",
    "version": 3
   },
   "file_extension": ".py",
   "mimetype": "text/x-python",
   "name": "python",
   "nbconvert_exporter": "python",
   "pygments_lexer": "ipython3",
   "version": "3.9.7"
  }
 },
 "nbformat": 4,
 "nbformat_minor": 5
}
