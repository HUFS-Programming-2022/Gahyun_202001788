{
 "cells": [
  {
   "cell_type": "markdown",
   "id": "4deb8cce-e1bb-482b-ab8e-68f9c94bc2d5",
   "metadata": {
    "jupyter": {
     "outputs_hidden": true
    },
    "tags": []
   },
   "source": [
    "## ch02. Variable\n",
    "- string\n",
    "- integer\n",
    "- float\n",
    "- boolean"
   ]
  },
  {
   "cell_type": "code",
   "execution_count": 11,
   "id": "cac8caab-e4a6-4303-a564-8533edba38f9",
   "metadata": {
    "tags": []
   },
   "outputs": [
    {
     "data": {
      "text/plain": [
       "7"
      ]
     },
     "execution_count": 11,
     "metadata": {},
     "output_type": "execute_result"
    }
   ],
   "source": [
    "# 여러 이름 동시에 할당하기\n",
    "seven = sept = siete = 7\n",
    "# 할당 순서는 뒤에서부터 앞으로. siete -> sept -> seven\n",
    "\n",
    "seven"
   ]
  },
  {
   "cell_type": "code",
   "execution_count": 24,
   "id": "8909cd37-de43-425c-9c52-620ecbeef4fa",
   "metadata": {},
   "outputs": [
    {
     "name": "stdout",
     "output_type": "stream",
     "text": [
      "1 7 7\n"
     ]
    }
   ],
   "source": [
    "# seven의 값을 바꾸면 sept, siete의 값도 바뀔까?\n",
    "# 불변객체(immutable)이므로 바뀌지 않음.\n",
    "\n",
    "seven = 1\n",
    "\n",
    "print(seven, sept, siete)"
   ]
  },
  {
   "cell_type": "code",
   "execution_count": 15,
   "id": "5b057686-683c-4a77-a174-54b25d6e9948",
   "metadata": {},
   "outputs": [
    {
     "data": {
      "text/plain": [
       "(2575036606768, 2575036606960)"
      ]
     },
     "execution_count": 15,
     "metadata": {},
     "output_type": "execute_result"
    }
   ],
   "source": [
    "id(seven), id(sept)\n",
    "# 주소값도 같지 않음"
   ]
  },
  {
   "cell_type": "code",
   "execution_count": 19,
   "id": "e4d6b8e2-ebdb-4d25-a6ce-3ef10ba6ca38",
   "metadata": {},
   "outputs": [
    {
     "data": {
      "text/plain": [
       "([1, 2, 3], [1, 2, 3])"
      ]
     },
     "execution_count": 19,
     "metadata": {},
     "output_type": "execute_result"
    }
   ],
   "source": [
    "list1 = [1, 2, 3] # 리스트\n",
    "list2 = list1 # list2에 list1을 대입\n",
    "list1, list2"
   ]
  },
  {
   "cell_type": "code",
   "execution_count": 20,
   "id": "5c74a20e-153a-4a72-a23e-6e17e144c49e",
   "metadata": {},
   "outputs": [
    {
     "data": {
      "text/plain": [
       "(2575116729472, 2575116729472)"
      ]
     },
     "execution_count": 20,
     "metadata": {},
     "output_type": "execute_result"
    }
   ],
   "source": [
    "id(list1), id(list2)\n",
    "# 두 개의 리스트의 id값을 확인해보면 주소값이 같음"
   ]
  },
  {
   "cell_type": "code",
   "execution_count": 22,
   "id": "82fe8383-f29a-4c4d-8543-09076d428e4b",
   "metadata": {},
   "outputs": [
    {
     "data": {
      "text/plain": [
       "([9, 2, 3], [9, 2, 3])"
      ]
     },
     "execution_count": 22,
     "metadata": {},
     "output_type": "execute_result"
    }
   ],
   "source": [
    "list1[0] = 9\n",
    "# 리스트에서 특정 원소의 값을 변경하고 두 리스트의 값 확인하기\n",
    "list1, list2\n",
    "# 리스트는 가변(mutable) 객체\n",
    "# mutable 객체: 객체를 생성한 후 객체의 값을 수정 가능, 변수는 값이 수정된 같은 객체를 가리킴\n",
    "# immutable 객체: 객체를 생성한 후 객체의 값 수정 불가능, 변수는 해당 값을 가진 다른 객체를 가리킴\n",
    "# 변수에 대입한 값을 수정했을 때 전후의 id값이 같으면 mutable, 다르면 immutable객체"
   ]
  },
  {
   "cell_type": "code",
   "execution_count": 23,
   "id": "543dad36-fd75-4d72-816e-e909dc125578",
   "metadata": {},
   "outputs": [
    {
     "data": {
      "text/plain": [
       "(2575116729472, 2575116729472)"
      ]
     },
     "execution_count": 23,
     "metadata": {},
     "output_type": "execute_result"
    }
   ],
   "source": [
    "id(list1), id(list2)\n",
    "# id값 같음"
   ]
  },
  {
   "cell_type": "markdown",
   "id": "e2e209bb-abb2-424f-ad28-127a1bdbdc6d",
   "metadata": {
    "tags": []
   },
   "source": [
    "## 좋은 변수명 만들기\n",
    "- 간결하고 명확하게\n",
    "- 의미를 담도록 (a,b,c.... 같은 무의미한 변수명 쓰지 않기)\n",
    "- 코드에는 의미가 담기고, 주석에는 의도가 담긴다.\n",
    "    - 예: the number of students --> n < the_number_of_students < num_students\n",
    "    - Camel case: numStudents\n",
    "    - Snake case: num_students"
   ]
  },
  {
   "cell_type": "markdown",
   "id": "8afd6a24-d4ff-47eb-a77c-55daf7be672d",
   "metadata": {
    "tags": []
   },
   "source": [
    "## 자료형 변환, 형 변환\n",
    "- str(), int(), float(), bool()"
   ]
  },
  {
   "cell_type": "code",
   "execution_count": 25,
   "id": "b8b93f34-0345-43aa-a3f1-bae85c6651b4",
   "metadata": {},
   "outputs": [
    {
     "data": {
      "text/plain": [
       "True"
      ]
     },
     "execution_count": 25,
     "metadata": {},
     "output_type": "execute_result"
    }
   ],
   "source": [
    "a = 10\n",
    "\n",
    "# str\n",
    "str(a)\n",
    "\n",
    "# float\n",
    "float(a)\n",
    "\n",
    "# bool\n",
    "bool(a)\n",
    "# True, False 두 가지 값만 가지기 때문에 어떤 값이 False인지 기억하기\n",
    "# '', None, 0, ..."
   ]
  },
  {
   "cell_type": "markdown",
   "id": "c78516ef-a762-439f-a967-f0dd6b4e036f",
   "metadata": {
    "tags": []
   },
   "source": [
    "## 형 변환 시 주의할 점\n",
    "- float -> int"
   ]
  },
  {
   "cell_type": "code",
   "execution_count": 26,
   "id": "e1a59480-7faa-4421-9f7b-bbc7ed784a20",
   "metadata": {},
   "outputs": [
    {
     "data": {
      "text/plain": [
       "12"
      ]
     },
     "execution_count": 26,
     "metadata": {},
     "output_type": "execute_result"
    }
   ],
   "source": [
    "x = 12.54 # 소수점 내림\n",
    "int(x)"
   ]
  },
  {
   "cell_type": "code",
   "execution_count": 30,
   "id": "4cafd577-ed5c-482f-ba44-c623cea6ac20",
   "metadata": {},
   "outputs": [
    {
     "name": "stdout",
     "output_type": "stream",
     "text": [
      "32\n",
      "31\n"
     ]
    }
   ],
   "source": [
    "y = 19.8\n",
    "\n",
    "print(int(x + y)) # x와 y를 더한 값을 int형으로 변환\n",
    "print(int(x) + int(y)) # x와 y를 각각 int로 변환 후 덧셈\n",
    "# 참고: x + y 연산자 띄어쓰기"
   ]
  },
  {
   "cell_type": "markdown",
   "id": "fc09b194-c8b9-41a1-8ae4-da86c2d6365c",
   "metadata": {
    "tags": []
   },
   "source": [
    "- str -> int/float"
   ]
  },
  {
   "cell_type": "code",
   "execution_count": 28,
   "id": "8fc9d670-910c-4187-a4a4-c22712ac02fa",
   "metadata": {},
   "outputs": [
    {
     "data": {
      "text/plain": [
       "(15, 15.0)"
      ]
     },
     "execution_count": 28,
     "metadata": {},
     "output_type": "execute_result"
    }
   ],
   "source": [
    "i = '15'\n",
    "int(i), float(i)\n",
    "# 정상적으로 작동함"
   ]
  },
  {
   "cell_type": "code",
   "execution_count": 29,
   "id": "66e41283-f8d2-430c-831c-47f268457903",
   "metadata": {},
   "outputs": [
    {
     "ename": "ValueError",
     "evalue": "invalid literal for int() with base 10: '22.1'",
     "output_type": "error",
     "traceback": [
      "\u001b[1;31m---------------------------------------------------------------------------\u001b[0m",
      "\u001b[1;31mValueError\u001b[0m                                Traceback (most recent call last)",
      "\u001b[1;32m~\\AppData\\Local\\Temp/ipykernel_12312/486117409.py\u001b[0m in \u001b[0;36m<module>\u001b[1;34m\u001b[0m\n\u001b[0;32m      1\u001b[0m \u001b[0mj\u001b[0m \u001b[1;33m=\u001b[0m \u001b[1;34m'22.1'\u001b[0m\u001b[1;33m\u001b[0m\u001b[1;33m\u001b[0m\u001b[0m\n\u001b[1;32m----> 2\u001b[1;33m \u001b[0mint\u001b[0m\u001b[1;33m(\u001b[0m\u001b[0mj\u001b[0m\u001b[1;33m)\u001b[0m \u001b[1;31m# 22.1은 정수형으로 변환할 수 없어서 오류남\u001b[0m\u001b[1;33m\u001b[0m\u001b[1;33m\u001b[0m\u001b[0m\n\u001b[0m",
      "\u001b[1;31mValueError\u001b[0m: invalid literal for int() with base 10: '22.1'"
     ]
    }
   ],
   "source": [
    "j = '22.1'\n",
    "int(j) # 22.1은 정수형으로 변환할 수 없어서 오류남"
   ]
  },
  {
   "cell_type": "markdown",
   "id": "a6e89e58-2bf9-4149-83a9-5fbeec1a2bf7",
   "metadata": {
    "tags": []
   },
   "source": [
    "## print()와 관련한 꿀팁"
   ]
  },
  {
   "cell_type": "code",
   "execution_count": 32,
   "id": "25c7545d-ead7-4f60-9d12-e8e916e799b6",
   "metadata": {},
   "outputs": [
    {
     "name": "stdout",
     "output_type": "stream",
     "text": [
      "booklaptoptablet\n",
      "book laptop tablet\n"
     ]
    }
   ],
   "source": [
    "book = 'book'\n",
    "laptop = 'laptop'\n",
    "tablet = 'tablet'\n",
    "\n",
    "print(book + laptop + tablet) # space 없음, \\n 있음\n",
    "print(book, laptop, tablet) # space 있음, \\n 있음"
   ]
  },
  {
   "cell_type": "code",
   "execution_count": 34,
   "id": "f4692df3-38b8-4026-a73e-c6e52d34b67c",
   "metadata": {},
   "outputs": [
    {
     "name": "stdout",
     "output_type": "stream",
     "text": [
      "book laptop tablet\n",
      "book:laptop:tablet\n",
      "\n",
      "EOL\n"
     ]
    }
   ],
   "source": [
    "print(book, laptop, tablet, sep=' ', end='\\n') #argument 안에서는 붙여쓰기도 함, default\n",
    "print(book, laptop, tablet, sep=':', end='\\n\\n')\n",
    "print(\"EOL\")"
   ]
  },
  {
   "cell_type": "code",
   "execution_count": 40,
   "id": "df3a35a6-c0b6-4d53-a582-b75b9c316d00",
   "metadata": {},
   "outputs": [
    {
     "name": "stdout",
     "output_type": "stream",
     "text": [
      "My favorite device is book .\n",
      "My favorite device is book.\n"
     ]
    }
   ],
   "source": [
    "print(\"My favorite device is\",book,'.') # 지양할 것\n",
    "print(f\"My favorite device is {book}.\") #f스트링이 편함\n",
    "# 문자열 포매팅의 종류 알기\n",
    "# % 서식문자, str.format, f-string"
   ]
  },
  {
   "cell_type": "code",
   "execution_count": 41,
   "id": "0600aa53-2529-4f83-920d-7fda7ef583ec",
   "metadata": {},
   "outputs": [
    {
     "name": "stdout",
     "output_type": "stream",
     "text": [
      "text macbook ipad\n"
     ]
    }
   ],
   "source": [
    "# 코드 줄이 짧을 때에는 \";(세미콜론)\"을 이용해 한 줄로 만들 수 있음\n",
    "book = 'text' ; laptop = 'macbook' ; tablet = 'ipad'\n",
    "\n",
    "print(book, laptop, tablet)"
   ]
  },
  {
   "cell_type": "markdown",
   "id": "e16186fb-b72d-4b73-b4a4-d799c5b12e48",
   "metadata": {
    "tags": []
   },
   "source": [
    "## input() 함수\n",
    "- 콘솔에서 사용자가 입력한 값을 받을 수 있는 함수\n",
    "- 입력된 값은 모두 문자열로 인식됨\n",
    "- 입력 받은 값을 변수에 저장하여 사용할 것(변수에 따로 저장 안 하면 사라짐)\n",
    "- 원하는 자료형으로 형변환하기\n",
    "- int(input()), float(input()) ..."
   ]
  },
  {
   "cell_type": "code",
   "execution_count": 42,
   "id": "cb3c9a0f-064e-494d-ad52-74ade6578e1e",
   "metadata": {},
   "outputs": [
    {
     "name": "stdin",
     "output_type": "stream",
     "text": [
      "hello? hi\n"
     ]
    },
    {
     "data": {
      "text/plain": [
       "'hi'"
      ]
     },
     "execution_count": 42,
     "metadata": {},
     "output_type": "execute_result"
    }
   ],
   "source": [
    "input(\"hello?\")"
   ]
  },
  {
   "cell_type": "code",
   "execution_count": 43,
   "id": "de7e992a-873b-4496-871a-9ecf673ecd9e",
   "metadata": {},
   "outputs": [
    {
     "name": "stdin",
     "output_type": "stream",
     "text": [
      "나이가 어떻게 되나요? 22\n"
     ]
    },
    {
     "data": {
      "text/plain": [
       "22"
      ]
     },
     "execution_count": 43,
     "metadata": {},
     "output_type": "execute_result"
    }
   ],
   "source": [
    "int(input(\"나이가 어떻게 되나요?\"))\n",
    "# 입력받은 값을 정수형으로 변환"
   ]
  },
  {
   "cell_type": "markdown",
   "id": "d54c19b7-5aef-4722-b760-f349d931abc6",
   "metadata": {},
   "source": [
    "- 변수에 할당하는 방법"
   ]
  },
  {
   "cell_type": "code",
   "execution_count": 44,
   "id": "70b13ea9-71ed-4495-b205-95b058d18ca4",
   "metadata": {},
   "outputs": [
    {
     "name": "stdin",
     "output_type": "stream",
     "text": [
      "나이가 어떻게 되세요? 22\n"
     ]
    },
    {
     "data": {
      "text/plain": [
       "22"
      ]
     },
     "execution_count": 44,
     "metadata": {},
     "output_type": "execute_result"
    }
   ],
   "source": [
    "#1. \n",
    "age = int(input(\"나이가 어떻게 되세요?\"))\n",
    "age"
   ]
  },
  {
   "cell_type": "code",
   "execution_count": 45,
   "id": "c8a7b0f3-8dec-4b43-9e18-4148075b7f74",
   "metadata": {},
   "outputs": [
    {
     "name": "stdout",
     "output_type": "stream",
     "text": [
      "나이가 어떻게 되세요?\n"
     ]
    },
    {
     "name": "stdin",
     "output_type": "stream",
     "text": [
      " 22\n"
     ]
    }
   ],
   "source": [
    "#2.\n",
    "print(\"나이가 어떻게 되세요?\")\n",
    "age = int(input())"
   ]
  },
  {
   "cell_type": "markdown",
   "id": "a7c350cc-737b-4a24-abf7-e0f37bcbc7f5",
   "metadata": {
    "tags": []
   },
   "source": [
    "## Quiz 1\n",
    "- 섭씨온도를 입력받아 화씨온도로 변환하기\n",
    "- 섭씨 * 1.8 + 32 = 화씨"
   ]
  },
  {
   "cell_type": "code",
   "execution_count": 46,
   "id": "c5492faa-58ec-4914-864f-2cbdaaf41a86",
   "metadata": {},
   "outputs": [
    {
     "name": "stdin",
     "output_type": "stream",
     "text": [
      "섭씨 온도 입력:  100.0\n"
     ]
    },
    {
     "name": "stdout",
     "output_type": "stream",
     "text": [
      "섭씨온도 100.0는 화씨온도 212.0와 같음\n"
     ]
    }
   ],
   "source": [
    "celsius = float(input(\"섭씨 온도 입력: \"))\n",
    "fahrenheit = celsius * 1.8 + 32\n",
    "print(f\"섭씨온도 {celsius}는 화씨온도 {fahrenheit}와 같음\")"
   ]
  },
  {
   "cell_type": "markdown",
   "id": "a3800dcc-de99-4ccf-9326-e418f7f00338",
   "metadata": {},
   "source": [
    "## Quiz 2\n",
    "- 택배 정보를 입력받고 총 합계 계산하기\n",
    "- 출력값:\n",
    "    - ==택배 정보==\n",
    "    - 수취인 성명: <이름> \n",
    "    - 수취인 주소: <주소>\n",
    "    - 배송비: 3000원\n",
    "    - 물건비용: <가격>원\n",
    "    - 총 합계: <가격>\n",
    "- 물건 비용 = 무게(g) * 5\n",
    "- 합계 = 배송비 + 물건 비용\n",
    "- 입력받는것은 3개"
   ]
  },
  {
   "cell_type": "code",
   "execution_count": 47,
   "id": "c5941fc8-9140-4a8f-8308-0bf2c8348b64",
   "metadata": {},
   "outputs": [
    {
     "name": "stdin",
     "output_type": "stream",
     "text": [
      "수취인 성명:  손가현\n",
      "수취인 주소:  서울 어딘가\n",
      "무게(g):  2500\n"
     ]
    },
    {
     "name": "stdout",
     "output_type": "stream",
     "text": [
      "==택배 정보==\n",
      "수취인 성명: <손가현>\n",
      "수취인 주소: <서울 어딘가>\n",
      "배송비: 3000원\n",
      "물건 비용: 12500.0원\n",
      "총 합계: <15500.0>원\n"
     ]
    }
   ],
   "source": [
    "delivery_charge = 3000\n",
    "name = input(\"수취인 성명: \")\n",
    "address = input(\"수취인 주소: \")\n",
    "weight = float(input(\"무게(g): \"))\n",
    "product_price = weight * 5\n",
    "total_price = delivery_charge + product_price\n",
    "\n",
    "print(\"==택배 정보==\")\n",
    "print(f\"수취인 성명: <{name}>\")\n",
    "print(f\"수취인 주소: <{address}>\")\n",
    "print(f\"배송비: {delivery_charge}원\")\n",
    "print(f\"물건 비용: {product_price}원\")\n",
    "print(f\"총 합계: <{total_price}>원\")"
   ]
  },
  {
   "cell_type": "markdown",
   "id": "b91ae120-917e-42a6-9d9d-3f565898c1ba",
   "metadata": {
    "tags": []
   },
   "source": [
    "## Chapter 03: Numbers\n",
    "### boolean\n",
    "- 형변환 시 True인지 False인지 기억하기\n",
    "- False: '', None, 0, ...\n",
    "- 조건식에서 많이 쓴다. 예: 만약 조건이 True라면..."
   ]
  },
  {
   "cell_type": "code",
   "execution_count": 49,
   "id": "e06ddecb-00c9-4221-a98d-262364ad5756",
   "metadata": {},
   "outputs": [
    {
     "data": {
      "text/plain": [
       "True"
      ]
     },
     "execution_count": 49,
     "metadata": {},
     "output_type": "execute_result"
    }
   ],
   "source": [
    "bool(1)"
   ]
  },
  {
   "cell_type": "code",
   "execution_count": 50,
   "id": "dbc39959-6f29-49d4-a8d2-c2baa55f5b57",
   "metadata": {},
   "outputs": [
    {
     "data": {
      "text/plain": [
       "False"
      ]
     },
     "execution_count": 50,
     "metadata": {},
     "output_type": "execute_result"
    }
   ],
   "source": [
    "bool(None)"
   ]
  },
  {
   "cell_type": "code",
   "execution_count": 51,
   "id": "2d3eda73-acf1-42fa-b180-e0876c2d906a",
   "metadata": {},
   "outputs": [
    {
     "data": {
      "text/plain": [
       "True"
      ]
     },
     "execution_count": 51,
     "metadata": {},
     "output_type": "execute_result"
    }
   ],
   "source": [
    "bool(' ')"
   ]
  },
  {
   "cell_type": "code",
   "execution_count": 52,
   "id": "c1e669fc-4c95-43e4-ae62-380113b1668d",
   "metadata": {},
   "outputs": [
    {
     "data": {
      "text/plain": [
       "False"
      ]
     },
     "execution_count": 52,
     "metadata": {},
     "output_type": "execute_result"
    }
   ],
   "source": [
    "bool('')"
   ]
  },
  {
   "cell_type": "markdown",
   "id": "dd49a096-ede3-4572-9c50-659a77edc1b9",
   "metadata": {
    "tags": []
   },
   "source": [
    "### integer\n",
    "- 소수점 없음\n",
    "- default로 양수임, 음수는 앞에 -를 붙임.\n",
    "- 숫자 앞에는 0을 붙일 수 없다. 예: 05(안됨)\n",
    "    - 예외적으로 0bxxx, -> 다른 진수 표현법\n",
    "- 리터럴: 4\n",
    "- 숫자는 중간에 공백이 많아도 무시됨\n",
    "- 10,000원 => 10, 000원 두 개로 인식됨\n",
    "    - _(언더바) 사용해서 해결\n",
    "    - 예: 10_000"
   ]
  },
  {
   "cell_type": "code",
   "execution_count": 53,
   "id": "19e3e1d2-d251-4c80-94ff-176eac662ab1",
   "metadata": {},
   "outputs": [
    {
     "data": {
      "text/plain": [
       "-1"
      ]
     },
     "execution_count": 53,
     "metadata": {},
     "output_type": "execute_result"
    }
   ],
   "source": [
    "# 음수\n",
    "minus_num = -10\n",
    "minus_num + 9"
   ]
  },
  {
   "cell_type": "code",
   "execution_count": 54,
   "id": "e63270e8-30c5-485a-941f-1e3d784d14ab",
   "metadata": {},
   "outputs": [
    {
     "ename": "SyntaxError",
     "evalue": "leading zeros in decimal integer literals are not permitted; use an 0o prefix for octal integers (Temp/ipykernel_12312/2238685037.py, line 2)",
     "output_type": "error",
     "traceback": [
      "\u001b[1;36m  File \u001b[1;32m\"C:\\Users\\user\\AppData\\Local\\Temp/ipykernel_12312/2238685037.py\"\u001b[1;36m, line \u001b[1;32m2\u001b[0m\n\u001b[1;33m    zero_num = 09\u001b[0m\n\u001b[1;37m                ^\u001b[0m\n\u001b[1;31mSyntaxError\u001b[0m\u001b[1;31m:\u001b[0m leading zeros in decimal integer literals are not permitted; use an 0o prefix for octal integers\n"
     ]
    }
   ],
   "source": [
    "# 숫자 앞에 0을 붙일 수 있음\n",
    "zero_num = 09"
   ]
  },
  {
   "cell_type": "code",
   "execution_count": 55,
   "id": "56a61196-0e29-42ee-ae86-920678e2e0b5",
   "metadata": {},
   "outputs": [
    {
     "data": {
      "text/plain": [
       "-6"
      ]
     },
     "execution_count": 55,
     "metadata": {},
     "output_type": "execute_result"
    }
   ],
   "source": [
    "# 숫자 중간의 공백은 무시됨\n",
    "space_num = -9 + 8                      -5\n",
    "space_num"
   ]
  },
  {
   "cell_type": "code",
   "execution_count": 57,
   "id": "e5c11d2d-3716-4bff-9be5-cfd2a1177828",
   "metadata": {},
   "outputs": [
    {
     "data": {
      "text/plain": [
       "10000"
      ]
     },
     "execution_count": 57,
     "metadata": {},
     "output_type": "execute_result"
    }
   ],
   "source": [
    "# 숫자 사이 언더바(_)\n",
    "underbar_num = 10_000\n",
    "underbar_num"
   ]
  },
  {
   "cell_type": "markdown",
   "id": "83ad83d9-dc19-456c-9a96-7f397d490d65",
   "metadata": {
    "tags": []
   },
   "source": [
    "### 연산\n",
    "- 연산자(operator): +, -, *, ...\n",
    "- 피연산자(operand): 4, 5, ...\n",
    "- 수식(expression)"
   ]
  },
  {
   "cell_type": "code",
   "execution_count": 59,
   "id": "204ce068-ed37-4f0b-84b9-cd2203bbed40",
   "metadata": {},
   "outputs": [
    {
     "data": {
      "text/plain": [
       "19683"
      ]
     },
     "execution_count": 59,
     "metadata": {},
     "output_type": "execute_result"
    }
   ],
   "source": [
    "x = 3\n",
    "y = 9\n",
    "\n",
    "x + y \n",
    "x - y\n",
    "x * y\n",
    "x / y\n",
    "\n",
    "# 거듭제곱(exponential) 은 x**y\n",
    "x ** y"
   ]
  },
  {
   "cell_type": "code",
   "execution_count": 62,
   "id": "08a69fb9-c205-4bf6-9bf2-cbe01ae8849f",
   "metadata": {},
   "outputs": [
    {
     "data": {
      "text/plain": [
       "(0, 3, 0.3333333333333333)"
      ]
     },
     "execution_count": 62,
     "metadata": {},
     "output_type": "execute_result"
    }
   ],
   "source": [
    "# 나눗셈에서 주의할 사항\n",
    "\n",
    "#1. division by zero 불가능 => 주의 (위의 예에서 y!=0)\n",
    "#2. 몫, 나머지 표현\n",
    "x // y , x % y, x / y\n",
    "# 몫 나누기, 나머지, 그냥 나누기"
   ]
  },
  {
   "cell_type": "code",
   "execution_count": 63,
   "id": "157cc24f-14f0-45ed-b2a2-448a78abbbad",
   "metadata": {},
   "outputs": [
    {
     "data": {
      "text/plain": [
       "(0, 3)"
      ]
     },
     "execution_count": 63,
     "metadata": {},
     "output_type": "execute_result"
    }
   ],
   "source": [
    "# divmod(x,y) -> 몫과 나머지를 튜플 형태로 반환\n",
    "divmod(x, y)"
   ]
  },
  {
   "cell_type": "markdown",
   "id": "5f2429e5-ebec-48b5-ab45-cd04f2429223",
   "metadata": {
    "tags": []
   },
   "source": [
    "#### 복합대입연산자"
   ]
  },
  {
   "cell_type": "code",
   "execution_count": 64,
   "id": "5d45524e-8bef-4536-a3d1-96809ff2a044",
   "metadata": {},
   "outputs": [],
   "source": [
    "a = a - 3\n",
    "\n",
    "#1. a - 3 계산\n",
    "#2. 임시변수 temp에 = a - 3 저장\n",
    "#3. a = a - 3\n",
    "# 다음과 같은 과정을 복합대입연산자로 간단하게 표현\n",
    "\n",
    "a -= 3"
   ]
  },
  {
   "cell_type": "code",
   "execution_count": 65,
   "id": "e50de468-4e77-4f35-b107-605523da2606",
   "metadata": {},
   "outputs": [],
   "source": [
    "a += 3\n",
    "a -= 3\n",
    "a *= 3\n",
    "a /= 3"
   ]
  },
  {
   "cell_type": "code",
   "execution_count": 66,
   "id": "43a13c59-e6a1-4e7a-88f8-0987ec01dfb6",
   "metadata": {},
   "outputs": [
    {
     "ename": "NameError",
     "evalue": "name 'u' is not defined",
     "output_type": "error",
     "traceback": [
      "\u001b[1;31m---------------------------------------------------------------------------\u001b[0m",
      "\u001b[1;31mNameError\u001b[0m                                 Traceback (most recent call last)",
      "\u001b[1;32m~\\AppData\\Local\\Temp/ipykernel_12312/274668287.py\u001b[0m in \u001b[0;36m<module>\u001b[1;34m\u001b[0m\n\u001b[1;32m----> 1\u001b[1;33m \u001b[0mu\u001b[0m \u001b[1;33m=\u001b[0m \u001b[0mu\u001b[0m \u001b[1;33m+\u001b[0m \u001b[1;36m1\u001b[0m\u001b[1;33m\u001b[0m\u001b[1;33m\u001b[0m\u001b[0m\n\u001b[0m\u001b[0;32m      2\u001b[0m \u001b[1;31m# 초기화 안 된 값은 안 되는 것 주의하기\u001b[0m\u001b[1;33m\u001b[0m\u001b[1;33m\u001b[0m\u001b[0m\n",
      "\u001b[1;31mNameError\u001b[0m: name 'u' is not defined"
     ]
    }
   ],
   "source": [
    "u = u + 1\n",
    "# 초기화 안 된 값은 안 되는 것 주의하기"
   ]
  },
  {
   "cell_type": "markdown",
   "id": "ca6c4bf9-28a3-417c-a816-e2e654b96b6c",
   "metadata": {
    "tags": []
   },
   "source": [
    "## Quiz 3\n",
    "- 정수를 입력받고 3의 배수인지 확인하세요\n",
    "- 정수를 입력받고 홀수인지 확인하세요"
   ]
  },
  {
   "cell_type": "code",
   "execution_count": 68,
   "id": "c5e40db5-277f-48da-8122-f0fcbe0d8937",
   "metadata": {},
   "outputs": [
    {
     "name": "stdin",
     "output_type": "stream",
     "text": [
      "정수를 입력하세요:  9\n"
     ]
    },
    {
     "name": "stdout",
     "output_type": "stream",
     "text": [
      "3의 배수입니다\n"
     ]
    },
    {
     "name": "stdin",
     "output_type": "stream",
     "text": [
      "정수를 입력하세요:  13\n"
     ]
    },
    {
     "name": "stdout",
     "output_type": "stream",
     "text": [
      "홀수입니다\n"
     ]
    }
   ],
   "source": [
    "int_num1 = int(input(\"정수를 입력하세요: \"))\n",
    "if int_num1 % 3 == 0:\n",
    "    print(\"3의 배수입니다\")\n",
    "else:\n",
    "    print(\"3의 배수가 아닙니다\")\n",
    "    \n",
    "int_num2 = int(input(\"정수를 입력하세요: \"))\n",
    "if int_num2 % 2 != 0:\n",
    "    print(\"홀수입니다\")\n",
    "else:\n",
    "    print(\"짝수입니다\")"
   ]
  },
  {
   "cell_type": "code",
   "execution_count": 70,
   "id": "2f4363f5-d9a5-445a-85c8-9e7a82c7f16d",
   "metadata": {},
   "outputs": [
    {
     "name": "stdin",
     "output_type": "stream",
     "text": [
      "정수를 입력하세요:  9\n"
     ]
    },
    {
     "name": "stdout",
     "output_type": "stream",
     "text": [
      "True\n",
      "True\n"
     ]
    }
   ],
   "source": [
    "int_num = int(input(\"정수를 입력하세요: \"))\n",
    "print(int_num % 3 == 0)\n",
    "print(int_num % 2 != 0)"
   ]
  },
  {
   "cell_type": "markdown",
   "id": "af1a43e8-720a-4d60-9d26-5e4e733a8daa",
   "metadata": {
    "tags": []
   },
   "source": [
    "### 지수 표현\n",
    "- e, E 둘다 가능함\n",
    "- 앞부분은 float, int 형\n",
    "- 뒷부분은 int 자료형만 옴\n",
    "    - e 기준으로 뒷부분이 양수면 0 앞으로 (그러니까 소수점이 오른쪽으로 이동)\n",
    "    - e 기준으로 뒷부분이 음수면 0 뒤로 (소수점)"
   ]
  },
  {
   "cell_type": "code",
   "execution_count": 71,
   "id": "9f89fee5-e353-4ef3-a9e9-2470bd472bbc",
   "metadata": {},
   "outputs": [
    {
     "data": {
      "text/plain": [
       "1000000.0"
      ]
     },
     "execution_count": 71,
     "metadata": {},
     "output_type": "execute_result"
    }
   ],
   "source": [
    "1.0e6"
   ]
  },
  {
   "cell_type": "code",
   "execution_count": 72,
   "id": "75f02c12-b249-40e9-9caa-c4eec1c5d37d",
   "metadata": {},
   "outputs": [
    {
     "data": {
      "text/plain": [
       "4000.0"
      ]
     },
     "execution_count": 72,
     "metadata": {},
     "output_type": "execute_result"
    }
   ],
   "source": [
    "4.0e3"
   ]
  },
  {
   "cell_type": "code",
   "execution_count": 75,
   "id": "4fd987b7-a365-4cc0-8ad7-a2dc02d0ebfd",
   "metadata": {},
   "outputs": [
    {
     "data": {
      "text/plain": [
       "0.005"
      ]
     },
     "execution_count": 75,
     "metadata": {},
     "output_type": "execute_result"
    }
   ],
   "source": [
    "5.0e-3"
   ]
  },
  {
   "cell_type": "code",
   "execution_count": 76,
   "id": "0c407605-dec1-41c9-98ca-6ba41b790c6e",
   "metadata": {},
   "outputs": [
    {
     "data": {
      "text/plain": [
       "0.000789"
      ]
     },
     "execution_count": 76,
     "metadata": {},
     "output_type": "execute_result"
    }
   ],
   "source": [
    "# 0.000789의 지수표현은?\n",
    "7.89e-4"
   ]
  },
  {
   "cell_type": "code",
   "execution_count": 77,
   "id": "3880b77b-0fbd-4365-8ddd-427f4dc96d55",
   "metadata": {},
   "outputs": [],
   "source": [
    "# 0.00789e-1 같이 사용하지 않기"
   ]
  },
  {
   "cell_type": "markdown",
   "id": "48205e02-f3f4-4c98-a842-c92ca6ee7c98",
   "metadata": {},
   "source": [
    "### 조건문,if\n",
    "- code structure\n",
    "\n",
    "### 코드 짜는 룰\n",
    "- 주석 다는 법\n",
    "    - 설명하는 부분\n",
    "    - 목적: 의도를 표현한다\n",
    "    - '#' hash, sharp...\n",
    "    - 시작된 부분부터 그 라인의 끝까지가 주석\n",
    "    - 문자열 안에 들어있는 해시(#)는 문자열로 인식\n",
    "    - \"\"\" \"\"\"\n",
    " \n",
    " - 라인 유지하기\n",
    "     - 들여쓰기, 공백 4개, 탭 1개\n",
    "     - 한 줄에 최대 80자 넘지 않게\n",
    "     - 백슬래시로 끊어주기"
   ]
  },
  {
   "cell_type": "code",
   "execution_count": 78,
   "id": "aa98377f-c8a9-4304-abd6-ac097044a0f2",
   "metadata": {},
   "outputs": [],
   "source": [
    "a = 3 #여기부터 라인 끝\n",
    "b = 2"
   ]
  },
  {
   "cell_type": "code",
   "execution_count": 80,
   "id": "9f45bba2-edc4-4708-b752-0c58cd1d8eb4",
   "metadata": {},
   "outputs": [
    {
     "name": "stdout",
     "output_type": "stream",
     "text": [
      "hey ###\n"
     ]
    },
    {
     "data": {
      "text/plain": [
       "'\\n주석1\\n주석2\\n주석3\\n'"
      ]
     },
     "execution_count": 80,
     "metadata": {},
     "output_type": "execute_result"
    }
   ],
   "source": [
    "example = 'hey ###'\n",
    "print(example)\n",
    "\n",
    "\"\"\"\n",
    "주석1\n",
    "주석2\n",
    "주석3\n",
    "\"\"\"\n",
    "\n",
    "# 코드에서 볼 수 있지만 코드 결과에 영향을 미치지 않음"
   ]
  },
  {
   "cell_type": "markdown",
   "id": "1e73ed63-5d78-4ccb-a553-541c467b6a5b",
   "metadata": {
    "tags": []
   },
   "source": [
    "- 조건 1개 \n",
    "if <조건식>:\n",
    "    <실행할 코드>"
   ]
  },
  {
   "cell_type": "code",
   "execution_count": 81,
   "id": "a937bdf6-aa61-48df-96f2-691cd6dab5c9",
   "metadata": {},
   "outputs": [
    {
     "name": "stdout",
     "output_type": "stream",
     "text": [
      "Yeah\n"
     ]
    }
   ],
   "source": [
    "if 5 != 11:\n",
    "    print(\"Yeah\")"
   ]
  },
  {
   "cell_type": "markdown",
   "id": "7732d1bf-fa29-460b-a128-3f5c97ab5b96",
   "metadata": {
    "tags": []
   },
   "source": [
    "- 조건 2개\n",
    "-   \n",
    "    if <조건식1>:\n",
    "        <실행할 코드>\n",
    "    else:\n",
    "        <실행할 코드 2>"
   ]
  },
  {
   "cell_type": "code",
   "execution_count": 82,
   "id": "11d33738-2e9e-410a-9d59-93ad1dacc495",
   "metadata": {},
   "outputs": [
    {
     "name": "stdout",
     "output_type": "stream",
     "text": [
      "Hey!\n"
     ]
    }
   ],
   "source": [
    "if 5 == 11:\n",
    "    print(\"Yaay!\")\n",
    "else:\n",
    "    print(\"Hey!\")"
   ]
  },
  {
   "cell_type": "markdown",
   "id": "e5f66f69-dd72-4176-b171-ccb5dfa22990",
   "metadata": {
    "tags": []
   },
   "source": [
    "- 조건 3개 이상\n",
    "-   \n",
    "    if <조건식1>:\n",
    "        <실행할 코드>\n",
    "    elif:\n",
    "        <실행할 코드 2>\n",
    "    else:\n",
    "        <실행할 코드 3>"
   ]
  },
  {
   "cell_type": "code",
   "execution_count": 83,
   "id": "790bff5a-868b-4f5f-9677-05a003a9e89a",
   "metadata": {},
   "outputs": [
    {
     "name": "stdout",
     "output_type": "stream",
     "text": [
      "yeah\n"
     ]
    }
   ],
   "source": [
    "if 50 == 43:\n",
    "    print(\"Yah\")\n",
    "elif 50 == 32:\n",
    "    print(\"hi\")\n",
    "else:\n",
    "    print(\"yeah\")"
   ]
  },
  {
   "cell_type": "markdown",
   "id": "ff9bdef8-f1f4-4469-a7df-1ebfd164bd1a",
   "metadata": {
    "tags": []
   },
   "source": [
    "### 비교연산자\n",
    "- x < y , x <= y\n",
    "- x > y , x >= y\n",
    "- x == y (값을 비교)\n",
    "- x != y (값을 비교)\n",
    "- x is y (값, 메모리주소를 비교)\n",
    "- x is not y(값, 메모리주소를 비교)"
   ]
  },
  {
   "cell_type": "markdown",
   "id": "737d7b24-2c15-4459-9ca9-45a3cf89208d",
   "metadata": {
    "tags": []
   },
   "source": [
    "### Quiz 4.\n",
    "- 학점 부여하기\n",
    "- 학점을 입력받아서 \n",
    "    - 90점 이상이면 A\n",
    "    - 80점 이상이면 B\n",
    "    - 70점 이상이면 C\n",
    "    - 그 외는 D\n",
    "- 변수 이름 주의"
   ]
  },
  {
   "cell_type": "code",
   "execution_count": 85,
   "id": "868763a5-3caa-489b-b8cf-b44b56ae151d",
   "metadata": {},
   "outputs": [
    {
     "name": "stdin",
     "output_type": "stream",
     "text": [
      "점수를 입력해주세요:  80\n"
     ]
    },
    {
     "name": "stdout",
     "output_type": "stream",
     "text": [
      "학점은 B입니다\n"
     ]
    }
   ],
   "source": [
    "score = float(input(\"점수를 입력해주세요: \"))\n",
    "\n",
    "if score >= 90:\n",
    "    grade = \"A\"\n",
    "elif score >= 80:\n",
    "    grade = \"B\"\n",
    "elif score >= 70:\n",
    "    grade = \"C\"\n",
    "else:\n",
    "    grade = \"D\"\n",
    "    \n",
    "print(f\"학점은 {grade}입니다\")"
   ]
  },
  {
   "cell_type": "markdown",
   "id": "6bb9e66f-4ead-4fff-9d2d-5b2f472a7ef2",
   "metadata": {
    "tags": []
   },
   "source": [
    "### Quiz 5.\n",
    "- 아이디와 비번을 입력받아 둘다 일치하면 로그인\n",
    "- 아이디와 비밀번호는 각자 지정\n",
    "- 일치하지 않을 경우 창의적으로 출력"
   ]
  },
  {
   "cell_type": "code",
   "execution_count": 86,
   "id": "6b57974d-1623-4665-8671-14dac7d805f0",
   "metadata": {},
   "outputs": [
    {
     "name": "stdin",
     "output_type": "stream",
     "text": [
      "아이디를 입력해주세요:  gahyunson\n",
      "비밀번호를 입력해주세요:  1111111\n"
     ]
    },
    {
     "name": "stdout",
     "output_type": "stream",
     "text": [
      "비밀번호가 틀렸습니다\n"
     ]
    }
   ],
   "source": [
    "identity = \"gahyunson\"\n",
    "password = \"songahyun\"\n",
    "\n",
    "input_id = input(\"아이디를 입력해주세요: \")\n",
    "input_pw = input(\"비밀번호를 입력해주세요: \")\n",
    "\n",
    "if input_id == identity and input_pw == password:\n",
    "    print(\"로그인 성공\")\n",
    "elif input_id == identity and input_pw != password:\n",
    "    print(\"비밀번호가 틀렸습니다\")\n",
    "elif input_id != identity and input_pw == password:\n",
    "    print(\"아이디가 틀렸습니다\")\n",
    "else:\n",
    "    print(\"다시 입력해주세요\")"
   ]
  },
  {
   "cell_type": "markdown",
   "id": "e1b69175-a972-4e42-8904-7ebe1d453e8a",
   "metadata": {
    "tags": []
   },
   "source": [
    "### 논리연산자\n",
    "- 여러 조건식을 비교할 때 사용\n",
    "- 예: 10 < x < 20\n",
    "    - 파이썬에서만 가능한 표현\n",
    "    - (x>10) or (x<20)\n",
    "    \n",
    "- and , & : 둘 다 참일 때 True\n",
    "- or , | : 둘 중 하나만 참이어도 True\n",
    "- not : 참이면 False, 거짓이면 True"
   ]
  },
  {
   "cell_type": "markdown",
   "id": "313d055c-034f-4c23-bf04-3f41557fb296",
   "metadata": {
    "tags": []
   },
   "source": [
    "### Quiz 6.\n",
    "- quiz 4 확장\n",
    "- 결석 횟수를 받아서 점수가 80점 이상인데 결석이 2번 이상이면 F, 나머지는 점수대로\n",
    "- 논리연산자 이용하는 방법, if 크게 2번 사용하는 방법"
   ]
  },
  {
   "cell_type": "code",
   "execution_count": 91,
   "id": "0eeb744f-63e2-4c29-90c8-678593dcedcd",
   "metadata": {},
   "outputs": [
    {
     "name": "stdin",
     "output_type": "stream",
     "text": [
      "점수를 입력해주세요:  90\n",
      "결석 횟수를 입력해주세요:  2\n"
     ]
    },
    {
     "name": "stdout",
     "output_type": "stream",
     "text": [
      "점수 90.0점, 결석 2번이므로 학점은 F입니다.\n"
     ]
    }
   ],
   "source": [
    "# 그냥 처음 떠올린 방법\n",
    "\n",
    "score = float(input(\"점수를 입력해주세요: \"))\n",
    "absence = int(input(\"결석 횟수를 입력해주세요: \"))\n",
    "grade = \"\"\n",
    "\n",
    "if score >= 80:\n",
    "    if absence < 2:\n",
    "        if score >= 90:\n",
    "            grade = \"A\"\n",
    "        else:\n",
    "            grade = \"B\"\n",
    "    else:\n",
    "        grade = \"F\"\n",
    "elif score >= 70:\n",
    "    grade = \"C\"\n",
    "else:\n",
    "    grade = \"D\"\n",
    "    \n",
    "print(f\"점수 {score}점, 결석 {absence}번이므로 학점은 {grade}입니다.\")"
   ]
  },
  {
   "cell_type": "code",
   "execution_count": 100,
   "id": "e291b100-11a3-411e-b99f-e7ca385a9475",
   "metadata": {},
   "outputs": [
    {
     "name": "stdin",
     "output_type": "stream",
     "text": [
      "점수를 입력해주세요:  80\n",
      "결석 횟수를 입력해주세요:  1\n"
     ]
    },
    {
     "name": "stdout",
     "output_type": "stream",
     "text": [
      "점수 80.0점, 결석 1번이므로 학점은 B입니다.\n"
     ]
    }
   ],
   "source": [
    "# 논리연산자 이용하는 방법\n",
    "\n",
    "score = float(input(\"점수를 입력해주세요: \"))\n",
    "absence = int(input(\"결석 횟수를 입력해주세요: \"))\n",
    "grade = \"\"\n",
    "\n",
    "if score >= 80 and absence >= 2:\n",
    "    grade = \"F\"\n",
    "\n",
    "elif score >= 90:\n",
    "    grade = \"A\"\n",
    "elif score >= 80:\n",
    "    grade = \"B\"\n",
    "elif score >= 70:\n",
    "    grade = \"C\"\n",
    "else:\n",
    "    grade = \"D\"\n",
    "\n",
    "print(f\"점수 {score}점, 결석 {absence}번이므로 학점은 {grade}입니다.\")"
   ]
  },
  {
   "cell_type": "code",
   "execution_count": 97,
   "id": "1ce520af-015f-4ce5-85df-761e974e3347",
   "metadata": {},
   "outputs": [
    {
     "name": "stdin",
     "output_type": "stream",
     "text": [
      "점수를 입력해주세요:  80\n",
      "결석 횟수를 입력해주세요:  1\n"
     ]
    },
    {
     "name": "stdout",
     "output_type": "stream",
     "text": [
      "점수 80.0점, 결석 1번이므로 학점은 B입니다.\n"
     ]
    }
   ],
   "source": [
    "# if 크게 2번 사용하는 방법\n",
    "\n",
    "score = float(input(\"점수를 입력해주세요: \"))\n",
    "absence = int(input(\"결석 횟수를 입력해주세요: \"))\n",
    "grade = \"\"\n",
    "\n",
    "if score >= 90:\n",
    "    grade = \"A\"\n",
    "elif score >= 80:\n",
    "    grade = \"B\"\n",
    "elif score >= 70:\n",
    "    grade = \"C\"\n",
    "else:\n",
    "    grade = \"D\"\n",
    "    \n",
    "if score >= 80:\n",
    "    if absence >= 2:\n",
    "        grade = \"F\"\n",
    "    \n",
    "print(f\"점수 {score}점, 결석 {absence}번이므로 학점은 {grade}입니다.\")"
   ]
  },
  {
   "cell_type": "code",
   "execution_count": null,
   "id": "d82f5886-b3e5-4ae6-ae7f-5f55188a854c",
   "metadata": {},
   "outputs": [],
   "source": []
  }
 ],
 "metadata": {
  "kernelspec": {
   "display_name": "Python 3 (ipykernel)",
   "language": "python",
   "name": "python3"
  },
  "language_info": {
   "codemirror_mode": {
    "name": "ipython",
    "version": 3
   },
   "file_extension": ".py",
   "mimetype": "text/x-python",
   "name": "python",
   "nbconvert_exporter": "python",
   "pygments_lexer": "ipython3",
   "version": "3.9.7"
  }
 },
 "nbformat": 4,
 "nbformat_minor": 5
}
