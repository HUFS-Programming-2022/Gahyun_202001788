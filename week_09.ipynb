{
 "cells": [
  {
   "cell_type": "markdown",
   "id": "6de0db68-40a8-447f-995c-ee75a6b64c60",
   "metadata": {},
   "source": [
    "# Week_09(0429) 복습"
   ]
  },
  {
   "cell_type": "markdown",
   "id": "762e0e6e-ff33-4924-b367-5caaca6a2542",
   "metadata": {},
   "source": [
    "## Dictionary\n",
    "- 영어 사전과 같은 구조로 생각하면 됨\n",
    "    - 단어: 뜻\n",
    "    - 키: 값\n",
    "    - 순서가 없다. => 인덱싱 불가능\n",
    "    - \"키로 값을 찾는다.\"\n",
    "        - 키를 중복되지 않는 고유한 값\n",
    "    - 가변 타입: 수정, 삭제, 추가 가능\n",
    "    - 타입: dict\n",
    "    - 형 변환: dict()로 하면 됨\n",
    "    - 중괄호 사용 {}, 콤마로 구분함\n",
    "    - 값에 다양한 자료구조가 올 수 있음\n",
    "        - a: 1, a: [1, 2, 3, 4] ... 리스트도 올 수 있다. "
   ]
  },
  {
   "cell_type": "code",
   "execution_count": 3,
   "id": "ee46f72d-2875-44a5-b88c-63ebd9ef3338",
   "metadata": {},
   "outputs": [
    {
     "name": "stdout",
     "output_type": "stream",
     "text": [
      "<class 'dict'>\n",
      "<class 'set'>\n"
     ]
    }
   ],
   "source": [
    "# 빈 딕셔너리 선언하는 방법\n",
    "\n",
    "empty_dict = dict()\n",
    "empty_dict = {} # 이건 dict type\n",
    "print(type(empty_dict))\n",
    "\n",
    "# set과 헷갈리지 말자\n",
    "empty_set = set() # 이렇게 해야 set\n",
    "print(type(empty_set))"
   ]
  },
  {
   "cell_type": "code",
   "execution_count": 4,
   "id": "87311042-8424-4ec5-9334-245822929eee",
   "metadata": {},
   "outputs": [
    {
     "data": {
      "text/plain": [
       "({1, 2, 3}, {1: 'apple', 2: 'banana', 3: 'kiwi'})"
      ]
     },
     "execution_count": 4,
     "metadata": {},
     "output_type": "execute_result"
    }
   ],
   "source": [
    "a = {1, 2, 3} # set\n",
    "\n",
    "b = {1: 'apple', 2: 'banana', 3: 'kiwi'} # dict\n",
    "\n",
    "a, b"
   ]
  },
  {
   "cell_type": "code",
   "execution_count": 5,
   "id": "185ced97-d9b0-4625-a087-dcc2ac7de317",
   "metadata": {},
   "outputs": [
    {
     "data": {
      "text/plain": [
       "{'apple': 'a', 'banana': 'b', 'kiwi': 'c'}"
      ]
     },
     "execution_count": 5,
     "metadata": {},
     "output_type": "execute_result"
    }
   ],
   "source": [
    "b = {'': '', '': '', '': ''}\n",
    "\n",
    "# 이렇게 선언하는 경우 key값에 따옴표 안 해도 됨\n",
    "b = dict(apple='a', banana='b', kiwi='c')\n",
    "b"
   ]
  },
  {
   "cell_type": "code",
   "execution_count": 6,
   "id": "43eeb2c1-f6a4-423d-8a46-25032885e46e",
   "metadata": {},
   "outputs": [],
   "source": [
    "# 딕셔너리 실습\n",
    "# 출석부로 딕셔너리 만들기\n",
    "\n",
    "# 이름, 학번, 학과\n",
    "# james 202201 경제학과\n",
    "# laura 202203 스페인어과\n",
    "# louis 202202 컴공과"
   ]
  },
  {
   "cell_type": "code",
   "execution_count": 7,
   "id": "09d09749-361a-4e95-875d-92a3de56bfc5",
   "metadata": {},
   "outputs": [],
   "source": [
    "# 중복 안 되는 값을 key로 하기\n",
    "\n",
    "attendance_list = {'202201': ['james', '경제학과'], '202202': ['louis', '컴공과'], '202203': ['laura', '스페인어과']}"
   ]
  },
  {
   "cell_type": "code",
   "execution_count": 11,
   "id": "1187586c-8780-443f-9feb-4b6df0b7df7f",
   "metadata": {},
   "outputs": [
    {
     "data": {
      "text/plain": [
       "'james'"
      ]
     },
     "execution_count": 11,
     "metadata": {},
     "output_type": "execute_result"
    }
   ],
   "source": [
    "attendance_list['202201'][0]"
   ]
  },
  {
   "cell_type": "markdown",
   "id": "e13a0619-01ef-4945-b230-d5a20bbac624",
   "metadata": {},
   "source": [
    "### 형 변환\n",
    "- key, value 값이 쌍으로 있을 때 가능함"
   ]
  },
  {
   "cell_type": "code",
   "execution_count": 12,
   "id": "36c154e7-29c9-4cd0-8872-763267faf13a",
   "metadata": {},
   "outputs": [
    {
     "data": {
      "text/plain": [
       "{1: 2, 2: 3, 3: 4}"
      ]
     },
     "execution_count": 12,
     "metadata": {},
     "output_type": "execute_result"
    }
   ],
   "source": [
    "# [] 안에 []가 쌍으로 존재할 때\n",
    "# 튜플이어도 가능함\n",
    "\n",
    "ex1 = [[1,2], [2,3], [3,4]]\n",
    "dict(ex1)"
   ]
  },
  {
   "cell_type": "code",
   "execution_count": 19,
   "id": "cbd55234-ec20-4417-9641-3d51c0da0cdc",
   "metadata": {},
   "outputs": [
    {
     "data": {
      "text/plain": [
       "{1: 3, 2: 3}"
      ]
     },
     "execution_count": 19,
     "metadata": {},
     "output_type": "execute_result"
    }
   ],
   "source": [
    "# key가 똑같다면 마지막에 나오는 것을 기준으로 함\n",
    "\n",
    "ex2 = [(1,2),(2,3),(1,3)]\n",
    "dict(ex2)"
   ]
  },
  {
   "cell_type": "code",
   "execution_count": 20,
   "id": "4b19ba37-a97b-4cc8-89e0-dcd8971fa740",
   "metadata": {},
   "outputs": [
    {
     "data": {
      "text/plain": [
       "{'a': 'b', 'b': 'c', 'c': 'd'}"
      ]
     },
     "execution_count": 20,
     "metadata": {},
     "output_type": "execute_result"
    }
   ],
   "source": [
    "# 문자열은 두 자리 문자열까지만 가능\n",
    "\n",
    "ex3 = ['ab', 'bc', 'cd'] \n",
    "dict(ex3)"
   ]
  },
  {
   "cell_type": "markdown",
   "id": "12e21c55-13b8-4c0e-bac1-b339f214a1eb",
   "metadata": {},
   "source": [
    "### 항목 조회 & 변경"
   ]
  },
  {
   "cell_type": "code",
   "execution_count": 21,
   "id": "5537625f-442f-4057-901a-5f0b06f69132",
   "metadata": {},
   "outputs": [],
   "source": [
    "pythons = {\n",
    "    'Chapman' : 'Graham',\n",
    "    'Cleese' : 'John',\n",
    "    'Idle' : 'Eric',\n",
    "    'Jones' : 'Terry',\n",
    "    'Palin' : 'Michael'\n",
    "}"
   ]
  },
  {
   "cell_type": "code",
   "execution_count": 23,
   "id": "feb9f7d4-aa96-4474-98da-5887b03e7814",
   "metadata": {},
   "outputs": [
    {
     "data": {
      "text/plain": [
       "'Eric'"
      ]
     },
     "execution_count": 23,
     "metadata": {},
     "output_type": "execute_result"
    }
   ],
   "source": [
    "# 항목 조회(key로 value를 찾음)\n",
    "# 없는 값이면 예외\n",
    "\n",
    "pythons['Idle'] "
   ]
  },
  {
   "cell_type": "code",
   "execution_count": 24,
   "id": "ca448881-e7a6-48b9-83a5-3a5762386c7d",
   "metadata": {},
   "outputs": [
    {
     "name": "stdout",
     "output_type": "stream",
     "text": [
      "False\n"
     ]
    },
    {
     "data": {
      "text/plain": [
       "0"
      ]
     },
     "execution_count": 24,
     "metadata": {},
     "output_type": "execute_result"
    }
   ],
   "source": [
    "# 예외 없게 하는 방법\n",
    "\n",
    "# 값이 있는지 확인하기\n",
    "print('Hwa' in pythons)\n",
    "\n",
    "# get() : key가 있으면 값을 반환, 없으면 None을 반환하는데 반환값 설정 가능\n",
    "pythons.get('Lee', 0)"
   ]
  },
  {
   "cell_type": "code",
   "execution_count": 25,
   "id": "2c611bab-8a1b-4051-82e8-a401bfb9f4f7",
   "metadata": {},
   "outputs": [
    {
     "data": {
      "text/plain": [
       "{'Chapman': 'Graham',\n",
       " 'Cleese': 'John',\n",
       " 'Idle': 'James',\n",
       " 'Jones': 'Terry',\n",
       " 'Palin': 'Michael'}"
      ]
     },
     "execution_count": 25,
     "metadata": {},
     "output_type": "execute_result"
    }
   ],
   "source": [
    "# 항목 변경\n",
    "\n",
    "pythons['Idle'] = 'James' \n",
    "pythons"
   ]
  },
  {
   "cell_type": "markdown",
   "id": "6af5b831-5766-43b1-9d0f-2efc0eaa390c",
   "metadata": {},
   "source": [
    "### 항목 추가 & 삭제 "
   ]
  },
  {
   "cell_type": "code",
   "execution_count": 41,
   "id": "a6147868-d0d7-46af-b844-40d90cb30e86",
   "metadata": {},
   "outputs": [
    {
     "data": {
      "text/plain": [
       "{'Chapman': 'Graham',\n",
       " 'Cleese': 'John',\n",
       " 'Idle': 'James',\n",
       " 'Jones': 'Terry',\n",
       " 'Palin': 'Michael',\n",
       " 'Howard': 'Noe',\n",
       " 'Hwa': 'Chloe'}"
      ]
     },
     "execution_count": 41,
     "metadata": {},
     "output_type": "execute_result"
    }
   ],
   "source": [
    "# 항목 추가\n",
    "\n",
    "pythons['Hwa'] = 'Chloe'\n",
    "pythons"
   ]
  },
  {
   "cell_type": "code",
   "execution_count": 42,
   "id": "41791fd0-bee7-46ce-92b1-1c1e2dcc8df6",
   "metadata": {},
   "outputs": [
    {
     "data": {
      "text/plain": [
       "{'Chapman': 'Graham',\n",
       " 'Cleese': 'John',\n",
       " 'Idle': 'James',\n",
       " 'Jones': 'Terry',\n",
       " 'Palin': 'Michael',\n",
       " 'Howard': 'Noe',\n",
       " 'Hwa': 'Chloe',\n",
       " 'Marx': 'Groucho'}"
      ]
     },
     "execution_count": 42,
     "metadata": {},
     "output_type": "execute_result"
    }
   ],
   "source": [
    "# 여러 개를 추가하는 경우 update\n",
    "# 만약 원래 있던 key라면 마지막 값 기준으로 update\n",
    "\n",
    "others = {\n",
    "    'Marx': 'Groucho',\n",
    "    'Howard' : 'Noe'\n",
    "}\n",
    "\n",
    "pythons.update(others)\n",
    "pythons"
   ]
  },
  {
   "cell_type": "code",
   "execution_count": 43,
   "id": "d2d4be34-77f2-4e8b-9709-361c3ec9b4e6",
   "metadata": {},
   "outputs": [
    {
     "data": {
      "text/plain": [
       "{'Marx': 'Groucho',\n",
       " 'Howard': 'Noe',\n",
       " 'Chapman': 'Graham',\n",
       " 'Cleese': 'John',\n",
       " 'Idle': 'James',\n",
       " 'Jones': 'Terry',\n",
       " 'Palin': 'Michael',\n",
       " 'Hwa': 'Chloe'}"
      ]
     },
     "execution_count": 43,
     "metadata": {},
     "output_type": "execute_result"
    }
   ],
   "source": [
    "# py3에서만 가능한 추가 방법\n",
    "\n",
    "{**others, **pythons}"
   ]
  },
  {
   "cell_type": "code",
   "execution_count": 44,
   "id": "2dca0d8b-8b28-442b-9859-5ed6e031026a",
   "metadata": {},
   "outputs": [
    {
     "data": {
      "text/plain": [
       "{'Chapman': 'Graham',\n",
       " 'Cleese': 'John',\n",
       " 'Idle': 'James',\n",
       " 'Jones': 'Terry',\n",
       " 'Palin': 'Michael',\n",
       " 'Howard': 'Noe',\n",
       " 'Marx': 'Groucho'}"
      ]
     },
     "execution_count": 44,
     "metadata": {},
     "output_type": "execute_result"
    }
   ],
   "source": [
    "# 항목 삭제\n",
    "\n",
    "del pythons['Hwa']\n",
    "pythons"
   ]
  },
  {
   "cell_type": "code",
   "execution_count": 45,
   "id": "af088b9d-8983-4d41-ac29-8358131e945f",
   "metadata": {},
   "outputs": [
    {
     "data": {
      "text/plain": [
       "{'Chapman': 'Graham',\n",
       " 'Cleese': 'John',\n",
       " 'Idle': 'James',\n",
       " 'Jones': 'Terry',\n",
       " 'Palin': 'Michael',\n",
       " 'Howard': 'Noe'}"
      ]
     },
     "execution_count": 45,
     "metadata": {},
     "output_type": "execute_result"
    }
   ],
   "source": [
    "# 값을 출력하고 삭제\n",
    "\n",
    "pythons.pop('Marx')\n",
    "pythons"
   ]
  },
  {
   "cell_type": "code",
   "execution_count": 46,
   "id": "db9e7731-b82c-4559-be19-0e56f38e78e8",
   "metadata": {},
   "outputs": [
    {
     "data": {
      "text/plain": [
       "0"
      ]
     },
     "execution_count": 46,
     "metadata": {},
     "output_type": "execute_result"
    }
   ],
   "source": [
    "# key가 없으면 예외는 나지만, 예외시 출력 값을 지정할 수 있음\n",
    "\n",
    "pythons.pop('Lee', 0) "
   ]
  },
  {
   "cell_type": "code",
   "execution_count": 48,
   "id": "4d9bce7c-d451-4cc8-8e32-a7b238d03bf3",
   "metadata": {},
   "outputs": [
    {
     "data": {
      "text/plain": [
       "{}"
      ]
     },
     "execution_count": 48,
     "metadata": {},
     "output_type": "execute_result"
    }
   ],
   "source": [
    "# 전체 삭제\n",
    "\n",
    "pythons.clear()\n",
    "pythons = {}\n",
    "\n",
    "pythons"
   ]
  },
  {
   "cell_type": "markdown",
   "id": "1bc7ccf5-8db0-4933-9013-c4e7415b5284",
   "metadata": {},
   "source": [
    "### 전체 조회\n",
    "- keys()\n",
    "- values()\n",
    "- items()"
   ]
  },
  {
   "cell_type": "code",
   "execution_count": 50,
   "id": "178b6775-d12d-40a2-9f63-b11635e927c6",
   "metadata": {},
   "outputs": [],
   "source": [
    "pythons = {\n",
    "    'Chapman' : 'Graham',\n",
    "    'Cleese' : 'John',\n",
    "    'Idle' : 'Eric',\n",
    "    'Jones' : 'Terry',\n",
    "    'Palin' : 'Michael',\n",
    "    'Hwa' : 'Chloe'\n",
    "}"
   ]
  },
  {
   "cell_type": "code",
   "execution_count": 52,
   "id": "31b6c44d-ef61-4a77-bca3-96d6d165b242",
   "metadata": {},
   "outputs": [
    {
     "data": {
      "text/plain": [
       "dict_keys(['Chapman', 'Cleese', 'Idle', 'Jones', 'Palin', 'Hwa'])"
      ]
     },
     "execution_count": 52,
     "metadata": {},
     "output_type": "execute_result"
    }
   ],
   "source": [
    "pythons.keys() # key값 조회"
   ]
  },
  {
   "cell_type": "code",
   "execution_count": 53,
   "id": "4e429991-9075-4cfc-903e-9cf142cfdb31",
   "metadata": {},
   "outputs": [
    {
     "data": {
      "text/plain": [
       "dict_values(['Graham', 'John', 'Eric', 'Terry', 'Michael', 'Chloe'])"
      ]
     },
     "execution_count": 53,
     "metadata": {},
     "output_type": "execute_result"
    }
   ],
   "source": [
    "pythons.values() # value값 조회"
   ]
  },
  {
   "cell_type": "code",
   "execution_count": 54,
   "id": "60f539c2-57fd-4858-ba4c-0287687f43c9",
   "metadata": {},
   "outputs": [
    {
     "data": {
      "text/plain": [
       "dict_items([('Chapman', 'Graham'), ('Cleese', 'John'), ('Idle', 'Eric'), ('Jones', 'Terry'), ('Palin', 'Michael'), ('Hwa', 'Chloe')])"
      ]
     },
     "execution_count": 54,
     "metadata": {},
     "output_type": "execute_result"
    }
   ],
   "source": [
    "pythons.items() # (키, 값) 튜플 형태로 -> 순회할 때 많이 씀"
   ]
  },
  {
   "cell_type": "code",
   "execution_count": 55,
   "id": "2158eb50-535c-4d25-a7fb-daeba845f997",
   "metadata": {},
   "outputs": [
    {
     "data": {
      "text/plain": [
       "['Chapman', 'Cleese', 'Idle', 'Jones', 'Palin', 'Hwa']"
      ]
     },
     "execution_count": 55,
     "metadata": {},
     "output_type": "execute_result"
    }
   ],
   "source": [
    "list(pythons.keys()) # 메모리 적게 사용하고 싶다면 리스트로 형변환해주기"
   ]
  },
  {
   "cell_type": "code",
   "execution_count": 58,
   "id": "fd58a3f0-d8f1-4c4c-ab54-d1155ff9e070",
   "metadata": {},
   "outputs": [
    {
     "name": "stdout",
     "output_type": "stream",
     "text": [
      "Chapman = Graham\n",
      "Cleese = John\n",
      "Idle = Eric\n",
      "Jones = Terry\n",
      "Palin = Michael\n",
      "Hwa = Chloe\n",
      "\n"
     ]
    },
    {
     "data": {
      "text/plain": [
       "[('Chapman', 'Graham'),\n",
       " ('Cleese', 'John'),\n",
       " ('Idle', 'Eric'),\n",
       " ('Jones', 'Terry'),\n",
       " ('Palin', 'Michael'),\n",
       " ('Hwa', 'Chloe')]"
      ]
     },
     "execution_count": 58,
     "metadata": {},
     "output_type": "execute_result"
    }
   ],
   "source": [
    "# items 순회\n",
    "\n",
    "for k, v in pythons.items(): \n",
    "    print(f'{k} = {v}')\n",
    "    \n",
    "print()\n",
    "\n",
    "# 리스트 컴프리헨션으로도 가능\n",
    "\n",
    "[(k, v) for (k,v) in pythons.items()]"
   ]
  },
  {
   "cell_type": "code",
   "execution_count": 59,
   "id": "34e7595a-eaee-4b74-a3a9-130ce5f8f12b",
   "metadata": {},
   "outputs": [
    {
     "data": {
      "text/plain": [
       "['Graham', 'John', 'Eric', 'Terry', 'Michael', 'Chloe']"
      ]
     },
     "execution_count": 59,
     "metadata": {},
     "output_type": "execute_result"
    }
   ],
   "source": [
    "# items()는 튜플 형태로 들어있기 때문에 인덱스로 접근 가능\n",
    "# 0은 key값, 1은 value값\n",
    "\n",
    "[k[1] for k in pythons.items()] "
   ]
  },
  {
   "cell_type": "code",
   "execution_count": 60,
   "id": "d1d7281b-c9fb-472c-8101-926f564dfefd",
   "metadata": {},
   "outputs": [
    {
     "data": {
      "text/plain": [
       "['Chapman', 'Cleese', 'Idle', 'Jones', 'Palin', 'Hwa']"
      ]
     },
     "execution_count": 60,
     "metadata": {},
     "output_type": "execute_result"
    }
   ],
   "source": [
    "[k for k in pythons] # 그냥 하면 키값만 나옴"
   ]
  },
  {
   "cell_type": "code",
   "execution_count": 61,
   "id": "fd35c844-3cf8-4071-92f3-a3ad6d37d96b",
   "metadata": {},
   "outputs": [],
   "source": [
    "### 딕셔너리 실습\n",
    "\n",
    "# animal : num_leg 딕셔너리를 만드시오\n",
    "animal = 'cat snake monkey ant spider'.split()\n",
    "legs = 4, 0, 2, 4, 8"
   ]
  },
  {
   "cell_type": "code",
   "execution_count": 62,
   "id": "ea0e8e6c-f07e-4742-aa6e-9ae04df2f14b",
   "metadata": {},
   "outputs": [],
   "source": [
    "animal_leg = dict([(k, v) for (k, v) in zip(animal, legs)])"
   ]
  },
  {
   "cell_type": "code",
   "execution_count": 63,
   "id": "02551ccd-4b80-49e6-99f4-f4d1cb050213",
   "metadata": {},
   "outputs": [
    {
     "data": {
      "text/plain": [
       "{'cat': 4, 'snake': 0, 'monkey': 2, 'ant': 4, 'spider': 8}"
      ]
     },
     "execution_count": 63,
     "metadata": {},
     "output_type": "execute_result"
    }
   ],
   "source": [
    "animal_leg"
   ]
  },
  {
   "cell_type": "code",
   "execution_count": 64,
   "id": "6c195819-d214-4881-b1aa-2ed09c580230",
   "metadata": {},
   "outputs": [],
   "source": [
    "dictionary = {}\n",
    "for i in range(len(animal)):\n",
    "    dictionary[animal[i]] = legs[i]"
   ]
  },
  {
   "cell_type": "code",
   "execution_count": 65,
   "id": "a7471985-080c-4d41-99eb-20f99ab1ee45",
   "metadata": {},
   "outputs": [
    {
     "data": {
      "text/plain": [
       "{'cat': 4, 'snake': 0, 'monkey': 2, 'ant': 4, 'spider': 8}"
      ]
     },
     "execution_count": 65,
     "metadata": {},
     "output_type": "execute_result"
    }
   ],
   "source": [
    "dictionary"
   ]
  },
  {
   "cell_type": "code",
   "execution_count": null,
   "id": "95dd434d-f154-4482-90d2-383123540de5",
   "metadata": {},
   "outputs": [],
   "source": [
    "# pythons에서 성: 이름, 성 첫 글자만, 이름은 글자 개수로 이루어진 튜플\n",
    "# (성, 이름) 리스트로 반환하기\n",
    "# dict comprehension 쓰지 말기"
   ]
  },
  {
   "cell_type": "code",
   "execution_count": 70,
   "id": "f4d635b8-988f-41b0-aafb-a0577bd618d4",
   "metadata": {},
   "outputs": [
    {
     "data": {
      "text/plain": [
       "[('Chapman', 'Graham'),\n",
       " ('Cleese', 'John'),\n",
       " ('Idle', 'Eric'),\n",
       " ('Jones', 'Terry'),\n",
       " ('Palin', 'Michael'),\n",
       " ('Hwa', 'Chloe')]"
      ]
     },
     "execution_count": 70,
     "metadata": {},
     "output_type": "execute_result"
    }
   ],
   "source": [
    "[(k, v) for k, v in pythons.items()]\n",
    "# 여기서 고쳐나가면 됨"
   ]
  },
  {
   "cell_type": "code",
   "execution_count": 71,
   "id": "66aada0a-d901-4762-b167-23e183c5bc44",
   "metadata": {},
   "outputs": [
    {
     "data": {
      "text/plain": [
       "[('C', 6), ('C', 4), ('I', 4), ('J', 5), ('P', 7), ('H', 5)]"
      ]
     },
     "execution_count": 71,
     "metadata": {},
     "output_type": "execute_result"
    }
   ],
   "source": [
    "[(key[0], len(value)) for (key, value) in pythons.items()]"
   ]
  },
  {
   "cell_type": "code",
   "execution_count": 72,
   "id": "a546c64f-97cf-45eb-85da-a6f81da68796",
   "metadata": {},
   "outputs": [
    {
     "data": {
      "text/plain": [
       "[('C', 6), ('C', 4), ('I', 4), ('J', 5), ('P', 7), ('H', 5)]"
      ]
     },
     "execution_count": 72,
     "metadata": {},
     "output_type": "execute_result"
    }
   ],
   "source": [
    "[(k[0][0], len(k[1])) for k in pythons.items()]"
   ]
  },
  {
   "cell_type": "markdown",
   "id": "8cd57589-67f9-4d5b-aaf8-949d7a60348f",
   "metadata": {},
   "source": [
    "### 복제\n",
    "- 할당 : b = a *같은 주소 참조 \n",
    "- 얕은 복사: c = a.copy() *다른 객체 생성\n",
    "- 깊은 복사: deepcopy\n",
    "- 리스트와 동일"
   ]
  },
  {
   "cell_type": "code",
   "execution_count": 73,
   "id": "4c146cef-e2b0-4f5e-9484-6da2b4812bbe",
   "metadata": {},
   "outputs": [
    {
     "data": {
      "text/plain": [
       "({1: 45, 2: 2, 3: 3}, {1: 45, 2: 2, 3: 3})"
      ]
     },
     "execution_count": 73,
     "metadata": {},
     "output_type": "execute_result"
    }
   ],
   "source": [
    "a = {1:1, 2:2, 3:3}\n",
    "b = a\n",
    "\n",
    "a[1] = 45\n",
    "\n",
    "# 할당의 문제점: b도 값이 변한다. (복사한 가변객체이기 때문에)\n",
    "a, b"
   ]
  },
  {
   "cell_type": "code",
   "execution_count": 74,
   "id": "ff6aa47f-dd96-4d79-80ce-804b445c0897",
   "metadata": {},
   "outputs": [
    {
     "data": {
      "text/plain": [
       "({1: 45, 2: 22, 3: 3}, {1: 45, 2: 2, 3: 3})"
      ]
     },
     "execution_count": 74,
     "metadata": {},
     "output_type": "execute_result"
    }
   ],
   "source": [
    "# 다른 객체 생성 - 얕은 복사 \n",
    "\n",
    "c = a.copy()\n",
    "a[2] = 22\n",
    "a, c"
   ]
  },
  {
   "cell_type": "code",
   "execution_count": 75,
   "id": "14861f97-19cc-425c-8166-a91948f1dece",
   "metadata": {},
   "outputs": [
    {
     "data": {
      "text/plain": [
       "({1: [100, 2, 3], 2: [2, 3, 4]}, {1: [100, 2, 3], 2: [2, 3, 4]})"
      ]
     },
     "execution_count": 75,
     "metadata": {},
     "output_type": "execute_result"
    }
   ],
   "source": [
    "# 얕은 복사의 문제점: 가변객체에 대해 또 참조가 됨\n",
    "\n",
    "a = {1: [1,2,3], 2: [2,3,4]}\n",
    "d = a.copy()\n",
    "a[1][0] = 100\n",
    "a, d"
   ]
  },
  {
   "cell_type": "code",
   "execution_count": 81,
   "id": "594b54b2-4635-4049-97d1-4b789339b975",
   "metadata": {},
   "outputs": [
    {
     "data": {
      "text/plain": [
       "({1: [100, 999, 3], 2: [2, 3, 4]}, {1: [100, 2, 3], 2: [2, 3, 4]})"
      ]
     },
     "execution_count": 81,
     "metadata": {},
     "output_type": "execute_result"
    }
   ],
   "source": [
    "# deepcopy\n",
    "\n",
    "import copy\n",
    "e = copy.deepcopy(a)\n",
    "a[1][1] = 999\n",
    "a, e"
   ]
  },
  {
   "cell_type": "markdown",
   "id": "becd8085-aa85-46b5-af5e-e7dbb86dfefa",
   "metadata": {},
   "source": [
    "### 비교\n",
    "- 같다, 다르다 만 된다."
   ]
  },
  {
   "cell_type": "code",
   "execution_count": 82,
   "id": "64b665cd-ecc8-46c5-a182-2590a2d24f06",
   "metadata": {},
   "outputs": [
    {
     "data": {
      "text/plain": [
       "True"
      ]
     },
     "execution_count": 82,
     "metadata": {},
     "output_type": "execute_result"
    }
   ],
   "source": [
    "a != b"
   ]
  },
  {
   "cell_type": "markdown",
   "id": "2efe5c88-fded-4553-a057-52535a5a4439",
   "metadata": {},
   "source": [
    "### EX\n",
    "1. 두 리스트로 하나의 딕셔너리 생성\n",
    "2. 명왕성 = pluto 추가하기\n",
    "3. '성'으로 끝나지 않는 키 삭제하기(태양 지구 같은것들)\n",
    "    - del dict1['태양'] 이런거 안된다고\n",
    "4. sorted 이용해서 값을 정렬하기 1) key 기준 2) value 기준"
   ]
  },
  {
   "cell_type": "code",
   "execution_count": 83,
   "id": "7fb27bd2-cf1f-447c-9ee9-a8b647f173f4",
   "metadata": {},
   "outputs": [],
   "source": [
    "solar_kor = '태양 수성 금성 지구 화성 목성 토성 천왕성 해왕성'.split()\n",
    "solar_eng = 'sun mercury venus earth mars jupiter saturn uranus neptune'.split()"
   ]
  },
  {
   "cell_type": "code",
   "execution_count": 86,
   "id": "b5af67c8-69d9-4be6-b889-97039772f92c",
   "metadata": {},
   "outputs": [
    {
     "data": {
      "text/plain": [
       "[('수성', 'mercury'),\n",
       " ('금성', 'venus'),\n",
       " ('화성', 'mars'),\n",
       " ('목성', 'jupiter'),\n",
       " ('토성', 'saturn'),\n",
       " ('천왕성', 'uranus'),\n",
       " ('해왕성', 'neptune'),\n",
       " ('명왕성', 'pluto')]"
      ]
     },
     "execution_count": 86,
     "metadata": {},
     "output_type": "execute_result"
    }
   ],
   "source": [
    "new_solar = {}\n",
    "\n",
    "for i in range(len(solar_kor)):\n",
    "    new_solar[solar_kor[i]] = solar_eng[i]\n",
    "    \n",
    "new_solar['명왕성'] = 'pluto'\n",
    "\n",
    "new_solar = [planet for planet in new_solar.items() if planet[0][-1] == '성']\n",
    "\n",
    "new_solar"
   ]
  },
  {
   "cell_type": "code",
   "execution_count": 87,
   "id": "b88330e7-05f8-421b-9cdb-09b2821e83f6",
   "metadata": {},
   "outputs": [
    {
     "name": "stdout",
     "output_type": "stream",
     "text": [
      "['금성', '명왕성', '목성', '수성', '천왕성', '토성', '해왕성', '화성']\n",
      "['jupiter', 'mars', 'mercury', 'neptune', 'pluto', 'saturn', 'uranus', 'venus']\n"
     ]
    }
   ],
   "source": [
    "system = {}\n",
    "for k, v in zip(solar_kor, solar_eng):\n",
    "    system[k] = v\n",
    "    \n",
    "system['명왕성'] = 'pluto'\n",
    "\n",
    "system = dict([(key, value)\n",
    "               for key, value in system.items()\n",
    "               if key.endswith('성')])\n",
    "\n",
    "# key 기준\n",
    "print(sorted(system.keys()))\n",
    "\n",
    "# value 기준\n",
    "print(sorted(system.values()))"
   ]
  },
  {
   "cell_type": "markdown",
   "id": "5309d546-ce3b-4b68-9886-1ca4281c64dc",
   "metadata": {},
   "source": [
    "### 딕셔너리 컴프리헨션\n",
    "- 리스트 컴프리헨션 후에 dict()로 감싸는 것이 비효율적임"
   ]
  },
  {
   "cell_type": "code",
   "execution_count": 88,
   "id": "db9bbce2-c6d8-46a7-ae1f-acd52bbed3fd",
   "metadata": {},
   "outputs": [
    {
     "data": {
      "text/plain": [
       "{'a': 1, 'p': 2, 'l': 1, 'e': 1}"
      ]
     },
     "execution_count": 88,
     "metadata": {},
     "output_type": "execute_result"
    }
   ],
   "source": [
    "letter = 'apple'\n",
    "\n",
    "# a: 1, p: 2, ...\n",
    "{ch: letter.count(ch) for ch in letter}"
   ]
  },
  {
   "cell_type": "code",
   "execution_count": 90,
   "id": "868a16f9-7c6e-4dbf-8b75-19bdcf54fbba",
   "metadata": {},
   "outputs": [
    {
     "name": "stdout",
     "output_type": "stream",
     "text": [
      "{'i': 1, 'a': 2, 'o': 4, 'e': 1}\n",
      "{'i': 1, 'a': 2, 'o': 4, 'e': 1}\n"
     ]
    }
   ],
   "source": [
    "# 단어의 모음 세기\n",
    "vowels = 'aeiou'\n",
    "word = 'onomatopoeia'\n",
    "\n",
    "# word 순회, vowels 순회\n",
    "print({w: word.count(w) for w in set(word) if w in vowels})\n",
    "print({v: word.count(v) for v in set(vowels) if v in word})"
   ]
  },
  {
   "cell_type": "code",
   "execution_count": 93,
   "id": "4fc974d3-c2d9-4bc3-bc8e-d71e8196da0b",
   "metadata": {},
   "outputs": [
    {
     "data": {
      "text/plain": [
       "{'수성': 'mercury',\n",
       " '금성': 'venus',\n",
       " '화성': 'mars',\n",
       " '목성': 'jupiter',\n",
       " '토성': 'saturn',\n",
       " '천왕성': 'uranus',\n",
       " '해왕성': 'neptune',\n",
       " '명왕성': 'pluto'}"
      ]
     },
     "execution_count": 93,
     "metadata": {},
     "output_type": "execute_result"
    }
   ],
   "source": [
    "# 위의 태양계 실습을 딕셔너리 컴프리헨션으로!\n",
    "# {key:value}\n",
    "\n",
    "system = {key:value \n",
    "          for key, value in system.items() \n",
    "          if key.endswith('성')}\n",
    "\n",
    "system"
   ]
  },
  {
   "cell_type": "markdown",
   "id": "0a7fa41e-4d34-4ef2-80f3-47763359c319",
   "metadata": {},
   "source": [
    "### sorting"
   ]
  },
  {
   "cell_type": "code",
   "execution_count": 96,
   "id": "91795001-0025-4e5e-92dd-e0c7d50d103e",
   "metadata": {},
   "outputs": [
    {
     "data": {
      "text/plain": [
       "['금성', '명왕성', '목성', '수성', '천왕성', '토성', '해왕성', '화성']"
      ]
     },
     "execution_count": 96,
     "metadata": {},
     "output_type": "execute_result"
    }
   ],
   "source": [
    "# 그냥 sorted는 key만\n",
    "\n",
    "sorted(system)"
   ]
  },
  {
   "cell_type": "code",
   "execution_count": 98,
   "id": "f218a816-5d87-4c41-aac2-72831ad03181",
   "metadata": {},
   "outputs": [
    {
     "data": {
      "text/plain": [
       "[('금성', 'venus'),\n",
       " ('명왕성', 'pluto'),\n",
       " ('목성', 'jupiter'),\n",
       " ('수성', 'mercury'),\n",
       " ('천왕성', 'uranus'),\n",
       " ('토성', 'saturn'),\n",
       " ('해왕성', 'neptune'),\n",
       " ('화성', 'mars')]"
      ]
     },
     "execution_count": 98,
     "metadata": {},
     "output_type": "execute_result"
    }
   ],
   "source": [
    "def fx(x):\n",
    "    return x[0] # 0은 key, 1은 value\n",
    "\n",
    "sorted(system.items(), key=fx)"
   ]
  },
  {
   "cell_type": "code",
   "execution_count": 99,
   "id": "e30a7440-0f62-4115-bcba-218cb0b9b7b0",
   "metadata": {},
   "outputs": [
    {
     "data": {
      "text/plain": [
       "[('목성', 'jupiter'),\n",
       " ('화성', 'mars'),\n",
       " ('수성', 'mercury'),\n",
       " ('해왕성', 'neptune'),\n",
       " ('명왕성', 'pluto'),\n",
       " ('토성', 'saturn'),\n",
       " ('천왕성', 'uranus'),\n",
       " ('금성', 'venus')]"
      ]
     },
     "execution_count": 99,
     "metadata": {},
     "output_type": "execute_result"
    }
   ],
   "source": [
    "# lambda식\n",
    "# 함수에서 이름 짓는 부분과 예약어를 빼고 익명으로 함수 구현\n",
    "\n",
    "sorted(system.items(), key=lambda x: x[1])"
   ]
  },
  {
   "cell_type": "markdown",
   "id": "cee4b07f-fce7-46df-b10e-6d164fada602",
   "metadata": {},
   "source": [
    "### Set\n",
    "- \"중복이 없다\"\n",
    "- 집합과 동일한 개념 => 교집합, 합집합, 차집합, ...\n",
    "- 중복과 순서가 없는 bag과 같음, 인덱싱도 없다."
   ]
  },
  {
   "cell_type": "code",
   "execution_count": 100,
   "id": "4c6811cb-a252-4e28-8fb3-96ecf63c72cb",
   "metadata": {},
   "outputs": [
    {
     "data": {
      "text/plain": [
       "set()"
      ]
     },
     "execution_count": 100,
     "metadata": {},
     "output_type": "execute_result"
    }
   ],
   "source": [
    "# set 만들기\n",
    "\n",
    "empty = set()\n",
    "empty"
   ]
  },
  {
   "cell_type": "code",
   "execution_count": 101,
   "id": "e69dee59-c9b4-425f-b2e4-b2ed8a775169",
   "metadata": {},
   "outputs": [
    {
     "data": {
      "text/plain": [
       "{1, 2, 3}"
      ]
     },
     "execution_count": 101,
     "metadata": {},
     "output_type": "execute_result"
    }
   ],
   "source": [
    "a = {1, 2, 3} # 값이 있으면 이렇게 해도 됨\n",
    "a"
   ]
  },
  {
   "cell_type": "code",
   "execution_count": 104,
   "id": "2bda0bcf-02f0-40c3-95e8-f5f786f6f0eb",
   "metadata": {},
   "outputs": [
    {
     "data": {
      "text/plain": [
       "{1, 2, 3}"
      ]
     },
     "execution_count": 104,
     "metadata": {},
     "output_type": "execute_result"
    }
   ],
   "source": [
    "# a = set(1, 2, 3) => 오류\n",
    "# 선언과 형 변환이 동일\n",
    "\n",
    "b = set((1, 2, 3))\n",
    "b"
   ]
  },
  {
   "cell_type": "code",
   "execution_count": 106,
   "id": "63eeedb5-f658-460b-9e03-0c6d3de3e88d",
   "metadata": {},
   "outputs": [
    {
     "name": "stdout",
     "output_type": "stream",
     "text": [
      "{1, 2, 3, 4}\n",
      "{1, 2, 3}\n"
     ]
    }
   ],
   "source": [
    "# 추가\n",
    "a.add(4)\n",
    "print(a)\n",
    "\n",
    "# 삭제\n",
    "a.remove(4)\n",
    "print(a)"
   ]
  },
  {
   "cell_type": "code",
   "execution_count": 107,
   "id": "e25a44a0-7c7c-496d-bc43-71fd9775eddc",
   "metadata": {},
   "outputs": [],
   "source": [
    "# 멤버십 연산자\n",
    "\n",
    "drinks = {\n",
    "    'martini': {'vodka', 'vermouth'},\n",
    "    'black russian': {'vodka', 'kahlua'},\n",
    "    'white russian': {'cream', 'kahlua', 'vodka'},\n",
    "    'manhattan': {'rye', 'vermouth', 'bitters'},\n",
    "    'screwdriver': {'orange juice', 'vodka'}\n",
    "}\n",
    "\n",
    "# 보드카가 포함된 술 출력하기\n",
    "# 보드카는 있지만 크림이나 vermouth 없는 술 출력하기"
   ]
  },
  {
   "cell_type": "code",
   "execution_count": 108,
   "id": "d3ffb7a1-a23f-4df5-82dc-0d1ab09105bc",
   "metadata": {},
   "outputs": [
    {
     "name": "stdout",
     "output_type": "stream",
     "text": [
      "martini\n",
      "black russian\n",
      "white russian\n",
      "screwdriver\n",
      "black russian\n",
      "screwdriver\n"
     ]
    }
   ],
   "source": [
    "for k, v in drinks.items():\n",
    "    if 'vodka' in v:\n",
    "        print(k) # 보드카가 포함된 술\n",
    "        \n",
    "for k, v in drinks.items():\n",
    "    if 'vodka' in v:\n",
    "        if 'cream' not in v and 'vermouth' not in v:\n",
    "            print(k) # 보드카는 있지만 cream, vermouth 없는 술 "
   ]
  },
  {
   "cell_type": "code",
   "execution_count": 109,
   "id": "be093b33-debd-45c6-a9bd-3ad7fd72b44d",
   "metadata": {},
   "outputs": [
    {
     "name": "stdout",
     "output_type": "stream",
     "text": [
      "black russian\n",
      "screwdriver\n"
     ]
    }
   ],
   "source": [
    "for k, v in drinks.items():\n",
    "    if 'vodka' in v and not ('cream' in v or 'vermouth' in v):\n",
    "        print(k)"
   ]
  },
  {
   "cell_type": "code",
   "execution_count": 110,
   "id": "65d7c8ba-9a06-4f1a-97d2-8256e93c2ad7",
   "metadata": {},
   "outputs": [
    {
     "data": {
      "text/plain": [
       "({1}, {4})"
      ]
     },
     "execution_count": 110,
     "metadata": {},
     "output_type": "execute_result"
    }
   ],
   "source": [
    "a = {1, 2, 3}\n",
    "b = {2, 3, 4}\n",
    "\n",
    "# 교집합 | intersection\n",
    "a.intersection(b)\n",
    "a & b\n",
    "\n",
    "# 합집합 | union\n",
    "a.union(b)\n",
    "a | b\n",
    "\n",
    "# 차집합 | difference\n",
    "a.difference(b)\n",
    "a - b , b - a"
   ]
  },
  {
   "cell_type": "code",
   "execution_count": 111,
   "id": "4a2583c4-5791-46be-99f3-5756c0afd319",
   "metadata": {},
   "outputs": [
    {
     "name": "stdout",
     "output_type": "stream",
     "text": [
      "black russian\n",
      "screwdriver\n"
     ]
    }
   ],
   "source": [
    "for k, v in drinks.items():\n",
    "    if 'vodka' in v and not ('cream' in v or 'vermouth' in v):\n",
    "        print(k)\n",
    "# set을 활용해서 바꾸기"
   ]
  },
  {
   "cell_type": "code",
   "execution_count": 112,
   "id": "8e37b125-dc7b-4988-a9ec-e93e4bc3ded9",
   "metadata": {},
   "outputs": [
    {
     "name": "stdout",
     "output_type": "stream",
     "text": [
      "black russian\n",
      "screwdriver\n"
     ]
    }
   ],
   "source": [
    "for k, v in drinks.items():\n",
    "    d = {'cream', 'vermouth'}\n",
    "    if 'vodka' in v and len(v.intersection(d)) == 0:\n",
    "        print(k)\n",
    "# 길이를 잴 필요는 없다"
   ]
  },
  {
   "cell_type": "code",
   "execution_count": 113,
   "id": "2fed109c-5523-4149-af88-dd4cedf19adc",
   "metadata": {},
   "outputs": [
    {
     "name": "stdout",
     "output_type": "stream",
     "text": [
      "black russian\n",
      "screwdriver\n"
     ]
    }
   ],
   "source": [
    "for k, v in drinks.items():\n",
    "    if 'vodka' in v and not v & {'cream', 'vermouth'}:\n",
    "        print(k)"
   ]
  },
  {
   "cell_type": "code",
   "execution_count": 114,
   "id": "db1cf5e6-a00a-4892-b2be-b53b4683cce3",
   "metadata": {},
   "outputs": [
    {
     "data": {
      "text/plain": [
       "{0, 1, 2, 3, 4}"
      ]
     },
     "execution_count": 114,
     "metadata": {},
     "output_type": "execute_result"
    }
   ],
   "source": [
    "# set comprehension\n",
    "\n",
    "{s for s in range(5)}"
   ]
  },
  {
   "cell_type": "code",
   "execution_count": 115,
   "id": "30cf9bdc-6a2d-45ee-8d5e-b8eaff2d34fe",
   "metadata": {},
   "outputs": [
    {
     "data": {
      "text/plain": [
       "frozenset({1, 2})"
      ]
     },
     "execution_count": 115,
     "metadata": {},
     "output_type": "execute_result"
    }
   ],
   "source": [
    "# frozenset : 가변 객체를 불변 객체로\n",
    "\n",
    "set([1,2])\n",
    "frozenset([1,2])"
   ]
  },
  {
   "cell_type": "markdown",
   "id": "ad118971-bdfe-4757-a2e4-db23ee295979",
   "metadata": {},
   "source": [
    "## project \n",
    "\n",
    "- 매주 task, 팀별로 한 개의 파일 제출\n",
    "- 2팀 100, 70, 50, 30점\n",
    "- task를 해결해서 수업 30분 동안 팀원 중 랜덤으로 코드 설명(12시에 시작)\n",
    "- 코드를 이해하고 있다는 걸 보여주면 됨\n",
    "- 제출할 때 컬러스크립트로 변환\n",
    "- 제출: 수요일 자정까지(수요일 00시부터 23:59분까지)"
   ]
  },
  {
   "cell_type": "code",
   "execution_count": null,
   "id": "bda9f383-23cf-4cdb-9fd7-51e25688673a",
   "metadata": {},
   "outputs": [],
   "source": [
    "!pip install pylint\n",
    "!pylint example.py # 어디에 오류가 있는지 설명해줌(10점 만점에 ~)\n",
    "\n",
    "!pip install pydocstyle\n",
    "!pydocstyle example.py # 독스트링에서 어디가 잘못됐다고 알려줌"
   ]
  }
 ],
 "metadata": {
  "kernelspec": {
   "display_name": "Python 3 (ipykernel)",
   "language": "python",
   "name": "python3"
  },
  "language_info": {
   "codemirror_mode": {
    "name": "ipython",
    "version": 3
   },
   "file_extension": ".py",
   "mimetype": "text/x-python",
   "name": "python",
   "nbconvert_exporter": "python",
   "pygments_lexer": "ipython3",
   "version": "3.9.7"
  }
 },
 "nbformat": 4,
 "nbformat_minor": 5
}
