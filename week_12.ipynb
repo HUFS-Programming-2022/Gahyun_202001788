{
 "cells": [
  {
   "cell_type": "markdown",
   "id": "375722ee-b022-43a8-8141-c7db13c4c7b8",
   "metadata": {},
   "source": [
    "# week_12 복습"
   ]
  },
  {
   "cell_type": "markdown",
   "id": "eca4ea96-6755-4612-91c4-ec8c25de1f2e",
   "metadata": {},
   "source": [
    "## team project\n",
    "- Store, Item, Customer 사이에 상속은 없어야 함\n",
    "- 상호작용은 하지만 상속 관계는 아님\n",
    "- 구현했어야 하는 것: has-a 관계\n",
    "- #1. AbCustomer -> Customer(상속)\n",
    "- #2. Person <- Customer(Person)"
   ]
  },
  {
   "cell_type": "markdown",
   "id": "6d3f1500-a9b2-463d-ab9d-2125ae364480",
   "metadata": {},
   "source": [
    "### is-a : 상속\n",
    "- \"~은 ~의 한 종류다'를 의미함\n",
    "- 노트북은 컴퓨터의 한 종류다. 따라서, Computer 클래스와 Laptop 클래스는 is-a 관계\n",
    "- class Laptop(Computer): Computer 클래스 상속, Computer 클래스의 모든 멤버와 메서드를 가짐\n",
    "\n",
    "### has-a : 합성 또는 통합\n",
    "- \"~이 ~을 가진다 혹은 포함한다\" 를 의미함\n",
    "- 컴퓨터는 CPU와 RAM을 가지고 있다. \n",
    "- A Computer HAS-A CPU 에서 가지고 있다 라는 의미가 HAS-A 이므로 HAS-A 관계\n",
    "- 합성 혹은 통합"
   ]
  },
  {
   "cell_type": "code",
   "execution_count": null,
   "id": "65087c70-be6f-437c-8d0a-df6f3ace312f",
   "metadata": {},
   "outputs": [],
   "source": [
    "class Customer(Person): # is-a 관계\n",
    "    pass\n",
    "\n",
    "class Store:\n",
    "    def __init__(customer):\n",
    "        self.customer = customer # Customer 타입 # has-a 관계(상속 아니고)\n",
    "        self.item = item # Item 객체를 받음\n",
    "        self.item_list = self.item.name, self.item.price\n",
    "        \n",
    "class Item:\n",
    "    name\n",
    "    cnt\n",
    "    price\n",
    "    \n",
    "    pass\n",
    "\n",
    "class Seller:"
   ]
  },
  {
   "cell_type": "raw",
   "id": "34d8004e-9cc1-452e-baa8-9349a23f04f4",
   "metadata": {},
   "source": [
    "### 매직 메소드\n",
    "- special method\n",
    "- __<name>__\n",
    "- __str__, __repr__\n",
    "- 이외에도 매직 메소드가 많음"
   ]
  },
  {
   "cell_type": "code",
   "execution_count": 4,
   "id": "5b46f681-24e8-47a1-9541-e71059fce120",
   "metadata": {},
   "outputs": [],
   "source": [
    "class Customer: # 모든 클래스는 오브젝트 상속\n",
    "    def __init__(self, name):\n",
    "        self.name = name\n",
    "        \n",
    "c = Customer('kim')"
   ]
  },
  {
   "cell_type": "code",
   "execution_count": 5,
   "id": "ddbdc58c-fef4-47fc-ae32-069e21ea5ba9",
   "metadata": {},
   "outputs": [
    {
     "data": {
      "text/plain": [
       "<__main__.Customer at 0x7f97481e4a00>"
      ]
     },
     "execution_count": 5,
     "metadata": {},
     "output_type": "execute_result"
    }
   ],
   "source": [
    "c"
   ]
  },
  {
   "cell_type": "code",
   "execution_count": 8,
   "id": "725f9a73-68f2-4c91-954a-dc771a7a77c3",
   "metadata": {},
   "outputs": [
    {
     "name": "stdout",
     "output_type": "stream",
     "text": [
      "<__main__.Customer object at 0x7f97481e4a00>\n"
     ]
    }
   ],
   "source": [
    "print(c) # 객체의 정보 출력"
   ]
  },
  {
   "cell_type": "code",
   "execution_count": 9,
   "id": "b228ed02-b276-4a12-acc2-ed35fa4a7b11",
   "metadata": {},
   "outputs": [],
   "source": [
    "class Customer: # object \n",
    "    def __init__(self, name):\n",
    "        self.name = name\n",
    "        \n",
    "    def __str__(self): # 오버라이딩 \n",
    "        # print() 함수로 나온 출력값을 변경하는 것\n",
    "        return self.name\n",
    "    \n",
    "    def __repr__(self): # 오버라이딩\n",
    "        # 설정 안 하면 __str__과 동일함\n",
    "        # 인스턴스를 출력하는 방식 => 사용자가 이해하는 객체의 모습을 표현\n",
    "        return f'Customer({self.name})' ### Customer(객체 이름)\n",
    "        \n",
    "c = Customer('kim')"
   ]
  },
  {
   "cell_type": "code",
   "execution_count": 10,
   "id": "363d7b72-90c1-4703-9b27-68e2e18e55bd",
   "metadata": {},
   "outputs": [
    {
     "data": {
      "text/plain": [
       "Customer(kim)"
      ]
     },
     "execution_count": 10,
     "metadata": {},
     "output_type": "execute_result"
    }
   ],
   "source": [
    "c"
   ]
  },
  {
   "cell_type": "code",
   "execution_count": 11,
   "id": "f445c1da-cebf-4998-9cdc-52ea9e185ef8",
   "metadata": {},
   "outputs": [
    {
     "name": "stdout",
     "output_type": "stream",
     "text": [
      "kim\n"
     ]
    }
   ],
   "source": [
    "print(c)"
   ]
  },
  {
   "cell_type": "code",
   "execution_count": 12,
   "id": "ab08063e-b1a7-4eb2-bb81-748162dc6d56",
   "metadata": {},
   "outputs": [
    {
     "data": {
      "text/plain": [
       "'Customer(kim)'"
      ]
     },
     "execution_count": 12,
     "metadata": {},
     "output_type": "execute_result"
    }
   ],
   "source": [
    "repr(c)"
   ]
  },
  {
   "cell_type": "code",
   "execution_count": 13,
   "id": "b95febca-d17b-4049-ad5b-8c78d4f2b83b",
   "metadata": {},
   "outputs": [
    {
     "data": {
      "text/plain": [
       "'kim'"
      ]
     },
     "execution_count": 13,
     "metadata": {},
     "output_type": "execute_result"
    }
   ],
   "source": [
    "str(c)"
   ]
  },
  {
   "cell_type": "markdown",
   "id": "70ef5255-195f-4743-a897-470bdeed81c6",
   "metadata": {},
   "source": [
    "## NamedTuple, DataClass\n",
    "- 객체보다 효율적임(간단한 속성만 가진 클래스의 경우 활용)\n",
    "- 딕셔너리의 키처럼 사용 가능하다\n",
    "- 불변 객체\n",
    "- dataclass는 python 3.7 이상에서만 가능"
   ]
  },
  {
   "cell_type": "code",
   "execution_count": 14,
   "id": "fbe01e41-bc50-43da-b990-9aa755f06f69",
   "metadata": {},
   "outputs": [
    {
     "data": {
      "text/plain": [
       "('lee', 44)"
      ]
     },
     "execution_count": 14,
     "metadata": {},
     "output_type": "execute_result"
    }
   ],
   "source": [
    "from collections import namedtuple\n",
    "\n",
    "# 형식: ('클래스명', '들어갈 변수')\n",
    "# 변수는 공백으로 구분\n",
    "Customer = namedtuple('Customer', 'name age')\n",
    "\n",
    "a = Customer('lee', 44)\n",
    "a.name, a.age"
   ]
  },
  {
   "cell_type": "code",
   "execution_count": 15,
   "id": "0a5341bd-faf8-4ed7-9aed-10512f5510cd",
   "metadata": {},
   "outputs": [
    {
     "data": {
      "text/plain": [
       "('hong', 88)"
      ]
     },
     "execution_count": 15,
     "metadata": {},
     "output_type": "execute_result"
    }
   ],
   "source": [
    "from dataclasses import dataclass\n",
    "\n",
    "# 파이썬 3.7 이상에서만 사용 가능\n",
    "\n",
    "@dataclass\n",
    "class Customer2:\n",
    "    name: str\n",
    "    age: int\n",
    "    \n",
    "b = Customer2('hong', 88)\n",
    "b.name, b.age"
   ]
  },
  {
   "cell_type": "markdown",
   "id": "d0c6a089-5cc6-4ced-9d56-b3287838f3be",
   "metadata": {},
   "source": [
    "### 함수 2\n",
    "- *, **\n",
    "- 일급객체\n",
    "- 내부함수, 클로저\n",
    "- 익명함수\n",
    "- 제너레이터\n",
    "- 재귀함수"
   ]
  },
  {
   "cell_type": "markdown",
   "id": "0c56cfa6-161f-41fc-b076-3f887a02b75d",
   "metadata": {},
   "source": [
    "#### asterisk: *\n",
    "- 기능: 여러 개가 들어왔을 떄 하나로 묶어주는 패킹 역할\n",
    "- 무한대로 받기 가능"
   ]
  },
  {
   "cell_type": "code",
   "execution_count": 16,
   "id": "ae687df0-039e-47bb-b9dc-8c96cf6d583c",
   "metadata": {},
   "outputs": [
    {
     "name": "stdout",
     "output_type": "stream",
     "text": [
      "(1, 2, 3, 4, 5, 6)\n"
     ]
    }
   ],
   "source": [
    "def print_arg(*args): # *의 기능: 여러 개의 인자 => 패킹(하나로 묶어주는 역할)\n",
    "    print(args)\n",
    "    \n",
    "print_arg(1, 2, 3, 4, 5, 6)"
   ]
  },
  {
   "cell_type": "code",
   "execution_count": 17,
   "id": "0eb84b81-8c37-439e-84ec-90f9fcea484b",
   "metadata": {},
   "outputs": [
    {
     "name": "stdout",
     "output_type": "stream",
     "text": [
      "1 2 3 4 5 6\n",
      "(1, 2, 3, 4, 5, 6)\n"
     ]
    }
   ],
   "source": [
    "def print_arg(*args): \n",
    "    print(*args) # 언패킹 \n",
    "    print(args)\n",
    "    \n",
    "print_arg(1, 2, 3, 4, 5, 6)"
   ]
  },
  {
   "cell_type": "code",
   "execution_count": 18,
   "id": "d3eb19e4-b65d-4a8f-ac88-48b53bf9c958",
   "metadata": {},
   "outputs": [
    {
     "name": "stdout",
     "output_type": "stream",
     "text": [
      "1 2\n",
      "hi hello optional\n"
     ]
    }
   ],
   "source": [
    "def print_more(num1, num2, *args): # 앞의 두 인수는 꼭 있어야 하는 것, args 인자는 옵션\n",
    "    print(num1, num2)\n",
    "    print(*args, 'optional')\n",
    "    \n",
    "print_more(1, 2, 'hi', 'hello')"
   ]
  },
  {
   "cell_type": "code",
   "execution_count": 19,
   "id": "21b00b09-6643-4c55-9601-49980706aab5",
   "metadata": {},
   "outputs": [
    {
     "name": "stdout",
     "output_type": "stream",
     "text": [
      "1 2\n",
      "optional\n"
     ]
    }
   ],
   "source": [
    "def print_more(num1, num2, *args):\n",
    "    print(num1, num2)\n",
    "    print(*args, 'optional')\n",
    "    \n",
    "print_more(1, 2)"
   ]
  },
  {
   "cell_type": "code",
   "execution_count": 20,
   "id": "2b1c348b-6965-4d06-bb67-a559c8289cd0",
   "metadata": {},
   "outputs": [
    {
     "name": "stdout",
     "output_type": "stream",
     "text": [
      "0 1 2 3 4 5 6 7 8 9\n"
     ]
    }
   ],
   "source": [
    "empty = list(range(10)) # 언패킹 기능, 함수 외에서도 사용 가능\n",
    "print(*empty)"
   ]
  },
  {
   "cell_type": "code",
   "execution_count": 21,
   "id": "8f0c64e0-ec1b-4264-94c1-8d7578778da8",
   "metadata": {},
   "outputs": [
    {
     "name": "stdout",
     "output_type": "stream",
     "text": [
      "(1, 3, 5)\n",
      "(2, 4, 6)\n"
     ]
    }
   ],
   "source": [
    "# 행렬, 테이블 데이터\n",
    "matrix = [\n",
    "    [1, 2],\n",
    "    [3, 4],\n",
    "    [5, 6]\n",
    "]\n",
    "\n",
    "# 1, 3, 5, 2, 4, 6 (열만 타고싶다)\n",
    "for item in zip(*matrix):\n",
    "    print(item)"
   ]
  },
  {
   "cell_type": "code",
   "execution_count": 22,
   "id": "b436c105-5a0f-4f2d-ab4b-ec4532a81c19",
   "metadata": {},
   "outputs": [
    {
     "name": "stdout",
     "output_type": "stream",
     "text": [
      "(1, 3, 5)\n",
      "(2, 4, 6)\n"
     ]
    }
   ],
   "source": [
    "for item in zip([1, 2], [3, 4], [5, 6]): # zip: 여러 개 리스트를 묶는 기능\n",
    "    print(item)"
   ]
  },
  {
   "cell_type": "code",
   "execution_count": 23,
   "id": "efa226e7-4a99-45db-b03b-057e7032eb76",
   "metadata": {},
   "outputs": [
    {
     "name": "stdout",
     "output_type": "stream",
     "text": [
      "0\n",
      "1\n",
      "2\n",
      "3\n"
     ]
    }
   ],
   "source": [
    "# 키워드 전용 인수 선언 시 사용\n",
    "\n",
    "def print_data(data, *, start, end):\n",
    "    for item in data[start:end]:\n",
    "        print(item)\n",
    "        \n",
    "print_data(empty, start=0, end=4)\n",
    "# print_data(empty, 0, 1) -> error"
   ]
  },
  {
   "cell_type": "markdown",
   "id": "d46dbd40-1d70-4d3f-b945-650f007a2268",
   "metadata": {},
   "source": [
    "#### kargs: **"
   ]
  },
  {
   "cell_type": "code",
   "execution_count": 25,
   "id": "daf6c0b9-401a-428d-a957-008e1b5af902",
   "metadata": {},
   "outputs": [
    {
     "name": "stdout",
     "output_type": "stream",
     "text": [
      "{'wine': 'crianza', 'drink': 'water'}\n"
     ]
    }
   ],
   "source": [
    "def print_kargs(**kargs): # key: value => dictionary 로 반환\n",
    "    print(kargs)\n",
    "    \n",
    "print_kargs(wine='crianza', drink='water')"
   ]
  },
  {
   "cell_type": "code",
   "execution_count": 26,
   "id": "be49d994-0cd6-4977-943b-bf24d87f2dd9",
   "metadata": {},
   "outputs": [],
   "source": [
    "# 언패킹 기능은 없음\n",
    "# 아까처럼 print(**kargs)은 안 됨"
   ]
  },
  {
   "cell_type": "code",
   "execution_count": 27,
   "id": "ff4a4f54-f916-432b-92db-a4f4e5d2091b",
   "metadata": {},
   "outputs": [
    {
     "name": "stdout",
     "output_type": "stream",
     "text": [
      "{'wine': 'cabernet', 'drink': 'water'}\n",
      "{'wine': 'crianza', 'drink': 'water'}\n",
      "{'wine': 'shiraz', 'drink': 'water'}\n"
     ]
    }
   ],
   "source": [
    "for wine in ['cabernet', 'crianza', 'shiraz']: # 키가 정해졌을 때 활용\n",
    "    print_kargs(wine=wine, drink='water')"
   ]
  },
  {
   "cell_type": "code",
   "execution_count": 28,
   "id": "467a702d-4ea6-4bbd-9125-9adb5068bdd7",
   "metadata": {},
   "outputs": [
    {
     "name": "stdout",
     "output_type": "stream",
     "text": [
      "{'wine': 'crianza', 'drink': 'water'}\n"
     ]
    }
   ],
   "source": [
    "def print_kargs(**kargs): # key: value => dictionary 로 반환\n",
    "    kargs['wine'] = 'crianza' # 원하는 것 설정 가능, 키가 없으면 에러 발생 -> get()이용하면 좋음\n",
    "    print(kargs)\n",
    "    \n",
    "print_kargs(wine='crianza', drink='water')"
   ]
  },
  {
   "cell_type": "code",
   "execution_count": 31,
   "id": "13103a73-e554-4494-a39f-f9604dd7051f",
   "metadata": {},
   "outputs": [
    {
     "ename": "TypeError",
     "evalue": "print_all() got multiple values for argument 'num1'",
     "output_type": "error",
     "traceback": [
      "\u001b[0;31m---------------------------------------------------------------------------\u001b[0m",
      "\u001b[0;31mTypeError\u001b[0m                                 Traceback (most recent call last)",
      "\u001b[0;32m/var/folders/hj/qdbqn7m16y9ckhnv98yqqmk40000gn/T/ipykernel_13923/252585804.py\u001b[0m in \u001b[0;36m<module>\u001b[0;34m\u001b[0m\n\u001b[1;32m      6\u001b[0m     \u001b[0mprint\u001b[0m\u001b[0;34m(\u001b[0m\u001b[0mkargs\u001b[0m\u001b[0;34m)\u001b[0m\u001b[0;34m\u001b[0m\u001b[0;34m\u001b[0m\u001b[0m\n\u001b[1;32m      7\u001b[0m \u001b[0;34m\u001b[0m\u001b[0m\n\u001b[0;32m----> 8\u001b[0;31m \u001b[0mprint_all\u001b[0m\u001b[0;34m(\u001b[0m\u001b[0;36m1\u001b[0m\u001b[0;34m,\u001b[0m \u001b[0;36m2\u001b[0m\u001b[0;34m,\u001b[0m \u001b[0;36m3\u001b[0m\u001b[0;34m,\u001b[0m \u001b[0;36m4\u001b[0m\u001b[0;34m,\u001b[0m \u001b[0;36m5\u001b[0m\u001b[0;34m,\u001b[0m \u001b[0;36m6\u001b[0m\u001b[0;34m,\u001b[0m \u001b[0mnum1\u001b[0m\u001b[0;34m=\u001b[0m\u001b[0;36m4\u001b[0m\u001b[0;34m,\u001b[0m \u001b[0mnum2\u001b[0m\u001b[0;34m=\u001b[0m\u001b[0;36m4\u001b[0m\u001b[0;34m)\u001b[0m\u001b[0;34m\u001b[0m\u001b[0;34m\u001b[0m\u001b[0m\n\u001b[0m\u001b[1;32m      9\u001b[0m \u001b[0;31m# 키워드 인수와 위치 인수 이름이 같을 경우 오류\u001b[0m\u001b[0;34m\u001b[0m\u001b[0;34m\u001b[0m\u001b[0m\n\u001b[1;32m     10\u001b[0m \u001b[0;31m# 오류 방지 위해 키워드 전용 인수 사용\u001b[0m\u001b[0;34m\u001b[0m\u001b[0;34m\u001b[0m\u001b[0m\n",
      "\u001b[0;31mTypeError\u001b[0m: print_all() got multiple values for argument 'num1'"
     ]
    }
   ],
   "source": [
    "# *, ** 같이 사용 가능\n",
    "\n",
    "def print_all(num1, num2, *args, **kargs):\n",
    "    print(num1, num2)\n",
    "    print(sum(args))\n",
    "    print(kargs)\n",
    "    \n",
    "print_all(1, 2, 3, 4, 5, 6, num1=4, num2=4)\n",
    "# 키워드 인수와 위치 인수 이름이 같을 경우 오류 \n",
    "# 오류 방지 위해 키워드 전용 인수 사용"
   ]
  },
  {
   "cell_type": "code",
   "execution_count": 32,
   "id": "2a71e94b-75b4-4503-beb8-d4298774c446",
   "metadata": {},
   "outputs": [
    {
     "name": "stdout",
     "output_type": "stream",
     "text": [
      "1 2\n",
      "18\n",
      "{'num': 4}\n"
     ]
    }
   ],
   "source": [
    "def print_all(num1, num2, *args, **kargs):\n",
    "    print(num1, num2)\n",
    "    print(sum(args))\n",
    "    print(kargs)\n",
    "    \n",
    "print_all(1, 2, 3, 4, 5, 6, num=4)"
   ]
  },
  {
   "cell_type": "code",
   "execution_count": 33,
   "id": "4c7fba54-b6ea-486b-b425-225ff79cd111",
   "metadata": {},
   "outputs": [
    {
     "data": {
      "text/plain": [
       "{1: 'a', 2: 'c', 3: 'd'}"
      ]
     },
     "execution_count": 33,
     "metadata": {},
     "output_type": "execute_result"
    }
   ],
   "source": [
    "# 딕셔너리 조인\n",
    "\n",
    "a = {1: 'a', 2: 'b'}\n",
    "b = {2: 'c', 3: 'd'}\n",
    "{**a, **b}"
   ]
  }
 ],
 "metadata": {
  "kernelspec": {
   "display_name": "Python 3 (ipykernel)",
   "language": "python",
   "name": "python3"
  },
  "language_info": {
   "codemirror_mode": {
    "name": "ipython",
    "version": 3
   },
   "file_extension": ".py",
   "mimetype": "text/x-python",
   "name": "python",
   "nbconvert_exporter": "python",
   "pygments_lexer": "ipython3",
   "version": "3.9.7"
  }
 },
 "nbformat": 4,
 "nbformat_minor": 5
}
