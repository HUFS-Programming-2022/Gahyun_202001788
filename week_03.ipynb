{
 "cells": [
  {
   "cell_type": "markdown",
   "id": "efd5f5d3-ad5d-4f95-b0a6-4a849e4f0b94",
   "metadata": {
    "tags": []
   },
   "source": [
    "# 0318(week_03) 복습\n",
    "- 퀴즈 문제 다시 풀어보기"
   ]
  },
  {
   "cell_type": "markdown",
   "id": "e6449b1c-518f-4203-bfb5-ac7bef08647c",
   "metadata": {
    "tags": []
   },
   "source": [
    "## 중첩조건문 | nested conditional\n",
    "- if 블록 안에 또 if 블록이 만들어지는 경우\n",
    "    - 예: if ...\n",
    "            if ...\n",
    "                if ...\n",
    "    - 구분은 들여쓰기로 함\n",
    "    - 조건이 여러 개일 경우에 사용함\n",
    "    - <span style=\"font-weight:bold\">이 방법은 지양하는게 좋음, 더 예쁜 방법을 찾아보기</span>"
   ]
  },
  {
   "cell_type": "code",
   "execution_count": 3,
   "id": "949b173d-a1d5-4967-84fe-0261f7ceaedc",
   "metadata": {},
   "outputs": [
    {
     "name": "stdout",
     "output_type": "stream",
     "text": [
      "Block B\n"
     ]
    }
   ],
   "source": [
    "# 중첩 조건문 예시 1\n",
    "\n",
    "x = 0\n",
    "y = 4\n",
    "\n",
    "if x == y:\n",
    "    print(\"Block A\")\n",
    "else:\n",
    "    if x < y:\n",
    "        print(\"Block B\")\n",
    "    else:\n",
    "        print(\"Block C\")"
   ]
  },
  {
   "cell_type": "code",
   "execution_count": 4,
   "id": "68d4303d-19b6-48e8-9d6c-8040c790d70b",
   "metadata": {
    "tags": []
   },
   "outputs": [
    {
     "name": "stdout",
     "output_type": "stream",
     "text": [
      "Block B\n"
     ]
    }
   ],
   "source": [
    "# 예시 1 수정\n",
    "# 가독성 고려하기\n",
    "\n",
    "if x == y:\n",
    "    print(\"Block A\")\n",
    "elif x < y:\n",
    "    print(\"Block B\")\n",
    "else:\n",
    "    print(\"Block C\")"
   ]
  },
  {
   "cell_type": "code",
   "execution_count": 6,
   "id": "fb61e455-b745-4a57-9f45-f83326881009",
   "metadata": {},
   "outputs": [
    {
     "name": "stdout",
     "output_type": "stream",
     "text": [
      "Block D\n"
     ]
    }
   ],
   "source": [
    "# 중첩 조건문 예시 2\n",
    "# 0 < X < 10\n",
    "\n",
    "if x > 0:\n",
    "    print(\"Block A\")\n",
    "    if x < 10:\n",
    "        print(\"Block B\")\n",
    "    else:\n",
    "        print(\"Block C\")\n",
    "else:\n",
    "    print(\"Block D\")"
   ]
  },
  {
   "cell_type": "code",
   "execution_count": 8,
   "id": "55bda6fb-13be-48d1-9570-9874c9108965",
   "metadata": {},
   "outputs": [
    {
     "name": "stdout",
     "output_type": "stream",
     "text": [
      "Block B\n",
      "Block B\n"
     ]
    }
   ],
   "source": [
    "# 중첩 조건문 예시 2 수정\n",
    "\n",
    "# 방법 1\n",
    "if (x > 0) and (x < 10): #논리연산자\n",
    "    print(\"Block A\")\n",
    "else:\n",
    "    print(\"Block B\")\n",
    "    \n",
    "# 방법 2\n",
    "# 파이썬에서만 가능함 주의\n",
    "if 0 < x < 10:\n",
    "    print(\"Block A\")\n",
    "else:\n",
    "    print(\"Block B\")"
   ]
  },
  {
   "cell_type": "markdown",
   "id": "b1c8a2fc-49c3-40b9-95dc-a0c39ff74179",
   "metadata": {},
   "source": [
    "## 논리연산자\n",
    "- 비교연산 조건을 여러 번 사용하는 경우\n",
    "    - x > 0 , x < 10\n",
    "    \n",
    "- and, or, not\n",
    "    - A and B: A 그리고 B. A, B 둘다 참일 때 True (&)\n",
    "    - A or B: A 혹은 B. 둘 중 하나만 참이면 True (|)\n",
    "    - not A: 참이면 False, 거짓이면 True (~)"
   ]
  },
  {
   "cell_type": "markdown",
   "id": "91639b36-5f20-4759-a2df-3848341d2a66",
   "metadata": {
    "tags": []
   },
   "source": [
    "## True / False\n",
    "- a = True\n",
    "- \"만약 a가 참이면, ...\""
   ]
  },
  {
   "cell_type": "code",
   "execution_count": 12,
   "id": "0a43ef6a-4122-4e8d-bbe6-1421ef6414f0",
   "metadata": {},
   "outputs": [
    {
     "name": "stdout",
     "output_type": "stream",
     "text": [
      "True\n"
     ]
    }
   ],
   "source": [
    "a = \" \"\n",
    "\n",
    "if a == True:\n",
    "    print(\"True\")\n",
    "\n",
    "if a:\n",
    "    print(\"True\")\n",
    "    # if a: 는 a == True 와 같은 뜻"
   ]
  },
  {
   "cell_type": "markdown",
   "id": "6054e561-5807-4f4e-aab5-fd39519208fd",
   "metadata": {
    "tags": []
   },
   "source": [
    "## in\n",
    "- membership operator(멤버십 연산자) : in, not in 연산자\n",
    "- 한 변수에 여러 값을 비교할 때 사용\n",
    "- 요소가 안에 포함되어 있는가 or 비슷한 조건문이 여럿일 때\n",
    "- <span style=\"font-weight:bold\">A in B => A가 B에 포함되어 있나?"
   ]
  },
  {
   "cell_type": "code",
   "execution_count": 15,
   "id": "fc129ff3-ce7a-4165-8856-d9689940a1fa",
   "metadata": {
    "tags": []
   },
   "outputs": [
    {
     "data": {
      "text/plain": [
       "True"
      ]
     },
     "execution_count": 15,
     "metadata": {},
     "output_type": "execute_result"
    }
   ],
   "source": [
    "# in 연산자 사용법\n",
    "word = 'o'\n",
    "vowels = 'aeiou'\n",
    "word in vowels"
   ]
  },
  {
   "cell_type": "code",
   "execution_count": 16,
   "id": "3021e37b-adb7-4ef6-9a4d-6117c0b34bfc",
   "metadata": {},
   "outputs": [
    {
     "name": "stdout",
     "output_type": "stream",
     "text": [
      "자음\n"
     ]
    }
   ],
   "source": [
    "# Ex1\n",
    "# 모음인지 아닌지 판별하기\n",
    "# 모음은 (a,e,i,o,u)\n",
    "\n",
    "letter = 'k'\n",
    " # if letter == 'a' or letter == 'e' ... 이렇게 하면 너무 복잡하니까 in 연산자 사용\n",
    "    \n",
    "if letter in ['a', 'e', 'i', 'o', 'u']:\n",
    "    print(\"모음\")\n",
    "else:\n",
    "    print(\"자음\")"
   ]
  },
  {
   "cell_type": "code",
   "execution_count": 17,
   "id": "db7e66f0-cff4-4a49-902d-8b466fa7575b",
   "metadata": {},
   "outputs": [
    {
     "name": "stdout",
     "output_type": "stream",
     "text": [
      "모음이 있습니다\n"
     ]
    }
   ],
   "source": [
    "# 단어에 모음이 있는지 확인하기\n",
    "# word = 'apple'\n",
    "\n",
    "# 무의식적 for loop.......\n",
    "word = 'apple'\n",
    "cnt = 0\n",
    "\n",
    "for letter in word:\n",
    "    if letter in ['a', 'e', 'i', 'o', 'u']:\n",
    "        cnt += 1\n",
    "    \n",
    "if cnt >= 1:\n",
    "    print(\"모음이 있습니다\")\n",
    "else:\n",
    "    print(\"모음이 없습니다\")"
   ]
  },
  {
   "cell_type": "code",
   "execution_count": 22,
   "id": "19d3de32-7d8c-4234-9127-1913016555df",
   "metadata": {},
   "outputs": [
    {
     "name": "stdout",
     "output_type": "stream",
     "text": [
      "모음이 있습니다\n"
     ]
    }
   ],
   "source": [
    "if 'a' or 'e' or 'i' or 'o' or 'u' in word:\n",
    "    print(\"모음이 있습니다\")"
   ]
  },
  {
   "cell_type": "code",
   "execution_count": 29,
   "id": "86e8d873-c676-4e4a-90d1-88f29e0b7fff",
   "metadata": {},
   "outputs": [],
   "source": [
    "if word in ['a','e','i','o','u']:\n",
    "    print(\"모음이 있습니다\")\n",
    "# 이건 리스트 내 요소에 word(apple)가 있어야 True"
   ]
  },
  {
   "cell_type": "markdown",
   "id": "b8ab6f82-8960-4dc5-98de-596d97f8157c",
   "metadata": {
    "tags": []
   },
   "source": [
    "## 코끼리 연산자(Walrus operator)\n",
    "- :=\n",
    "- 파이썬 3.8의 새로운 기능\n",
    "- 할당과 테스트 동시에 하는 기능\n",
    "- for문, while문에도 사용"
   ]
  },
  {
   "cell_type": "code",
   "execution_count": 1,
   "id": "71046701-ac01-4346-bce8-0a2fa37dca03",
   "metadata": {},
   "outputs": [
    {
     "data": {
      "text/plain": [
       "250"
      ]
     },
     "execution_count": 1,
     "metadata": {},
     "output_type": "execute_result"
    }
   ],
   "source": [
    "tweet_limit = 250\n",
    "tweet_string = 'hello' * 50\n",
    "# 5 * 50 = 250\n",
    "len(tweet_string)"
   ]
  },
  {
   "cell_type": "code",
   "execution_count": 3,
   "id": "ce85462e-fba7-4d5e-9aa3-b27d451d558e",
   "metadata": {},
   "outputs": [
    {
     "name": "stdout",
     "output_type": "stream",
     "text": [
      "입력 불가능\n"
     ]
    }
   ],
   "source": [
    "# 기존 방식\n",
    "\n",
    "diff = tweet_limit - len(tweet_string)\n",
    "\n",
    "if diff > 0:\n",
    "    print(\"입력 가능\")\n",
    "else:\n",
    "    print(\"입력 불가능\")"
   ]
  },
  {
   "cell_type": "code",
   "execution_count": 7,
   "id": "5b31f75a-cc5b-4e33-b8b5-6f5f6a1e4b88",
   "metadata": {},
   "outputs": [
    {
     "name": "stdout",
     "output_type": "stream",
     "text": [
      "no\n"
     ]
    }
   ],
   "source": [
    "# 코끼리 연산자 사용\n",
    "\n",
    "if diff := tweet_limit - len(tweet_string) > 0:\n",
    "    print(\"yes\")\n",
    "else:\n",
    "    print(\"no\")"
   ]
  },
  {
   "cell_type": "code",
   "execution_count": 8,
   "id": "f1e1da0d-bb99-43cf-8a70-2521ec129ce0",
   "metadata": {},
   "outputs": [
    {
     "name": "stdout",
     "output_type": "stream",
     "text": [
      "happy\n"
     ]
    }
   ],
   "source": [
    "# 코끼리 연산자 사용법 연습\n",
    "\n",
    "smile = 3\n",
    "blue = 2\n",
    "\n",
    "if statement := smile - blue > 0:\n",
    "    print(\"happy\")\n",
    "else:\n",
    "    print(\"sad\")"
   ]
  },
  {
   "cell_type": "markdown",
   "id": "76d2dccd-eace-4b79-9e4d-3e07c164df3f",
   "metadata": {
    "tags": []
   },
   "source": [
    "## Quiz 1\n",
    "- 윤년을 구해봅시다\n",
    "    - 연도 입력받기\n",
    "    - 4로 나누어지면 윤년\n",
    "    - 100으로 나누어지면 안됨\n",
    "    - 400으로 나누어지면 윤년\n",
    "- 출력: '{}년은 윤년입니다' / '-아닙니다'"
   ]
  },
  {
   "cell_type": "code",
   "execution_count": 10,
   "id": "61a9b9a3-f01e-4207-b2aa-6be5bb2c1896",
   "metadata": {
    "tags": []
   },
   "outputs": [
    {
     "name": "stdin",
     "output_type": "stream",
     "text": [
      "연도를 입력하세요:  2022\n"
     ]
    },
    {
     "name": "stdout",
     "output_type": "stream",
     "text": [
      "2022년은 윤년이 아닙니다\n"
     ]
    }
   ],
   "source": [
    "# 간단한 풀이 시도\n",
    "\n",
    "year = int(input(\"연도를 입력하세요: \"))\n",
    "\n",
    "if year % 4 == 0 and year % 100 != 0:\n",
    "    print(f\"{year}년은 윤년입니다\")\n",
    "elif year % 400 == 0:\n",
    "    print(f\"{year}년은 윤년입니다\")\n",
    "else:\n",
    "    print(f\"{year}년은 윤년이 아닙니다\")"
   ]
  },
  {
   "cell_type": "code",
   "execution_count": 33,
   "id": "f24791f4-41c9-4dbf-8d6b-981a5586c0c7",
   "metadata": {},
   "outputs": [
    {
     "name": "stdin",
     "output_type": "stream",
     "text": [
      "연도:  2022\n"
     ]
    },
    {
     "name": "stdout",
     "output_type": "stream",
     "text": [
      "2022년은 윤년이 아닙니다\n"
     ]
    }
   ],
   "source": [
    "year = int(input(\"연도: \"))\n",
    "\n",
    "if year % 4 == 0:\n",
    "    if year % 100 == 0:\n",
    "        print(f\"{year}년은 윤년이 아닙니다\")\n",
    "    else:\n",
    "        print(f\"{year}년은 윤년입니다\")\n",
    "elif year % 400 == 0:\n",
    "    print(f\"{year}년은 윤년입니다\")\n",
    "else:\n",
    "    print(f\"{year}년은 윤년이 아닙니다\")"
   ]
  },
  {
   "cell_type": "markdown",
   "id": "8de87e4b-7a2b-476d-ab43-e4461497051a",
   "metadata": {},
   "source": [
    "## String | 문자열\n",
    "- 시스템에서 가장 작은 단위\n",
    "- 불변적인 성격을 가진다.(immutable)\n",
    "    - mutable 객체: 객체를 생성한 후 객체의 값을 수정 가능, 변수는 값이 수정된 같은 객체를 가리킴\n",
    "    - immutable 객체: 객체를 생성한 후 객체의 값 수정 불가능, 변수는 해당 값을 가진 다른 객체를 가리킴\n",
    "    - 변수에 대입한 값을 수정했을 때 전후의 id값이 같으면 mutable, 다르면 immutable객체\n",
    "    - 예: jack -> jeck (다른 객체)\n",
    "- '', \"\" 으로 선언한다\n",
    "    - 예: \"25.5\"\n",
    "    - ''', \"\"\" 3개는 주석\n",
    "    - 형 변환은 str()\n",
    "\n",
    "## Escape character | 이스케이프 문자\n",
    "- 특수한 형태의 문자열, 눈에 보이는 대로 인식되지 않는 문자\n",
    "- <span style=\"font-weight:bold\">\\ + ch : 그냥 그대로 출력\n",
    "- 예: \\n, \\t, \\b, \\', \\\", ....\n",
    "    - \\n : 줄바꿈, \\t : 탭, \\b : 백스페이스, \\' : 작은따옴표 표현\n",
    "    - 백슬래시를 입력하고싶으면 \\\\(백슬래시 두 번)\n",
    "    - <span style=\"font-weight:bold\">\\n을 그대로 출력하고 싶을 때?\n",
    "    - <span style=\"font-weight:bold\">r''\n",
    "- 다른 스트링을 만드는 것이 아니다 "
   ]
  },
  {
   "cell_type": "code",
   "execution_count": 35,
   "id": "82690947-8e36-441b-856b-6573cf8f77c7",
   "metadata": {},
   "outputs": [
    {
     "name": "stdout",
     "output_type": "stream",
     "text": [
      "week01\n",
      "week02\n",
      "week03\n"
     ]
    }
   ],
   "source": [
    "# 주석처리 테스트\n",
    "\n",
    "test = '''week01\n",
    "week02\n",
    "week03'''\n",
    "\n",
    "\"\"\"\n",
    "주석처리\n",
    "주석주석\n",
    "주석주석주석\n",
    "\"\"\"\n",
    "print(test)"
   ]
  },
  {
   "cell_type": "code",
   "execution_count": 44,
   "id": "656ddae1-8a18-4688-ac81-ecfaa2ffaaaa",
   "metadata": {},
   "outputs": [
    {
     "data": {
      "text/plain": [
       "'hello\\npython'"
      ]
     },
     "execution_count": 44,
     "metadata": {},
     "output_type": "execute_result"
    }
   ],
   "source": [
    "example = 'hello\\npython'\n",
    "example\n",
    "# print() 해야 개행문자가 적용된다"
   ]
  },
  {
   "cell_type": "code",
   "execution_count": 14,
   "id": "4fba9c31-7ab4-476e-97e3-6f479ad7d131",
   "metadata": {},
   "outputs": [
    {
     "name": "stdout",
     "output_type": "stream",
     "text": [
      "hello\n",
      "python\n"
     ]
    }
   ],
   "source": [
    "print(example)"
   ]
  },
  {
   "cell_type": "code",
   "execution_count": 15,
   "id": "b91ef6cb-02ce-4880-8778-e6ee898ae7b2",
   "metadata": {},
   "outputs": [
    {
     "name": "stdout",
     "output_type": "stream",
     "text": [
      "hello\\npython\n"
     ]
    }
   ],
   "source": [
    "example = r'hello\\npython'\n",
    "print(example)"
   ]
  },
  {
   "cell_type": "markdown",
   "id": "37a6f8cb-0fc5-4d64-8c52-d394085ea90e",
   "metadata": {},
   "source": [
    "## 연산\n",
    "- concatenation(문자열 2개를 이어주는 연산)\n",
    "    - 더하기 | \"+\" => 공백 없이 결합하는 방법\n",
    "    - 곱하기 | '' * 5 => 복제"
   ]
  },
  {
   "cell_type": "code",
   "execution_count": 16,
   "id": "33ebdb1d-b2df-4117-bbad-94c514a1225d",
   "metadata": {},
   "outputs": [
    {
     "data": {
      "text/plain": [
       "'annaanna'"
      ]
     },
     "execution_count": 16,
     "metadata": {},
     "output_type": "execute_result"
    }
   ],
   "source": [
    "name = 'anna'\n",
    "name + name"
   ]
  },
  {
   "cell_type": "code",
   "execution_count": 17,
   "id": "5847522b-7c55-4eda-bc0d-c8564f8356a7",
   "metadata": {},
   "outputs": [
    {
     "data": {
      "text/plain": [
       "'annaannaannaanna'"
      ]
     },
     "execution_count": 17,
     "metadata": {},
     "output_type": "execute_result"
    }
   ],
   "source": [
    "name * 4"
   ]
  },
  {
   "cell_type": "code",
   "execution_count": 19,
   "id": "e05f14a6-4648-4074-98b7-363d519c9fd2",
   "metadata": {},
   "outputs": [],
   "source": [
    "# immutable\n",
    "name[1] = 'e'\n",
    "\n",
    "# 인덱스로 참조는 가능하지만, 문자열은 immutable하므로 바꿀 수는 없다"
   ]
  },
  {
   "cell_type": "code",
   "execution_count": 20,
   "id": "f5a8488a-8cbd-4077-aa46-fd4513229d57",
   "metadata": {},
   "outputs": [
    {
     "data": {
      "text/plain": [
       "'n'"
      ]
     },
     "execution_count": 20,
     "metadata": {},
     "output_type": "execute_result"
    }
   ],
   "source": [
    "name[1]"
   ]
  },
  {
   "cell_type": "markdown",
   "id": "d00f3e94-3294-4468-8c86-5da7d0c2ccba",
   "metadata": {},
   "source": [
    "## 슬라이싱 : 추출\n",
    "- 문자열의 일부분을 떼어내는 작업\n",
    "- 대괄호 사용, 그 안에 오프셋을 지정 (name[1] => []안에 1이 오프셋)\n",
    "- 오프셋은 0부터 시작한다.\n",
    "    - anna\n",
    "    - 0123\n",
    "    - -4-3-2-1\n",
    "- 음수도 가능함(음수는 뒤에서부터 시작, -1부터 시작)\n",
    "- 오프셋은 [시작:끝:스텝] 으로 이루어짐\n",
    "- 스텝 지정 안 하면 디폴트값은 1\n",
    "- 오프셋의 시작은 포함, 끝은 포함하지 않음\n",
    "- 예를 들어 [0,3] 이면 0부터 2까지 (이상과 미만)"
   ]
  },
  {
   "cell_type": "code",
   "execution_count": 37,
   "id": "0340bd7c-c167-4169-b330-9f97ad14cae1",
   "metadata": {},
   "outputs": [
    {
     "data": {
      "text/plain": [
       "'a'"
      ]
     },
     "execution_count": 37,
     "metadata": {},
     "output_type": "execute_result"
    }
   ],
   "source": [
    "name = 'anna'\n",
    "name[-1] # 뒤에서부터 첫번째를 추출하겠다는 뜻"
   ]
  },
  {
   "cell_type": "code",
   "execution_count": 53,
   "id": "6b602c1d-435e-4cce-9a68-68abab0d0475",
   "metadata": {},
   "outputs": [],
   "source": [
    "example = 'hello\\npython'"
   ]
  },
  {
   "cell_type": "code",
   "execution_count": 54,
   "id": "ba8b6d2e-c639-446d-9818-f86bac5254f6",
   "metadata": {},
   "outputs": [
    {
     "data": {
      "text/plain": [
       "'l'"
      ]
     },
     "execution_count": 54,
     "metadata": {},
     "output_type": "execute_result"
    }
   ],
   "source": [
    "example[3:4]"
   ]
  },
  {
   "cell_type": "code",
   "execution_count": 60,
   "id": "a8a89bbe-f70b-4ccf-82f6-d5f5ee74481c",
   "metadata": {},
   "outputs": [
    {
     "name": "stdout",
     "output_type": "stream",
     "text": [
      "hello\n",
      "python\n"
     ]
    }
   ],
   "source": [
    "print(example)"
   ]
  },
  {
   "cell_type": "code",
   "execution_count": 59,
   "id": "07fe11f8-bb5c-4c3e-933f-4bbfcea81d53",
   "metadata": {},
   "outputs": [
    {
     "data": {
      "text/plain": [
       "'hello\\n'"
      ]
     },
     "execution_count": 59,
     "metadata": {},
     "output_type": "execute_result"
    }
   ],
   "source": [
    "# 처음부터 5번째까지 출력\n",
    "\n",
    "example[0:6] # 이렇게 쓰지 않기\n",
    "example[:6]"
   ]
  },
  {
   "cell_type": "code",
   "execution_count": 63,
   "id": "c7f565d3-4c83-47d9-8c7b-b05df803440b",
   "metadata": {},
   "outputs": [
    {
     "data": {
      "text/plain": [
       "'hlopto'"
      ]
     },
     "execution_count": 63,
     "metadata": {},
     "output_type": "execute_result"
    }
   ],
   "source": [
    "# 처음부터 끝까지 2스텝씩 출력하기\n",
    "\n",
    "example[::2]"
   ]
  },
  {
   "cell_type": "code",
   "execution_count": 64,
   "id": "da26c55f-ce33-4f9c-9cfa-c917334b9bd5",
   "metadata": {},
   "outputs": [
    {
     "data": {
      "text/plain": [
       "'nohtyp\\nolleh'"
      ]
     },
     "execution_count": 64,
     "metadata": {},
     "output_type": "execute_result"
    }
   ],
   "source": [
    "# 모든 글자를 거꾸로 출력하기\n",
    "\n",
    "example[::-1]"
   ]
  },
  {
   "cell_type": "code",
   "execution_count": 66,
   "id": "581aa1b1-8401-407a-8a8a-e8034a520329",
   "metadata": {},
   "outputs": [
    {
     "data": {
      "text/plain": [
       "'nohtyp\\nolle'"
      ]
     },
     "execution_count": 66,
     "metadata": {},
     "output_type": "execute_result"
    }
   ],
   "source": [
    "example[12:0:-1] # h 실종"
   ]
  },
  {
   "cell_type": "code",
   "execution_count": 67,
   "id": "487d96cf-424b-449c-a6d5-b101bb13c2c5",
   "metadata": {},
   "outputs": [
    {
     "data": {
      "text/plain": [
       "['americano', 'latte', 'espresso']"
      ]
     },
     "execution_count": 67,
     "metadata": {},
     "output_type": "execute_result"
    }
   ],
   "source": [
    "# 리스트 슬라이싱\n",
    "\n",
    "coffee = ['americano', 'latte', 'espresso']\n",
    "coffee[::]"
   ]
  },
  {
   "cell_type": "markdown",
   "id": "c944ebcd-59c5-4cc0-b017-48b5419679b1",
   "metadata": {},
   "source": [
    "## NLTK"
   ]
  },
  {
   "cell_type": "markdown",
   "id": "6dac0caa-be8a-403f-8bb9-2dd226dddd84",
   "metadata": {},
   "source": [
    "- Natural language toolkit\n",
    "- 자연어 분석을 위해 교육용으로 배포된 패키지\n",
    "- 내장함수, 기능들이 추가되어 있음\n",
    "    - 토크나이즈, 파싱, 태깅 ..."
   ]
  },
  {
   "cell_type": "code",
   "execution_count": 73,
   "id": "39bd8dc1-1077-4d34-a93a-ba2fe468b0c4",
   "metadata": {},
   "outputs": [
    {
     "name": "stdout",
     "output_type": "stream",
     "text": [
      "Requirement already satisfied: nltk in c:\\users\\user\\desktop\\anacondafile_\\lib\\site-packages (3.6.5)\n",
      "Requirement already satisfied: click in c:\\users\\user\\desktop\\anacondafile_\\lib\\site-packages (from nltk) (8.0.3)\n",
      "Requirement already satisfied: joblib in c:\\users\\user\\desktop\\anacondafile_\\lib\\site-packages (from nltk) (1.1.0)\n",
      "Requirement already satisfied: regex>=2021.8.3 in c:\\users\\user\\desktop\\anacondafile_\\lib\\site-packages (from nltk) (2021.8.3)\n",
      "Requirement already satisfied: tqdm in c:\\users\\user\\desktop\\anacondafile_\\lib\\site-packages (from nltk) (4.62.3)\n",
      "Requirement already satisfied: colorama in c:\\users\\user\\desktop\\anacondafile_\\lib\\site-packages (from click->nltk) (0.4.4)\n"
     ]
    }
   ],
   "source": [
    "!pip install nltk"
   ]
  },
  {
   "cell_type": "code",
   "execution_count": 4,
   "id": "835cfd52-ff9e-4352-bc89-c2ed1cb3d646",
   "metadata": {},
   "outputs": [
    {
     "data": {
      "text/plain": [
       "True"
      ]
     },
     "execution_count": 4,
     "metadata": {},
     "output_type": "execute_result"
    }
   ],
   "source": [
    "import nltk\n",
    "nltk.download('book', quiet=True)"
   ]
  },
  {
   "cell_type": "code",
   "execution_count": 5,
   "id": "9a309392-aa71-437e-ad06-fb22241574b7",
   "metadata": {},
   "outputs": [
    {
     "name": "stdout",
     "output_type": "stream",
     "text": [
      "*** Introductory Examples for the NLTK Book ***\n",
      "Loading text1, ..., text9 and sent1, ..., sent9\n",
      "Type the name of the text or sentence to view it.\n",
      "Type: 'texts()' or 'sents()' to list the materials.\n",
      "text1: Moby Dick by Herman Melville 1851\n",
      "text2: Sense and Sensibility by Jane Austen 1811\n",
      "text3: The Book of Genesis\n",
      "text4: Inaugural Address Corpus\n",
      "text5: Chat Corpus\n",
      "text6: Monty Python and the Holy Grail\n",
      "text7: Wall Street Journal\n",
      "text8: Personals Corpus\n",
      "text9: The Man Who Was Thursday by G . K . Chesterton 1908\n"
     ]
    }
   ],
   "source": [
    "from nltk import book"
   ]
  },
  {
   "cell_type": "code",
   "execution_count": 72,
   "id": "0becb59c-99bc-4721-b061-3826c9c998f7",
   "metadata": {},
   "outputs": [
    {
     "data": {
      "text/plain": [
       "['[',\n",
       " 'Moby',\n",
       " 'Dick',\n",
       " 'by',\n",
       " 'Herman',\n",
       " 'Melville',\n",
       " '1851',\n",
       " ']',\n",
       " 'ETYMOLOGY',\n",
       " '.']"
      ]
     },
     "execution_count": 72,
     "metadata": {},
     "output_type": "execute_result"
    }
   ],
   "source": [
    "moby = book.text1\n",
    "moby.tokens[:10] # 토큰에 접근하는 방법\n",
    "\n",
    "# 토큰: 프로그래밍의 단어 단위 \n",
    "# 입력 정보를 하나의 특정 기본 단위로 자르는 것을 토크나이징이라고 한다.\n",
    "# hello world, I'm not a coward.\n",
    "    # I'm / "
   ]
  },
  {
   "cell_type": "code",
   "execution_count": 73,
   "id": "aa64ca40-edf0-46c1-9cd7-b2de48792f62",
   "metadata": {},
   "outputs": [
    {
     "data": {
      "text/plain": [
       "260819"
      ]
     },
     "execution_count": 73,
     "metadata": {},
     "output_type": "execute_result"
    }
   ],
   "source": [
    "#1. 길이 세기\n",
    "\n",
    "len(moby) #26만자"
   ]
  },
  {
   "cell_type": "code",
   "execution_count": 74,
   "id": "8f348fd7-969c-4957-8c48-bdd8723387d8",
   "metadata": {},
   "outputs": [
    {
     "data": {
      "text/plain": [
       "19317"
      ]
     },
     "execution_count": 74,
     "metadata": {},
     "output_type": "execute_result"
    }
   ],
   "source": [
    "#2. 중복 없이 단어 몇 개?\n",
    "\n",
    "len(set(moby)) # 1.9만 자 list -> set"
   ]
  },
  {
   "cell_type": "markdown",
   "id": "4c8e8051-1baa-4be4-a32e-6c9dd15212f7",
   "metadata": {},
   "source": [
    "## list와 set의 차이점\n",
    "\n",
    "- list\n",
    "    - ['a', 1, True, 'a']\n",
    "    - 순서가 있고\n",
    "    - 중복이 허용된다\n",
    "    - 형변환 방법: list()\n",
    "- set\n",
    "    - {'a', 2, True}\n",
    "    - 순서가 없고\n",
    "    - 중복 허용 안 됨\n",
    "    - 형변환 방법: set()\n",
    "    - 수학의 집합 개념과 동일\n",
    "    - 인덱싱 안됨"
   ]
  },
  {
   "cell_type": "code",
   "execution_count": 84,
   "id": "b320166d-c360-461b-8041-fbbd900dbc75",
   "metadata": {},
   "outputs": [
    {
     "data": {
      "text/plain": [
       "['kia', 'hyundai', 'renault', 'benz', 'benz', 'kia']"
      ]
     },
     "execution_count": 84,
     "metadata": {},
     "output_type": "execute_result"
    }
   ],
   "source": [
    "cars = ['kia', 'hyundai', 'renault', 'benz', 'benz', 'kia'] # 리스트는 순서 있고 요소 중복 가능\n",
    "cars"
   ]
  },
  {
   "cell_type": "code",
   "execution_count": 81,
   "id": "3595cbda-a4d1-4892-85ae-85378c4d8caf",
   "metadata": {},
   "outputs": [
    {
     "data": {
      "text/plain": [
       "{'benz', 'hyundai', 'kia', 'renault'}"
      ]
     },
     "execution_count": 81,
     "metadata": {},
     "output_type": "execute_result"
    }
   ],
   "source": [
    "set(cars) #set은 순서 없고 중복 안됨"
   ]
  },
  {
   "cell_type": "code",
   "execution_count": 83,
   "id": "fec110d9-1996-4f78-9cbd-598a8c837b94",
   "metadata": {},
   "outputs": [
    {
     "data": {
      "text/plain": [
       "0.07406285585022564"
      ]
     },
     "execution_count": 83,
     "metadata": {},
     "output_type": "execute_result"
    }
   ],
   "source": [
    "# lexical diversity(어휘 다양성)\n",
    "\n",
    "len(set(moby)) / len(moby)\n",
    "# set은 list보다 적음"
   ]
  },
  {
   "cell_type": "code",
   "execution_count": 85,
   "id": "16c9b90f-1591-413e-8eb3-f339f75a0cf0",
   "metadata": {},
   "outputs": [
    {
     "data": {
      "text/plain": [
       "['benz', 'benz', 'hyundai', 'kia', 'kia', 'renault']"
      ]
     },
     "execution_count": 85,
     "metadata": {},
     "output_type": "execute_result"
    }
   ],
   "source": [
    "# 정렬\n",
    "\n",
    "sorted(cars)"
   ]
  },
  {
   "cell_type": "code",
   "execution_count": 86,
   "id": "f662ed30-cb4c-4096-9df1-6a0e9d3596a8",
   "metadata": {},
   "outputs": [
    {
     "data": {
      "text/plain": [
       "['renault', 'kia', 'kia', 'hyundai', 'benz', 'benz']"
      ]
     },
     "execution_count": 86,
     "metadata": {},
     "output_type": "execute_result"
    }
   ],
   "source": [
    "sorted(cars, reverse=True)\n",
    "\n",
    "# 반대로 정렬"
   ]
  },
  {
   "cell_type": "code",
   "execution_count": 87,
   "id": "a33820b8-ac95-4c36-8f7b-ed9dd18d7cbc",
   "metadata": {},
   "outputs": [
    {
     "data": {
      "text/plain": [
       "['.',\n",
       " '1851',\n",
       " 'Dick',\n",
       " 'ETYMOLOGY',\n",
       " 'Herman',\n",
       " 'Melville',\n",
       " 'Moby',\n",
       " '[',\n",
       " ']',\n",
       " 'by']"
      ]
     },
     "execution_count": 87,
     "metadata": {},
     "output_type": "execute_result"
    }
   ],
   "source": [
    "sorted(moby[:10])\n",
    "\n",
    "# 0~9 슬라이싱 후 정렬"
   ]
  },
  {
   "cell_type": "code",
   "execution_count": 90,
   "id": "9385953c-8446-4c8a-a73f-918efbcff529",
   "metadata": {},
   "outputs": [
    {
     "data": {
      "text/plain": [
       "['!', '!', '!', '!', '!', '!', '!', '!', '!', '!']"
      ]
     },
     "execution_count": 90,
     "metadata": {},
     "output_type": "execute_result"
    }
   ],
   "source": [
    "sorted(moby)[:10] \n",
    "\n",
    "# sorting해서 10개(0~9번째)"
   ]
  },
  {
   "cell_type": "code",
   "execution_count": 91,
   "id": "e8479d4d-611f-4eaf-b35f-52ae0cd3b335",
   "metadata": {},
   "outputs": [
    {
     "data": {
      "text/plain": [
       "['.',\n",
       " '1851',\n",
       " 'Dick',\n",
       " 'ETYMOLOGY',\n",
       " 'Herman',\n",
       " 'Melville',\n",
       " 'Moby',\n",
       " '[',\n",
       " ']',\n",
       " 'by']"
      ]
     },
     "execution_count": 91,
     "metadata": {},
     "output_type": "execute_result"
    }
   ],
   "source": [
    "sorted(set(moby[:10]))\n",
    "\n",
    "# moby에서 10개 뽑고, set로 중복 없애고, sorted로 정렬"
   ]
  },
  {
   "cell_type": "markdown",
   "id": "62365c5e-170e-414a-905b-f54934881d83",
   "metadata": {},
   "source": [
    "## Quiz 1\n",
    "- text6 가져와서 토큰을 변수에 담고\n",
    "- 중복 없는 셋으로 저장하고 내림차순\n",
    "    - 앞에서 10개 단어 출력\n",
    "    - 단어에 z가 있으면 z를 대문자로 바꾸시오\n",
    "    - z가 없는데 4글자 이상이면 끝글자를 대문자로\n",
    "    \n",
    "## Quiz 2\n",
    "- 주민번호, 휴대폰번호, 이메일 주소 입력받는다\n",
    "- 주민번호, 휴대폰번호는 숫자만 입력받는다( - 없이)\n",
    "- 이메일 주소는 아이디만 입력받는다(@xx 없이)\n",
    "- 출력\n",
    "    - 1. \"당신은 {}년 {}월 {}일 출생의 {남성/여성}입니다.\"\n",
    "    - 2. 휴대폰 번호: 000-0000-0000\n",
    "    - 3. 이메일 주소: xxxx@gmail.com"
   ]
  },
  {
   "cell_type": "code",
   "execution_count": 41,
   "id": "106eb16e-8214-4f4a-ab74-ea9984f6bb48",
   "metadata": {},
   "outputs": [
    {
     "name": "stdout",
     "output_type": "stream",
     "text": [
      "['Zoosh', 'Zoop', 'Zoo', 'Zone', 'Zhiv', 'yourselF', 'yourS', 'youR', 'younG', 'you']\n"
     ]
    }
   ],
   "source": [
    "# Quiz 1 풀이\n",
    "\n",
    "monty = book.text6\n",
    "monty = sorted(set(monty), reverse=True)\n",
    "monty = monty[:10]\n",
    "new_monty = []\n",
    "\n",
    "for elem in monty:\n",
    "    if elem[0] == 'z':\n",
    "        elem = list(elem)\n",
    "        elem[0] = elem[0].capitalize()\n",
    "        elem = ''.join(elem)\n",
    "        new_monty.append(elem)\n",
    "    elif len(elem) >= 4:\n",
    "        elem = list(elem)\n",
    "        elem[-1] = elem[-1].upper()\n",
    "        elem = ''.join(elem)\n",
    "        new_monty.append(elem)\n",
    "    else:\n",
    "        new_monty.append(elem)\n",
    "        \n",
    "print(new_monty)"
   ]
  },
  {
   "cell_type": "code",
   "execution_count": 2,
   "id": "bebfa755-1d95-4bb1-beb0-f9359d67b4ce",
   "metadata": {},
   "outputs": [
    {
     "name": "stdin",
     "output_type": "stream",
     "text": [
      "주민등록번호(숫자만 입력):  0107174000000\n",
      "휴대폰 번호(숫자만 입력):  01012345678\n",
      "이메일 주소(아이디만 입력):  annason\n"
     ]
    },
    {
     "name": "stdout",
     "output_type": "stream",
     "text": [
      "1. 당신은 2001년 07월 17일 출생의 여성입니다.\n",
      "2. 휴대폰 번호: 010-1234-5678\n",
      "3. 이메일 주소: annason@gmail.com\n"
     ]
    }
   ],
   "source": [
    "# Quiz 2 풀이\n",
    "\n",
    "residentnum = input(\"주민등록번호(숫자만 입력): \")\n",
    "phonenum = input(\"휴대폰 번호(숫자만 입력): \")\n",
    "email = input(\"이메일 주소(아이디만 입력): \")\n",
    "\n",
    "phonenumlist = list(phonenum)\n",
    "\n",
    "if residentnum[6] == \"1\":\n",
    "    birth_year = \"19\" + residentnum[0:2]\n",
    "    gender = \"남성\"\n",
    "elif residentnum[6] == \"2\":\n",
    "    birth_year = \"19\" + residentnum[0:2]\n",
    "    gender = \"여성\"\n",
    "elif residentnum[6] == \"3\":\n",
    "    birth_year = \"20\" + residentnum[0:2]\n",
    "    gender = \"남성\"\n",
    "else:\n",
    "    birth_year = \"20\" + residentnum[0:2]\n",
    "    gender = \"여성\"\n",
    "    \n",
    "birth_month = residentnum[2:4]\n",
    "birth_day = residentnum[4:6]\n",
    "phonenumlist[3:3] = \"-\"\n",
    "phonenumlist[8:8] = \"-\"\n",
    "\n",
    "print(f\"1. 당신은 {birth_year}년 {birth_month}월 {birth_day}일 출생의 {gender}입니다.\")\n",
    "print(f\"2. 휴대폰 번호: {''.join(phonenumlist)}\")\n",
    "print(f\"3. 이메일 주소: {email}@gmail.com\")"
   ]
  },
  {
   "cell_type": "code",
   "execution_count": null,
   "id": "f42ccb0c-c8db-44d0-9b3d-1e9de65b6ddd",
   "metadata": {},
   "outputs": [],
   "source": []
  }
 ],
 "metadata": {
  "kernelspec": {
   "display_name": "Python 3 (ipykernel)",
   "language": "python",
   "name": "python3"
  },
  "language_info": {
   "codemirror_mode": {
    "name": "ipython",
    "version": 3
   },
   "file_extension": ".py",
   "mimetype": "text/x-python",
   "name": "python",
   "nbconvert_exporter": "python",
   "pygments_lexer": "ipython3",
   "version": "3.9.7"
  }
 },
 "nbformat": 4,
 "nbformat_minor": 5
}
