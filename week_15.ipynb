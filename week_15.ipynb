{
 "cells": [
  {
   "cell_type": "markdown",
   "id": "6ae871bc-f307-4268-87bc-c960e88d126c",
   "metadata": {},
   "source": [
    "# Week_15 복습"
   ]
  },
  {
   "cell_type": "markdown",
   "id": "74090ceb-c24e-4c88-b200-14f5fb604d3c",
   "metadata": {},
   "source": [
    "## 파일과 디렉터리\n",
    "- 디렉터리: 폴더의 다른 말. 파일이 논리적으로 묶인 단위\n",
    "- 파일: 컴퓨터를 실행하는 기본 단위\n",
    "    - 파일명 + 확장자\n",
    "    - 확장자: 파일의 쓰임을 구분하는 글자\n",
    "        - .pdf, .xlsx, .txt, ...\n",
    "    - 종류: 바이너리 파일, 텍스트 파일\n",
    "        - 바이너리: 이진정보로 저장됨\n",
    "            - 내용을 확인못함\n",
    "            - 해당 확장자를 열 수 있는 프로그램이 필요함\n",
    "        - 텍스트: 사람이 이해할 수 있는 문자열로 저장됨\n",
    "            - 메모장, html, py\n",
    "            - 변경 기준: 아스키코드, 유니코드\n",
    "            - 인코딩(encoding)\n",
    "            - utf-8\n",
    "            - cp494"
   ]
  },
  {
   "cell_type": "markdown",
   "id": "68f9ac78-d62f-4631-ab3b-f204a03b27c0",
   "metadata": {},
   "source": [
    "## 파일 열기\n",
    "- open(파일명, 모드)\n",
    "- 모드\n",
    "    - r: read(default)\n",
    "    - w: write - 파일이 있으면 덮어쓰고, 없으면 생성\n",
    "    - x: 파일이 없을 때만 생성\n",
    "    - a: 있을 때 마지막 라인에 추가\n",
    "    \n",
    "    \n",
    "    추가 모드\n",
    "    \n",
    "    - b: binary\n",
    "    - t: text(default)\n",
    "    \n",
    "    \n",
    "    'rb', 'rt'"
   ]
  },
  {
   "cell_type": "code",
   "execution_count": 5,
   "id": "70da27c7-3553-43eb-b1fe-98ad199374dd",
   "metadata": {},
   "outputs": [],
   "source": [
    "file = \"text.txt\"\n",
    "f = open(file, 'r')"
   ]
  },
  {
   "cell_type": "code",
   "execution_count": 6,
   "id": "8267ad30-614a-486b-a51c-2cd324992e21",
   "metadata": {},
   "outputs": [
    {
     "data": {
      "text/plain": [
       "<_io.TextIOWrapper name='text.txt' mode='r' encoding='UTF-8'>"
      ]
     },
     "execution_count": 6,
     "metadata": {},
     "output_type": "execute_result"
    }
   ],
   "source": [
    "f"
   ]
  },
  {
   "cell_type": "markdown",
   "id": "190df91b-6db8-4199-afcf-4810c633f0ef",
   "metadata": {},
   "source": [
    "## 파일 읽기\n",
    "- read(): 전체를 하나의 str로 가져옴\n",
    "    - 포인터\n",
    "- readline(): 한 줄만 str\n",
    "- readlines(): 전체를 list, 각 줄이 한 str"
   ]
  },
  {
   "cell_type": "code",
   "execution_count": 7,
   "id": "909a0e18-ad5f-49b4-a587-914a351c922e",
   "metadata": {},
   "outputs": [
    {
     "data": {
      "text/plain": [
       "\"hello world\\nI'm reading a book\""
      ]
     },
     "execution_count": 7,
     "metadata": {},
     "output_type": "execute_result"
    }
   ],
   "source": [
    "# 파일 읽기\n",
    "f.read()"
   ]
  },
  {
   "cell_type": "code",
   "execution_count": 8,
   "id": "95987f77-2903-4ede-b761-44e6986c1b4d",
   "metadata": {},
   "outputs": [
    {
     "data": {
      "text/plain": [
       "''"
      ]
     },
     "execution_count": 8,
     "metadata": {},
     "output_type": "execute_result"
    }
   ],
   "source": [
    "f.read()\n",
    "# 포인터가 있기에 다시 열어야 함 -> f.close()로 닫아주기"
   ]
  },
  {
   "cell_type": "code",
   "execution_count": 9,
   "id": "4a4c9b13-1466-4baf-a97c-f3174d761a32",
   "metadata": {},
   "outputs": [],
   "source": [
    "f.close()"
   ]
  },
  {
   "cell_type": "code",
   "execution_count": 18,
   "id": "6c12a421-f688-419b-9fbe-8850d8cfc817",
   "metadata": {},
   "outputs": [
    {
     "data": {
      "text/plain": [
       "<_io.TextIOWrapper name='text.txt' mode='r' encoding='UTF-8'>"
      ]
     },
     "execution_count": 18,
     "metadata": {},
     "output_type": "execute_result"
    }
   ],
   "source": [
    "# 닫았으니까 다시 열어주어야 함\n",
    "\n",
    "f = open(file, 'r')\n",
    "f"
   ]
  },
  {
   "cell_type": "code",
   "execution_count": 19,
   "id": "2721ff42-ba96-479d-9cc6-7f0c8073639f",
   "metadata": {},
   "outputs": [
    {
     "name": "stdout",
     "output_type": "stream",
     "text": [
      "hell\n"
     ]
    }
   ],
   "source": [
    "# 일부만 읽기\n",
    "\n",
    "print(f.read(4))\n",
    "f.close()"
   ]
  },
  {
   "cell_type": "code",
   "execution_count": 27,
   "id": "e54632e6-2d09-410c-9efd-6f20bdd9badc",
   "metadata": {},
   "outputs": [
    {
     "data": {
      "text/plain": [
       "<_io.TextIOWrapper name='text.txt' mode='r' encoding='UTF-8'>"
      ]
     },
     "execution_count": 27,
     "metadata": {},
     "output_type": "execute_result"
    }
   ],
   "source": [
    "# 닫았으니까 다시 열어주어야 함\n",
    "\n",
    "f = open(file, 'r')\n",
    "f"
   ]
  },
  {
   "cell_type": "code",
   "execution_count": 28,
   "id": "5bf93492-f672-4a1b-b7c5-da25bbe79eac",
   "metadata": {},
   "outputs": [
    {
     "data": {
      "text/plain": [
       "'hello world\\n'"
      ]
     },
     "execution_count": 28,
     "metadata": {},
     "output_type": "execute_result"
    }
   ],
   "source": [
    "f.readline()"
   ]
  },
  {
   "cell_type": "code",
   "execution_count": 29,
   "id": "8c40a18d-d57f-416d-8481-fe927b690575",
   "metadata": {},
   "outputs": [
    {
     "data": {
      "text/plain": [
       "<_io.TextIOWrapper name='text.txt' mode='r' encoding='UTF-8'>"
      ]
     },
     "execution_count": 29,
     "metadata": {},
     "output_type": "execute_result"
    }
   ],
   "source": [
    "f.close()\n",
    "f = open(file, 'r')\n",
    "f"
   ]
  },
  {
   "cell_type": "code",
   "execution_count": 30,
   "id": "4cc5e863-6d0d-4efc-ab58-5658362cf254",
   "metadata": {},
   "outputs": [
    {
     "data": {
      "text/plain": [
       "['hello world\\n', \"I'm reading a book\"]"
      ]
     },
     "execution_count": 30,
     "metadata": {},
     "output_type": "execute_result"
    }
   ],
   "source": [
    "f.readlines()"
   ]
  },
  {
   "cell_type": "code",
   "execution_count": 31,
   "id": "6dc9df6e-3660-4009-b568-ac99d27fa807",
   "metadata": {},
   "outputs": [],
   "source": [
    "f.close()"
   ]
  },
  {
   "cell_type": "code",
   "execution_count": 34,
   "id": "6cb4a572-ca3d-4bf4-8b2f-50d71f1374e3",
   "metadata": {},
   "outputs": [
    {
     "name": "stdout",
     "output_type": "stream",
     "text": [
      "['hello world\\n', \"I'm reading a book\"]\n",
      "['hello world', \"I'm reading a book\"]\n"
     ]
    }
   ],
   "source": [
    "f = open(file, 'r')\n",
    "sents = f.readlines()\n",
    "print(sents)\n",
    "\n",
    "sents = [s.strip() for s in sents]\n",
    "print(sents)\n",
    "\n",
    "f.close()"
   ]
  },
  {
   "cell_type": "markdown",
   "id": "66df34ef-488d-409e-b557-d1e45252991f",
   "metadata": {},
   "source": [
    "## 파일 닫기\n",
    "- 파일을 열면 즉시 닫아야함\n",
    "- 자원 해제 라고 부름\n",
    "- 계속 열어놓으면 메모리 낭비, 에러 발생\n",
    "- 열고 변수에 넣고 닫으면 변수는 계속 사용 가능\n",
    "- 여는 것보다 닫는 것에 더 신경쓰기"
   ]
  },
  {
   "cell_type": "code",
   "execution_count": 35,
   "id": "0f31b1ec-1936-48c0-a617-94e024b03be6",
   "metadata": {},
   "outputs": [
    {
     "data": {
      "text/plain": [
       "\"hello world\\nI'm reading a book\""
      ]
     },
     "execution_count": 35,
     "metadata": {},
     "output_type": "execute_result"
    }
   ],
   "source": [
    "with open(file, 'r') as f:\n",
    "    # open()이 적용되는 블록\n",
    "    content = f.read()\n",
    "# with ~ as 로 하면 파일이 자동으로 닫힘\n",
    "\n",
    "content"
   ]
  },
  {
   "cell_type": "code",
   "execution_count": 47,
   "id": "bde1d755-1090-4e4a-b07e-9a781f03b00c",
   "metadata": {},
   "outputs": [],
   "source": [
    "# readline 파일 읽는데, while 사용해서 한 줄씩 읽고, strip()해서 리스트에 반환하는 함수 만들기\n",
    "\n",
    "file = 'text.txt'\n",
    "\n",
    "with open(file, 'r') as f:\n",
    "    sent_list = []\n",
    "    while True:\n",
    "        line = f.readline() # 첫번째줄을 line 변수에 저장하고 다음줄로 커서 이동\n",
    "        if not line:\n",
    "            break\n",
    "        sent = line.strip()\n",
    "        sent_list.append(sent)"
   ]
  },
  {
   "cell_type": "code",
   "execution_count": 48,
   "id": "1035f39c-a6b8-4439-a199-e4e5106f7667",
   "metadata": {},
   "outputs": [
    {
     "data": {
      "text/plain": [
       "['hello world', \"I'm reading a book\"]"
      ]
     },
     "execution_count": 48,
     "metadata": {},
     "output_type": "execute_result"
    }
   ],
   "source": [
    "sent_list"
   ]
  },
  {
   "cell_type": "markdown",
   "id": "b4a56ca8-0894-44e9-b63c-6b7316893485",
   "metadata": {},
   "source": [
    "## 경로가 달라질 때\n",
    "- . -> 현재 경로\n",
    "- .. -> 상위 경로"
   ]
  },
  {
   "cell_type": "code",
   "execution_count": 51,
   "id": "17d5fd57-f365-48c8-90cb-7abbed831719",
   "metadata": {},
   "outputs": [
    {
     "name": "stdout",
     "output_type": "stream",
     "text": [
      "hello world\n",
      "I'm reading a book\n"
     ]
    }
   ],
   "source": [
    "file = './abc/text.txt' # 현재 경로에서 폴더 찾기\n",
    "with open(file) as f:\n",
    "    print(f.read())"
   ]
  },
  {
   "cell_type": "markdown",
   "id": "781dae39-9e5a-43e6-b157-3f83bfe1225d",
   "metadata": {},
   "source": [
    "## 쓰기\n",
    "- 인코딩 유의"
   ]
  },
  {
   "cell_type": "code",
   "execution_count": 55,
   "id": "097eff0c-66b9-401e-99cc-48aca3c62304",
   "metadata": {},
   "outputs": [],
   "source": [
    "data = list(range(10))\n",
    "\n",
    "with open('text2.txt', 'w', encoding = 'utf-8') as f:\n",
    "    for i in range(10):\n",
    "        data = f'{i}번째 줄입니다.\\n'\n",
    "        f.write(data)"
   ]
  },
  {
   "cell_type": "code",
   "execution_count": 56,
   "id": "6131ebe4-e0d2-4246-ab6c-0bf7a68b58bf",
   "metadata": {},
   "outputs": [],
   "source": [
    "# print()\n",
    "file_out = open('text2.txt', 'a', encoding = 'utf-8')\n",
    "\n",
    "# 파일 file_out에 한 줄 추가\n",
    "print('한 줄 추가했습니다.', file = file_out)\n",
    "\n",
    "file_out.close()"
   ]
  },
  {
   "cell_type": "markdown",
   "id": "b4c799e8-fac6-4f87-bcdf-6541b4042cbd",
   "metadata": {},
   "source": [
    "## 폴더를 만들어서 추가하는 방법\n",
    "- 폴더를 만들어야함\n",
    "        import os\n",
    "        os.mkdir('new')\n",
    "- 그 다음에 접근"
   ]
  },
  {
   "cell_type": "code",
   "execution_count": 60,
   "id": "37c53d05-47b5-4064-b922-20d9ef5f77f0",
   "metadata": {},
   "outputs": [],
   "source": [
    "import os\n",
    "os.mkdir('new')"
   ]
  },
  {
   "cell_type": "code",
   "execution_count": 61,
   "id": "4efc3f05-5306-40ef-b900-ced3e1d0b48e",
   "metadata": {},
   "outputs": [],
   "source": [
    "with open('./new/test2.txt', 'w', encoding='utf-8') as f:\n",
    "    for i in range(10):\n",
    "        data = f'{i}번째 줄입니다.\\n'\n",
    "        f.write(data)"
   ]
  },
  {
   "cell_type": "code",
   "execution_count": 62,
   "id": "794df94e-ba54-48ac-b398-60efa2a631fd",
   "metadata": {},
   "outputs": [],
   "source": [
    "path = './new'\n",
    "\n",
    "# 폴더가 존재하는지 확인하고 없으면 새로 생성\n",
    "if not os.path.isdir(path):\n",
    "    os.mkdir(path)\n",
    "    \n",
    "# os.path.join : 각각의 경로를 하나로 이어줌\n",
    "\n",
    "dir_name = os.path.join(path, 'test2.txt')\n",
    "\n",
    "# 재확인, 덮어쓸 가능성 배제\n",
    "if not os.path.exists(dir_name):\n",
    "    with open(dir_name, 'w') as f:\n",
    "        pass"
   ]
  },
  {
   "cell_type": "markdown",
   "id": "acd82d8b-03b0-42e7-aca9-21f3e42ba5ec",
   "metadata": {},
   "source": [
    "## 제거"
   ]
  },
  {
   "cell_type": "code",
   "execution_count": 67,
   "id": "4f9e3863-6e49-42f3-a53b-be252a1ffff1",
   "metadata": {
    "tags": []
   },
   "outputs": [],
   "source": [
    "# 파일 제거\n",
    "# os.remove('./new/test2.txt') -> 실행 꼬여서.. \n",
    "\n",
    "# 경로 제거(폴더 안에 파일이 있으면 삭제 불가)\n",
    "os.rmdir('./Untitled Folder')"
   ]
  },
  {
   "cell_type": "code",
   "execution_count": 68,
   "id": "43744dff-b2a0-448f-a08c-ffae21f9e298",
   "metadata": {},
   "outputs": [],
   "source": [
    "# 강제로 전부 삭제\n",
    "import shutil\n",
    "shutil.rmtree('./new')"
   ]
  },
  {
   "cell_type": "code",
   "execution_count": 69,
   "id": "082c518b-f344-4eae-808b-61692cf1c449",
   "metadata": {},
   "outputs": [],
   "source": [
    "# 퀴즈 2\n",
    "# 폴더 새로 만들기(있으면 그대로 쓰고 없으면 만들기)\n",
    "# 파일에 내용 쓰기\n",
    "# 파일 열기\n",
    "\n",
    "import os\n",
    "\n",
    "path = './newfolder'\n",
    "if not os.path.isdir(path):\n",
    "    os.mkdir(path)\n",
    "    \n",
    "dir_name = os.path.join(path, 'newera.txt')\n",
    "\n",
    "with open(dir_name, 'w') as f:\n",
    "    f.write('newera')"
   ]
  },
  {
   "cell_type": "markdown",
   "id": "695d9630-8300-4b93-bd44-396862eadc7f",
   "metadata": {},
   "source": [
    "## 그 외 함수들"
   ]
  },
  {
   "cell_type": "code",
   "execution_count": 71,
   "id": "1c9b1f6d-f518-4d2e-8488-9f62e82dfd65",
   "metadata": {},
   "outputs": [],
   "source": [
    "base_directory = '/Users/annason01/Advanced Python Programming'"
   ]
  },
  {
   "cell_type": "code",
   "execution_count": 73,
   "id": "70310cd8-f19b-4696-af6e-aaa39b918e6f",
   "metadata": {},
   "outputs": [
    {
     "data": {
      "text/plain": [
       "'/Users/annason01/Advanced Python Programming'"
      ]
     },
     "execution_count": 73,
     "metadata": {},
     "output_type": "execute_result"
    }
   ],
   "source": [
    "os.getcwd()\n",
    "# 현재 머무르고 있는 경로"
   ]
  },
  {
   "cell_type": "code",
   "execution_count": 74,
   "id": "c5bd0e77-70b4-42f1-8e7c-ec974b30ac9a",
   "metadata": {},
   "outputs": [
    {
     "data": {
      "text/plain": [
       "'/Users/annason01'"
      ]
     },
     "execution_count": 74,
     "metadata": {},
     "output_type": "execute_result"
    }
   ],
   "source": [
    "# 상위 경로로 변경\n",
    "os.chdir('..')\n",
    "os.getcwd()"
   ]
  },
  {
   "cell_type": "markdown",
   "id": "9d79e1b6-e2f7-45c7-90bd-47d9ea91fd29",
   "metadata": {},
   "source": [
    "## pickle\n",
    "- 객체를 파일로 저장"
   ]
  },
  {
   "cell_type": "code",
   "execution_count": 75,
   "id": "93231b38-6fe4-4dd8-b373-a8369032caa6",
   "metadata": {},
   "outputs": [],
   "source": [
    "import pickle"
   ]
  },
  {
   "cell_type": "markdown",
   "id": "ebfd0ea2-2536-41d3-ac99-f6174c652419",
   "metadata": {},
   "source": [
    "## dump"
   ]
  },
  {
   "cell_type": "code",
   "execution_count": 76,
   "id": "4b2b2768-54b9-4cac-91ac-1d68c9177c55",
   "metadata": {},
   "outputs": [],
   "source": [
    "backup = [base_directory]"
   ]
  },
  {
   "cell_type": "code",
   "execution_count": 77,
   "id": "36259fdb-bac6-4711-9687-a2f275a4c4d0",
   "metadata": {},
   "outputs": [],
   "source": [
    "# Write Binary\n",
    "\n",
    "with open('test.pickle', 'wb') as f:\n",
    "    pickle.dump(backup, f)"
   ]
  },
  {
   "cell_type": "markdown",
   "id": "d0a42883-8e83-4934-8bd9-390d55688c15",
   "metadata": {},
   "source": [
    "## load"
   ]
  },
  {
   "cell_type": "code",
   "execution_count": 79,
   "id": "35b0a529-8d00-4f9f-85ef-e0c83d5dc77d",
   "metadata": {},
   "outputs": [],
   "source": [
    "# Read Binary\n",
    "\n",
    "with open('test.pickle', 'rb') as f:\n",
    "    backupContent = pickle.load(f)"
   ]
  },
  {
   "cell_type": "code",
   "execution_count": 80,
   "id": "74394e72-5867-44c7-96e2-2614af6ff976",
   "metadata": {},
   "outputs": [
    {
     "data": {
      "text/plain": [
       "['/Users/annason01/Advanced Python Programming']"
      ]
     },
     "execution_count": 80,
     "metadata": {},
     "output_type": "execute_result"
    }
   ],
   "source": [
    "backupContent"
   ]
  }
 ],
 "metadata": {
  "kernelspec": {
   "display_name": "Python 3 (ipykernel)",
   "language": "python",
   "name": "python3"
  },
  "language_info": {
   "codemirror_mode": {
    "name": "ipython",
    "version": 3
   },
   "file_extension": ".py",
   "mimetype": "text/x-python",
   "name": "python",
   "nbconvert_exporter": "python",
   "pygments_lexer": "ipython3",
   "version": "3.9.7"
  }
 },
 "nbformat": 4,
 "nbformat_minor": 5
}
