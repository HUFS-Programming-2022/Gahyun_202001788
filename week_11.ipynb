{
 "cells": [
  {
   "cell_type": "markdown",
   "id": "2efa216f-c299-4113-a7bb-e60c42aae14d",
   "metadata": {},
   "source": [
    "# week_11 복습"
   ]
  },
  {
   "cell_type": "markdown",
   "id": "7cb77cc0-dfd5-4411-8f67-acf5f7cdca91",
   "metadata": {},
   "source": [
    "## 객체 2\n",
    "- 상속(inheritance)\n",
    "- 재사용할 때, A vs. B\n",
    "    - \"A의 대부분을 쓰고, 나머지를 추가, 변경하고 싶다\"\n",
    "    - 부모의 모든 속성을 그대로 가져와서 쓰겠다.\n",
    "- 반복되는 부분을 가져오겠다. (물려받겠다)\n",
    "- A <- B\n",
    "    - A: \"부모, 슈퍼, 베이스\" 클래스\n",
    "    - B: \"자식, 서브, derived\" 클래스\n",
    "- 자식 클래스는 부모 클래스를 구체화한다.\n",
    "- is-a 관계: Car is-a Vehicle (포함된다)"
   ]
  },
  {
   "cell_type": "code",
   "execution_count": 9,
   "id": "cd6b85a2-58b1-4e73-813f-1c923731ab41",
   "metadata": {},
   "outputs": [],
   "source": [
    "# parent, super class\n",
    "class Vehicle:\n",
    "    def __init__(self, speed):\n",
    "        self.speed = speed\n",
    "        \n",
    "    def go(self):\n",
    "        print(f'{self.speed}의 속도로 달린다.')\n",
    "        \n",
    "# child, sub class\n",
    "class Car(Vehicle):\n",
    "    pass"
   ]
  },
  {
   "cell_type": "code",
   "execution_count": 13,
   "id": "4374bef7-cfff-4ec2-a297-c080a1dccd8f",
   "metadata": {},
   "outputs": [
    {
     "ename": "TypeError",
     "evalue": "__init__() missing 1 required positional argument: 'speed'",
     "output_type": "error",
     "traceback": [
      "\u001b[0;31m---------------------------------------------------------------------------\u001b[0m",
      "\u001b[0;31mTypeError\u001b[0m                                 Traceback (most recent call last)",
      "\u001b[0;32m/var/folders/hj/qdbqn7m16y9ckhnv98yqqmk40000gn/T/ipykernel_1090/562498755.py\u001b[0m in \u001b[0;36m<module>\u001b[0;34m\u001b[0m\n\u001b[1;32m      1\u001b[0m \u001b[0;31m# 부모 클래스에 speed가 있기 때문에 자식 클래스에도 speed를 지정해주어야 함(안하면 에러)\u001b[0m\u001b[0;34m\u001b[0m\u001b[0;34m\u001b[0m\u001b[0m\n\u001b[0;32m----> 2\u001b[0;31m \u001b[0mcar\u001b[0m \u001b[0;34m=\u001b[0m \u001b[0mCar\u001b[0m\u001b[0;34m(\u001b[0m\u001b[0;34m)\u001b[0m\u001b[0;34m\u001b[0m\u001b[0;34m\u001b[0m\u001b[0m\n\u001b[0m",
      "\u001b[0;31mTypeError\u001b[0m: __init__() missing 1 required positional argument: 'speed'"
     ]
    }
   ],
   "source": [
    "# 부모 클래스에 speed가 있기 때문에 자식 클래스에도 speed를 지정해주어야 함(안하면 에러)\n",
    "car = Car()"
   ]
  },
  {
   "cell_type": "code",
   "execution_count": 14,
   "id": "48859e92-b1c2-4227-82db-f1bbc66486f4",
   "metadata": {},
   "outputs": [
    {
     "name": "stdout",
     "output_type": "stream",
     "text": [
      "20km/h의 속도로 달린다.\n"
     ]
    }
   ],
   "source": [
    "car = Car('20km/h') # Vehicle로부터 상속받음, 부모와 완전 같음\n",
    "car.go() # 자식 클래스엔 go()가 없지만 상속받아서 사용 가능"
   ]
  },
  {
   "cell_type": "markdown",
   "id": "0e25f8f3-fdfe-402a-a31c-f53ebdc10cd7",
   "metadata": {},
   "source": [
    "## 변수 추가, 변경\n",
    "---\n"
   ]
  },
  {
   "cell_type": "code",
   "execution_count": 24,
   "id": "e8d1f60c-b4ac-4696-8bbb-9f085a8a0d3b",
   "metadata": {},
   "outputs": [],
   "source": [
    "class Car(Vehicle): # child, sub\n",
    "    def __init__(self, speed, brand):\n",
    "        # speed == 부모\n",
    "        super().__init__(speed)\n",
    "        # brand == 자식\n",
    "        self.brand = brand # 자식의 고유한 특성"
   ]
  },
  {
   "cell_type": "code",
   "execution_count": 26,
   "id": "4984ff6e-531a-43db-a8fb-5ceef5b108e7",
   "metadata": {},
   "outputs": [
    {
     "data": {
      "text/plain": [
       "('20km/h', 'Kia')"
      ]
     },
     "execution_count": 26,
     "metadata": {},
     "output_type": "execute_result"
    }
   ],
   "source": [
    "car2 = Car('20km/h', 'Kia')\n",
    "car2.speed, car2.brand"
   ]
  },
  {
   "cell_type": "code",
   "execution_count": 27,
   "id": "94bfd781-d80e-4aed-892f-bcf9837210d2",
   "metadata": {},
   "outputs": [
    {
     "name": "stdout",
     "output_type": "stream",
     "text": [
      "20km/h의 속도로 달린다.\n"
     ]
    }
   ],
   "source": [
    "car2.go()"
   ]
  },
  {
   "cell_type": "code",
   "execution_count": 29,
   "id": "8fd7fb15-f08e-4578-8e2e-16dda714fc22",
   "metadata": {},
   "outputs": [
    {
     "ename": "AttributeError",
     "evalue": "'Vehicle' object has no attribute 'brand'",
     "output_type": "error",
     "traceback": [
      "\u001b[0;31m---------------------------------------------------------------------------\u001b[0m",
      "\u001b[0;31mAttributeError\u001b[0m                            Traceback (most recent call last)",
      "\u001b[0;32m/var/folders/hj/qdbqn7m16y9ckhnv98yqqmk40000gn/T/ipykernel_1090/1804548564.py\u001b[0m in \u001b[0;36m<module>\u001b[0;34m\u001b[0m\n\u001b[1;32m      1\u001b[0m \u001b[0mv\u001b[0m \u001b[0;34m=\u001b[0m \u001b[0mVehicle\u001b[0m\u001b[0;34m(\u001b[0m\u001b[0;34m'33km/h'\u001b[0m\u001b[0;34m)\u001b[0m\u001b[0;34m\u001b[0m\u001b[0;34m\u001b[0m\u001b[0m\n\u001b[0;32m----> 2\u001b[0;31m \u001b[0mv\u001b[0m\u001b[0;34m.\u001b[0m\u001b[0mbrand\u001b[0m \u001b[0;31m# 자식 클래스는 부모 클래스를 바꾸지 않음, 부모 클래스에는 brand가 존재하지 않음\u001b[0m\u001b[0;34m\u001b[0m\u001b[0;34m\u001b[0m\u001b[0m\n\u001b[0m",
      "\u001b[0;31mAttributeError\u001b[0m: 'Vehicle' object has no attribute 'brand'"
     ]
    }
   ],
   "source": [
    "v = Vehicle('33km/h')\n",
    "v.brand # 자식 클래스는 부모 클래스를 바꾸지 않음, 부모 클래스에는 brand가 존재하지 않음"
   ]
  },
  {
   "cell_type": "markdown",
   "id": "2000396b-2eac-4472-9445-d6dcd4d36635",
   "metadata": {
    "tags": []
   },
   "source": [
    "## 메소드 추가, 변경\n",
    "- override하면 부모의 메서드가 잊힌다.\n",
    "---"
   ]
  },
  {
   "cell_type": "code",
   "execution_count": 30,
   "id": "7ea9b105-521e-4bc6-a623-46c4d6b454b4",
   "metadata": {},
   "outputs": [],
   "source": [
    "class Car(Vehicle): # child, sub\n",
    "    def __init__(self, speed, brand):\n",
    "        super().__init__(speed)\n",
    "        self.brand = brand \n",
    "        \n",
    "    # 오버라이드(override): 재정의, 대체\n",
    "    def go(self):\n",
    "        print(f'차종 {self.brand}의 속도 {self.speed}')\n",
    "        \n",
    "    # 메소드 추가\n",
    "    def stop():\n",
    "        pass"
   ]
  },
  {
   "cell_type": "code",
   "execution_count": 31,
   "id": "e81d239f-a154-4e83-93e0-e9208a2de45c",
   "metadata": {},
   "outputs": [
    {
     "name": "stdout",
     "output_type": "stream",
     "text": [
      "차종 mini의 속도 33km/h\n"
     ]
    }
   ],
   "source": [
    "car3 = Car('33km/h', 'mini')\n",
    "car3.go()"
   ]
  },
  {
   "cell_type": "code",
   "execution_count": 32,
   "id": "5543d818-ff9d-44a0-a41b-85bc1f26f312",
   "metadata": {},
   "outputs": [],
   "source": [
    "class Car(Vehicle): # child, sub\n",
    "    def __init__(self, speed, brand):\n",
    "        super().__init__(speed) # Vehicle().speed\n",
    "        self.brand = brand # 자식의 고유한 특성\n",
    "        \n",
    "    # 오버라이드(override): 재정의\n",
    "    def go(self):\n",
    "        # 부모의 go도 함께 가져가고 싶다면?\n",
    "        super().go()\n",
    "        print(f'차종 {self.brand}의 속도 {self.speed}')\n",
    "        \n",
    "    # 메소드 추가\n",
    "    def stop(self):\n",
    "        pass"
   ]
  },
  {
   "cell_type": "code",
   "execution_count": 35,
   "id": "0033779b-564b-4ae2-a0d5-dc7b6c7baacd",
   "metadata": {},
   "outputs": [
    {
     "name": "stdout",
     "output_type": "stream",
     "text": [
      "33km/h의 속도로 달린다.\n",
      "차종 mini의 속도 33km/h\n"
     ]
    }
   ],
   "source": [
    "car4 = Car('33km/h', 'mini')\n",
    "car4.go()"
   ]
  },
  {
   "cell_type": "markdown",
   "id": "902fcde1-ec44-41f1-b429-005c2ad7a0c7",
   "metadata": {},
   "source": [
    "## 실습"
   ]
  },
  {
   "cell_type": "code",
   "execution_count": 41,
   "id": "628df2e9-2c3f-4601-9208-d145b721c153",
   "metadata": {},
   "outputs": [],
   "source": [
    "class Person:\n",
    "    def __init__(self, name):\n",
    "        self.name = name # pablo\n",
    "        \n",
    "# -------\n",
    "\n",
    "class Doctor(Person): # Dr.pablo\n",
    "    def __init__(self, name): \n",
    "        super().__init__(name)\n",
    "        self.name = 'Dr.' + name\n",
    "\n",
    "class Male(Person): # Mr.pablo\n",
    "    def __init__(self, name): \n",
    "        super().__init__(name)\n",
    "        self.name = 'Mr.' + name\n",
    "\n",
    "class Female(Person): # Mrs.pablo\n",
    "    def __init__(self, name): \n",
    "        super().__init__(name)\n",
    "        self.name = 'Mrs.' + name\n",
    "        \n",
    "# super().__init__('Dr.' + name) <- 이게 더 간단"
   ]
  },
  {
   "cell_type": "code",
   "execution_count": 43,
   "id": "18cab620-9c23-4253-9cf0-7ef76602866e",
   "metadata": {},
   "outputs": [
    {
     "data": {
      "text/plain": [
       "'Dr.Kim'"
      ]
     },
     "execution_count": 43,
     "metadata": {},
     "output_type": "execute_result"
    }
   ],
   "source": [
    "doctor = Doctor('Kim')\n",
    "doctor.name"
   ]
  },
  {
   "cell_type": "code",
   "execution_count": 44,
   "id": "48d97bc9-d94f-463c-81cd-dfb1c008e732",
   "metadata": {},
   "outputs": [],
   "source": [
    "# 더 간단하게\n",
    "\n",
    "class Person():\n",
    "    def __init__(self, name):\n",
    "        self.name = name # pablo\n",
    "        \n",
    "class Doctor(Person):\n",
    "    def __init__(self, name):\n",
    "        super().__init__('Dr.' + name)\n",
    "        \n",
    "class Male(Person):\n",
    "    def __init__(self, name):\n",
    "        super().__init__('Mr.' + name)\n",
    "        \n",
    "class Female(Person):\n",
    "    def __init__(self, name):\n",
    "        super().__init__('Mrs.' + name)"
   ]
  },
  {
   "cell_type": "code",
   "execution_count": 45,
   "id": "f9ead1db-8a68-4275-bfde-40fde189d488",
   "metadata": {},
   "outputs": [
    {
     "data": {
      "text/plain": [
       "'Dr.Son'"
      ]
     },
     "execution_count": 45,
     "metadata": {},
     "output_type": "execute_result"
    }
   ],
   "source": [
    "doctor = Doctor('Son')\n",
    "doctor.name"
   ]
  },
  {
   "cell_type": "markdown",
   "id": "5fccd603-e8cf-4427-bd07-d22305befd17",
   "metadata": {},
   "source": [
    "## 다중상속\n",
    "- 다중으로 상속을 받을 수도 있는데 그 중 누구와 더 가까운가?\n",
    "- method resolution order (MRO)\n",
    "- Animal <- Horse\n",
    "         <- Donkey\n",
    "                 <- Mule (Donkey > Horse)\n",
    "                 <- Hinny (Horse > Donkey)\n",
    "---"
   ]
  },
  {
   "cell_type": "code",
   "execution_count": 46,
   "id": "c8859898-827b-410f-8cce-5f0e39601584",
   "metadata": {},
   "outputs": [],
   "source": [
    "# 조부모\n",
    "class Animal:\n",
    "    def says(self):\n",
    "        return '동물이 운다.'\n",
    "    \n",
    "# 부모\n",
    "class Horse(Animal):\n",
    "    def says(self):\n",
    "        # super().says() 이렇게 안하면 부모는 없어짐\n",
    "        return '히히힝'\n",
    "\n",
    "# 부모\n",
    "class Donkey(Animal):\n",
    "    def says(self):\n",
    "        return '히히호'\n",
    "    \n",
    "# 자식\n",
    "class Mule(Donkey, Horse): # Donkey에 더 가까움\n",
    "    pass # overriding x\n",
    "\n",
    "class Hinny(Horse, Donkey): # Horse에 더 가까움\n",
    "    pass"
   ]
  },
  {
   "cell_type": "code",
   "execution_count": 47,
   "id": "ee02d417-14ec-4f66-a123-3be51d37e59a",
   "metadata": {},
   "outputs": [
    {
     "data": {
      "text/plain": [
       "'히히호'"
      ]
     },
     "execution_count": 47,
     "metadata": {},
     "output_type": "execute_result"
    }
   ],
   "source": [
    "m = Mule()\n",
    "m.says() # Donkey에 더 가까우므로 Donkey처럼 말함"
   ]
  },
  {
   "cell_type": "code",
   "execution_count": 49,
   "id": "53706981-7e63-4bcb-95d5-b050b92279e8",
   "metadata": {},
   "outputs": [
    {
     "data": {
      "text/plain": [
       "'히히힝'"
      ]
     },
     "execution_count": 49,
     "metadata": {},
     "output_type": "execute_result"
    }
   ],
   "source": [
    "Hinny().says() # Horse에 더 가까우므로 Horse처럼 말함"
   ]
  },
  {
   "cell_type": "code",
   "execution_count": 50,
   "id": "236e7223-0373-4e66-8b57-dc7627aeab2d",
   "metadata": {},
   "outputs": [
    {
     "data": {
      "text/plain": [
       "[__main__.Mule, __main__.Donkey, __main__.Horse, __main__.Animal, object]"
      ]
     },
     "execution_count": 50,
     "metadata": {},
     "output_type": "execute_result"
    }
   ],
   "source": [
    "Mule.mro() # 계층 순서가 나옴"
   ]
  },
  {
   "cell_type": "code",
   "execution_count": 51,
   "id": "c86999dc-c8a2-4b90-bc44-3218b4e90e43",
   "metadata": {},
   "outputs": [],
   "source": [
    "# 다중상속은 계층 순서대로 적기"
   ]
  },
  {
   "cell_type": "markdown",
   "id": "ac5a8cbd-a238-4612-b6f7-b1e3c5d47e07",
   "metadata": {},
   "source": [
    "## 다형성\n",
    "- 형태가 다른데 기능이 같다\n",
    "- 객체가 다른데도 같은 메소드를 가지고 있으면 같은 기능을 수행할 수 있다\n",
    "---"
   ]
  },
  {
   "cell_type": "code",
   "execution_count": 52,
   "id": "29a8f615-d757-411f-acca-be42c37a743c",
   "metadata": {},
   "outputs": [
    {
     "name": "stdout",
     "output_type": "stream",
     "text": [
      "히히호\n",
      "히히호\n",
      "동물이 운다.\n"
     ]
    }
   ],
   "source": [
    "for animal in [Mule(), Donkey(), Animal()]:\n",
    "    print(animal.says())"
   ]
  },
  {
   "cell_type": "markdown",
   "id": "62d1e800-dd5d-4e9f-92e7-dd8eff206a88",
   "metadata": {},
   "source": [
    "## 메서드 타입\n",
    "- 인스턴스 메서드\n",
    "    - self가 1번 인자\n",
    "    - 객체 생성 -> 사용 가능\n",
    "- 클래스 메서드\n",
    "    - 객체 생성하지 않아도 사용 가능\n",
    "    - 인스턴스가 아니라 클래스에 접근하는 메서드\n",
    "    - @classmethod 라는 데코레이터를 사용\n",
    "    - 예약어: cls\n",
    "    - 함수(cls)가 첫 인자\n",
    "    - class Person, cls == Person\n",
    "- 정적 메서드\n",
    "    - 객체 생성하지 않고 접근 가능\n",
    "    - 클래스랑 전혀 상관이 없기 때문에 접근 가능한 것\n",
    "    - 내용이나 기능이 비슷해서 클래스 내에 묶어 둠\n",
    "- 추상 메서드\n",
    "    - 추상 클래스: abstract 이름만 존재하는 클래스\n",
    "    - 설계도 역할: 클래스 안의 변수와 메소드를 일목요연하게 표현\n",
    "    - 상속하는 자식 클래스 => 반드시 구현해야 하는 메소드를 정의한다.\n",
    "---"
   ]
  },
  {
   "cell_type": "code",
   "execution_count": 53,
   "id": "5a4803fb-b4e0-45b9-8fe8-2949b37168d3",
   "metadata": {},
   "outputs": [
    {
     "data": {
      "text/plain": [
       "'히히호'"
      ]
     },
     "execution_count": 53,
     "metadata": {},
     "output_type": "execute_result"
    }
   ],
   "source": [
    "# 인스턴스 메서드\n",
    "\n",
    "a = Mule() # 객체 생성\n",
    "a.says() # 메서드 수행"
   ]
  },
  {
   "cell_type": "code",
   "execution_count": 54,
   "id": "60ef0389-b3fe-4a7a-8942-83121b7199c3",
   "metadata": {},
   "outputs": [
    {
     "ename": "TypeError",
     "evalue": "says() missing 1 required positional argument: 'self'",
     "output_type": "error",
     "traceback": [
      "\u001b[0;31m---------------------------------------------------------------------------\u001b[0m",
      "\u001b[0;31mTypeError\u001b[0m                                 Traceback (most recent call last)",
      "\u001b[0;32m/var/folders/hj/qdbqn7m16y9ckhnv98yqqmk40000gn/T/ipykernel_1090/681862400.py\u001b[0m in \u001b[0;36m<module>\u001b[0;34m\u001b[0m\n\u001b[0;32m----> 1\u001b[0;31m \u001b[0mMule\u001b[0m\u001b[0;34m.\u001b[0m\u001b[0msays\u001b[0m\u001b[0;34m(\u001b[0m\u001b[0;34m)\u001b[0m \u001b[0;31m# self가 없으므로 바로 생성불가\u001b[0m\u001b[0;34m\u001b[0m\u001b[0;34m\u001b[0m\u001b[0m\n\u001b[0m",
      "\u001b[0;31mTypeError\u001b[0m: says() missing 1 required positional argument: 'self'"
     ]
    }
   ],
   "source": [
    "Mule.says() # self가 없으므로 바로 생성불가"
   ]
  },
  {
   "cell_type": "code",
   "execution_count": 55,
   "id": "2b656038-7baa-4088-8651-383ecf77cc91",
   "metadata": {},
   "outputs": [],
   "source": [
    "# 클래스 메서드\n",
    "\n",
    "class A:\n",
    "    cnt = 0\n",
    "    \n",
    "    @classmethod\n",
    "    def move(cls):\n",
    "        return cls.cnt"
   ]
  },
  {
   "cell_type": "code",
   "execution_count": 56,
   "id": "34d0a98b-185b-4d49-b31b-84a7e5540b62",
   "metadata": {},
   "outputs": [
    {
     "data": {
      "text/plain": [
       "0"
      ]
     },
     "execution_count": 56,
     "metadata": {},
     "output_type": "execute_result"
    }
   ],
   "source": [
    "A().move() # 바로 접근 가능"
   ]
  },
  {
   "cell_type": "code",
   "execution_count": 57,
   "id": "52b6609e-93da-4f05-af85-cffa2bbe443e",
   "metadata": {},
   "outputs": [
    {
     "data": {
      "text/plain": [
       "0"
      ]
     },
     "execution_count": 57,
     "metadata": {},
     "output_type": "execute_result"
    }
   ],
   "source": [
    "A.move()"
   ]
  },
  {
   "cell_type": "code",
   "execution_count": 60,
   "id": "165759f9-db40-45f0-8be4-5ba9acd85a32",
   "metadata": {},
   "outputs": [],
   "source": [
    "class Person:\n",
    "    def __init__(self, name, age):\n",
    "        self.name = name\n",
    "        self.age = age\n",
    "    \n",
    "    @classmethod\n",
    "    def tuple_object(cls, args): # Person()에 접근하는 메서드\n",
    "        return cls(args[0], args[1]) \n",
    "    \n",
    "name = 'kim'\n",
    "age = 24\n",
    "# p = Person(name, age)\n",
    "\n",
    "info = name, age\n",
    "p = Person.tuple_object(info) # p 라는 객체 생성"
   ]
  },
  {
   "cell_type": "code",
   "execution_count": 61,
   "id": "f2c0371d-efc6-474d-b91e-4e01cb90d9e7",
   "metadata": {},
   "outputs": [
    {
     "data": {
      "text/plain": [
       "'kim'"
      ]
     },
     "execution_count": 61,
     "metadata": {},
     "output_type": "execute_result"
    }
   ],
   "source": [
    "p.name"
   ]
  },
  {
   "cell_type": "code",
   "execution_count": 62,
   "id": "315f2912-0267-4a09-b31c-4bd56d0c252d",
   "metadata": {},
   "outputs": [
    {
     "data": {
      "text/plain": [
       "'객체 수: 2'"
      ]
     },
     "execution_count": 62,
     "metadata": {},
     "output_type": "execute_result"
    }
   ],
   "source": [
    "class A:\n",
    "    # 붕어빵을 몇 개 찍었는지(객체를 몇 개 생성했는지) 알고 싶음\n",
    "    cnt = 0\n",
    "    \n",
    "    def __init__(self):\n",
    "        A.cnt += 1\n",
    "    \n",
    "    @classmethod\n",
    "    def count(cls):\n",
    "        # cls.cnt += 1 이렇게 하면 객체를 생성하면 cnt가 안 올라감\n",
    "        return f'객체 수: {cls.cnt}'\n",
    "    \n",
    "A()\n",
    "A()\n",
    "A.count() "
   ]
  },
  {
   "cell_type": "code",
   "execution_count": 63,
   "id": "558ed13e-ef3b-4c1b-85c0-fb03982ecef4",
   "metadata": {},
   "outputs": [],
   "source": [
    "class Coyote:\n",
    "    @staticmethod\n",
    "    def says(): # self 없음(객체랑 상관없기 때문), 딕셔너리에 변수 저장하는 것과 비슷\n",
    "        print('hi')"
   ]
  },
  {
   "cell_type": "code",
   "execution_count": 64,
   "id": "fd5d88ba-efa8-49cd-bc26-fd47ed5b9575",
   "metadata": {},
   "outputs": [
    {
     "name": "stdout",
     "output_type": "stream",
     "text": [
      "hi\n"
     ]
    }
   ],
   "source": [
    "Coyote.says()"
   ]
  },
  {
   "cell_type": "code",
   "execution_count": 65,
   "id": "3ad3d68c-e81d-4650-a8d8-4e96185789d7",
   "metadata": {},
   "outputs": [],
   "source": [
    "from abc import *\n",
    "\n",
    "class Vehicle(metaclass=ABCMeta):\n",
    "    # 추상 클래스 설정하는 방법\n",
    "    speed = '속도'\n",
    "    \n",
    "    @abstractmethod\n",
    "    def go(self):\n",
    "        print('탈 것이 간다.')\n",
    "    \"\"\"\n",
    "    def stop(self):\n",
    "        pass\n",
    "    \"\"\"\n",
    "\n",
    "class Car(Vehicle):\n",
    "    def go(self):\n",
    "        print(\"\")"
   ]
  },
  {
   "cell_type": "code",
   "execution_count": 66,
   "id": "b45c317c-be5a-45dc-8574-dee75e0f8b2b",
   "metadata": {},
   "outputs": [
    {
     "data": {
      "text/plain": [
       "<__main__.Car at 0x7f9848015970>"
      ]
     },
     "execution_count": 66,
     "metadata": {},
     "output_type": "execute_result"
    }
   ],
   "source": [
    "Car()"
   ]
  }
 ],
 "metadata": {
  "kernelspec": {
   "display_name": "Python 3 (ipykernel)",
   "language": "python",
   "name": "python3"
  },
  "language_info": {
   "codemirror_mode": {
    "name": "ipython",
    "version": 3
   },
   "file_extension": ".py",
   "mimetype": "text/x-python",
   "name": "python",
   "nbconvert_exporter": "python",
   "pygments_lexer": "ipython3",
   "version": "3.9.7"
  }
 },
 "nbformat": 4,
 "nbformat_minor": 5
}
