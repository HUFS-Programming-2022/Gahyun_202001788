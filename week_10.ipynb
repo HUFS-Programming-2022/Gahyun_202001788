{
 "cells": [
  {
   "cell_type": "markdown",
   "id": "0da9ec04-f7d8-4ab2-b090-10b797c465de",
   "metadata": {},
   "source": [
    "# week_10(0506) 복습"
   ]
  },
  {
   "cell_type": "markdown",
   "id": "0d7ee4e3-bc63-4dc8-a349-973c39938a3d",
   "metadata": {},
   "source": [
    "## 객체와 클래스\n",
    "- 객체 == object\n",
    "- 객체지향프로그래밍\n",
    "- 객체: 속성과 행동을 가지는 개념, 실존하는 물체일수도 아닐수도 있음\n",
    "- 행동, 속성은 때에 따라서 없을 수도 있음\n",
    "- 내가 필요한 속성을 부여(예를 들어, 이름 필요없으면 없어도 됨)\n",
    "    - 예: 자동차, 강아지, 꽃, ... \"thing\"\n",
    "        - 자동차의 속성: 브랜드, 색, 속도, 모델, ... => 변수\n",
    "        - 자동차의 행동: 가다, 서다, 회전, 주차, ... => 메소드(함수)\n",
    "        - 강아지의 속성: 이름, 종, 색, 무게, ...\n",
    "        - 강아지의 행동: 뛰다, 짖다, 자다, 핥다, ...\n",
    "- 객체지향?\n",
    "- 편의점 프로그램 => \"고객이 편의점에서 과자를 샀다\"\n",
    "    - 객체: 고객(=> 사람), 편의점, 과자(=> 물건)\n",
    "    - 상호작용으로 코드를 구현하는 것\n",
    "    - 고객: 이름, 돈, 물건 사다, 돈 내다\n",
    "    - 편의점: 이름, 재고, 수익, 팔다, 수익 남기다, 물건 등록하다, ...\n",
    "    - 물건: 이름, 브랜드, 가격\n",
    "- 객체를 구현하는게 클래스"
   ]
  },
  {
   "cell_type": "markdown",
   "id": "4e6cb9cf-cfb8-49d4-ae3b-d075bf917fde",
   "metadata": {
    "tags": []
   },
   "source": [
    "## 클래스\n",
    "- 첫 글자는 대문자로\n",
    "- 카멜표기법\n",
    "    - ex. NiceCar\n",
    "- 정의부와 선언부\n",
    "    - 정의부: 붕어빵 틀\n",
    "    - 선언부: 붕어빵"
   ]
  },
  {
   "cell_type": "code",
   "execution_count": 1,
   "id": "1585eeec-e17b-4cc1-bbf7-12ac2810694d",
   "metadata": {},
   "outputs": [
    {
     "data": {
      "text/plain": [
       "<__main__.Car at 0x7f7ae0010130>"
      ]
     },
     "execution_count": 1,
     "metadata": {},
     "output_type": "execute_result"
    }
   ],
   "source": [
    "# 정의부\n",
    "class Car: # 객체 | Car는 클래스명\n",
    "    pass # 아무것도 안 쓸거면 pass\n",
    "\n",
    "# 선언부\n",
    "my_car = Car()\n",
    "my_car # instance == 붕어빵"
   ]
  },
  {
   "cell_type": "code",
   "execution_count": 2,
   "id": "f7931f06-ce23-4657-b2a4-9c4a9d2873e6",
   "metadata": {},
   "outputs": [],
   "source": [
    "my_car.name = 'bmw'\n",
    "my_car.color = 'white'"
   ]
  },
  {
   "cell_type": "code",
   "execution_count": 3,
   "id": "96f248a0-ce17-4462-8f8d-179a23c3809e",
   "metadata": {},
   "outputs": [
    {
     "data": {
      "text/plain": [
       "'bmw'"
      ]
     },
     "execution_count": 3,
     "metadata": {},
     "output_type": "execute_result"
    }
   ],
   "source": [
    "my_car.name\n",
    "# 이렇게 접근이 가능함"
   ]
  },
  {
   "cell_type": "code",
   "execution_count": 8,
   "id": "2e25b1a8-59e1-4bc1-bbed-bdd1ffaef486",
   "metadata": {},
   "outputs": [],
   "source": [
    "class Car:\n",
    "    name = 'BMW'\n",
    "    # 1. 속성 정의\n",
    "    # 변경이 어렵다는 문제점"
   ]
  },
  {
   "cell_type": "code",
   "execution_count": 9,
   "id": "c10e52f5-adaa-4732-a90c-b2e2f036871e",
   "metadata": {},
   "outputs": [
    {
     "data": {
      "text/plain": [
       "'BMW'"
      ]
     },
     "execution_count": 9,
     "metadata": {},
     "output_type": "execute_result"
    }
   ],
   "source": [
    "your_car = Car()\n",
    "your_car.name"
   ]
  },
  {
   "cell_type": "code",
   "execution_count": 10,
   "id": "f5adc239-9276-4ab3-8c82-9b28195af66d",
   "metadata": {},
   "outputs": [
    {
     "data": {
      "text/plain": [
       "'Kia'"
      ]
     },
     "execution_count": 10,
     "metadata": {},
     "output_type": "execute_result"
    }
   ],
   "source": [
    "your_car.name = 'Kia'\n",
    "your_car.name"
   ]
  },
  {
   "cell_type": "code",
   "execution_count": 11,
   "id": "6417c9b4-1ee1-4c9a-bfc6-5aa7e2f8000d",
   "metadata": {},
   "outputs": [],
   "source": [
    "# 2. 커스터마이징\n",
    "class Car:\n",
    "    def __init__(self, name): # __init__ : 속성 초기화 함수\n",
    "        # 객체 만들 때 들어오는 값으로 이름을 설정하고 싶다\n",
    "        self.name = name # 이 클래스에서 계속 가져갈 이름\n",
    "        # self == instance (인스턴스 자신)"
   ]
  },
  {
   "cell_type": "code",
   "execution_count": 12,
   "id": "b7dce56d-5f37-4c74-9d3b-af2ea68661f7",
   "metadata": {},
   "outputs": [
    {
     "data": {
      "text/plain": [
       "'Hyundai'"
      ]
     },
     "execution_count": 12,
     "metadata": {},
     "output_type": "execute_result"
    }
   ],
   "source": [
    "her_car = Car(name = 'Hyundai')\n",
    "her_car.name"
   ]
  },
  {
   "cell_type": "code",
   "execution_count": 13,
   "id": "80bc86e1-3574-4fe3-bc3e-1063a8d2ca5e",
   "metadata": {},
   "outputs": [
    {
     "data": {
      "text/plain": [
       "'Toyota'"
      ]
     },
     "execution_count": 13,
     "metadata": {},
     "output_type": "execute_result"
    }
   ],
   "source": [
    "car2 = Car('Toyota')\n",
    "car2.name"
   ]
  },
  {
   "cell_type": "code",
   "execution_count": 17,
   "id": "712d15c4-2e58-4148-8464-54c058dff38b",
   "metadata": {},
   "outputs": [
    {
     "name": "stdout",
     "output_type": "stream",
     "text": [
      "Benz\n",
      "Eclass\n",
      "grey\n"
     ]
    }
   ],
   "source": [
    "# Car에 모델, 색 속성 추가하기\n",
    "class Car:\n",
    "    def __init__(self, name, model, color):\n",
    "        self.name = name\n",
    "        self.model = model\n",
    "        self.color = color\n",
    "        \n",
    "car1 = Car('Benz', 'Eclass', 'grey') # 선언할 때 항상 3개 다 있어야 함, 순서대로 들어감\n",
    "\n",
    "print(car1.name)\n",
    "print(car1.model)\n",
    "print(car1.color)"
   ]
  },
  {
   "cell_type": "code",
   "execution_count": 21,
   "id": "fa7f0f5b-5f22-414f-9cdc-ff73ad2bb50b",
   "metadata": {},
   "outputs": [
    {
     "name": "stdout",
     "output_type": "stream",
     "text": [
      "Benz가 출발합니다.\n",
      "차가 섭니다.\n"
     ]
    },
    {
     "data": {
      "text/plain": [
       "'grey'"
      ]
     },
     "execution_count": 21,
     "metadata": {},
     "output_type": "execute_result"
    }
   ],
   "source": [
    "# Car에 행동 추가하기\n",
    "class Car:\n",
    "    def __init__(self, name, model, color):\n",
    "        self.name = name\n",
    "        self.model = model\n",
    "        self.color = color\n",
    "        \n",
    "    def drive(self):\n",
    "        # print 옵션을 (이름)가 출발합니다. 로 바꾸기\n",
    "        print(f\"{self.name}가 출발합니다.\")\n",
    "    \n",
    "    def stop(self):\n",
    "        print(\"차가 섭니다.\")\n",
    "        \n",
    "    def change_color(self):\n",
    "        self.color = 'grey'\n",
    "        # 색을 grey로 바꾸기\n",
    " \n",
    "    \n",
    "car2 = Car('Benz', 'Eclass', 'black')\n",
    "car2.drive()\n",
    "car2.stop()\n",
    "car2.change_color()\n",
    "car2.color"
   ]
  },
  {
   "cell_type": "code",
   "execution_count": 23,
   "id": "5ba1d9b6-9fd4-485e-8319-e2f9c90cc777",
   "metadata": {},
   "outputs": [
    {
     "name": "stdout",
     "output_type": "stream",
     "text": [
      "Brown\n"
     ]
    }
   ],
   "source": [
    "class Car:\n",
    "    def __init__(self, name, model, color):\n",
    "        self.name = name\n",
    "        self.model = model\n",
    "        self.color = color\n",
    "        \n",
    "    def drive(self, name):\n",
    "        print(f'{self.name}가 출발합니다.')\n",
    "    \n",
    "    def stop(self):\n",
    "        print('차가 섭니다.')\n",
    "        \n",
    "    def change_color(self, color):\n",
    "        #3. color을 받아서 그걸로 지정하기 \n",
    "        self.color = color\n",
    "        \n",
    "car3 = Car('Benz', 'Eclass', 'grey')\n",
    "\n",
    "car3.change_color('Brown')\n",
    "print(car3.color)"
   ]
  },
  {
   "cell_type": "code",
   "execution_count": 26,
   "id": "bb2f4aea-abe5-4af0-a3f5-4db3829f11b8",
   "metadata": {},
   "outputs": [
    {
     "name": "stdout",
     "output_type": "stream",
     "text": [
      "Red\n",
      "black\n"
     ]
    }
   ],
   "source": [
    "class Car:\n",
    "    def __init__(self, name, model, color='black'):\n",
    "        self.name = name\n",
    "        self.model = model\n",
    "        self.color = color\n",
    "        \n",
    "    def drive(self, name):\n",
    "        print(f'{self.name}가 출발합니다.')\n",
    "    \n",
    "    def stop(self):\n",
    "        print('차가 섭니다.')\n",
    "        \n",
    "    def change_color(self, color):\n",
    "        self.color = color\n",
    "        \n",
    "    # 4. color 값이 들어오면 그 값으로 설정하고, 아니면 black으로\n",
    "\n",
    "car4 = Car('Benz', 'Eclass', 'Red')\n",
    "print(car4.color)\n",
    "\n",
    "car5 = Car('Benz', 'Eclass')\n",
    "print(car5.color)"
   ]
  },
  {
   "cell_type": "code",
   "execution_count": 27,
   "id": "2b1fdf07-dff4-4934-8774-d92a4e000928",
   "metadata": {},
   "outputs": [],
   "source": [
    "# self.name은 클래스 전체에서 가져갈 네임,\n",
    "# name은 처음에 내가 넣은 값\n",
    "# 그러므로 self.name으로 해야 함(내가 값을 바꾸면 같이 바뀌어야 하니까)"
   ]
  },
  {
   "cell_type": "code",
   "execution_count": 28,
   "id": "6d01f2a8-393e-4470-b2e3-61ec556de2fe",
   "metadata": {},
   "outputs": [
    {
     "name": "stdout",
     "output_type": "stream",
     "text": [
      "None\n",
      "Eclass\n"
     ]
    }
   ],
   "source": [
    "class Car:\n",
    "    def __init__(self, name, model=None, color='black'):\n",
    "        self.name = name\n",
    "        self.model = model\n",
    "        self.color = color\n",
    "        \n",
    "    def drive(self, name):\n",
    "        print(f'{self.name}가 출발합니다.')\n",
    "    \n",
    "    def stop(self):\n",
    "        print('차가 섭니다.')\n",
    "        \n",
    "    def change_color(self, color):\n",
    "        self.color = color\n",
    "    \n",
    "    # 5. model을 생성할 때 안 넣어도 되게 설정하기\n",
    "    # 나중에 구체화하고 싶을 때는 어떻게 해야할까?\n",
    "        \n",
    "\n",
    "car6 = Car('Benz')\n",
    "print(car6.model)\n",
    "\n",
    "car6.model = 'Eclass'\n",
    "print(car6.model)"
   ]
  },
  {
   "cell_type": "markdown",
   "id": "674fc493-a998-472c-b5ae-9589654b5fbe",
   "metadata": {},
   "source": [
    "## 캡슐화, 정보 은닉\n",
    "- public => private\n",
    "- getter, setter"
   ]
  },
  {
   "cell_type": "code",
   "execution_count": 29,
   "id": "7b7f2f4a-8b0b-43b8-bc34-9f4f7f3d58fa",
   "metadata": {},
   "outputs": [
    {
     "data": {
      "text/plain": [
       "'red'"
      ]
     },
     "execution_count": 29,
     "metadata": {},
     "output_type": "execute_result"
    }
   ],
   "source": [
    "class Fruit:\n",
    "    color = 'red'\n",
    "\n",
    "kiwi = Fruit()\n",
    "kiwi.color"
   ]
  },
  {
   "cell_type": "code",
   "execution_count": 30,
   "id": "cc967838-40d9-4835-b9fc-a97090da09ac",
   "metadata": {},
   "outputs": [
    {
     "data": {
      "text/plain": [
       "'black'"
      ]
     },
     "execution_count": 30,
     "metadata": {},
     "output_type": "execute_result"
    }
   ],
   "source": [
    "Fruit.color = 'black'\n",
    "\n",
    "apple = Fruit()\n",
    "apple.color"
   ]
  },
  {
   "cell_type": "code",
   "execution_count": 31,
   "id": "488a1404-f018-457a-a8de-1ebfc1d21370",
   "metadata": {},
   "outputs": [],
   "source": [
    "# 모르는 사이에 속성이 바뀌어버리는 문제"
   ]
  },
  {
   "cell_type": "markdown",
   "id": "64e61ada-852d-4cb9-bbd7-eef8e85e8572",
   "metadata": {},
   "source": [
    "## get, set\n",
    "- getter: 클래스 내 객체 변수 반환\n",
    "- setter: 클래스 내 변수 설정"
   ]
  },
  {
   "cell_type": "code",
   "execution_count": 32,
   "id": "65c67901-0630-4898-bbe6-f7081b6b8933",
   "metadata": {},
   "outputs": [
    {
     "name": "stdout",
     "output_type": "stream",
     "text": [
      "name1\n",
      "name2\n",
      "name3\n"
     ]
    }
   ],
   "source": [
    "# java ver.\n",
    "\n",
    "class Car:\n",
    "    def __init__(self, input_name):\n",
    "        self.name = input_name\n",
    "        \n",
    "    def get_name(self):\n",
    "        # 변수 반환\n",
    "        return self.name \n",
    "        \n",
    "    def set_name(self, input_name):\n",
    "        # 설정이기 때문에 return 값은 없음\n",
    "        self.name = input_name\n",
    "        \n",
    "        \n",
    "c = Car('name1')\n",
    "print(c.get_name())\n",
    "\n",
    "c.set_name('name2')\n",
    "print(c.name)\n",
    "\n",
    "c.name = 'name3'\n",
    "print(c.name)"
   ]
  },
  {
   "cell_type": "code",
   "execution_count": 33,
   "id": "ec8c0100-efaf-4dd9-96b5-3e4e8e019907",
   "metadata": {},
   "outputs": [
    {
     "data": {
      "text/plain": [
       "'name_1'"
      ]
     },
     "execution_count": 33,
     "metadata": {},
     "output_type": "execute_result"
    }
   ],
   "source": [
    "# python ver.\n",
    "# getter와 setter를 사용해서 이름을 바꾸도록 하는 것\n",
    "\n",
    "class Car:\n",
    "    def __init__(self, input_name):\n",
    "        self.hidden_name = input_name\n",
    "        \n",
    "    def get_name(self):\n",
    "        # 변수 반환\n",
    "        return self.hidden_name\n",
    "        \n",
    "    def set_name(self, input_name):\n",
    "        self.hidden_name = input_name  \n",
    "        \n",
    "    # name을 지정해주고, property 사용\n",
    "    name = property(get_name, set_name)\n",
    "    \n",
    "\n",
    "d = Car('name_1')\n",
    "d.name"
   ]
  },
  {
   "cell_type": "code",
   "execution_count": 34,
   "id": "13dd3ed2-fa79-4526-abaa-899e300f77df",
   "metadata": {},
   "outputs": [
    {
     "data": {
      "text/plain": [
       "'name a'"
      ]
     },
     "execution_count": 34,
     "metadata": {},
     "output_type": "execute_result"
    }
   ],
   "source": [
    "# 완성형\n",
    "\n",
    "class Car:\n",
    "    def __init__(self, input_name):\n",
    "        self.hidden_name = input_name\n",
    "     \n",
    "    # @로 표시 - decorator\n",
    "    @property # getter\n",
    "    def name(self):\n",
    "        # 변수 반환\n",
    "        return self.hidden_name\n",
    "        \n",
    "    @name.setter # setter\n",
    "    def name(self, input_name):\n",
    "        self.hidden_name = input_name\n",
    "        \n",
    "\n",
    "e = Car('name a')\n",
    "e.name"
   ]
  },
  {
   "cell_type": "code",
   "execution_count": 38,
   "id": "8fbdaad6-f8dd-4eec-9536-9c7d541ef5a1",
   "metadata": {},
   "outputs": [
    {
     "name": "stdout",
     "output_type": "stream",
     "text": [
      "??\n"
     ]
    }
   ],
   "source": [
    "e.hidden_name = '??'\n",
    "print(e.name)"
   ]
  },
  {
   "cell_type": "code",
   "execution_count": 41,
   "id": "28df6eff-22c9-45e4-b977-ddfafc797d3e",
   "metadata": {},
   "outputs": [],
   "source": [
    "# 아예 접근하지 못하게 - '__name'\n",
    "# 언더바 + 변수 => 접근하지 못하는 변수\n",
    "\n",
    "class Car:\n",
    "    def __init__(self, input_name):\n",
    "        self.__name = input_name\n",
    "     \n",
    "    # decorator\n",
    "    @property\n",
    "    def name(self):\n",
    "        # 변수 반환\n",
    "        return self.__name\n",
    "        \n",
    "    @name.setter\n",
    "    def name(self, input_name):\n",
    "        self.__name = input_name"
   ]
  },
  {
   "cell_type": "code",
   "execution_count": 42,
   "id": "b3085bd2-3621-44f7-b960-94f9a3debd22",
   "metadata": {},
   "outputs": [
    {
     "ename": "AttributeError",
     "evalue": "'Car' object has no attribute '__name'",
     "output_type": "error",
     "traceback": [
      "\u001b[0;31m---------------------------------------------------------------------------\u001b[0m",
      "\u001b[0;31mAttributeError\u001b[0m                            Traceback (most recent call last)",
      "\u001b[0;32m/var/folders/hj/qdbqn7m16y9ckhnv98yqqmk40000gn/T/ipykernel_82069/2417654853.py\u001b[0m in \u001b[0;36m<module>\u001b[0;34m\u001b[0m\n\u001b[1;32m      2\u001b[0m \u001b[0;34m\u001b[0m\u001b[0m\n\u001b[1;32m      3\u001b[0m \u001b[0mf\u001b[0m \u001b[0;34m=\u001b[0m \u001b[0mCar\u001b[0m\u001b[0;34m(\u001b[0m\u001b[0;34m'name b'\u001b[0m\u001b[0;34m)\u001b[0m\u001b[0;34m\u001b[0m\u001b[0;34m\u001b[0m\u001b[0m\n\u001b[0;32m----> 4\u001b[0;31m \u001b[0mf\u001b[0m\u001b[0;34m.\u001b[0m\u001b[0m__name\u001b[0m\u001b[0;34m\u001b[0m\u001b[0;34m\u001b[0m\u001b[0m\n\u001b[0m",
      "\u001b[0;31mAttributeError\u001b[0m: 'Car' object has no attribute '__name'"
     ]
    }
   ],
   "source": [
    "# 접근 불가, 오류!\n",
    "\n",
    "f = Car('name b')\n",
    "f.__name"
   ]
  },
  {
   "cell_type": "code",
   "execution_count": 43,
   "id": "cceca9aa-8698-4537-b7be-77b9dc10ae4e",
   "metadata": {},
   "outputs": [
    {
     "name": "stdout",
     "output_type": "stream",
     "text": [
      "10\n",
      "38\n"
     ]
    }
   ],
   "source": [
    "# property => 메소드를 통해 속성을 만드는\n",
    "\n",
    "class Circle:\n",
    "    def __init__(self, radius):\n",
    "        self.radius = radius\n",
    "          \n",
    "    @property\n",
    "    def parameter(self):\n",
    "        return self.radius * 2\n",
    "    \n",
    "    \n",
    "ex = Circle(5)\n",
    "print(ex.parameter)\n",
    "\n",
    "ex.radius = 19\n",
    "print(ex.parameter)"
   ]
  },
  {
   "cell_type": "markdown",
   "id": "ed39976d-5c7c-48a4-87da-3d6b2087e2e6",
   "metadata": {},
   "source": [
    "## 실습\n",
    "- 메모장, 메모 구현하기\n",
    "- 메모장\n",
    "    - 속성: 제목, 페이지 번호, 메모\n",
    "    - 행동: 메모 추가하다, 메모 삭제하다, 페이지번호 확인하다\n",
    "- 메모\n",
    "    - 속성: 글귀\n",
    "    - 행동: 쓰다, 지우다\n",
    "- 사용:\n",
    "    - 메모를 쓴다\n",
    "    - 메모장에 추가\n",
    "        - 페이지 번호가 늘어난다\n",
    "    - 메모 삭제\n",
    "        - 페이지 번호 줄어든다\n",
    "    - 메모장 > 제목만 은닉시키다\n",
    "    - 페이지 넘버는 한 페이지에 한 라인이 들어가도록"
   ]
  },
  {
   "cell_type": "code",
   "execution_count": 46,
   "id": "851b46e1-80ad-42b0-bcff-86c2a1ae4381",
   "metadata": {},
   "outputs": [
    {
     "name": "stdout",
     "output_type": "stream",
     "text": [
      "Note\n",
      "우리 모두 스스로가 원하는 리더가 됩시다.\n",
      "page | 1\n",
      "모두가 함께 앞으로 나아가면 성공은 저절로 따라옵니다.\n",
      "page | 2\n",
      "혼자서는 작은 한 방울이지만 함께 모이면 바다를 이룹니다.\n",
      "page | 3\n",
      "\n",
      "Note\n",
      "우리 모두 스스로가 원하는 리더가 됩시다.\n",
      "page | 1\n",
      "\n",
      "Notebook\n",
      "우리 모두 스스로가 원하는 리더가 됩시다.\n",
      "page | 1\n",
      "\n",
      "Notebook\n",
      "\n"
     ]
    },
    {
     "data": {
      "text/plain": [
       "0"
      ]
     },
     "execution_count": 46,
     "metadata": {},
     "output_type": "execute_result"
    }
   ],
   "source": [
    "class Notebook:\n",
    "    def __init__(self, title, memos=[], page=0):\n",
    "        self.__title = title\n",
    "        self.memos = memos\n",
    "        self.page = page\n",
    "        \n",
    "    @property\n",
    "    def title(self):\n",
    "        return self.__title\n",
    "    \n",
    "    def add_note(self, note=[]):\n",
    "        self.memos.extend(note)\n",
    "        self.page += len(note)\n",
    "    \n",
    "    def delete_note(self, note):\n",
    "        self.memos.remove(note)\n",
    "        self.page -= 1\n",
    "    \n",
    "    def get_page_num(self):\n",
    "        return self.page\n",
    "    \n",
    "    def print_book(self):\n",
    "        print('Notebook')\n",
    "        for p, m in enumerate(self.memos, start = 1):\n",
    "            print(m)\n",
    "            print(f'page | {p}')\n",
    "        print()\n",
    "        \n",
    "class Note:\n",
    "    def __init__(self, memo=[]):\n",
    "        self.memo = memo\n",
    "        \n",
    "    def write(self, line):\n",
    "        self.memo.append(line)\n",
    "    \n",
    "    def erase(self, line):\n",
    "        self.memo.remove(line)\n",
    "        \n",
    "    def print_memo(self):\n",
    "        print('Note')\n",
    "        for p, m in enumerate(self.memo, start = 1):\n",
    "            print(m)\n",
    "            print(f'page | {p}')\n",
    "        print()\n",
    "        \n",
    "# 사용\n",
    "line1 = '우리 모두 스스로가 원하는 리더가 됩시다.'\n",
    "line2 = '모두가 함께 앞으로 나아가면 성공은 저절로 따라옵니다.'\n",
    "line3 = '혼자서는 작은 한 방울이지만 함께 모이면 바다를 이룹니다.'\n",
    "\n",
    "# 메모 추가\n",
    "my_note = Note()\n",
    "my_note.write(line1)\n",
    "my_note.write(line2)\n",
    "my_note.write(line3)\n",
    "my_note.print_memo()\n",
    "\n",
    "# 메모 삭제\n",
    "my_note.erase(line2)\n",
    "my_note.erase(line3)\n",
    "my_note.print_memo()\n",
    "\n",
    "# 메모장에 추가\n",
    "my_book = Notebook('메모')\n",
    "my_book.add_note(my_note.memo)\n",
    "my_book.print_book()\n",
    "\n",
    "# 메모장 삭제\n",
    "my_book.delete_note(line1)\n",
    "my_book.print_book()\n",
    "\n",
    "# 페이지 번호 확인\n",
    "my_book.get_page_num()"
   ]
  },
  {
   "cell_type": "code",
   "execution_count": null,
   "id": "bb3ce773-2ffb-4091-a91c-e7db2896ed5c",
   "metadata": {},
   "outputs": [],
   "source": []
  }
 ],
 "metadata": {
  "kernelspec": {
   "display_name": "Python 3 (ipykernel)",
   "language": "python",
   "name": "python3"
  },
  "language_info": {
   "codemirror_mode": {
    "name": "ipython",
    "version": 3
   },
   "file_extension": ".py",
   "mimetype": "text/x-python",
   "name": "python",
   "nbconvert_exporter": "python",
   "pygments_lexer": "ipython3",
   "version": "3.9.7"
  }
 },
 "nbformat": 4,
 "nbformat_minor": 5
}
